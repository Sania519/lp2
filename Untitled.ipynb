{
  "nbformat": 4,
  "nbformat_minor": 0,
  "metadata": {
    "colab": {
      "name": "Untitled",
      "provenance": [],
      "collapsed_sections": []
    },
    "kernelspec": {
      "name": "python3",
      "display_name": "Python 3"
    },
    "language_info": {
      "name": "python"
    }
  },
  "cells": [
    {
      "cell_type": "code",
      "execution_count": null,
      "metadata": {
        "id": "RDvZL4EitCbb"
      },
      "outputs": [],
      "source": [
        "import pandas as pd"
      ]
    },
    {
      "cell_type": "code",
      "source": [
        "df = pd.read_csv(\"/content/drive/MyDrive/Colab Notebooks/StudentsPerformance.csv\")"
      ],
      "metadata": {
        "id": "jTkMy5fKtEEW"
      },
      "execution_count": null,
      "outputs": []
    },
    {
      "cell_type": "code",
      "source": [
        "df.head(8)"
      ],
      "metadata": {
        "colab": {
          "base_uri": "https://localhost:8080/",
          "height": 362
        },
        "id": "DzPQk0A1tLKB",
        "outputId": "cf1bb061-cef9-4fae-eaf4-cb016f735415"
      },
      "execution_count": null,
      "outputs": [
        {
          "output_type": "execute_result",
          "data": {
            "text/plain": [
              "   gender race/ethnicity parental level of education         lunch  \\\n",
              "0  female        group B           bachelor's degree      standard   \n",
              "1  female        group C                some college      standard   \n",
              "2  female        group B             master's degree      standard   \n",
              "3    male            NaN          associate's degree  free/reduced   \n",
              "4    male        group C                some college      standard   \n",
              "5  female        group B          associate's degree      standard   \n",
              "6  female        group B                some college      standard   \n",
              "7    male            NaN                some college  free/reduced   \n",
              "\n",
              "  test preparation course  math score  reading score  writing score  \n",
              "0                    none         NaN           72.0           74.0  \n",
              "1               completed        69.0           90.0           88.0  \n",
              "2                    none        90.0           95.0            NaN  \n",
              "3                    none        47.0           57.0           44.0  \n",
              "4                    none         NaN           78.0           75.0  \n",
              "5                    none        71.0           83.0           78.0  \n",
              "6               completed        88.0           95.0            NaN  \n",
              "7                    none        40.0           43.0           39.0  "
            ],
            "text/html": [
              "\n",
              "  <div id=\"df-2030cc5a-1dde-4507-b16b-a908cd6f0b75\">\n",
              "    <div class=\"colab-df-container\">\n",
              "      <div>\n",
              "<style scoped>\n",
              "    .dataframe tbody tr th:only-of-type {\n",
              "        vertical-align: middle;\n",
              "    }\n",
              "\n",
              "    .dataframe tbody tr th {\n",
              "        vertical-align: top;\n",
              "    }\n",
              "\n",
              "    .dataframe thead th {\n",
              "        text-align: right;\n",
              "    }\n",
              "</style>\n",
              "<table border=\"1\" class=\"dataframe\">\n",
              "  <thead>\n",
              "    <tr style=\"text-align: right;\">\n",
              "      <th></th>\n",
              "      <th>gender</th>\n",
              "      <th>race/ethnicity</th>\n",
              "      <th>parental level of education</th>\n",
              "      <th>lunch</th>\n",
              "      <th>test preparation course</th>\n",
              "      <th>math score</th>\n",
              "      <th>reading score</th>\n",
              "      <th>writing score</th>\n",
              "    </tr>\n",
              "  </thead>\n",
              "  <tbody>\n",
              "    <tr>\n",
              "      <th>0</th>\n",
              "      <td>female</td>\n",
              "      <td>group B</td>\n",
              "      <td>bachelor's degree</td>\n",
              "      <td>standard</td>\n",
              "      <td>none</td>\n",
              "      <td>NaN</td>\n",
              "      <td>72.0</td>\n",
              "      <td>74.0</td>\n",
              "    </tr>\n",
              "    <tr>\n",
              "      <th>1</th>\n",
              "      <td>female</td>\n",
              "      <td>group C</td>\n",
              "      <td>some college</td>\n",
              "      <td>standard</td>\n",
              "      <td>completed</td>\n",
              "      <td>69.0</td>\n",
              "      <td>90.0</td>\n",
              "      <td>88.0</td>\n",
              "    </tr>\n",
              "    <tr>\n",
              "      <th>2</th>\n",
              "      <td>female</td>\n",
              "      <td>group B</td>\n",
              "      <td>master's degree</td>\n",
              "      <td>standard</td>\n",
              "      <td>none</td>\n",
              "      <td>90.0</td>\n",
              "      <td>95.0</td>\n",
              "      <td>NaN</td>\n",
              "    </tr>\n",
              "    <tr>\n",
              "      <th>3</th>\n",
              "      <td>male</td>\n",
              "      <td>NaN</td>\n",
              "      <td>associate's degree</td>\n",
              "      <td>free/reduced</td>\n",
              "      <td>none</td>\n",
              "      <td>47.0</td>\n",
              "      <td>57.0</td>\n",
              "      <td>44.0</td>\n",
              "    </tr>\n",
              "    <tr>\n",
              "      <th>4</th>\n",
              "      <td>male</td>\n",
              "      <td>group C</td>\n",
              "      <td>some college</td>\n",
              "      <td>standard</td>\n",
              "      <td>none</td>\n",
              "      <td>NaN</td>\n",
              "      <td>78.0</td>\n",
              "      <td>75.0</td>\n",
              "    </tr>\n",
              "    <tr>\n",
              "      <th>5</th>\n",
              "      <td>female</td>\n",
              "      <td>group B</td>\n",
              "      <td>associate's degree</td>\n",
              "      <td>standard</td>\n",
              "      <td>none</td>\n",
              "      <td>71.0</td>\n",
              "      <td>83.0</td>\n",
              "      <td>78.0</td>\n",
              "    </tr>\n",
              "    <tr>\n",
              "      <th>6</th>\n",
              "      <td>female</td>\n",
              "      <td>group B</td>\n",
              "      <td>some college</td>\n",
              "      <td>standard</td>\n",
              "      <td>completed</td>\n",
              "      <td>88.0</td>\n",
              "      <td>95.0</td>\n",
              "      <td>NaN</td>\n",
              "    </tr>\n",
              "    <tr>\n",
              "      <th>7</th>\n",
              "      <td>male</td>\n",
              "      <td>NaN</td>\n",
              "      <td>some college</td>\n",
              "      <td>free/reduced</td>\n",
              "      <td>none</td>\n",
              "      <td>40.0</td>\n",
              "      <td>43.0</td>\n",
              "      <td>39.0</td>\n",
              "    </tr>\n",
              "  </tbody>\n",
              "</table>\n",
              "</div>\n",
              "      <button class=\"colab-df-convert\" onclick=\"convertToInteractive('df-2030cc5a-1dde-4507-b16b-a908cd6f0b75')\"\n",
              "              title=\"Convert this dataframe to an interactive table.\"\n",
              "              style=\"display:none;\">\n",
              "        \n",
              "  <svg xmlns=\"http://www.w3.org/2000/svg\" height=\"24px\"viewBox=\"0 0 24 24\"\n",
              "       width=\"24px\">\n",
              "    <path d=\"M0 0h24v24H0V0z\" fill=\"none\"/>\n",
              "    <path d=\"M18.56 5.44l.94 2.06.94-2.06 2.06-.94-2.06-.94-.94-2.06-.94 2.06-2.06.94zm-11 1L8.5 8.5l.94-2.06 2.06-.94-2.06-.94L8.5 2.5l-.94 2.06-2.06.94zm10 10l.94 2.06.94-2.06 2.06-.94-2.06-.94-.94-2.06-.94 2.06-2.06.94z\"/><path d=\"M17.41 7.96l-1.37-1.37c-.4-.4-.92-.59-1.43-.59-.52 0-1.04.2-1.43.59L10.3 9.45l-7.72 7.72c-.78.78-.78 2.05 0 2.83L4 21.41c.39.39.9.59 1.41.59.51 0 1.02-.2 1.41-.59l7.78-7.78 2.81-2.81c.8-.78.8-2.07 0-2.86zM5.41 20L4 18.59l7.72-7.72 1.47 1.35L5.41 20z\"/>\n",
              "  </svg>\n",
              "      </button>\n",
              "      \n",
              "  <style>\n",
              "    .colab-df-container {\n",
              "      display:flex;\n",
              "      flex-wrap:wrap;\n",
              "      gap: 12px;\n",
              "    }\n",
              "\n",
              "    .colab-df-convert {\n",
              "      background-color: #E8F0FE;\n",
              "      border: none;\n",
              "      border-radius: 50%;\n",
              "      cursor: pointer;\n",
              "      display: none;\n",
              "      fill: #1967D2;\n",
              "      height: 32px;\n",
              "      padding: 0 0 0 0;\n",
              "      width: 32px;\n",
              "    }\n",
              "\n",
              "    .colab-df-convert:hover {\n",
              "      background-color: #E2EBFA;\n",
              "      box-shadow: 0px 1px 2px rgba(60, 64, 67, 0.3), 0px 1px 3px 1px rgba(60, 64, 67, 0.15);\n",
              "      fill: #174EA6;\n",
              "    }\n",
              "\n",
              "    [theme=dark] .colab-df-convert {\n",
              "      background-color: #3B4455;\n",
              "      fill: #D2E3FC;\n",
              "    }\n",
              "\n",
              "    [theme=dark] .colab-df-convert:hover {\n",
              "      background-color: #434B5C;\n",
              "      box-shadow: 0px 1px 3px 1px rgba(0, 0, 0, 0.15);\n",
              "      filter: drop-shadow(0px 1px 2px rgba(0, 0, 0, 0.3));\n",
              "      fill: #FFFFFF;\n",
              "    }\n",
              "  </style>\n",
              "\n",
              "      <script>\n",
              "        const buttonEl =\n",
              "          document.querySelector('#df-2030cc5a-1dde-4507-b16b-a908cd6f0b75 button.colab-df-convert');\n",
              "        buttonEl.style.display =\n",
              "          google.colab.kernel.accessAllowed ? 'block' : 'none';\n",
              "\n",
              "        async function convertToInteractive(key) {\n",
              "          const element = document.querySelector('#df-2030cc5a-1dde-4507-b16b-a908cd6f0b75');\n",
              "          const dataTable =\n",
              "            await google.colab.kernel.invokeFunction('convertToInteractive',\n",
              "                                                     [key], {});\n",
              "          if (!dataTable) return;\n",
              "\n",
              "          const docLinkHtml = 'Like what you see? Visit the ' +\n",
              "            '<a target=\"_blank\" href=https://colab.research.google.com/notebooks/data_table.ipynb>data table notebook</a>'\n",
              "            + ' to learn more about interactive tables.';\n",
              "          element.innerHTML = '';\n",
              "          dataTable['output_type'] = 'display_data';\n",
              "          await google.colab.output.renderOutput(dataTable, element);\n",
              "          const docLink = document.createElement('div');\n",
              "          docLink.innerHTML = docLinkHtml;\n",
              "          element.appendChild(docLink);\n",
              "        }\n",
              "      </script>\n",
              "    </div>\n",
              "  </div>\n",
              "  "
            ]
          },
          "metadata": {},
          "execution_count": 47
        }
      ]
    },
    {
      "cell_type": "code",
      "source": [
        "df.dtypes"
      ],
      "metadata": {
        "colab": {
          "base_uri": "https://localhost:8080/"
        },
        "id": "emqH-Up9tT7F",
        "outputId": "35989a3e-b1dc-45f7-8a29-9896a23f4151"
      },
      "execution_count": null,
      "outputs": [
        {
          "output_type": "execute_result",
          "data": {
            "text/plain": [
              "gender                          object\n",
              "race/ethnicity                  object\n",
              "parental level of education     object\n",
              "lunch                           object\n",
              "test preparation course         object\n",
              "math score                     float64\n",
              "reading score                  float64\n",
              "writing score                  float64\n",
              "dtype: object"
            ]
          },
          "metadata": {},
          "execution_count": 48
        }
      ]
    },
    {
      "cell_type": "code",
      "source": [
        "df.isnull().sum()"
      ],
      "metadata": {
        "colab": {
          "base_uri": "https://localhost:8080/"
        },
        "id": "vStN1QD0tVo0",
        "outputId": "ca42e1c0-53de-4edf-89e7-8aac375cf278"
      },
      "execution_count": null,
      "outputs": [
        {
          "output_type": "execute_result",
          "data": {
            "text/plain": [
              "gender                          0\n",
              "race/ethnicity                  8\n",
              "parental level of education     8\n",
              "lunch                           6\n",
              "test preparation course        13\n",
              "math score                      7\n",
              "reading score                   7\n",
              "writing score                   5\n",
              "dtype: int64"
            ]
          },
          "metadata": {},
          "execution_count": 49
        }
      ]
    },
    {
      "cell_type": "code",
      "source": [
        "df.shape"
      ],
      "metadata": {
        "colab": {
          "base_uri": "https://localhost:8080/"
        },
        "id": "71jxvpjetcqj",
        "outputId": "e2590e28-c445-404d-d3f1-c7f3e582d1ff"
      },
      "execution_count": null,
      "outputs": [
        {
          "output_type": "execute_result",
          "data": {
            "text/plain": [
              "(1000, 8)"
            ]
          },
          "metadata": {},
          "execution_count": 50
        }
      ]
    },
    {
      "cell_type": "code",
      "source": [
        "df.ndim"
      ],
      "metadata": {
        "colab": {
          "base_uri": "https://localhost:8080/"
        },
        "id": "uQ_Rb3e5to2f",
        "outputId": "cc4a28f3-dc6a-4c47-b7c6-39f03ce22cef"
      },
      "execution_count": null,
      "outputs": [
        {
          "output_type": "execute_result",
          "data": {
            "text/plain": [
              "2"
            ]
          },
          "metadata": {},
          "execution_count": 51
        }
      ]
    },
    {
      "cell_type": "code",
      "source": [
        "df.size"
      ],
      "metadata": {
        "colab": {
          "base_uri": "https://localhost:8080/"
        },
        "id": "Ky0NuwYvtqI_",
        "outputId": "4ddd1861-d2c3-4eec-a347-c4f4a1bcf2ab"
      },
      "execution_count": null,
      "outputs": [
        {
          "output_type": "execute_result",
          "data": {
            "text/plain": [
              "8000"
            ]
          },
          "metadata": {},
          "execution_count": 52
        }
      ]
    },
    {
      "cell_type": "code",
      "source": [
        "df.info()"
      ],
      "metadata": {
        "colab": {
          "base_uri": "https://localhost:8080/"
        },
        "id": "bWBgH6PAtuDI",
        "outputId": "a550e6bc-e39a-4b9b-c144-a31554bbbdd0"
      },
      "execution_count": null,
      "outputs": [
        {
          "output_type": "stream",
          "name": "stdout",
          "text": [
            "<class 'pandas.core.frame.DataFrame'>\n",
            "RangeIndex: 1000 entries, 0 to 999\n",
            "Data columns (total 8 columns):\n",
            " #   Column                       Non-Null Count  Dtype  \n",
            "---  ------                       --------------  -----  \n",
            " 0   gender                       1000 non-null   object \n",
            " 1   race/ethnicity               992 non-null    object \n",
            " 2   parental level of education  992 non-null    object \n",
            " 3   lunch                        994 non-null    object \n",
            " 4   test preparation course      987 non-null    object \n",
            " 5   math score                   993 non-null    float64\n",
            " 6   reading score                993 non-null    float64\n",
            " 7   writing score                995 non-null    float64\n",
            "dtypes: float64(3), object(5)\n",
            "memory usage: 62.6+ KB\n"
          ]
        }
      ]
    },
    {
      "cell_type": "code",
      "source": [
        "df.describe()"
      ],
      "metadata": {
        "colab": {
          "base_uri": "https://localhost:8080/",
          "height": 300
        },
        "id": "oXZyio9Ftw21",
        "outputId": "4590110c-e342-40b3-83c0-9ef512414876"
      },
      "execution_count": null,
      "outputs": [
        {
          "output_type": "execute_result",
          "data": {
            "text/plain": [
              "       math score  reading score  writing score\n",
              "count  993.000000     993.000000     995.000000\n",
              "mean    66.499496      69.302115      68.157789\n",
              "std     17.645885      15.301518      16.064390\n",
              "min      0.000000      17.000000      10.000000\n",
              "25%     57.000000      59.000000      57.500000\n",
              "50%     66.000000      70.000000      69.000000\n",
              "75%     77.000000      80.000000      79.000000\n",
              "max    342.000000     212.000000     234.000000"
            ],
            "text/html": [
              "\n",
              "  <div id=\"df-e63a3161-6e82-4eae-992f-df2735695c7c\">\n",
              "    <div class=\"colab-df-container\">\n",
              "      <div>\n",
              "<style scoped>\n",
              "    .dataframe tbody tr th:only-of-type {\n",
              "        vertical-align: middle;\n",
              "    }\n",
              "\n",
              "    .dataframe tbody tr th {\n",
              "        vertical-align: top;\n",
              "    }\n",
              "\n",
              "    .dataframe thead th {\n",
              "        text-align: right;\n",
              "    }\n",
              "</style>\n",
              "<table border=\"1\" class=\"dataframe\">\n",
              "  <thead>\n",
              "    <tr style=\"text-align: right;\">\n",
              "      <th></th>\n",
              "      <th>math score</th>\n",
              "      <th>reading score</th>\n",
              "      <th>writing score</th>\n",
              "    </tr>\n",
              "  </thead>\n",
              "  <tbody>\n",
              "    <tr>\n",
              "      <th>count</th>\n",
              "      <td>993.000000</td>\n",
              "      <td>993.000000</td>\n",
              "      <td>995.000000</td>\n",
              "    </tr>\n",
              "    <tr>\n",
              "      <th>mean</th>\n",
              "      <td>66.499496</td>\n",
              "      <td>69.302115</td>\n",
              "      <td>68.157789</td>\n",
              "    </tr>\n",
              "    <tr>\n",
              "      <th>std</th>\n",
              "      <td>17.645885</td>\n",
              "      <td>15.301518</td>\n",
              "      <td>16.064390</td>\n",
              "    </tr>\n",
              "    <tr>\n",
              "      <th>min</th>\n",
              "      <td>0.000000</td>\n",
              "      <td>17.000000</td>\n",
              "      <td>10.000000</td>\n",
              "    </tr>\n",
              "    <tr>\n",
              "      <th>25%</th>\n",
              "      <td>57.000000</td>\n",
              "      <td>59.000000</td>\n",
              "      <td>57.500000</td>\n",
              "    </tr>\n",
              "    <tr>\n",
              "      <th>50%</th>\n",
              "      <td>66.000000</td>\n",
              "      <td>70.000000</td>\n",
              "      <td>69.000000</td>\n",
              "    </tr>\n",
              "    <tr>\n",
              "      <th>75%</th>\n",
              "      <td>77.000000</td>\n",
              "      <td>80.000000</td>\n",
              "      <td>79.000000</td>\n",
              "    </tr>\n",
              "    <tr>\n",
              "      <th>max</th>\n",
              "      <td>342.000000</td>\n",
              "      <td>212.000000</td>\n",
              "      <td>234.000000</td>\n",
              "    </tr>\n",
              "  </tbody>\n",
              "</table>\n",
              "</div>\n",
              "      <button class=\"colab-df-convert\" onclick=\"convertToInteractive('df-e63a3161-6e82-4eae-992f-df2735695c7c')\"\n",
              "              title=\"Convert this dataframe to an interactive table.\"\n",
              "              style=\"display:none;\">\n",
              "        \n",
              "  <svg xmlns=\"http://www.w3.org/2000/svg\" height=\"24px\"viewBox=\"0 0 24 24\"\n",
              "       width=\"24px\">\n",
              "    <path d=\"M0 0h24v24H0V0z\" fill=\"none\"/>\n",
              "    <path d=\"M18.56 5.44l.94 2.06.94-2.06 2.06-.94-2.06-.94-.94-2.06-.94 2.06-2.06.94zm-11 1L8.5 8.5l.94-2.06 2.06-.94-2.06-.94L8.5 2.5l-.94 2.06-2.06.94zm10 10l.94 2.06.94-2.06 2.06-.94-2.06-.94-.94-2.06-.94 2.06-2.06.94z\"/><path d=\"M17.41 7.96l-1.37-1.37c-.4-.4-.92-.59-1.43-.59-.52 0-1.04.2-1.43.59L10.3 9.45l-7.72 7.72c-.78.78-.78 2.05 0 2.83L4 21.41c.39.39.9.59 1.41.59.51 0 1.02-.2 1.41-.59l7.78-7.78 2.81-2.81c.8-.78.8-2.07 0-2.86zM5.41 20L4 18.59l7.72-7.72 1.47 1.35L5.41 20z\"/>\n",
              "  </svg>\n",
              "      </button>\n",
              "      \n",
              "  <style>\n",
              "    .colab-df-container {\n",
              "      display:flex;\n",
              "      flex-wrap:wrap;\n",
              "      gap: 12px;\n",
              "    }\n",
              "\n",
              "    .colab-df-convert {\n",
              "      background-color: #E8F0FE;\n",
              "      border: none;\n",
              "      border-radius: 50%;\n",
              "      cursor: pointer;\n",
              "      display: none;\n",
              "      fill: #1967D2;\n",
              "      height: 32px;\n",
              "      padding: 0 0 0 0;\n",
              "      width: 32px;\n",
              "    }\n",
              "\n",
              "    .colab-df-convert:hover {\n",
              "      background-color: #E2EBFA;\n",
              "      box-shadow: 0px 1px 2px rgba(60, 64, 67, 0.3), 0px 1px 3px 1px rgba(60, 64, 67, 0.15);\n",
              "      fill: #174EA6;\n",
              "    }\n",
              "\n",
              "    [theme=dark] .colab-df-convert {\n",
              "      background-color: #3B4455;\n",
              "      fill: #D2E3FC;\n",
              "    }\n",
              "\n",
              "    [theme=dark] .colab-df-convert:hover {\n",
              "      background-color: #434B5C;\n",
              "      box-shadow: 0px 1px 3px 1px rgba(0, 0, 0, 0.15);\n",
              "      filter: drop-shadow(0px 1px 2px rgba(0, 0, 0, 0.3));\n",
              "      fill: #FFFFFF;\n",
              "    }\n",
              "  </style>\n",
              "\n",
              "      <script>\n",
              "        const buttonEl =\n",
              "          document.querySelector('#df-e63a3161-6e82-4eae-992f-df2735695c7c button.colab-df-convert');\n",
              "        buttonEl.style.display =\n",
              "          google.colab.kernel.accessAllowed ? 'block' : 'none';\n",
              "\n",
              "        async function convertToInteractive(key) {\n",
              "          const element = document.querySelector('#df-e63a3161-6e82-4eae-992f-df2735695c7c');\n",
              "          const dataTable =\n",
              "            await google.colab.kernel.invokeFunction('convertToInteractive',\n",
              "                                                     [key], {});\n",
              "          if (!dataTable) return;\n",
              "\n",
              "          const docLinkHtml = 'Like what you see? Visit the ' +\n",
              "            '<a target=\"_blank\" href=https://colab.research.google.com/notebooks/data_table.ipynb>data table notebook</a>'\n",
              "            + ' to learn more about interactive tables.';\n",
              "          element.innerHTML = '';\n",
              "          dataTable['output_type'] = 'display_data';\n",
              "          await google.colab.output.renderOutput(dataTable, element);\n",
              "          const docLink = document.createElement('div');\n",
              "          docLink.innerHTML = docLinkHtml;\n",
              "          element.appendChild(docLink);\n",
              "        }\n",
              "      </script>\n",
              "    </div>\n",
              "  </div>\n",
              "  "
            ]
          },
          "metadata": {},
          "execution_count": 54
        }
      ]
    },
    {
      "cell_type": "code",
      "source": [
        "# df_changed = df[df.isnull().any(axis=1)]\n",
        "# df_changed"
      ],
      "metadata": {
        "id": "wsSna7HOt3A_"
      },
      "execution_count": null,
      "outputs": []
    },
    {
      "cell_type": "code",
      "source": [
        "df_changed = df[df.isnull().any(axis=1)]\n",
        "df_changed"
      ],
      "metadata": {
        "colab": {
          "base_uri": "https://localhost:8080/",
          "height": 1000
        },
        "id": "XkNfeQQyuHnZ",
        "outputId": "b6132a13-40d1-48c3-816f-fd72096640bb"
      },
      "execution_count": null,
      "outputs": [
        {
          "output_type": "execute_result",
          "data": {
            "text/plain": [
              "     gender race/ethnicity parental level of education         lunch  \\\n",
              "0    female        group B           bachelor's degree      standard   \n",
              "2    female        group B             master's degree      standard   \n",
              "3      male            NaN          associate's degree  free/reduced   \n",
              "4      male        group C                some college      standard   \n",
              "6    female        group B                some college      standard   \n",
              "7      male            NaN                some college  free/reduced   \n",
              "8      male        group D                 high school  free/reduced   \n",
              "10     male        group C          associate's degree      standard   \n",
              "13     male            NaN                some college      standard   \n",
              "15   female        group C            some high school      standard   \n",
              "17   female        group B            some high school  free/reduced   \n",
              "19   female            NaN          associate's degree  free/reduced   \n",
              "21   female        group B                some college  free/reduced   \n",
              "23   female        group C            some high school      standard   \n",
              "24     male        group D                         NaN           NaN   \n",
              "27   female        group C           bachelor's degree      standard   \n",
              "32   female        group E                         NaN  free/reduced   \n",
              "36   female        group D                         NaN      standard   \n",
              "38   female        group D                         NaN  free/reduced   \n",
              "39     male        group B          associate's degree  free/reduced   \n",
              "45     male        group B          associate's degree      standard   \n",
              "51     male        group E          associate's degree  free/reduced   \n",
              "54   female        group C            some high school  free/reduced   \n",
              "60     male        group E           bachelor's degree           NaN   \n",
              "61     male        group A            some high school           NaN   \n",
              "82     male        group A                some college  free/reduced   \n",
              "95     male        group C          associate's degree  free/reduced   \n",
              "101    male        group D           bachelor's degree      standard   \n",
              "110  female        group D          associate's degree  free/reduced   \n",
              "121    male        group B          associate's degree      standard   \n",
              "134    male        group D           bachelor's degree  free/reduced   \n",
              "149    male        group E          associate's degree  free/reduced   \n",
              "435    male            NaN                some college  free/reduced   \n",
              "498  female        group B                         NaN      standard   \n",
              "522    male            NaN                         NaN      standard   \n",
              "538    male            NaN           bachelor's degree      standard   \n",
              "545    male        group E                         NaN  free/reduced   \n",
              "547    male        group C                 high school      standard   \n",
              "572  female        group C                some college           NaN   \n",
              "574  female        group E                         NaN      standard   \n",
              "578  female        group B                some college           NaN   \n",
              "602  female            NaN                some college           NaN   \n",
              "610    male        group D                some college  free/reduced   \n",
              "616  female        group E           bachelor's degree      standard   \n",
              "636  female        group B                 high school  free/reduced   \n",
              "641  female        group D          associate's degree  free/reduced   \n",
              "\n",
              "    test preparation course  math score  reading score  writing score  \n",
              "0                      none         NaN           72.0           74.0  \n",
              "2                      none        90.0           95.0            NaN  \n",
              "3                      none        47.0           57.0           44.0  \n",
              "4                      none         NaN           78.0           75.0  \n",
              "6                 completed        88.0           95.0            NaN  \n",
              "7                      none        40.0           43.0           39.0  \n",
              "8                 completed         NaN           64.0           67.0  \n",
              "10                     none        58.0            NaN           52.0  \n",
              "13                completed        78.0            NaN           70.0  \n",
              "15                     none        69.0            NaN           78.0  \n",
              "17                     none         NaN           32.0           28.0  \n",
              "19                     none        54.0           58.0           61.0  \n",
              "21                completed        65.0            NaN           70.0  \n",
              "23                     none        69.0            NaN           73.0  \n",
              "24                completed        74.0           71.0            NaN  \n",
              "27                     none         NaN           69.0           75.0  \n",
              "32                     none         NaN           72.0           65.0  \n",
              "36                     none        74.0           81.0            NaN  \n",
              "38                completed        75.0           90.0           88.0  \n",
              "39                     none        57.0           56.0            NaN  \n",
              "45                     none        65.0            NaN           57.0  \n",
              "51                completed        77.0            NaN           68.0  \n",
              "54                completed         NaN           84.0           87.0  \n",
              "60                completed        79.0           74.0           72.0  \n",
              "61                     none        39.0           39.0           34.0  \n",
              "82                      NaN        50.0           47.0           54.0  \n",
              "95                      NaN        78.0           81.0           82.0  \n",
              "101                     NaN        68.0           74.0           74.0  \n",
              "110                     NaN        77.0           89.0           98.0  \n",
              "121                     NaN        91.0           89.0           92.0  \n",
              "134                     NaN        74.0           79.0           75.0  \n",
              "149                     NaN       100.0          100.0           93.0  \n",
              "435               completed        50.0           48.0           53.0  \n",
              "498                    none        66.0           69.0           68.0  \n",
              "522                    none        69.0           58.0           57.0  \n",
              "538               completed        85.0           66.0           71.0  \n",
              "545                     NaN        78.0           83.0           80.0  \n",
              "547                     NaN        72.0           67.0           64.0  \n",
              "572                    none        53.0           62.0           56.0  \n",
              "574                    none        74.0           81.0           71.0  \n",
              "578               completed        48.0           56.0           58.0  \n",
              "602                    none        76.0           78.0           80.0  \n",
              "610                     NaN        69.0           60.0           63.0  \n",
              "616                     NaN        37.0           45.0           38.0  \n",
              "636                     NaN        67.0           80.0           81.0  \n",
              "641                     NaN        74.0           88.0           90.0  "
            ],
            "text/html": [
              "\n",
              "  <div id=\"df-20432f2b-2a00-4f41-b08c-ab257672c1ec\">\n",
              "    <div class=\"colab-df-container\">\n",
              "      <div>\n",
              "<style scoped>\n",
              "    .dataframe tbody tr th:only-of-type {\n",
              "        vertical-align: middle;\n",
              "    }\n",
              "\n",
              "    .dataframe tbody tr th {\n",
              "        vertical-align: top;\n",
              "    }\n",
              "\n",
              "    .dataframe thead th {\n",
              "        text-align: right;\n",
              "    }\n",
              "</style>\n",
              "<table border=\"1\" class=\"dataframe\">\n",
              "  <thead>\n",
              "    <tr style=\"text-align: right;\">\n",
              "      <th></th>\n",
              "      <th>gender</th>\n",
              "      <th>race/ethnicity</th>\n",
              "      <th>parental level of education</th>\n",
              "      <th>lunch</th>\n",
              "      <th>test preparation course</th>\n",
              "      <th>math score</th>\n",
              "      <th>reading score</th>\n",
              "      <th>writing score</th>\n",
              "    </tr>\n",
              "  </thead>\n",
              "  <tbody>\n",
              "    <tr>\n",
              "      <th>0</th>\n",
              "      <td>female</td>\n",
              "      <td>group B</td>\n",
              "      <td>bachelor's degree</td>\n",
              "      <td>standard</td>\n",
              "      <td>none</td>\n",
              "      <td>NaN</td>\n",
              "      <td>72.0</td>\n",
              "      <td>74.0</td>\n",
              "    </tr>\n",
              "    <tr>\n",
              "      <th>2</th>\n",
              "      <td>female</td>\n",
              "      <td>group B</td>\n",
              "      <td>master's degree</td>\n",
              "      <td>standard</td>\n",
              "      <td>none</td>\n",
              "      <td>90.0</td>\n",
              "      <td>95.0</td>\n",
              "      <td>NaN</td>\n",
              "    </tr>\n",
              "    <tr>\n",
              "      <th>3</th>\n",
              "      <td>male</td>\n",
              "      <td>NaN</td>\n",
              "      <td>associate's degree</td>\n",
              "      <td>free/reduced</td>\n",
              "      <td>none</td>\n",
              "      <td>47.0</td>\n",
              "      <td>57.0</td>\n",
              "      <td>44.0</td>\n",
              "    </tr>\n",
              "    <tr>\n",
              "      <th>4</th>\n",
              "      <td>male</td>\n",
              "      <td>group C</td>\n",
              "      <td>some college</td>\n",
              "      <td>standard</td>\n",
              "      <td>none</td>\n",
              "      <td>NaN</td>\n",
              "      <td>78.0</td>\n",
              "      <td>75.0</td>\n",
              "    </tr>\n",
              "    <tr>\n",
              "      <th>6</th>\n",
              "      <td>female</td>\n",
              "      <td>group B</td>\n",
              "      <td>some college</td>\n",
              "      <td>standard</td>\n",
              "      <td>completed</td>\n",
              "      <td>88.0</td>\n",
              "      <td>95.0</td>\n",
              "      <td>NaN</td>\n",
              "    </tr>\n",
              "    <tr>\n",
              "      <th>7</th>\n",
              "      <td>male</td>\n",
              "      <td>NaN</td>\n",
              "      <td>some college</td>\n",
              "      <td>free/reduced</td>\n",
              "      <td>none</td>\n",
              "      <td>40.0</td>\n",
              "      <td>43.0</td>\n",
              "      <td>39.0</td>\n",
              "    </tr>\n",
              "    <tr>\n",
              "      <th>8</th>\n",
              "      <td>male</td>\n",
              "      <td>group D</td>\n",
              "      <td>high school</td>\n",
              "      <td>free/reduced</td>\n",
              "      <td>completed</td>\n",
              "      <td>NaN</td>\n",
              "      <td>64.0</td>\n",
              "      <td>67.0</td>\n",
              "    </tr>\n",
              "    <tr>\n",
              "      <th>10</th>\n",
              "      <td>male</td>\n",
              "      <td>group C</td>\n",
              "      <td>associate's degree</td>\n",
              "      <td>standard</td>\n",
              "      <td>none</td>\n",
              "      <td>58.0</td>\n",
              "      <td>NaN</td>\n",
              "      <td>52.0</td>\n",
              "    </tr>\n",
              "    <tr>\n",
              "      <th>13</th>\n",
              "      <td>male</td>\n",
              "      <td>NaN</td>\n",
              "      <td>some college</td>\n",
              "      <td>standard</td>\n",
              "      <td>completed</td>\n",
              "      <td>78.0</td>\n",
              "      <td>NaN</td>\n",
              "      <td>70.0</td>\n",
              "    </tr>\n",
              "    <tr>\n",
              "      <th>15</th>\n",
              "      <td>female</td>\n",
              "      <td>group C</td>\n",
              "      <td>some high school</td>\n",
              "      <td>standard</td>\n",
              "      <td>none</td>\n",
              "      <td>69.0</td>\n",
              "      <td>NaN</td>\n",
              "      <td>78.0</td>\n",
              "    </tr>\n",
              "    <tr>\n",
              "      <th>17</th>\n",
              "      <td>female</td>\n",
              "      <td>group B</td>\n",
              "      <td>some high school</td>\n",
              "      <td>free/reduced</td>\n",
              "      <td>none</td>\n",
              "      <td>NaN</td>\n",
              "      <td>32.0</td>\n",
              "      <td>28.0</td>\n",
              "    </tr>\n",
              "    <tr>\n",
              "      <th>19</th>\n",
              "      <td>female</td>\n",
              "      <td>NaN</td>\n",
              "      <td>associate's degree</td>\n",
              "      <td>free/reduced</td>\n",
              "      <td>none</td>\n",
              "      <td>54.0</td>\n",
              "      <td>58.0</td>\n",
              "      <td>61.0</td>\n",
              "    </tr>\n",
              "    <tr>\n",
              "      <th>21</th>\n",
              "      <td>female</td>\n",
              "      <td>group B</td>\n",
              "      <td>some college</td>\n",
              "      <td>free/reduced</td>\n",
              "      <td>completed</td>\n",
              "      <td>65.0</td>\n",
              "      <td>NaN</td>\n",
              "      <td>70.0</td>\n",
              "    </tr>\n",
              "    <tr>\n",
              "      <th>23</th>\n",
              "      <td>female</td>\n",
              "      <td>group C</td>\n",
              "      <td>some high school</td>\n",
              "      <td>standard</td>\n",
              "      <td>none</td>\n",
              "      <td>69.0</td>\n",
              "      <td>NaN</td>\n",
              "      <td>73.0</td>\n",
              "    </tr>\n",
              "    <tr>\n",
              "      <th>24</th>\n",
              "      <td>male</td>\n",
              "      <td>group D</td>\n",
              "      <td>NaN</td>\n",
              "      <td>NaN</td>\n",
              "      <td>completed</td>\n",
              "      <td>74.0</td>\n",
              "      <td>71.0</td>\n",
              "      <td>NaN</td>\n",
              "    </tr>\n",
              "    <tr>\n",
              "      <th>27</th>\n",
              "      <td>female</td>\n",
              "      <td>group C</td>\n",
              "      <td>bachelor's degree</td>\n",
              "      <td>standard</td>\n",
              "      <td>none</td>\n",
              "      <td>NaN</td>\n",
              "      <td>69.0</td>\n",
              "      <td>75.0</td>\n",
              "    </tr>\n",
              "    <tr>\n",
              "      <th>32</th>\n",
              "      <td>female</td>\n",
              "      <td>group E</td>\n",
              "      <td>NaN</td>\n",
              "      <td>free/reduced</td>\n",
              "      <td>none</td>\n",
              "      <td>NaN</td>\n",
              "      <td>72.0</td>\n",
              "      <td>65.0</td>\n",
              "    </tr>\n",
              "    <tr>\n",
              "      <th>36</th>\n",
              "      <td>female</td>\n",
              "      <td>group D</td>\n",
              "      <td>NaN</td>\n",
              "      <td>standard</td>\n",
              "      <td>none</td>\n",
              "      <td>74.0</td>\n",
              "      <td>81.0</td>\n",
              "      <td>NaN</td>\n",
              "    </tr>\n",
              "    <tr>\n",
              "      <th>38</th>\n",
              "      <td>female</td>\n",
              "      <td>group D</td>\n",
              "      <td>NaN</td>\n",
              "      <td>free/reduced</td>\n",
              "      <td>completed</td>\n",
              "      <td>75.0</td>\n",
              "      <td>90.0</td>\n",
              "      <td>88.0</td>\n",
              "    </tr>\n",
              "    <tr>\n",
              "      <th>39</th>\n",
              "      <td>male</td>\n",
              "      <td>group B</td>\n",
              "      <td>associate's degree</td>\n",
              "      <td>free/reduced</td>\n",
              "      <td>none</td>\n",
              "      <td>57.0</td>\n",
              "      <td>56.0</td>\n",
              "      <td>NaN</td>\n",
              "    </tr>\n",
              "    <tr>\n",
              "      <th>45</th>\n",
              "      <td>male</td>\n",
              "      <td>group B</td>\n",
              "      <td>associate's degree</td>\n",
              "      <td>standard</td>\n",
              "      <td>none</td>\n",
              "      <td>65.0</td>\n",
              "      <td>NaN</td>\n",
              "      <td>57.0</td>\n",
              "    </tr>\n",
              "    <tr>\n",
              "      <th>51</th>\n",
              "      <td>male</td>\n",
              "      <td>group E</td>\n",
              "      <td>associate's degree</td>\n",
              "      <td>free/reduced</td>\n",
              "      <td>completed</td>\n",
              "      <td>77.0</td>\n",
              "      <td>NaN</td>\n",
              "      <td>68.0</td>\n",
              "    </tr>\n",
              "    <tr>\n",
              "      <th>54</th>\n",
              "      <td>female</td>\n",
              "      <td>group C</td>\n",
              "      <td>some high school</td>\n",
              "      <td>free/reduced</td>\n",
              "      <td>completed</td>\n",
              "      <td>NaN</td>\n",
              "      <td>84.0</td>\n",
              "      <td>87.0</td>\n",
              "    </tr>\n",
              "    <tr>\n",
              "      <th>60</th>\n",
              "      <td>male</td>\n",
              "      <td>group E</td>\n",
              "      <td>bachelor's degree</td>\n",
              "      <td>NaN</td>\n",
              "      <td>completed</td>\n",
              "      <td>79.0</td>\n",
              "      <td>74.0</td>\n",
              "      <td>72.0</td>\n",
              "    </tr>\n",
              "    <tr>\n",
              "      <th>61</th>\n",
              "      <td>male</td>\n",
              "      <td>group A</td>\n",
              "      <td>some high school</td>\n",
              "      <td>NaN</td>\n",
              "      <td>none</td>\n",
              "      <td>39.0</td>\n",
              "      <td>39.0</td>\n",
              "      <td>34.0</td>\n",
              "    </tr>\n",
              "    <tr>\n",
              "      <th>82</th>\n",
              "      <td>male</td>\n",
              "      <td>group A</td>\n",
              "      <td>some college</td>\n",
              "      <td>free/reduced</td>\n",
              "      <td>NaN</td>\n",
              "      <td>50.0</td>\n",
              "      <td>47.0</td>\n",
              "      <td>54.0</td>\n",
              "    </tr>\n",
              "    <tr>\n",
              "      <th>95</th>\n",
              "      <td>male</td>\n",
              "      <td>group C</td>\n",
              "      <td>associate's degree</td>\n",
              "      <td>free/reduced</td>\n",
              "      <td>NaN</td>\n",
              "      <td>78.0</td>\n",
              "      <td>81.0</td>\n",
              "      <td>82.0</td>\n",
              "    </tr>\n",
              "    <tr>\n",
              "      <th>101</th>\n",
              "      <td>male</td>\n",
              "      <td>group D</td>\n",
              "      <td>bachelor's degree</td>\n",
              "      <td>standard</td>\n",
              "      <td>NaN</td>\n",
              "      <td>68.0</td>\n",
              "      <td>74.0</td>\n",
              "      <td>74.0</td>\n",
              "    </tr>\n",
              "    <tr>\n",
              "      <th>110</th>\n",
              "      <td>female</td>\n",
              "      <td>group D</td>\n",
              "      <td>associate's degree</td>\n",
              "      <td>free/reduced</td>\n",
              "      <td>NaN</td>\n",
              "      <td>77.0</td>\n",
              "      <td>89.0</td>\n",
              "      <td>98.0</td>\n",
              "    </tr>\n",
              "    <tr>\n",
              "      <th>121</th>\n",
              "      <td>male</td>\n",
              "      <td>group B</td>\n",
              "      <td>associate's degree</td>\n",
              "      <td>standard</td>\n",
              "      <td>NaN</td>\n",
              "      <td>91.0</td>\n",
              "      <td>89.0</td>\n",
              "      <td>92.0</td>\n",
              "    </tr>\n",
              "    <tr>\n",
              "      <th>134</th>\n",
              "      <td>male</td>\n",
              "      <td>group D</td>\n",
              "      <td>bachelor's degree</td>\n",
              "      <td>free/reduced</td>\n",
              "      <td>NaN</td>\n",
              "      <td>74.0</td>\n",
              "      <td>79.0</td>\n",
              "      <td>75.0</td>\n",
              "    </tr>\n",
              "    <tr>\n",
              "      <th>149</th>\n",
              "      <td>male</td>\n",
              "      <td>group E</td>\n",
              "      <td>associate's degree</td>\n",
              "      <td>free/reduced</td>\n",
              "      <td>NaN</td>\n",
              "      <td>100.0</td>\n",
              "      <td>100.0</td>\n",
              "      <td>93.0</td>\n",
              "    </tr>\n",
              "    <tr>\n",
              "      <th>435</th>\n",
              "      <td>male</td>\n",
              "      <td>NaN</td>\n",
              "      <td>some college</td>\n",
              "      <td>free/reduced</td>\n",
              "      <td>completed</td>\n",
              "      <td>50.0</td>\n",
              "      <td>48.0</td>\n",
              "      <td>53.0</td>\n",
              "    </tr>\n",
              "    <tr>\n",
              "      <th>498</th>\n",
              "      <td>female</td>\n",
              "      <td>group B</td>\n",
              "      <td>NaN</td>\n",
              "      <td>standard</td>\n",
              "      <td>none</td>\n",
              "      <td>66.0</td>\n",
              "      <td>69.0</td>\n",
              "      <td>68.0</td>\n",
              "    </tr>\n",
              "    <tr>\n",
              "      <th>522</th>\n",
              "      <td>male</td>\n",
              "      <td>NaN</td>\n",
              "      <td>NaN</td>\n",
              "      <td>standard</td>\n",
              "      <td>none</td>\n",
              "      <td>69.0</td>\n",
              "      <td>58.0</td>\n",
              "      <td>57.0</td>\n",
              "    </tr>\n",
              "    <tr>\n",
              "      <th>538</th>\n",
              "      <td>male</td>\n",
              "      <td>NaN</td>\n",
              "      <td>bachelor's degree</td>\n",
              "      <td>standard</td>\n",
              "      <td>completed</td>\n",
              "      <td>85.0</td>\n",
              "      <td>66.0</td>\n",
              "      <td>71.0</td>\n",
              "    </tr>\n",
              "    <tr>\n",
              "      <th>545</th>\n",
              "      <td>male</td>\n",
              "      <td>group E</td>\n",
              "      <td>NaN</td>\n",
              "      <td>free/reduced</td>\n",
              "      <td>NaN</td>\n",
              "      <td>78.0</td>\n",
              "      <td>83.0</td>\n",
              "      <td>80.0</td>\n",
              "    </tr>\n",
              "    <tr>\n",
              "      <th>547</th>\n",
              "      <td>male</td>\n",
              "      <td>group C</td>\n",
              "      <td>high school</td>\n",
              "      <td>standard</td>\n",
              "      <td>NaN</td>\n",
              "      <td>72.0</td>\n",
              "      <td>67.0</td>\n",
              "      <td>64.0</td>\n",
              "    </tr>\n",
              "    <tr>\n",
              "      <th>572</th>\n",
              "      <td>female</td>\n",
              "      <td>group C</td>\n",
              "      <td>some college</td>\n",
              "      <td>NaN</td>\n",
              "      <td>none</td>\n",
              "      <td>53.0</td>\n",
              "      <td>62.0</td>\n",
              "      <td>56.0</td>\n",
              "    </tr>\n",
              "    <tr>\n",
              "      <th>574</th>\n",
              "      <td>female</td>\n",
              "      <td>group E</td>\n",
              "      <td>NaN</td>\n",
              "      <td>standard</td>\n",
              "      <td>none</td>\n",
              "      <td>74.0</td>\n",
              "      <td>81.0</td>\n",
              "      <td>71.0</td>\n",
              "    </tr>\n",
              "    <tr>\n",
              "      <th>578</th>\n",
              "      <td>female</td>\n",
              "      <td>group B</td>\n",
              "      <td>some college</td>\n",
              "      <td>NaN</td>\n",
              "      <td>completed</td>\n",
              "      <td>48.0</td>\n",
              "      <td>56.0</td>\n",
              "      <td>58.0</td>\n",
              "    </tr>\n",
              "    <tr>\n",
              "      <th>602</th>\n",
              "      <td>female</td>\n",
              "      <td>NaN</td>\n",
              "      <td>some college</td>\n",
              "      <td>NaN</td>\n",
              "      <td>none</td>\n",
              "      <td>76.0</td>\n",
              "      <td>78.0</td>\n",
              "      <td>80.0</td>\n",
              "    </tr>\n",
              "    <tr>\n",
              "      <th>610</th>\n",
              "      <td>male</td>\n",
              "      <td>group D</td>\n",
              "      <td>some college</td>\n",
              "      <td>free/reduced</td>\n",
              "      <td>NaN</td>\n",
              "      <td>69.0</td>\n",
              "      <td>60.0</td>\n",
              "      <td>63.0</td>\n",
              "    </tr>\n",
              "    <tr>\n",
              "      <th>616</th>\n",
              "      <td>female</td>\n",
              "      <td>group E</td>\n",
              "      <td>bachelor's degree</td>\n",
              "      <td>standard</td>\n",
              "      <td>NaN</td>\n",
              "      <td>37.0</td>\n",
              "      <td>45.0</td>\n",
              "      <td>38.0</td>\n",
              "    </tr>\n",
              "    <tr>\n",
              "      <th>636</th>\n",
              "      <td>female</td>\n",
              "      <td>group B</td>\n",
              "      <td>high school</td>\n",
              "      <td>free/reduced</td>\n",
              "      <td>NaN</td>\n",
              "      <td>67.0</td>\n",
              "      <td>80.0</td>\n",
              "      <td>81.0</td>\n",
              "    </tr>\n",
              "    <tr>\n",
              "      <th>641</th>\n",
              "      <td>female</td>\n",
              "      <td>group D</td>\n",
              "      <td>associate's degree</td>\n",
              "      <td>free/reduced</td>\n",
              "      <td>NaN</td>\n",
              "      <td>74.0</td>\n",
              "      <td>88.0</td>\n",
              "      <td>90.0</td>\n",
              "    </tr>\n",
              "  </tbody>\n",
              "</table>\n",
              "</div>\n",
              "      <button class=\"colab-df-convert\" onclick=\"convertToInteractive('df-20432f2b-2a00-4f41-b08c-ab257672c1ec')\"\n",
              "              title=\"Convert this dataframe to an interactive table.\"\n",
              "              style=\"display:none;\">\n",
              "        \n",
              "  <svg xmlns=\"http://www.w3.org/2000/svg\" height=\"24px\"viewBox=\"0 0 24 24\"\n",
              "       width=\"24px\">\n",
              "    <path d=\"M0 0h24v24H0V0z\" fill=\"none\"/>\n",
              "    <path d=\"M18.56 5.44l.94 2.06.94-2.06 2.06-.94-2.06-.94-.94-2.06-.94 2.06-2.06.94zm-11 1L8.5 8.5l.94-2.06 2.06-.94-2.06-.94L8.5 2.5l-.94 2.06-2.06.94zm10 10l.94 2.06.94-2.06 2.06-.94-2.06-.94-.94-2.06-.94 2.06-2.06.94z\"/><path d=\"M17.41 7.96l-1.37-1.37c-.4-.4-.92-.59-1.43-.59-.52 0-1.04.2-1.43.59L10.3 9.45l-7.72 7.72c-.78.78-.78 2.05 0 2.83L4 21.41c.39.39.9.59 1.41.59.51 0 1.02-.2 1.41-.59l7.78-7.78 2.81-2.81c.8-.78.8-2.07 0-2.86zM5.41 20L4 18.59l7.72-7.72 1.47 1.35L5.41 20z\"/>\n",
              "  </svg>\n",
              "      </button>\n",
              "      \n",
              "  <style>\n",
              "    .colab-df-container {\n",
              "      display:flex;\n",
              "      flex-wrap:wrap;\n",
              "      gap: 12px;\n",
              "    }\n",
              "\n",
              "    .colab-df-convert {\n",
              "      background-color: #E8F0FE;\n",
              "      border: none;\n",
              "      border-radius: 50%;\n",
              "      cursor: pointer;\n",
              "      display: none;\n",
              "      fill: #1967D2;\n",
              "      height: 32px;\n",
              "      padding: 0 0 0 0;\n",
              "      width: 32px;\n",
              "    }\n",
              "\n",
              "    .colab-df-convert:hover {\n",
              "      background-color: #E2EBFA;\n",
              "      box-shadow: 0px 1px 2px rgba(60, 64, 67, 0.3), 0px 1px 3px 1px rgba(60, 64, 67, 0.15);\n",
              "      fill: #174EA6;\n",
              "    }\n",
              "\n",
              "    [theme=dark] .colab-df-convert {\n",
              "      background-color: #3B4455;\n",
              "      fill: #D2E3FC;\n",
              "    }\n",
              "\n",
              "    [theme=dark] .colab-df-convert:hover {\n",
              "      background-color: #434B5C;\n",
              "      box-shadow: 0px 1px 3px 1px rgba(0, 0, 0, 0.15);\n",
              "      filter: drop-shadow(0px 1px 2px rgba(0, 0, 0, 0.3));\n",
              "      fill: #FFFFFF;\n",
              "    }\n",
              "  </style>\n",
              "\n",
              "      <script>\n",
              "        const buttonEl =\n",
              "          document.querySelector('#df-20432f2b-2a00-4f41-b08c-ab257672c1ec button.colab-df-convert');\n",
              "        buttonEl.style.display =\n",
              "          google.colab.kernel.accessAllowed ? 'block' : 'none';\n",
              "\n",
              "        async function convertToInteractive(key) {\n",
              "          const element = document.querySelector('#df-20432f2b-2a00-4f41-b08c-ab257672c1ec');\n",
              "          const dataTable =\n",
              "            await google.colab.kernel.invokeFunction('convertToInteractive',\n",
              "                                                     [key], {});\n",
              "          if (!dataTable) return;\n",
              "\n",
              "          const docLinkHtml = 'Like what you see? Visit the ' +\n",
              "            '<a target=\"_blank\" href=https://colab.research.google.com/notebooks/data_table.ipynb>data table notebook</a>'\n",
              "            + ' to learn more about interactive tables.';\n",
              "          element.innerHTML = '';\n",
              "          dataTable['output_type'] = 'display_data';\n",
              "          await google.colab.output.renderOutput(dataTable, element);\n",
              "          const docLink = document.createElement('div');\n",
              "          docLink.innerHTML = docLinkHtml;\n",
              "          element.appendChild(docLink);\n",
              "        }\n",
              "      </script>\n",
              "    </div>\n",
              "  </div>\n",
              "  "
            ]
          },
          "metadata": {},
          "execution_count": 56
        }
      ]
    },
    {
      "cell_type": "code",
      "source": [
        "df.columns"
      ],
      "metadata": {
        "colab": {
          "base_uri": "https://localhost:8080/"
        },
        "id": "7NfPAQuzvy2O",
        "outputId": "fe67c49b-350c-45e9-b7e1-3b671c9a25bf"
      },
      "execution_count": null,
      "outputs": [
        {
          "output_type": "execute_result",
          "data": {
            "text/plain": [
              "Index(['gender', 'race/ethnicity', 'parental level of education', 'lunch',\n",
              "       'test preparation course', 'math score', 'reading score',\n",
              "       'writing score'],\n",
              "      dtype='object')"
            ]
          },
          "metadata": {},
          "execution_count": 57
        }
      ]
    },
    {
      "cell_type": "code",
      "source": [
        "math_score_mean = df['math score'].mean()\n",
        "df[\"math score\"].fillna(math_score_mean, inplace=True)"
      ],
      "metadata": {
        "id": "EerDLWW4wFis"
      },
      "execution_count": null,
      "outputs": []
    },
    {
      "cell_type": "code",
      "source": [
        "reading_score_mean = df['reading score'].mean()\n",
        "df[\"reading score\"].fillna(reading_score_mean,inplace=True)"
      ],
      "metadata": {
        "id": "7uFwbxD0wQ8k"
      },
      "execution_count": null,
      "outputs": []
    },
    {
      "cell_type": "code",
      "source": [
        "\n",
        "writing_score_mean = df['reading score'].mean()\n",
        "df[\"writing score\"].fillna(writing_score_mean,inplace=True)"
      ],
      "metadata": {
        "id": "lOlk8aDsxahm"
      },
      "execution_count": null,
      "outputs": []
    },
    {
      "cell_type": "code",
      "source": [
        "df.isnull().sum()"
      ],
      "metadata": {
        "colab": {
          "base_uri": "https://localhost:8080/"
        },
        "id": "S8Gm0TG1xm4Y",
        "outputId": "335518eb-0d99-46d9-9bf6-c0fb0dccdc2c"
      },
      "execution_count": null,
      "outputs": [
        {
          "output_type": "execute_result",
          "data": {
            "text/plain": [
              "gender                          0\n",
              "race/ethnicity                  8\n",
              "parental level of education     8\n",
              "lunch                           6\n",
              "test preparation course        13\n",
              "math score                      0\n",
              "reading score                   0\n",
              "writing score                   0\n",
              "dtype: int64"
            ]
          },
          "metadata": {},
          "execution_count": 61
        }
      ]
    },
    {
      "cell_type": "code",
      "source": [
        "df.dropna(axis=0, how=\"any\",inplace=True)"
      ],
      "metadata": {
        "id": "48U1d5h3x6nl"
      },
      "execution_count": null,
      "outputs": []
    },
    {
      "cell_type": "code",
      "source": [
        "df.shape"
      ],
      "metadata": {
        "colab": {
          "base_uri": "https://localhost:8080/"
        },
        "id": "oSIJ5sVsyT8g",
        "outputId": "f08ec985-cc9e-4ba4-9c85-1d3186d57078"
      },
      "execution_count": null,
      "outputs": [
        {
          "output_type": "execute_result",
          "data": {
            "text/plain": [
              "(969, 8)"
            ]
          },
          "metadata": {},
          "execution_count": 63
        }
      ]
    },
    {
      "cell_type": "code",
      "source": [
        "cat_cols = df.columns[:len(df.columns)-3]\n",
        "cat_cols"
      ],
      "metadata": {
        "colab": {
          "base_uri": "https://localhost:8080/"
        },
        "id": "4oIJ3mKDyecb",
        "outputId": "46bf254a-7d75-434c-9caf-291cf54fdf06"
      },
      "execution_count": null,
      "outputs": [
        {
          "output_type": "execute_result",
          "data": {
            "text/plain": [
              "Index(['gender', 'race/ethnicity', 'parental level of education', 'lunch',\n",
              "       'test preparation course'],\n",
              "      dtype='object')"
            ]
          },
          "metadata": {},
          "execution_count": 64
        }
      ]
    },
    {
      "cell_type": "code",
      "source": [
        "for i in cat_cols:\n",
        "  print(str(i)+\":\"+str(df[i].unique()))"
      ],
      "metadata": {
        "colab": {
          "base_uri": "https://localhost:8080/"
        },
        "id": "_Q9Ib5-9ys-z",
        "outputId": "d59346d1-32a1-4b0f-ba74-23c7a2706f89"
      },
      "execution_count": null,
      "outputs": [
        {
          "output_type": "stream",
          "name": "stdout",
          "text": [
            "gender:['female' 'male']\n",
            "race/ethnicity:['group B' 'group C' 'group D' 'group A' 'group E']\n",
            "parental level of education:[\"bachelor's degree\" 'some college' \"master's degree\" \"associate's degree\"\n",
            " 'high school' 'some high school']\n",
            "lunch:['standard' 'free/reduced']\n",
            "test preparation course:['none' 'completed']\n"
          ]
        }
      ]
    },
    {
      "cell_type": "code",
      "source": [
        "df['gender'].replace(['female','male'],[0,1],inplace=True)\n",
        "df['test preparation course'].replace(['none', 'completed'],[0,1],inplace=True)"
      ],
      "metadata": {
        "id": "aDdux_90y9br"
      },
      "execution_count": null,
      "outputs": []
    },
    {
      "cell_type": "code",
      "source": [
        "df.dtypes"
      ],
      "metadata": {
        "colab": {
          "base_uri": "https://localhost:8080/"
        },
        "id": "HUxApuRtz1o6",
        "outputId": "013d252a-0af8-44a7-f2aa-3d6d55779782"
      },
      "execution_count": null,
      "outputs": [
        {
          "output_type": "execute_result",
          "data": {
            "text/plain": [
              "gender                           int64\n",
              "race/ethnicity                  object\n",
              "parental level of education     object\n",
              "lunch                           object\n",
              "test preparation course          int64\n",
              "math score                     float64\n",
              "reading score                  float64\n",
              "writing score                  float64\n",
              "dtype: object"
            ]
          },
          "metadata": {},
          "execution_count": 67
        }
      ]
    },
    {
      "cell_type": "code",
      "source": [
        "df['math score']=df['math score'].astype(int)\n",
        "df['reading score']=df['reading score'].astype(int)\n",
        "df['writing score']=df['writing score'].astype(int)"
      ],
      "metadata": {
        "id": "Sod_2dg60Nvx"
      },
      "execution_count": null,
      "outputs": []
    },
    {
      "cell_type": "code",
      "source": [
        "df.dtypes"
      ],
      "metadata": {
        "colab": {
          "base_uri": "https://localhost:8080/"
        },
        "id": "6DTyn7gv0kNE",
        "outputId": "1891ebeb-a3fe-4345-ed7a-51464f0cbb76"
      },
      "execution_count": null,
      "outputs": [
        {
          "output_type": "execute_result",
          "data": {
            "text/plain": [
              "gender                          int64\n",
              "race/ethnicity                 object\n",
              "parental level of education    object\n",
              "lunch                          object\n",
              "test preparation course         int64\n",
              "math score                      int64\n",
              "reading score                   int64\n",
              "writing score                   int64\n",
              "dtype: object"
            ]
          },
          "metadata": {},
          "execution_count": 69
        }
      ]
    },
    {
      "cell_type": "code",
      "source": [
        "from sklearn.preprocessing import MinMaxScaler\n",
        "\n",
        "scaler = MinMaxScaler(feature_range=(0,10))\n",
        "ind = []\n",
        "for i in df.columns:\n",
        "  if df[i].dtypes!='object':\n",
        "    ind.append(i)\n",
        "print(ind)\n",
        "df[ind] = scaler.fit_transform(df[ind])"
      ],
      "metadata": {
        "colab": {
          "base_uri": "https://localhost:8080/"
        },
        "id": "j_g5qDSO0q7v",
        "outputId": "69c067f1-15c6-42a3-e0ef-6a1a6ecd0af0"
      },
      "execution_count": null,
      "outputs": [
        {
          "output_type": "stream",
          "name": "stdout",
          "text": [
            "['gender', 'test preparation course', 'math score', 'reading score', 'writing score']\n"
          ]
        }
      ]
    },
    {
      "cell_type": "code",
      "source": [
        "df"
      ],
      "metadata": {
        "colab": {
          "base_uri": "https://localhost:8080/",
          "height": 485
        },
        "id": "b2-OVIofIUiW",
        "outputId": "a0666164-0f9a-4362-b7dd-6b403fdbf7f2"
      },
      "execution_count": null,
      "outputs": [
        {
          "output_type": "execute_result",
          "data": {
            "text/plain": [
              "     gender race/ethnicity parental level of education         lunch  \\\n",
              "0       0.0        group B           bachelor's degree      standard   \n",
              "1       0.0        group C                some college      standard   \n",
              "2       0.0        group B             master's degree      standard   \n",
              "4      10.0        group C                some college      standard   \n",
              "5       0.0        group B          associate's degree      standard   \n",
              "..      ...            ...                         ...           ...   \n",
              "995     0.0        group E             master's degree      standard   \n",
              "996    10.0        group C                 high school  free/reduced   \n",
              "997     0.0        group C                 high school  free/reduced   \n",
              "998     0.0        group D                some college      standard   \n",
              "999     0.0        group D                some college  free/reduced   \n",
              "\n",
              "     test preparation course  math score  reading score  writing score  \n",
              "0                        0.0    1.929825       2.820513       2.857143  \n",
              "1                       10.0    2.017544       3.743590       3.482143  \n",
              "2                        0.0    2.631579       4.000000       2.633929  \n",
              "4                        0.0    1.929825       3.128205       2.901786  \n",
              "5                        0.0    2.076023       3.384615       3.035714  \n",
              "..                       ...         ...            ...            ...  \n",
              "995                     10.0    2.573099       4.205128       3.794643  \n",
              "996                      0.0    1.812865       1.948718       2.008929  \n",
              "997                     10.0    1.725146       2.769231       2.455357  \n",
              "998                     10.0    1.988304       3.128205       2.991071  \n",
              "999                      0.0    2.251462       3.538462       3.392857  \n",
              "\n",
              "[969 rows x 8 columns]"
            ],
            "text/html": [
              "\n",
              "  <div id=\"df-8b540121-f25c-48fb-9190-287290c0e1b5\">\n",
              "    <div class=\"colab-df-container\">\n",
              "      <div>\n",
              "<style scoped>\n",
              "    .dataframe tbody tr th:only-of-type {\n",
              "        vertical-align: middle;\n",
              "    }\n",
              "\n",
              "    .dataframe tbody tr th {\n",
              "        vertical-align: top;\n",
              "    }\n",
              "\n",
              "    .dataframe thead th {\n",
              "        text-align: right;\n",
              "    }\n",
              "</style>\n",
              "<table border=\"1\" class=\"dataframe\">\n",
              "  <thead>\n",
              "    <tr style=\"text-align: right;\">\n",
              "      <th></th>\n",
              "      <th>gender</th>\n",
              "      <th>race/ethnicity</th>\n",
              "      <th>parental level of education</th>\n",
              "      <th>lunch</th>\n",
              "      <th>test preparation course</th>\n",
              "      <th>math score</th>\n",
              "      <th>reading score</th>\n",
              "      <th>writing score</th>\n",
              "    </tr>\n",
              "  </thead>\n",
              "  <tbody>\n",
              "    <tr>\n",
              "      <th>0</th>\n",
              "      <td>0.0</td>\n",
              "      <td>group B</td>\n",
              "      <td>bachelor's degree</td>\n",
              "      <td>standard</td>\n",
              "      <td>0.0</td>\n",
              "      <td>1.929825</td>\n",
              "      <td>2.820513</td>\n",
              "      <td>2.857143</td>\n",
              "    </tr>\n",
              "    <tr>\n",
              "      <th>1</th>\n",
              "      <td>0.0</td>\n",
              "      <td>group C</td>\n",
              "      <td>some college</td>\n",
              "      <td>standard</td>\n",
              "      <td>10.0</td>\n",
              "      <td>2.017544</td>\n",
              "      <td>3.743590</td>\n",
              "      <td>3.482143</td>\n",
              "    </tr>\n",
              "    <tr>\n",
              "      <th>2</th>\n",
              "      <td>0.0</td>\n",
              "      <td>group B</td>\n",
              "      <td>master's degree</td>\n",
              "      <td>standard</td>\n",
              "      <td>0.0</td>\n",
              "      <td>2.631579</td>\n",
              "      <td>4.000000</td>\n",
              "      <td>2.633929</td>\n",
              "    </tr>\n",
              "    <tr>\n",
              "      <th>4</th>\n",
              "      <td>10.0</td>\n",
              "      <td>group C</td>\n",
              "      <td>some college</td>\n",
              "      <td>standard</td>\n",
              "      <td>0.0</td>\n",
              "      <td>1.929825</td>\n",
              "      <td>3.128205</td>\n",
              "      <td>2.901786</td>\n",
              "    </tr>\n",
              "    <tr>\n",
              "      <th>5</th>\n",
              "      <td>0.0</td>\n",
              "      <td>group B</td>\n",
              "      <td>associate's degree</td>\n",
              "      <td>standard</td>\n",
              "      <td>0.0</td>\n",
              "      <td>2.076023</td>\n",
              "      <td>3.384615</td>\n",
              "      <td>3.035714</td>\n",
              "    </tr>\n",
              "    <tr>\n",
              "      <th>...</th>\n",
              "      <td>...</td>\n",
              "      <td>...</td>\n",
              "      <td>...</td>\n",
              "      <td>...</td>\n",
              "      <td>...</td>\n",
              "      <td>...</td>\n",
              "      <td>...</td>\n",
              "      <td>...</td>\n",
              "    </tr>\n",
              "    <tr>\n",
              "      <th>995</th>\n",
              "      <td>0.0</td>\n",
              "      <td>group E</td>\n",
              "      <td>master's degree</td>\n",
              "      <td>standard</td>\n",
              "      <td>10.0</td>\n",
              "      <td>2.573099</td>\n",
              "      <td>4.205128</td>\n",
              "      <td>3.794643</td>\n",
              "    </tr>\n",
              "    <tr>\n",
              "      <th>996</th>\n",
              "      <td>10.0</td>\n",
              "      <td>group C</td>\n",
              "      <td>high school</td>\n",
              "      <td>free/reduced</td>\n",
              "      <td>0.0</td>\n",
              "      <td>1.812865</td>\n",
              "      <td>1.948718</td>\n",
              "      <td>2.008929</td>\n",
              "    </tr>\n",
              "    <tr>\n",
              "      <th>997</th>\n",
              "      <td>0.0</td>\n",
              "      <td>group C</td>\n",
              "      <td>high school</td>\n",
              "      <td>free/reduced</td>\n",
              "      <td>10.0</td>\n",
              "      <td>1.725146</td>\n",
              "      <td>2.769231</td>\n",
              "      <td>2.455357</td>\n",
              "    </tr>\n",
              "    <tr>\n",
              "      <th>998</th>\n",
              "      <td>0.0</td>\n",
              "      <td>group D</td>\n",
              "      <td>some college</td>\n",
              "      <td>standard</td>\n",
              "      <td>10.0</td>\n",
              "      <td>1.988304</td>\n",
              "      <td>3.128205</td>\n",
              "      <td>2.991071</td>\n",
              "    </tr>\n",
              "    <tr>\n",
              "      <th>999</th>\n",
              "      <td>0.0</td>\n",
              "      <td>group D</td>\n",
              "      <td>some college</td>\n",
              "      <td>free/reduced</td>\n",
              "      <td>0.0</td>\n",
              "      <td>2.251462</td>\n",
              "      <td>3.538462</td>\n",
              "      <td>3.392857</td>\n",
              "    </tr>\n",
              "  </tbody>\n",
              "</table>\n",
              "<p>969 rows × 8 columns</p>\n",
              "</div>\n",
              "      <button class=\"colab-df-convert\" onclick=\"convertToInteractive('df-8b540121-f25c-48fb-9190-287290c0e1b5')\"\n",
              "              title=\"Convert this dataframe to an interactive table.\"\n",
              "              style=\"display:none;\">\n",
              "        \n",
              "  <svg xmlns=\"http://www.w3.org/2000/svg\" height=\"24px\"viewBox=\"0 0 24 24\"\n",
              "       width=\"24px\">\n",
              "    <path d=\"M0 0h24v24H0V0z\" fill=\"none\"/>\n",
              "    <path d=\"M18.56 5.44l.94 2.06.94-2.06 2.06-.94-2.06-.94-.94-2.06-.94 2.06-2.06.94zm-11 1L8.5 8.5l.94-2.06 2.06-.94-2.06-.94L8.5 2.5l-.94 2.06-2.06.94zm10 10l.94 2.06.94-2.06 2.06-.94-2.06-.94-.94-2.06-.94 2.06-2.06.94z\"/><path d=\"M17.41 7.96l-1.37-1.37c-.4-.4-.92-.59-1.43-.59-.52 0-1.04.2-1.43.59L10.3 9.45l-7.72 7.72c-.78.78-.78 2.05 0 2.83L4 21.41c.39.39.9.59 1.41.59.51 0 1.02-.2 1.41-.59l7.78-7.78 2.81-2.81c.8-.78.8-2.07 0-2.86zM5.41 20L4 18.59l7.72-7.72 1.47 1.35L5.41 20z\"/>\n",
              "  </svg>\n",
              "      </button>\n",
              "      \n",
              "  <style>\n",
              "    .colab-df-container {\n",
              "      display:flex;\n",
              "      flex-wrap:wrap;\n",
              "      gap: 12px;\n",
              "    }\n",
              "\n",
              "    .colab-df-convert {\n",
              "      background-color: #E8F0FE;\n",
              "      border: none;\n",
              "      border-radius: 50%;\n",
              "      cursor: pointer;\n",
              "      display: none;\n",
              "      fill: #1967D2;\n",
              "      height: 32px;\n",
              "      padding: 0 0 0 0;\n",
              "      width: 32px;\n",
              "    }\n",
              "\n",
              "    .colab-df-convert:hover {\n",
              "      background-color: #E2EBFA;\n",
              "      box-shadow: 0px 1px 2px rgba(60, 64, 67, 0.3), 0px 1px 3px 1px rgba(60, 64, 67, 0.15);\n",
              "      fill: #174EA6;\n",
              "    }\n",
              "\n",
              "    [theme=dark] .colab-df-convert {\n",
              "      background-color: #3B4455;\n",
              "      fill: #D2E3FC;\n",
              "    }\n",
              "\n",
              "    [theme=dark] .colab-df-convert:hover {\n",
              "      background-color: #434B5C;\n",
              "      box-shadow: 0px 1px 3px 1px rgba(0, 0, 0, 0.15);\n",
              "      filter: drop-shadow(0px 1px 2px rgba(0, 0, 0, 0.3));\n",
              "      fill: #FFFFFF;\n",
              "    }\n",
              "  </style>\n",
              "\n",
              "      <script>\n",
              "        const buttonEl =\n",
              "          document.querySelector('#df-8b540121-f25c-48fb-9190-287290c0e1b5 button.colab-df-convert');\n",
              "        buttonEl.style.display =\n",
              "          google.colab.kernel.accessAllowed ? 'block' : 'none';\n",
              "\n",
              "        async function convertToInteractive(key) {\n",
              "          const element = document.querySelector('#df-8b540121-f25c-48fb-9190-287290c0e1b5');\n",
              "          const dataTable =\n",
              "            await google.colab.kernel.invokeFunction('convertToInteractive',\n",
              "                                                     [key], {});\n",
              "          if (!dataTable) return;\n",
              "\n",
              "          const docLinkHtml = 'Like what you see? Visit the ' +\n",
              "            '<a target=\"_blank\" href=https://colab.research.google.com/notebooks/data_table.ipynb>data table notebook</a>'\n",
              "            + ' to learn more about interactive tables.';\n",
              "          element.innerHTML = '';\n",
              "          dataTable['output_type'] = 'display_data';\n",
              "          await google.colab.output.renderOutput(dataTable, element);\n",
              "          const docLink = document.createElement('div');\n",
              "          docLink.innerHTML = docLinkHtml;\n",
              "          element.appendChild(docLink);\n",
              "        }\n",
              "      </script>\n",
              "    </div>\n",
              "  </div>\n",
              "  "
            ]
          },
          "metadata": {},
          "execution_count": 71
        }
      ]
    },
    {
      "cell_type": "markdown",
      "source": [
        "Assignment2"
      ],
      "metadata": {
        "id": "c6X40C4_AyhL"
      }
    },
    {
      "cell_type": "code",
      "source": [
        "import pandas as pd\n",
        "import numpy as np"
      ],
      "metadata": {
        "id": "fBSBCzdQ1b52"
      },
      "execution_count": null,
      "outputs": []
    },
    {
      "cell_type": "code",
      "source": [
        "df = pd.read_csv(\"/content/drive/MyDrive/Colab Notebooks/StudentsPerformance.csv\")"
      ],
      "metadata": {
        "id": "6RZ13IXsA6Yx"
      },
      "execution_count": null,
      "outputs": []
    },
    {
      "cell_type": "code",
      "source": [
        "df.isnull().sum()"
      ],
      "metadata": {
        "colab": {
          "base_uri": "https://localhost:8080/"
        },
        "id": "oqT9lWoXA7Dl",
        "outputId": "f9ea97bd-9dad-4669-a1d0-64588e1e1984"
      },
      "execution_count": null,
      "outputs": [
        {
          "output_type": "execute_result",
          "data": {
            "text/plain": [
              "gender                          0\n",
              "race/ethnicity                  8\n",
              "parental level of education     8\n",
              "lunch                           6\n",
              "test preparation course        13\n",
              "math score                      7\n",
              "reading score                   7\n",
              "writing score                   5\n",
              "dtype: int64"
            ]
          },
          "metadata": {},
          "execution_count": 74
        }
      ]
    },
    {
      "cell_type": "code",
      "source": [
        "df.dtypes"
      ],
      "metadata": {
        "colab": {
          "base_uri": "https://localhost:8080/"
        },
        "id": "EUIuv2XQIKk0",
        "outputId": "7a7ede69-7274-4a59-ad58-fe170d372f53"
      },
      "execution_count": null,
      "outputs": [
        {
          "output_type": "execute_result",
          "data": {
            "text/plain": [
              "gender                          object\n",
              "race/ethnicity                  object\n",
              "parental level of education     object\n",
              "lunch                           object\n",
              "test preparation course         object\n",
              "math score                     float64\n",
              "reading score                  float64\n",
              "writing score                  float64\n",
              "dtype: object"
            ]
          },
          "metadata": {},
          "execution_count": 75
        }
      ]
    },
    {
      "cell_type": "code",
      "source": [
        "df['math score'].fillna(df['math score'].mean(),inplace=True)\n",
        "df['reading score'].fillna(df['reading score'].mean(), inplace=True)\n",
        "df['writing score'].fillna(df['writing score'].mean(), inplace=True)"
      ],
      "metadata": {
        "id": "dB0ildzDBIxw"
      },
      "execution_count": null,
      "outputs": []
    },
    {
      "cell_type": "code",
      "source": [
        "def highfreq(col):\n",
        "  uniques = df[col].unique()\n",
        "  eni=\"\"\n",
        "  count=0\n",
        "  for i in uniques:\n",
        "    n=0\n",
        "    for j in df[col]:\n",
        "      if i==j:\n",
        "        n+=1\n",
        "    if(n>count):\n",
        "      count=n\n",
        "      eni = i\n",
        "  return eni"
      ],
      "metadata": {
        "id": "NNgbKsogB6yi"
      },
      "execution_count": null,
      "outputs": []
    },
    {
      "cell_type": "code",
      "source": [
        "df.columns"
      ],
      "metadata": {
        "colab": {
          "base_uri": "https://localhost:8080/"
        },
        "id": "0_MaQ7XHEFM1",
        "outputId": "daf41050-0f6f-4dcf-dfb5-c9dc5505aa60"
      },
      "execution_count": null,
      "outputs": [
        {
          "output_type": "execute_result",
          "data": {
            "text/plain": [
              "Index(['gender', 'race/ethnicity', 'parental level of education', 'lunch',\n",
              "       'test preparation course', 'math score', 'reading score',\n",
              "       'writing score'],\n",
              "      dtype='object')"
            ]
          },
          "metadata": {},
          "execution_count": 78
        }
      ]
    },
    {
      "cell_type": "code",
      "source": [
        "# print(highfreq('race/ethnicity'))\n",
        "# df['race/ethnicity'].fillna(highfreq('race/ethnicity'), inplace=True)"
      ],
      "metadata": {
        "id": "lhv0fLLJIASN"
      },
      "execution_count": null,
      "outputs": []
    },
    {
      "cell_type": "code",
      "source": [
        "# df['gender'].fillna(highfreq('gender'), inplace=True)\n",
        "# df['race/ethnicity'].fillna(highfreq('race/ethnicity'), inplace=True)\n",
        "# df['parental level of education'].fillna(highfreq('parental level of education'), inplace=True)\n",
        "# df['lunch'].fillna(highfreq('lunch'), inplace=True)\n",
        "# df['test preparation course'].fillna(highfreq('test preparation course'), inplace=True)"
      ],
      "metadata": {
        "id": "mFJsXQsLEPN8"
      },
      "execution_count": null,
      "outputs": []
    },
    {
      "cell_type": "code",
      "source": [
        "for i in df.columns:\n",
        "  if df[i].dtypes=='object':\n",
        "    print(i)\n",
        "    df[i].fillna(highfreq(i), inplace=True)"
      ],
      "metadata": {
        "colab": {
          "base_uri": "https://localhost:8080/"
        },
        "id": "mB2hO3OY10Wt",
        "outputId": "8975c603-ec49-4d4c-9222-7a58a542e9b3"
      },
      "execution_count": null,
      "outputs": [
        {
          "output_type": "stream",
          "name": "stdout",
          "text": [
            "gender\n",
            "race/ethnicity\n",
            "parental level of education\n",
            "lunch\n",
            "test preparation course\n"
          ]
        }
      ]
    },
    {
      "cell_type": "code",
      "source": [
        "def outliers(col):\n",
        "  std = df[col].std()\n",
        "  mean = df[col].mean()\n",
        "  x = (df[col]-mean)/std\n",
        "  print(x.dtypes)\n",
        "  ind = []\n",
        "  for i,j in enumerate(x) :\n",
        "    if j>3:\n",
        "      ind.append(i)\n",
        "  print(ind)\n",
        "  df.drop(ind, axis=0, inplace=True)"
      ],
      "metadata": {
        "id": "opeZ2oU18Uct"
      },
      "execution_count": null,
      "outputs": []
    },
    {
      "cell_type": "code",
      "source": [
        "print(df['math score'].shape)\n",
        "outliers('math score')\n",
        "(df['math score'].shape)"
      ],
      "metadata": {
        "colab": {
          "base_uri": "https://localhost:8080/"
        },
        "id": "ZSE5VIsY_A2t",
        "outputId": "744a42fe-7320-473d-d80e-3f5a2c82916c"
      },
      "execution_count": null,
      "outputs": [
        {
          "output_type": "stream",
          "name": "stdout",
          "text": [
            "(1000,)\n",
            "float64\n",
            "[207, 287]\n"
          ]
        },
        {
          "output_type": "execute_result",
          "data": {
            "text/plain": [
              "(998,)"
            ]
          },
          "metadata": {},
          "execution_count": 83
        }
      ]
    },
    {
      "cell_type": "code",
      "source": [
        "df.isnull().sum()"
      ],
      "metadata": {
        "colab": {
          "base_uri": "https://localhost:8080/"
        },
        "id": "-Q4sfLmT_Xja",
        "outputId": "c2c591ef-f172-41cf-a4c4-34e59cb0c633"
      },
      "execution_count": null,
      "outputs": [
        {
          "output_type": "execute_result",
          "data": {
            "text/plain": [
              "gender                         0\n",
              "race/ethnicity                 0\n",
              "parental level of education    0\n",
              "lunch                          0\n",
              "test preparation course        0\n",
              "math score                     0\n",
              "reading score                  0\n",
              "writing score                  0\n",
              "dtype: int64"
            ]
          },
          "metadata": {},
          "execution_count": 84
        }
      ]
    },
    {
      "cell_type": "code",
      "source": [
        "from sklearn.preprocessing import StandardScaler\n",
        "scaler = StandardScaler()\n",
        "cols = df.columns\n",
        "print(cols)\n",
        "ind = []\n",
        "for i in cols:\n",
        "  if df[i].dtypes == 'float64':\n",
        "    ind.append(i)\n",
        "df[ind] = scaler.fit_transform(df[ind])"
      ],
      "metadata": {
        "colab": {
          "base_uri": "https://localhost:8080/"
        },
        "id": "sevNjWPxA-Ol",
        "outputId": "672a9b6e-7f12-4551-e2c1-5e85a8116d04"
      },
      "execution_count": null,
      "outputs": [
        {
          "output_type": "stream",
          "name": "stdout",
          "text": [
            "Index(['gender', 'race/ethnicity', 'parental level of education', 'lunch',\n",
            "       'test preparation course', 'math score', 'reading score',\n",
            "       'writing score'],\n",
            "      dtype='object')\n"
          ]
        }
      ]
    },
    {
      "cell_type": "code",
      "source": [
        "df"
      ],
      "metadata": {
        "colab": {
          "base_uri": "https://localhost:8080/",
          "height": 502
        },
        "id": "qkUw1rCqDTBe",
        "outputId": "f7b9ebf3-87b8-4685-a6b6-06a8658a394e"
      },
      "execution_count": null,
      "outputs": [
        {
          "output_type": "execute_result",
          "data": {
            "text/plain": [
              "     gender race/ethnicity parental level of education         lunch  \\\n",
              "0    female        group B           bachelor's degree      standard   \n",
              "1    female        group C                some college      standard   \n",
              "2    female        group B             master's degree      standard   \n",
              "3      male        group C          associate's degree  free/reduced   \n",
              "4      male        group C                some college      standard   \n",
              "..      ...            ...                         ...           ...   \n",
              "995  female        group E             master's degree      standard   \n",
              "996    male        group C                 high school  free/reduced   \n",
              "997  female        group C                 high school  free/reduced   \n",
              "998  female        group D                some college      standard   \n",
              "999  female        group D                some college  free/reduced   \n",
              "\n",
              "    test preparation course  math score  reading score  writing score  \n",
              "0                      none    0.021929       0.179038       0.365942  \n",
              "1                 completed    0.186756       1.360225       1.239618  \n",
              "2                      none    1.571024       1.688332       0.001356  \n",
              "3                      none   -1.263430      -0.805284      -1.506222  \n",
              "4                      none    0.021929       0.572767       0.428347  \n",
              "..                      ...         ...            ...            ...  \n",
              "995               completed    1.439188       1.950818       1.676457  \n",
              "996                    none   -0.274667      -0.936527      -0.819762  \n",
              "997               completed   -0.472420       0.113416      -0.195707  \n",
              "998               completed    0.120838       0.572767       0.553158  \n",
              "999                    none    0.714096       1.097739       1.114807  \n",
              "\n",
              "[998 rows x 8 columns]"
            ],
            "text/html": [
              "\n",
              "  <div id=\"df-5acdde82-cda0-4dfd-b600-200a6655546a\">\n",
              "    <div class=\"colab-df-container\">\n",
              "      <div>\n",
              "<style scoped>\n",
              "    .dataframe tbody tr th:only-of-type {\n",
              "        vertical-align: middle;\n",
              "    }\n",
              "\n",
              "    .dataframe tbody tr th {\n",
              "        vertical-align: top;\n",
              "    }\n",
              "\n",
              "    .dataframe thead th {\n",
              "        text-align: right;\n",
              "    }\n",
              "</style>\n",
              "<table border=\"1\" class=\"dataframe\">\n",
              "  <thead>\n",
              "    <tr style=\"text-align: right;\">\n",
              "      <th></th>\n",
              "      <th>gender</th>\n",
              "      <th>race/ethnicity</th>\n",
              "      <th>parental level of education</th>\n",
              "      <th>lunch</th>\n",
              "      <th>test preparation course</th>\n",
              "      <th>math score</th>\n",
              "      <th>reading score</th>\n",
              "      <th>writing score</th>\n",
              "    </tr>\n",
              "  </thead>\n",
              "  <tbody>\n",
              "    <tr>\n",
              "      <th>0</th>\n",
              "      <td>female</td>\n",
              "      <td>group B</td>\n",
              "      <td>bachelor's degree</td>\n",
              "      <td>standard</td>\n",
              "      <td>none</td>\n",
              "      <td>0.021929</td>\n",
              "      <td>0.179038</td>\n",
              "      <td>0.365942</td>\n",
              "    </tr>\n",
              "    <tr>\n",
              "      <th>1</th>\n",
              "      <td>female</td>\n",
              "      <td>group C</td>\n",
              "      <td>some college</td>\n",
              "      <td>standard</td>\n",
              "      <td>completed</td>\n",
              "      <td>0.186756</td>\n",
              "      <td>1.360225</td>\n",
              "      <td>1.239618</td>\n",
              "    </tr>\n",
              "    <tr>\n",
              "      <th>2</th>\n",
              "      <td>female</td>\n",
              "      <td>group B</td>\n",
              "      <td>master's degree</td>\n",
              "      <td>standard</td>\n",
              "      <td>none</td>\n",
              "      <td>1.571024</td>\n",
              "      <td>1.688332</td>\n",
              "      <td>0.001356</td>\n",
              "    </tr>\n",
              "    <tr>\n",
              "      <th>3</th>\n",
              "      <td>male</td>\n",
              "      <td>group C</td>\n",
              "      <td>associate's degree</td>\n",
              "      <td>free/reduced</td>\n",
              "      <td>none</td>\n",
              "      <td>-1.263430</td>\n",
              "      <td>-0.805284</td>\n",
              "      <td>-1.506222</td>\n",
              "    </tr>\n",
              "    <tr>\n",
              "      <th>4</th>\n",
              "      <td>male</td>\n",
              "      <td>group C</td>\n",
              "      <td>some college</td>\n",
              "      <td>standard</td>\n",
              "      <td>none</td>\n",
              "      <td>0.021929</td>\n",
              "      <td>0.572767</td>\n",
              "      <td>0.428347</td>\n",
              "    </tr>\n",
              "    <tr>\n",
              "      <th>...</th>\n",
              "      <td>...</td>\n",
              "      <td>...</td>\n",
              "      <td>...</td>\n",
              "      <td>...</td>\n",
              "      <td>...</td>\n",
              "      <td>...</td>\n",
              "      <td>...</td>\n",
              "      <td>...</td>\n",
              "    </tr>\n",
              "    <tr>\n",
              "      <th>995</th>\n",
              "      <td>female</td>\n",
              "      <td>group E</td>\n",
              "      <td>master's degree</td>\n",
              "      <td>standard</td>\n",
              "      <td>completed</td>\n",
              "      <td>1.439188</td>\n",
              "      <td>1.950818</td>\n",
              "      <td>1.676457</td>\n",
              "    </tr>\n",
              "    <tr>\n",
              "      <th>996</th>\n",
              "      <td>male</td>\n",
              "      <td>group C</td>\n",
              "      <td>high school</td>\n",
              "      <td>free/reduced</td>\n",
              "      <td>none</td>\n",
              "      <td>-0.274667</td>\n",
              "      <td>-0.936527</td>\n",
              "      <td>-0.819762</td>\n",
              "    </tr>\n",
              "    <tr>\n",
              "      <th>997</th>\n",
              "      <td>female</td>\n",
              "      <td>group C</td>\n",
              "      <td>high school</td>\n",
              "      <td>free/reduced</td>\n",
              "      <td>completed</td>\n",
              "      <td>-0.472420</td>\n",
              "      <td>0.113416</td>\n",
              "      <td>-0.195707</td>\n",
              "    </tr>\n",
              "    <tr>\n",
              "      <th>998</th>\n",
              "      <td>female</td>\n",
              "      <td>group D</td>\n",
              "      <td>some college</td>\n",
              "      <td>standard</td>\n",
              "      <td>completed</td>\n",
              "      <td>0.120838</td>\n",
              "      <td>0.572767</td>\n",
              "      <td>0.553158</td>\n",
              "    </tr>\n",
              "    <tr>\n",
              "      <th>999</th>\n",
              "      <td>female</td>\n",
              "      <td>group D</td>\n",
              "      <td>some college</td>\n",
              "      <td>free/reduced</td>\n",
              "      <td>none</td>\n",
              "      <td>0.714096</td>\n",
              "      <td>1.097739</td>\n",
              "      <td>1.114807</td>\n",
              "    </tr>\n",
              "  </tbody>\n",
              "</table>\n",
              "<p>998 rows × 8 columns</p>\n",
              "</div>\n",
              "      <button class=\"colab-df-convert\" onclick=\"convertToInteractive('df-5acdde82-cda0-4dfd-b600-200a6655546a')\"\n",
              "              title=\"Convert this dataframe to an interactive table.\"\n",
              "              style=\"display:none;\">\n",
              "        \n",
              "  <svg xmlns=\"http://www.w3.org/2000/svg\" height=\"24px\"viewBox=\"0 0 24 24\"\n",
              "       width=\"24px\">\n",
              "    <path d=\"M0 0h24v24H0V0z\" fill=\"none\"/>\n",
              "    <path d=\"M18.56 5.44l.94 2.06.94-2.06 2.06-.94-2.06-.94-.94-2.06-.94 2.06-2.06.94zm-11 1L8.5 8.5l.94-2.06 2.06-.94-2.06-.94L8.5 2.5l-.94 2.06-2.06.94zm10 10l.94 2.06.94-2.06 2.06-.94-2.06-.94-.94-2.06-.94 2.06-2.06.94z\"/><path d=\"M17.41 7.96l-1.37-1.37c-.4-.4-.92-.59-1.43-.59-.52 0-1.04.2-1.43.59L10.3 9.45l-7.72 7.72c-.78.78-.78 2.05 0 2.83L4 21.41c.39.39.9.59 1.41.59.51 0 1.02-.2 1.41-.59l7.78-7.78 2.81-2.81c.8-.78.8-2.07 0-2.86zM5.41 20L4 18.59l7.72-7.72 1.47 1.35L5.41 20z\"/>\n",
              "  </svg>\n",
              "      </button>\n",
              "      \n",
              "  <style>\n",
              "    .colab-df-container {\n",
              "      display:flex;\n",
              "      flex-wrap:wrap;\n",
              "      gap: 12px;\n",
              "    }\n",
              "\n",
              "    .colab-df-convert {\n",
              "      background-color: #E8F0FE;\n",
              "      border: none;\n",
              "      border-radius: 50%;\n",
              "      cursor: pointer;\n",
              "      display: none;\n",
              "      fill: #1967D2;\n",
              "      height: 32px;\n",
              "      padding: 0 0 0 0;\n",
              "      width: 32px;\n",
              "    }\n",
              "\n",
              "    .colab-df-convert:hover {\n",
              "      background-color: #E2EBFA;\n",
              "      box-shadow: 0px 1px 2px rgba(60, 64, 67, 0.3), 0px 1px 3px 1px rgba(60, 64, 67, 0.15);\n",
              "      fill: #174EA6;\n",
              "    }\n",
              "\n",
              "    [theme=dark] .colab-df-convert {\n",
              "      background-color: #3B4455;\n",
              "      fill: #D2E3FC;\n",
              "    }\n",
              "\n",
              "    [theme=dark] .colab-df-convert:hover {\n",
              "      background-color: #434B5C;\n",
              "      box-shadow: 0px 1px 3px 1px rgba(0, 0, 0, 0.15);\n",
              "      filter: drop-shadow(0px 1px 2px rgba(0, 0, 0, 0.3));\n",
              "      fill: #FFFFFF;\n",
              "    }\n",
              "  </style>\n",
              "\n",
              "      <script>\n",
              "        const buttonEl =\n",
              "          document.querySelector('#df-5acdde82-cda0-4dfd-b600-200a6655546a button.colab-df-convert');\n",
              "        buttonEl.style.display =\n",
              "          google.colab.kernel.accessAllowed ? 'block' : 'none';\n",
              "\n",
              "        async function convertToInteractive(key) {\n",
              "          const element = document.querySelector('#df-5acdde82-cda0-4dfd-b600-200a6655546a');\n",
              "          const dataTable =\n",
              "            await google.colab.kernel.invokeFunction('convertToInteractive',\n",
              "                                                     [key], {});\n",
              "          if (!dataTable) return;\n",
              "\n",
              "          const docLinkHtml = 'Like what you see? Visit the ' +\n",
              "            '<a target=\"_blank\" href=https://colab.research.google.com/notebooks/data_table.ipynb>data table notebook</a>'\n",
              "            + ' to learn more about interactive tables.';\n",
              "          element.innerHTML = '';\n",
              "          dataTable['output_type'] = 'display_data';\n",
              "          await google.colab.output.renderOutput(dataTable, element);\n",
              "          const docLink = document.createElement('div');\n",
              "          docLink.innerHTML = docLinkHtml;\n",
              "          element.appendChild(docLink);\n",
              "        }\n",
              "      </script>\n",
              "    </div>\n",
              "  </div>\n",
              "  "
            ]
          },
          "metadata": {},
          "execution_count": 86
        }
      ]
    },
    {
      "cell_type": "markdown",
      "source": [
        "Assignment 3"
      ],
      "metadata": {
        "id": "02GOJh1zIm-B"
      }
    },
    {
      "cell_type": "code",
      "source": [
        "import pandas as pd\n",
        "import numpy as np"
      ],
      "metadata": {
        "id": "8fKO6LdOGE2V"
      },
      "execution_count": null,
      "outputs": []
    },
    {
      "cell_type": "code",
      "source": [
        "df = pd.read_csv(\"/content/Iris (3).csv\")"
      ],
      "metadata": {
        "id": "1pmqH74aNB1S"
      },
      "execution_count": null,
      "outputs": []
    },
    {
      "cell_type": "code",
      "source": [
        "df"
      ],
      "metadata": {
        "colab": {
          "base_uri": "https://localhost:8080/",
          "height": 424
        },
        "id": "l7mF44mvNT4Y",
        "outputId": "37746b7e-7b08-4752-e518-baad1653bcf0"
      },
      "execution_count": null,
      "outputs": [
        {
          "output_type": "execute_result",
          "data": {
            "text/plain": [
              "      Id  SepalLengthCm  SepalWidthCm  PetalLengthCm  PetalWidthCm  \\\n",
              "0      1            5.1           3.5            1.4           0.2   \n",
              "1      2            4.9           3.0            1.4           0.2   \n",
              "2      3            4.7           3.2            1.3           0.2   \n",
              "3      4            4.6           3.1            1.5           0.2   \n",
              "4      5            5.0           3.6            1.4           0.2   \n",
              "..   ...            ...           ...            ...           ...   \n",
              "145  146            6.7           3.0            5.2           2.3   \n",
              "146  147            6.3           2.5            5.0           1.9   \n",
              "147  148            6.5           3.0            5.2           2.0   \n",
              "148  149            6.2           3.4            5.4           2.3   \n",
              "149  150            5.9           3.0            5.1           1.8   \n",
              "\n",
              "            Species  \n",
              "0       Iris-setosa  \n",
              "1       Iris-setosa  \n",
              "2       Iris-setosa  \n",
              "3       Iris-setosa  \n",
              "4       Iris-setosa  \n",
              "..              ...  \n",
              "145  Iris-virginica  \n",
              "146  Iris-virginica  \n",
              "147  Iris-virginica  \n",
              "148  Iris-virginica  \n",
              "149  Iris-virginica  \n",
              "\n",
              "[150 rows x 6 columns]"
            ],
            "text/html": [
              "\n",
              "  <div id=\"df-5f7c7d2a-46f3-499f-823d-a930179ff90b\">\n",
              "    <div class=\"colab-df-container\">\n",
              "      <div>\n",
              "<style scoped>\n",
              "    .dataframe tbody tr th:only-of-type {\n",
              "        vertical-align: middle;\n",
              "    }\n",
              "\n",
              "    .dataframe tbody tr th {\n",
              "        vertical-align: top;\n",
              "    }\n",
              "\n",
              "    .dataframe thead th {\n",
              "        text-align: right;\n",
              "    }\n",
              "</style>\n",
              "<table border=\"1\" class=\"dataframe\">\n",
              "  <thead>\n",
              "    <tr style=\"text-align: right;\">\n",
              "      <th></th>\n",
              "      <th>Id</th>\n",
              "      <th>SepalLengthCm</th>\n",
              "      <th>SepalWidthCm</th>\n",
              "      <th>PetalLengthCm</th>\n",
              "      <th>PetalWidthCm</th>\n",
              "      <th>Species</th>\n",
              "    </tr>\n",
              "  </thead>\n",
              "  <tbody>\n",
              "    <tr>\n",
              "      <th>0</th>\n",
              "      <td>1</td>\n",
              "      <td>5.1</td>\n",
              "      <td>3.5</td>\n",
              "      <td>1.4</td>\n",
              "      <td>0.2</td>\n",
              "      <td>Iris-setosa</td>\n",
              "    </tr>\n",
              "    <tr>\n",
              "      <th>1</th>\n",
              "      <td>2</td>\n",
              "      <td>4.9</td>\n",
              "      <td>3.0</td>\n",
              "      <td>1.4</td>\n",
              "      <td>0.2</td>\n",
              "      <td>Iris-setosa</td>\n",
              "    </tr>\n",
              "    <tr>\n",
              "      <th>2</th>\n",
              "      <td>3</td>\n",
              "      <td>4.7</td>\n",
              "      <td>3.2</td>\n",
              "      <td>1.3</td>\n",
              "      <td>0.2</td>\n",
              "      <td>Iris-setosa</td>\n",
              "    </tr>\n",
              "    <tr>\n",
              "      <th>3</th>\n",
              "      <td>4</td>\n",
              "      <td>4.6</td>\n",
              "      <td>3.1</td>\n",
              "      <td>1.5</td>\n",
              "      <td>0.2</td>\n",
              "      <td>Iris-setosa</td>\n",
              "    </tr>\n",
              "    <tr>\n",
              "      <th>4</th>\n",
              "      <td>5</td>\n",
              "      <td>5.0</td>\n",
              "      <td>3.6</td>\n",
              "      <td>1.4</td>\n",
              "      <td>0.2</td>\n",
              "      <td>Iris-setosa</td>\n",
              "    </tr>\n",
              "    <tr>\n",
              "      <th>...</th>\n",
              "      <td>...</td>\n",
              "      <td>...</td>\n",
              "      <td>...</td>\n",
              "      <td>...</td>\n",
              "      <td>...</td>\n",
              "      <td>...</td>\n",
              "    </tr>\n",
              "    <tr>\n",
              "      <th>145</th>\n",
              "      <td>146</td>\n",
              "      <td>6.7</td>\n",
              "      <td>3.0</td>\n",
              "      <td>5.2</td>\n",
              "      <td>2.3</td>\n",
              "      <td>Iris-virginica</td>\n",
              "    </tr>\n",
              "    <tr>\n",
              "      <th>146</th>\n",
              "      <td>147</td>\n",
              "      <td>6.3</td>\n",
              "      <td>2.5</td>\n",
              "      <td>5.0</td>\n",
              "      <td>1.9</td>\n",
              "      <td>Iris-virginica</td>\n",
              "    </tr>\n",
              "    <tr>\n",
              "      <th>147</th>\n",
              "      <td>148</td>\n",
              "      <td>6.5</td>\n",
              "      <td>3.0</td>\n",
              "      <td>5.2</td>\n",
              "      <td>2.0</td>\n",
              "      <td>Iris-virginica</td>\n",
              "    </tr>\n",
              "    <tr>\n",
              "      <th>148</th>\n",
              "      <td>149</td>\n",
              "      <td>6.2</td>\n",
              "      <td>3.4</td>\n",
              "      <td>5.4</td>\n",
              "      <td>2.3</td>\n",
              "      <td>Iris-virginica</td>\n",
              "    </tr>\n",
              "    <tr>\n",
              "      <th>149</th>\n",
              "      <td>150</td>\n",
              "      <td>5.9</td>\n",
              "      <td>3.0</td>\n",
              "      <td>5.1</td>\n",
              "      <td>1.8</td>\n",
              "      <td>Iris-virginica</td>\n",
              "    </tr>\n",
              "  </tbody>\n",
              "</table>\n",
              "<p>150 rows × 6 columns</p>\n",
              "</div>\n",
              "      <button class=\"colab-df-convert\" onclick=\"convertToInteractive('df-5f7c7d2a-46f3-499f-823d-a930179ff90b')\"\n",
              "              title=\"Convert this dataframe to an interactive table.\"\n",
              "              style=\"display:none;\">\n",
              "        \n",
              "  <svg xmlns=\"http://www.w3.org/2000/svg\" height=\"24px\"viewBox=\"0 0 24 24\"\n",
              "       width=\"24px\">\n",
              "    <path d=\"M0 0h24v24H0V0z\" fill=\"none\"/>\n",
              "    <path d=\"M18.56 5.44l.94 2.06.94-2.06 2.06-.94-2.06-.94-.94-2.06-.94 2.06-2.06.94zm-11 1L8.5 8.5l.94-2.06 2.06-.94-2.06-.94L8.5 2.5l-.94 2.06-2.06.94zm10 10l.94 2.06.94-2.06 2.06-.94-2.06-.94-.94-2.06-.94 2.06-2.06.94z\"/><path d=\"M17.41 7.96l-1.37-1.37c-.4-.4-.92-.59-1.43-.59-.52 0-1.04.2-1.43.59L10.3 9.45l-7.72 7.72c-.78.78-.78 2.05 0 2.83L4 21.41c.39.39.9.59 1.41.59.51 0 1.02-.2 1.41-.59l7.78-7.78 2.81-2.81c.8-.78.8-2.07 0-2.86zM5.41 20L4 18.59l7.72-7.72 1.47 1.35L5.41 20z\"/>\n",
              "  </svg>\n",
              "      </button>\n",
              "      \n",
              "  <style>\n",
              "    .colab-df-container {\n",
              "      display:flex;\n",
              "      flex-wrap:wrap;\n",
              "      gap: 12px;\n",
              "    }\n",
              "\n",
              "    .colab-df-convert {\n",
              "      background-color: #E8F0FE;\n",
              "      border: none;\n",
              "      border-radius: 50%;\n",
              "      cursor: pointer;\n",
              "      display: none;\n",
              "      fill: #1967D2;\n",
              "      height: 32px;\n",
              "      padding: 0 0 0 0;\n",
              "      width: 32px;\n",
              "    }\n",
              "\n",
              "    .colab-df-convert:hover {\n",
              "      background-color: #E2EBFA;\n",
              "      box-shadow: 0px 1px 2px rgba(60, 64, 67, 0.3), 0px 1px 3px 1px rgba(60, 64, 67, 0.15);\n",
              "      fill: #174EA6;\n",
              "    }\n",
              "\n",
              "    [theme=dark] .colab-df-convert {\n",
              "      background-color: #3B4455;\n",
              "      fill: #D2E3FC;\n",
              "    }\n",
              "\n",
              "    [theme=dark] .colab-df-convert:hover {\n",
              "      background-color: #434B5C;\n",
              "      box-shadow: 0px 1px 3px 1px rgba(0, 0, 0, 0.15);\n",
              "      filter: drop-shadow(0px 1px 2px rgba(0, 0, 0, 0.3));\n",
              "      fill: #FFFFFF;\n",
              "    }\n",
              "  </style>\n",
              "\n",
              "      <script>\n",
              "        const buttonEl =\n",
              "          document.querySelector('#df-5f7c7d2a-46f3-499f-823d-a930179ff90b button.colab-df-convert');\n",
              "        buttonEl.style.display =\n",
              "          google.colab.kernel.accessAllowed ? 'block' : 'none';\n",
              "\n",
              "        async function convertToInteractive(key) {\n",
              "          const element = document.querySelector('#df-5f7c7d2a-46f3-499f-823d-a930179ff90b');\n",
              "          const dataTable =\n",
              "            await google.colab.kernel.invokeFunction('convertToInteractive',\n",
              "                                                     [key], {});\n",
              "          if (!dataTable) return;\n",
              "\n",
              "          const docLinkHtml = 'Like what you see? Visit the ' +\n",
              "            '<a target=\"_blank\" href=https://colab.research.google.com/notebooks/data_table.ipynb>data table notebook</a>'\n",
              "            + ' to learn more about interactive tables.';\n",
              "          element.innerHTML = '';\n",
              "          dataTable['output_type'] = 'display_data';\n",
              "          await google.colab.output.renderOutput(dataTable, element);\n",
              "          const docLink = document.createElement('div');\n",
              "          docLink.innerHTML = docLinkHtml;\n",
              "          element.appendChild(docLink);\n",
              "        }\n",
              "      </script>\n",
              "    </div>\n",
              "  </div>\n",
              "  "
            ]
          },
          "metadata": {},
          "execution_count": 89
        }
      ]
    },
    {
      "cell_type": "code",
      "source": [
        "df = df.groupby(\"Species\")"
      ],
      "metadata": {
        "id": "xEziNs0CNVOZ"
      },
      "execution_count": null,
      "outputs": []
    },
    {
      "cell_type": "code",
      "source": [
        "df['Species'].unique()"
      ],
      "metadata": {
        "colab": {
          "base_uri": "https://localhost:8080/"
        },
        "id": "oPVAA_7DNfow",
        "outputId": "c0cb25f9-9a02-4057-ac28-d63f8f6f3195"
      },
      "execution_count": null,
      "outputs": [
        {
          "output_type": "execute_result",
          "data": {
            "text/plain": [
              "Species\n",
              "Iris-setosa            [Iris-setosa]\n",
              "Iris-versicolor    [Iris-versicolor]\n",
              "Iris-virginica      [Iris-virginica]\n",
              "Name: Species, dtype: object"
            ]
          },
          "metadata": {},
          "execution_count": 91
        }
      ]
    },
    {
      "cell_type": "code",
      "source": [
        "df_setosa = df.get_group(\"Iris-setosa\")\n",
        "df_versicolor = df.get_group(\"Iris-versicolor\")\n",
        "df_virginica = df.get_group(\"Iris-virginica\")"
      ],
      "metadata": {
        "id": "sx7QDSt1Ns1B"
      },
      "execution_count": null,
      "outputs": []
    },
    {
      "cell_type": "code",
      "source": [
        "df_setosa.info()"
      ],
      "metadata": {
        "colab": {
          "base_uri": "https://localhost:8080/"
        },
        "id": "Ap3e_rGhN53l",
        "outputId": "418a18b5-29d8-4f55-e2aa-869daecc6560"
      },
      "execution_count": null,
      "outputs": [
        {
          "output_type": "stream",
          "name": "stdout",
          "text": [
            "<class 'pandas.core.frame.DataFrame'>\n",
            "Int64Index: 50 entries, 0 to 49\n",
            "Data columns (total 6 columns):\n",
            " #   Column         Non-Null Count  Dtype  \n",
            "---  ------         --------------  -----  \n",
            " 0   Id             50 non-null     int64  \n",
            " 1   SepalLengthCm  50 non-null     float64\n",
            " 2   SepalWidthCm   50 non-null     float64\n",
            " 3   PetalLengthCm  50 non-null     float64\n",
            " 4   PetalWidthCm   50 non-null     float64\n",
            " 5   Species        50 non-null     object \n",
            "dtypes: float64(4), int64(1), object(1)\n",
            "memory usage: 2.7+ KB\n"
          ]
        }
      ]
    },
    {
      "cell_type": "code",
      "source": [
        "df_setosa_describe = df_setosa.describe()"
      ],
      "metadata": {
        "id": "RWwYBBspOrMh"
      },
      "execution_count": null,
      "outputs": []
    },
    {
      "cell_type": "code",
      "source": [
        "df_versicolor_describe = df_versicolor.describe()"
      ],
      "metadata": {
        "id": "FXuskBCxO6Sw"
      },
      "execution_count": null,
      "outputs": []
    },
    {
      "cell_type": "code",
      "source": [
        "df_virginica_describe = df_virginica.describe()"
      ],
      "metadata": {
        "id": "Ll3imKRWQJpo"
      },
      "execution_count": null,
      "outputs": []
    },
    {
      "cell_type": "code",
      "source": [
        "df_setosa_describe"
      ],
      "metadata": {
        "colab": {
          "base_uri": "https://localhost:8080/",
          "height": 300
        },
        "id": "67aP4H5LQwIu",
        "outputId": "281373af-bfb2-46c9-fecb-0f2afe74307f"
      },
      "execution_count": null,
      "outputs": [
        {
          "output_type": "execute_result",
          "data": {
            "text/plain": [
              "             Id  SepalLengthCm  SepalWidthCm  PetalLengthCm  PetalWidthCm\n",
              "count  50.00000       50.00000     50.000000      50.000000      50.00000\n",
              "mean   25.50000        5.00600      3.418000       1.464000       0.24400\n",
              "std    14.57738        0.35249      0.381024       0.173511       0.10721\n",
              "min     1.00000        4.30000      2.300000       1.000000       0.10000\n",
              "25%    13.25000        4.80000      3.125000       1.400000       0.20000\n",
              "50%    25.50000        5.00000      3.400000       1.500000       0.20000\n",
              "75%    37.75000        5.20000      3.675000       1.575000       0.30000\n",
              "max    50.00000        5.80000      4.400000       1.900000       0.60000"
            ],
            "text/html": [
              "\n",
              "  <div id=\"df-acd2fb34-fc85-400e-b8fa-93e9df478b82\">\n",
              "    <div class=\"colab-df-container\">\n",
              "      <div>\n",
              "<style scoped>\n",
              "    .dataframe tbody tr th:only-of-type {\n",
              "        vertical-align: middle;\n",
              "    }\n",
              "\n",
              "    .dataframe tbody tr th {\n",
              "        vertical-align: top;\n",
              "    }\n",
              "\n",
              "    .dataframe thead th {\n",
              "        text-align: right;\n",
              "    }\n",
              "</style>\n",
              "<table border=\"1\" class=\"dataframe\">\n",
              "  <thead>\n",
              "    <tr style=\"text-align: right;\">\n",
              "      <th></th>\n",
              "      <th>Id</th>\n",
              "      <th>SepalLengthCm</th>\n",
              "      <th>SepalWidthCm</th>\n",
              "      <th>PetalLengthCm</th>\n",
              "      <th>PetalWidthCm</th>\n",
              "    </tr>\n",
              "  </thead>\n",
              "  <tbody>\n",
              "    <tr>\n",
              "      <th>count</th>\n",
              "      <td>50.00000</td>\n",
              "      <td>50.00000</td>\n",
              "      <td>50.000000</td>\n",
              "      <td>50.000000</td>\n",
              "      <td>50.00000</td>\n",
              "    </tr>\n",
              "    <tr>\n",
              "      <th>mean</th>\n",
              "      <td>25.50000</td>\n",
              "      <td>5.00600</td>\n",
              "      <td>3.418000</td>\n",
              "      <td>1.464000</td>\n",
              "      <td>0.24400</td>\n",
              "    </tr>\n",
              "    <tr>\n",
              "      <th>std</th>\n",
              "      <td>14.57738</td>\n",
              "      <td>0.35249</td>\n",
              "      <td>0.381024</td>\n",
              "      <td>0.173511</td>\n",
              "      <td>0.10721</td>\n",
              "    </tr>\n",
              "    <tr>\n",
              "      <th>min</th>\n",
              "      <td>1.00000</td>\n",
              "      <td>4.30000</td>\n",
              "      <td>2.300000</td>\n",
              "      <td>1.000000</td>\n",
              "      <td>0.10000</td>\n",
              "    </tr>\n",
              "    <tr>\n",
              "      <th>25%</th>\n",
              "      <td>13.25000</td>\n",
              "      <td>4.80000</td>\n",
              "      <td>3.125000</td>\n",
              "      <td>1.400000</td>\n",
              "      <td>0.20000</td>\n",
              "    </tr>\n",
              "    <tr>\n",
              "      <th>50%</th>\n",
              "      <td>25.50000</td>\n",
              "      <td>5.00000</td>\n",
              "      <td>3.400000</td>\n",
              "      <td>1.500000</td>\n",
              "      <td>0.20000</td>\n",
              "    </tr>\n",
              "    <tr>\n",
              "      <th>75%</th>\n",
              "      <td>37.75000</td>\n",
              "      <td>5.20000</td>\n",
              "      <td>3.675000</td>\n",
              "      <td>1.575000</td>\n",
              "      <td>0.30000</td>\n",
              "    </tr>\n",
              "    <tr>\n",
              "      <th>max</th>\n",
              "      <td>50.00000</td>\n",
              "      <td>5.80000</td>\n",
              "      <td>4.400000</td>\n",
              "      <td>1.900000</td>\n",
              "      <td>0.60000</td>\n",
              "    </tr>\n",
              "  </tbody>\n",
              "</table>\n",
              "</div>\n",
              "      <button class=\"colab-df-convert\" onclick=\"convertToInteractive('df-acd2fb34-fc85-400e-b8fa-93e9df478b82')\"\n",
              "              title=\"Convert this dataframe to an interactive table.\"\n",
              "              style=\"display:none;\">\n",
              "        \n",
              "  <svg xmlns=\"http://www.w3.org/2000/svg\" height=\"24px\"viewBox=\"0 0 24 24\"\n",
              "       width=\"24px\">\n",
              "    <path d=\"M0 0h24v24H0V0z\" fill=\"none\"/>\n",
              "    <path d=\"M18.56 5.44l.94 2.06.94-2.06 2.06-.94-2.06-.94-.94-2.06-.94 2.06-2.06.94zm-11 1L8.5 8.5l.94-2.06 2.06-.94-2.06-.94L8.5 2.5l-.94 2.06-2.06.94zm10 10l.94 2.06.94-2.06 2.06-.94-2.06-.94-.94-2.06-.94 2.06-2.06.94z\"/><path d=\"M17.41 7.96l-1.37-1.37c-.4-.4-.92-.59-1.43-.59-.52 0-1.04.2-1.43.59L10.3 9.45l-7.72 7.72c-.78.78-.78 2.05 0 2.83L4 21.41c.39.39.9.59 1.41.59.51 0 1.02-.2 1.41-.59l7.78-7.78 2.81-2.81c.8-.78.8-2.07 0-2.86zM5.41 20L4 18.59l7.72-7.72 1.47 1.35L5.41 20z\"/>\n",
              "  </svg>\n",
              "      </button>\n",
              "      \n",
              "  <style>\n",
              "    .colab-df-container {\n",
              "      display:flex;\n",
              "      flex-wrap:wrap;\n",
              "      gap: 12px;\n",
              "    }\n",
              "\n",
              "    .colab-df-convert {\n",
              "      background-color: #E8F0FE;\n",
              "      border: none;\n",
              "      border-radius: 50%;\n",
              "      cursor: pointer;\n",
              "      display: none;\n",
              "      fill: #1967D2;\n",
              "      height: 32px;\n",
              "      padding: 0 0 0 0;\n",
              "      width: 32px;\n",
              "    }\n",
              "\n",
              "    .colab-df-convert:hover {\n",
              "      background-color: #E2EBFA;\n",
              "      box-shadow: 0px 1px 2px rgba(60, 64, 67, 0.3), 0px 1px 3px 1px rgba(60, 64, 67, 0.15);\n",
              "      fill: #174EA6;\n",
              "    }\n",
              "\n",
              "    [theme=dark] .colab-df-convert {\n",
              "      background-color: #3B4455;\n",
              "      fill: #D2E3FC;\n",
              "    }\n",
              "\n",
              "    [theme=dark] .colab-df-convert:hover {\n",
              "      background-color: #434B5C;\n",
              "      box-shadow: 0px 1px 3px 1px rgba(0, 0, 0, 0.15);\n",
              "      filter: drop-shadow(0px 1px 2px rgba(0, 0, 0, 0.3));\n",
              "      fill: #FFFFFF;\n",
              "    }\n",
              "  </style>\n",
              "\n",
              "      <script>\n",
              "        const buttonEl =\n",
              "          document.querySelector('#df-acd2fb34-fc85-400e-b8fa-93e9df478b82 button.colab-df-convert');\n",
              "        buttonEl.style.display =\n",
              "          google.colab.kernel.accessAllowed ? 'block' : 'none';\n",
              "\n",
              "        async function convertToInteractive(key) {\n",
              "          const element = document.querySelector('#df-acd2fb34-fc85-400e-b8fa-93e9df478b82');\n",
              "          const dataTable =\n",
              "            await google.colab.kernel.invokeFunction('convertToInteractive',\n",
              "                                                     [key], {});\n",
              "          if (!dataTable) return;\n",
              "\n",
              "          const docLinkHtml = 'Like what you see? Visit the ' +\n",
              "            '<a target=\"_blank\" href=https://colab.research.google.com/notebooks/data_table.ipynb>data table notebook</a>'\n",
              "            + ' to learn more about interactive tables.';\n",
              "          element.innerHTML = '';\n",
              "          dataTable['output_type'] = 'display_data';\n",
              "          await google.colab.output.renderOutput(dataTable, element);\n",
              "          const docLink = document.createElement('div');\n",
              "          docLink.innerHTML = docLinkHtml;\n",
              "          element.appendChild(docLink);\n",
              "        }\n",
              "      </script>\n",
              "    </div>\n",
              "  </div>\n",
              "  "
            ]
          },
          "metadata": {},
          "execution_count": 97
        }
      ]
    },
    {
      "cell_type": "code",
      "source": [
        "df_setosa_describe"
      ],
      "metadata": {
        "colab": {
          "base_uri": "https://localhost:8080/",
          "height": 300
        },
        "id": "Ew4QkC4mQPHm",
        "outputId": "3b2769f6-7da8-4a39-c0b9-913f1c4270f4"
      },
      "execution_count": null,
      "outputs": [
        {
          "output_type": "execute_result",
          "data": {
            "text/plain": [
              "             Id  SepalLengthCm  SepalWidthCm  PetalLengthCm  PetalWidthCm\n",
              "count  50.00000       50.00000     50.000000      50.000000      50.00000\n",
              "mean   25.50000        5.00600      3.418000       1.464000       0.24400\n",
              "std    14.57738        0.35249      0.381024       0.173511       0.10721\n",
              "min     1.00000        4.30000      2.300000       1.000000       0.10000\n",
              "25%    13.25000        4.80000      3.125000       1.400000       0.20000\n",
              "50%    25.50000        5.00000      3.400000       1.500000       0.20000\n",
              "75%    37.75000        5.20000      3.675000       1.575000       0.30000\n",
              "max    50.00000        5.80000      4.400000       1.900000       0.60000"
            ],
            "text/html": [
              "\n",
              "  <div id=\"df-0314a660-4d70-4b9f-b167-98871b07373d\">\n",
              "    <div class=\"colab-df-container\">\n",
              "      <div>\n",
              "<style scoped>\n",
              "    .dataframe tbody tr th:only-of-type {\n",
              "        vertical-align: middle;\n",
              "    }\n",
              "\n",
              "    .dataframe tbody tr th {\n",
              "        vertical-align: top;\n",
              "    }\n",
              "\n",
              "    .dataframe thead th {\n",
              "        text-align: right;\n",
              "    }\n",
              "</style>\n",
              "<table border=\"1\" class=\"dataframe\">\n",
              "  <thead>\n",
              "    <tr style=\"text-align: right;\">\n",
              "      <th></th>\n",
              "      <th>Id</th>\n",
              "      <th>SepalLengthCm</th>\n",
              "      <th>SepalWidthCm</th>\n",
              "      <th>PetalLengthCm</th>\n",
              "      <th>PetalWidthCm</th>\n",
              "    </tr>\n",
              "  </thead>\n",
              "  <tbody>\n",
              "    <tr>\n",
              "      <th>count</th>\n",
              "      <td>50.00000</td>\n",
              "      <td>50.00000</td>\n",
              "      <td>50.000000</td>\n",
              "      <td>50.000000</td>\n",
              "      <td>50.00000</td>\n",
              "    </tr>\n",
              "    <tr>\n",
              "      <th>mean</th>\n",
              "      <td>25.50000</td>\n",
              "      <td>5.00600</td>\n",
              "      <td>3.418000</td>\n",
              "      <td>1.464000</td>\n",
              "      <td>0.24400</td>\n",
              "    </tr>\n",
              "    <tr>\n",
              "      <th>std</th>\n",
              "      <td>14.57738</td>\n",
              "      <td>0.35249</td>\n",
              "      <td>0.381024</td>\n",
              "      <td>0.173511</td>\n",
              "      <td>0.10721</td>\n",
              "    </tr>\n",
              "    <tr>\n",
              "      <th>min</th>\n",
              "      <td>1.00000</td>\n",
              "      <td>4.30000</td>\n",
              "      <td>2.300000</td>\n",
              "      <td>1.000000</td>\n",
              "      <td>0.10000</td>\n",
              "    </tr>\n",
              "    <tr>\n",
              "      <th>25%</th>\n",
              "      <td>13.25000</td>\n",
              "      <td>4.80000</td>\n",
              "      <td>3.125000</td>\n",
              "      <td>1.400000</td>\n",
              "      <td>0.20000</td>\n",
              "    </tr>\n",
              "    <tr>\n",
              "      <th>50%</th>\n",
              "      <td>25.50000</td>\n",
              "      <td>5.00000</td>\n",
              "      <td>3.400000</td>\n",
              "      <td>1.500000</td>\n",
              "      <td>0.20000</td>\n",
              "    </tr>\n",
              "    <tr>\n",
              "      <th>75%</th>\n",
              "      <td>37.75000</td>\n",
              "      <td>5.20000</td>\n",
              "      <td>3.675000</td>\n",
              "      <td>1.575000</td>\n",
              "      <td>0.30000</td>\n",
              "    </tr>\n",
              "    <tr>\n",
              "      <th>max</th>\n",
              "      <td>50.00000</td>\n",
              "      <td>5.80000</td>\n",
              "      <td>4.400000</td>\n",
              "      <td>1.900000</td>\n",
              "      <td>0.60000</td>\n",
              "    </tr>\n",
              "  </tbody>\n",
              "</table>\n",
              "</div>\n",
              "      <button class=\"colab-df-convert\" onclick=\"convertToInteractive('df-0314a660-4d70-4b9f-b167-98871b07373d')\"\n",
              "              title=\"Convert this dataframe to an interactive table.\"\n",
              "              style=\"display:none;\">\n",
              "        \n",
              "  <svg xmlns=\"http://www.w3.org/2000/svg\" height=\"24px\"viewBox=\"0 0 24 24\"\n",
              "       width=\"24px\">\n",
              "    <path d=\"M0 0h24v24H0V0z\" fill=\"none\"/>\n",
              "    <path d=\"M18.56 5.44l.94 2.06.94-2.06 2.06-.94-2.06-.94-.94-2.06-.94 2.06-2.06.94zm-11 1L8.5 8.5l.94-2.06 2.06-.94-2.06-.94L8.5 2.5l-.94 2.06-2.06.94zm10 10l.94 2.06.94-2.06 2.06-.94-2.06-.94-.94-2.06-.94 2.06-2.06.94z\"/><path d=\"M17.41 7.96l-1.37-1.37c-.4-.4-.92-.59-1.43-.59-.52 0-1.04.2-1.43.59L10.3 9.45l-7.72 7.72c-.78.78-.78 2.05 0 2.83L4 21.41c.39.39.9.59 1.41.59.51 0 1.02-.2 1.41-.59l7.78-7.78 2.81-2.81c.8-.78.8-2.07 0-2.86zM5.41 20L4 18.59l7.72-7.72 1.47 1.35L5.41 20z\"/>\n",
              "  </svg>\n",
              "      </button>\n",
              "      \n",
              "  <style>\n",
              "    .colab-df-container {\n",
              "      display:flex;\n",
              "      flex-wrap:wrap;\n",
              "      gap: 12px;\n",
              "    }\n",
              "\n",
              "    .colab-df-convert {\n",
              "      background-color: #E8F0FE;\n",
              "      border: none;\n",
              "      border-radius: 50%;\n",
              "      cursor: pointer;\n",
              "      display: none;\n",
              "      fill: #1967D2;\n",
              "      height: 32px;\n",
              "      padding: 0 0 0 0;\n",
              "      width: 32px;\n",
              "    }\n",
              "\n",
              "    .colab-df-convert:hover {\n",
              "      background-color: #E2EBFA;\n",
              "      box-shadow: 0px 1px 2px rgba(60, 64, 67, 0.3), 0px 1px 3px 1px rgba(60, 64, 67, 0.15);\n",
              "      fill: #174EA6;\n",
              "    }\n",
              "\n",
              "    [theme=dark] .colab-df-convert {\n",
              "      background-color: #3B4455;\n",
              "      fill: #D2E3FC;\n",
              "    }\n",
              "\n",
              "    [theme=dark] .colab-df-convert:hover {\n",
              "      background-color: #434B5C;\n",
              "      box-shadow: 0px 1px 3px 1px rgba(0, 0, 0, 0.15);\n",
              "      filter: drop-shadow(0px 1px 2px rgba(0, 0, 0, 0.3));\n",
              "      fill: #FFFFFF;\n",
              "    }\n",
              "  </style>\n",
              "\n",
              "      <script>\n",
              "        const buttonEl =\n",
              "          document.querySelector('#df-0314a660-4d70-4b9f-b167-98871b07373d button.colab-df-convert');\n",
              "        buttonEl.style.display =\n",
              "          google.colab.kernel.accessAllowed ? 'block' : 'none';\n",
              "\n",
              "        async function convertToInteractive(key) {\n",
              "          const element = document.querySelector('#df-0314a660-4d70-4b9f-b167-98871b07373d');\n",
              "          const dataTable =\n",
              "            await google.colab.kernel.invokeFunction('convertToInteractive',\n",
              "                                                     [key], {});\n",
              "          if (!dataTable) return;\n",
              "\n",
              "          const docLinkHtml = 'Like what you see? Visit the ' +\n",
              "            '<a target=\"_blank\" href=https://colab.research.google.com/notebooks/data_table.ipynb>data table notebook</a>'\n",
              "            + ' to learn more about interactive tables.';\n",
              "          element.innerHTML = '';\n",
              "          dataTable['output_type'] = 'display_data';\n",
              "          await google.colab.output.renderOutput(dataTable, element);\n",
              "          const docLink = document.createElement('div');\n",
              "          docLink.innerHTML = docLinkHtml;\n",
              "          element.appendChild(docLink);\n",
              "        }\n",
              "      </script>\n",
              "    </div>\n",
              "  </div>\n",
              "  "
            ]
          },
          "metadata": {},
          "execution_count": 98
        }
      ]
    },
    {
      "cell_type": "code",
      "source": [
        "dataset = pd.DataFrame()"
      ],
      "metadata": {
        "id": "zusb8eI5QfpX"
      },
      "execution_count": null,
      "outputs": []
    },
    {
      "cell_type": "code",
      "source": [
        "dataset[\"df_setosa\"] = df_setosa_describe[\"SepalLengthCm\"]\n",
        "dataset[\"df_versicolor\"] = df_versicolor_describe[\"SepalLengthCm\"]\n",
        "dataset[\"df_virginica\"] = df_virginica_describe[\"SepalLengthCm\"]"
      ],
      "metadata": {
        "id": "PIu5OW_GRsb1"
      },
      "execution_count": null,
      "outputs": []
    },
    {
      "cell_type": "code",
      "source": [
        "dataset"
      ],
      "metadata": {
        "colab": {
          "base_uri": "https://localhost:8080/",
          "height": 300
        },
        "id": "NIYfgIpFSEm8",
        "outputId": "8a970a21-b411-48a5-9d9c-a02ff0010bd1"
      },
      "execution_count": null,
      "outputs": [
        {
          "output_type": "execute_result",
          "data": {
            "text/plain": [
              "       df_setosa  df_versicolor  df_virginica\n",
              "count   50.00000      50.000000      50.00000\n",
              "mean     5.00600       5.936000       6.58800\n",
              "std      0.35249       0.516171       0.63588\n",
              "min      4.30000       4.900000       4.90000\n",
              "25%      4.80000       5.600000       6.22500\n",
              "50%      5.00000       5.900000       6.50000\n",
              "75%      5.20000       6.300000       6.90000\n",
              "max      5.80000       7.000000       7.90000"
            ],
            "text/html": [
              "\n",
              "  <div id=\"df-ac3b9835-abe4-4955-a5fe-be5fa1d488d6\">\n",
              "    <div class=\"colab-df-container\">\n",
              "      <div>\n",
              "<style scoped>\n",
              "    .dataframe tbody tr th:only-of-type {\n",
              "        vertical-align: middle;\n",
              "    }\n",
              "\n",
              "    .dataframe tbody tr th {\n",
              "        vertical-align: top;\n",
              "    }\n",
              "\n",
              "    .dataframe thead th {\n",
              "        text-align: right;\n",
              "    }\n",
              "</style>\n",
              "<table border=\"1\" class=\"dataframe\">\n",
              "  <thead>\n",
              "    <tr style=\"text-align: right;\">\n",
              "      <th></th>\n",
              "      <th>df_setosa</th>\n",
              "      <th>df_versicolor</th>\n",
              "      <th>df_virginica</th>\n",
              "    </tr>\n",
              "  </thead>\n",
              "  <tbody>\n",
              "    <tr>\n",
              "      <th>count</th>\n",
              "      <td>50.00000</td>\n",
              "      <td>50.000000</td>\n",
              "      <td>50.00000</td>\n",
              "    </tr>\n",
              "    <tr>\n",
              "      <th>mean</th>\n",
              "      <td>5.00600</td>\n",
              "      <td>5.936000</td>\n",
              "      <td>6.58800</td>\n",
              "    </tr>\n",
              "    <tr>\n",
              "      <th>std</th>\n",
              "      <td>0.35249</td>\n",
              "      <td>0.516171</td>\n",
              "      <td>0.63588</td>\n",
              "    </tr>\n",
              "    <tr>\n",
              "      <th>min</th>\n",
              "      <td>4.30000</td>\n",
              "      <td>4.900000</td>\n",
              "      <td>4.90000</td>\n",
              "    </tr>\n",
              "    <tr>\n",
              "      <th>25%</th>\n",
              "      <td>4.80000</td>\n",
              "      <td>5.600000</td>\n",
              "      <td>6.22500</td>\n",
              "    </tr>\n",
              "    <tr>\n",
              "      <th>50%</th>\n",
              "      <td>5.00000</td>\n",
              "      <td>5.900000</td>\n",
              "      <td>6.50000</td>\n",
              "    </tr>\n",
              "    <tr>\n",
              "      <th>75%</th>\n",
              "      <td>5.20000</td>\n",
              "      <td>6.300000</td>\n",
              "      <td>6.90000</td>\n",
              "    </tr>\n",
              "    <tr>\n",
              "      <th>max</th>\n",
              "      <td>5.80000</td>\n",
              "      <td>7.000000</td>\n",
              "      <td>7.90000</td>\n",
              "    </tr>\n",
              "  </tbody>\n",
              "</table>\n",
              "</div>\n",
              "      <button class=\"colab-df-convert\" onclick=\"convertToInteractive('df-ac3b9835-abe4-4955-a5fe-be5fa1d488d6')\"\n",
              "              title=\"Convert this dataframe to an interactive table.\"\n",
              "              style=\"display:none;\">\n",
              "        \n",
              "  <svg xmlns=\"http://www.w3.org/2000/svg\" height=\"24px\"viewBox=\"0 0 24 24\"\n",
              "       width=\"24px\">\n",
              "    <path d=\"M0 0h24v24H0V0z\" fill=\"none\"/>\n",
              "    <path d=\"M18.56 5.44l.94 2.06.94-2.06 2.06-.94-2.06-.94-.94-2.06-.94 2.06-2.06.94zm-11 1L8.5 8.5l.94-2.06 2.06-.94-2.06-.94L8.5 2.5l-.94 2.06-2.06.94zm10 10l.94 2.06.94-2.06 2.06-.94-2.06-.94-.94-2.06-.94 2.06-2.06.94z\"/><path d=\"M17.41 7.96l-1.37-1.37c-.4-.4-.92-.59-1.43-.59-.52 0-1.04.2-1.43.59L10.3 9.45l-7.72 7.72c-.78.78-.78 2.05 0 2.83L4 21.41c.39.39.9.59 1.41.59.51 0 1.02-.2 1.41-.59l7.78-7.78 2.81-2.81c.8-.78.8-2.07 0-2.86zM5.41 20L4 18.59l7.72-7.72 1.47 1.35L5.41 20z\"/>\n",
              "  </svg>\n",
              "      </button>\n",
              "      \n",
              "  <style>\n",
              "    .colab-df-container {\n",
              "      display:flex;\n",
              "      flex-wrap:wrap;\n",
              "      gap: 12px;\n",
              "    }\n",
              "\n",
              "    .colab-df-convert {\n",
              "      background-color: #E8F0FE;\n",
              "      border: none;\n",
              "      border-radius: 50%;\n",
              "      cursor: pointer;\n",
              "      display: none;\n",
              "      fill: #1967D2;\n",
              "      height: 32px;\n",
              "      padding: 0 0 0 0;\n",
              "      width: 32px;\n",
              "    }\n",
              "\n",
              "    .colab-df-convert:hover {\n",
              "      background-color: #E2EBFA;\n",
              "      box-shadow: 0px 1px 2px rgba(60, 64, 67, 0.3), 0px 1px 3px 1px rgba(60, 64, 67, 0.15);\n",
              "      fill: #174EA6;\n",
              "    }\n",
              "\n",
              "    [theme=dark] .colab-df-convert {\n",
              "      background-color: #3B4455;\n",
              "      fill: #D2E3FC;\n",
              "    }\n",
              "\n",
              "    [theme=dark] .colab-df-convert:hover {\n",
              "      background-color: #434B5C;\n",
              "      box-shadow: 0px 1px 3px 1px rgba(0, 0, 0, 0.15);\n",
              "      filter: drop-shadow(0px 1px 2px rgba(0, 0, 0, 0.3));\n",
              "      fill: #FFFFFF;\n",
              "    }\n",
              "  </style>\n",
              "\n",
              "      <script>\n",
              "        const buttonEl =\n",
              "          document.querySelector('#df-ac3b9835-abe4-4955-a5fe-be5fa1d488d6 button.colab-df-convert');\n",
              "        buttonEl.style.display =\n",
              "          google.colab.kernel.accessAllowed ? 'block' : 'none';\n",
              "\n",
              "        async function convertToInteractive(key) {\n",
              "          const element = document.querySelector('#df-ac3b9835-abe4-4955-a5fe-be5fa1d488d6');\n",
              "          const dataTable =\n",
              "            await google.colab.kernel.invokeFunction('convertToInteractive',\n",
              "                                                     [key], {});\n",
              "          if (!dataTable) return;\n",
              "\n",
              "          const docLinkHtml = 'Like what you see? Visit the ' +\n",
              "            '<a target=\"_blank\" href=https://colab.research.google.com/notebooks/data_table.ipynb>data table notebook</a>'\n",
              "            + ' to learn more about interactive tables.';\n",
              "          element.innerHTML = '';\n",
              "          dataTable['output_type'] = 'display_data';\n",
              "          await google.colab.output.renderOutput(dataTable, element);\n",
              "          const docLink = document.createElement('div');\n",
              "          docLink.innerHTML = docLinkHtml;\n",
              "          element.appendChild(docLink);\n",
              "        }\n",
              "      </script>\n",
              "    </div>\n",
              "  </div>\n",
              "  "
            ]
          },
          "metadata": {},
          "execution_count": 101
        }
      ]
    },
    {
      "cell_type": "markdown",
      "source": [
        "Assignment 4"
      ],
      "metadata": {
        "id": "0tFKF0wuSyO1"
      }
    },
    {
      "cell_type": "code",
      "source": [
        "import numpy as np\n",
        "import pandas as pd"
      ],
      "metadata": {
        "id": "UTCAOU6dSc-E"
      },
      "execution_count": null,
      "outputs": []
    },
    {
      "cell_type": "code",
      "source": [
        "column_names = ['CRIM', 'ZN', 'INDUS', 'CHAS', 'NOX', 'RM', 'AGE', 'DIS', 'RAD', 'TAX', 'PTRATIO', 'B', 'LSTAT', 'MEDV']"
      ],
      "metadata": {
        "id": "SQTbMQvlWgD2"
      },
      "execution_count": null,
      "outputs": []
    },
    {
      "cell_type": "code",
      "source": [
        "df = pd.read_csv(\"/content/housing.csv\", delimiter=r\"\\s+\", names=column_names)"
      ],
      "metadata": {
        "id": "ggFjr_9wWlE0"
      },
      "execution_count": null,
      "outputs": []
    },
    {
      "cell_type": "code",
      "source": [
        "df"
      ],
      "metadata": {
        "colab": {
          "base_uri": "https://localhost:8080/",
          "height": 424
        },
        "id": "6b4fRORsWz2n",
        "outputId": "2bc764ef-9e8d-4d4f-aebb-5d2199c140b4"
      },
      "execution_count": null,
      "outputs": [
        {
          "output_type": "execute_result",
          "data": {
            "text/plain": [
              "        CRIM    ZN  INDUS  CHAS    NOX     RM   AGE     DIS  RAD    TAX  \\\n",
              "0    0.00632  18.0   2.31     0  0.538  6.575  65.2  4.0900    1  296.0   \n",
              "1    0.02731   0.0   7.07     0  0.469  6.421  78.9  4.9671    2  242.0   \n",
              "2    0.02729   0.0   7.07     0  0.469  7.185  61.1  4.9671    2  242.0   \n",
              "3    0.03237   0.0   2.18     0  0.458  6.998  45.8  6.0622    3  222.0   \n",
              "4    0.06905   0.0   2.18     0  0.458  7.147  54.2  6.0622    3  222.0   \n",
              "..       ...   ...    ...   ...    ...    ...   ...     ...  ...    ...   \n",
              "501  0.06263   0.0  11.93     0  0.573  6.593  69.1  2.4786    1  273.0   \n",
              "502  0.04527   0.0  11.93     0  0.573  6.120  76.7  2.2875    1  273.0   \n",
              "503  0.06076   0.0  11.93     0  0.573  6.976  91.0  2.1675    1  273.0   \n",
              "504  0.10959   0.0  11.93     0  0.573  6.794  89.3  2.3889    1  273.0   \n",
              "505  0.04741   0.0  11.93     0  0.573  6.030  80.8  2.5050    1  273.0   \n",
              "\n",
              "     PTRATIO       B  LSTAT  MEDV  \n",
              "0       15.3  396.90   4.98  24.0  \n",
              "1       17.8  396.90   9.14  21.6  \n",
              "2       17.8  392.83   4.03  34.7  \n",
              "3       18.7  394.63   2.94  33.4  \n",
              "4       18.7  396.90   5.33  36.2  \n",
              "..       ...     ...    ...   ...  \n",
              "501     21.0  391.99   9.67  22.4  \n",
              "502     21.0  396.90   9.08  20.6  \n",
              "503     21.0  396.90   5.64  23.9  \n",
              "504     21.0  393.45   6.48  22.0  \n",
              "505     21.0  396.90   7.88  11.9  \n",
              "\n",
              "[506 rows x 14 columns]"
            ],
            "text/html": [
              "\n",
              "  <div id=\"df-5efd8621-dd8c-4d79-8264-71cf59e8d361\">\n",
              "    <div class=\"colab-df-container\">\n",
              "      <div>\n",
              "<style scoped>\n",
              "    .dataframe tbody tr th:only-of-type {\n",
              "        vertical-align: middle;\n",
              "    }\n",
              "\n",
              "    .dataframe tbody tr th {\n",
              "        vertical-align: top;\n",
              "    }\n",
              "\n",
              "    .dataframe thead th {\n",
              "        text-align: right;\n",
              "    }\n",
              "</style>\n",
              "<table border=\"1\" class=\"dataframe\">\n",
              "  <thead>\n",
              "    <tr style=\"text-align: right;\">\n",
              "      <th></th>\n",
              "      <th>CRIM</th>\n",
              "      <th>ZN</th>\n",
              "      <th>INDUS</th>\n",
              "      <th>CHAS</th>\n",
              "      <th>NOX</th>\n",
              "      <th>RM</th>\n",
              "      <th>AGE</th>\n",
              "      <th>DIS</th>\n",
              "      <th>RAD</th>\n",
              "      <th>TAX</th>\n",
              "      <th>PTRATIO</th>\n",
              "      <th>B</th>\n",
              "      <th>LSTAT</th>\n",
              "      <th>MEDV</th>\n",
              "    </tr>\n",
              "  </thead>\n",
              "  <tbody>\n",
              "    <tr>\n",
              "      <th>0</th>\n",
              "      <td>0.00632</td>\n",
              "      <td>18.0</td>\n",
              "      <td>2.31</td>\n",
              "      <td>0</td>\n",
              "      <td>0.538</td>\n",
              "      <td>6.575</td>\n",
              "      <td>65.2</td>\n",
              "      <td>4.0900</td>\n",
              "      <td>1</td>\n",
              "      <td>296.0</td>\n",
              "      <td>15.3</td>\n",
              "      <td>396.90</td>\n",
              "      <td>4.98</td>\n",
              "      <td>24.0</td>\n",
              "    </tr>\n",
              "    <tr>\n",
              "      <th>1</th>\n",
              "      <td>0.02731</td>\n",
              "      <td>0.0</td>\n",
              "      <td>7.07</td>\n",
              "      <td>0</td>\n",
              "      <td>0.469</td>\n",
              "      <td>6.421</td>\n",
              "      <td>78.9</td>\n",
              "      <td>4.9671</td>\n",
              "      <td>2</td>\n",
              "      <td>242.0</td>\n",
              "      <td>17.8</td>\n",
              "      <td>396.90</td>\n",
              "      <td>9.14</td>\n",
              "      <td>21.6</td>\n",
              "    </tr>\n",
              "    <tr>\n",
              "      <th>2</th>\n",
              "      <td>0.02729</td>\n",
              "      <td>0.0</td>\n",
              "      <td>7.07</td>\n",
              "      <td>0</td>\n",
              "      <td>0.469</td>\n",
              "      <td>7.185</td>\n",
              "      <td>61.1</td>\n",
              "      <td>4.9671</td>\n",
              "      <td>2</td>\n",
              "      <td>242.0</td>\n",
              "      <td>17.8</td>\n",
              "      <td>392.83</td>\n",
              "      <td>4.03</td>\n",
              "      <td>34.7</td>\n",
              "    </tr>\n",
              "    <tr>\n",
              "      <th>3</th>\n",
              "      <td>0.03237</td>\n",
              "      <td>0.0</td>\n",
              "      <td>2.18</td>\n",
              "      <td>0</td>\n",
              "      <td>0.458</td>\n",
              "      <td>6.998</td>\n",
              "      <td>45.8</td>\n",
              "      <td>6.0622</td>\n",
              "      <td>3</td>\n",
              "      <td>222.0</td>\n",
              "      <td>18.7</td>\n",
              "      <td>394.63</td>\n",
              "      <td>2.94</td>\n",
              "      <td>33.4</td>\n",
              "    </tr>\n",
              "    <tr>\n",
              "      <th>4</th>\n",
              "      <td>0.06905</td>\n",
              "      <td>0.0</td>\n",
              "      <td>2.18</td>\n",
              "      <td>0</td>\n",
              "      <td>0.458</td>\n",
              "      <td>7.147</td>\n",
              "      <td>54.2</td>\n",
              "      <td>6.0622</td>\n",
              "      <td>3</td>\n",
              "      <td>222.0</td>\n",
              "      <td>18.7</td>\n",
              "      <td>396.90</td>\n",
              "      <td>5.33</td>\n",
              "      <td>36.2</td>\n",
              "    </tr>\n",
              "    <tr>\n",
              "      <th>...</th>\n",
              "      <td>...</td>\n",
              "      <td>...</td>\n",
              "      <td>...</td>\n",
              "      <td>...</td>\n",
              "      <td>...</td>\n",
              "      <td>...</td>\n",
              "      <td>...</td>\n",
              "      <td>...</td>\n",
              "      <td>...</td>\n",
              "      <td>...</td>\n",
              "      <td>...</td>\n",
              "      <td>...</td>\n",
              "      <td>...</td>\n",
              "      <td>...</td>\n",
              "    </tr>\n",
              "    <tr>\n",
              "      <th>501</th>\n",
              "      <td>0.06263</td>\n",
              "      <td>0.0</td>\n",
              "      <td>11.93</td>\n",
              "      <td>0</td>\n",
              "      <td>0.573</td>\n",
              "      <td>6.593</td>\n",
              "      <td>69.1</td>\n",
              "      <td>2.4786</td>\n",
              "      <td>1</td>\n",
              "      <td>273.0</td>\n",
              "      <td>21.0</td>\n",
              "      <td>391.99</td>\n",
              "      <td>9.67</td>\n",
              "      <td>22.4</td>\n",
              "    </tr>\n",
              "    <tr>\n",
              "      <th>502</th>\n",
              "      <td>0.04527</td>\n",
              "      <td>0.0</td>\n",
              "      <td>11.93</td>\n",
              "      <td>0</td>\n",
              "      <td>0.573</td>\n",
              "      <td>6.120</td>\n",
              "      <td>76.7</td>\n",
              "      <td>2.2875</td>\n",
              "      <td>1</td>\n",
              "      <td>273.0</td>\n",
              "      <td>21.0</td>\n",
              "      <td>396.90</td>\n",
              "      <td>9.08</td>\n",
              "      <td>20.6</td>\n",
              "    </tr>\n",
              "    <tr>\n",
              "      <th>503</th>\n",
              "      <td>0.06076</td>\n",
              "      <td>0.0</td>\n",
              "      <td>11.93</td>\n",
              "      <td>0</td>\n",
              "      <td>0.573</td>\n",
              "      <td>6.976</td>\n",
              "      <td>91.0</td>\n",
              "      <td>2.1675</td>\n",
              "      <td>1</td>\n",
              "      <td>273.0</td>\n",
              "      <td>21.0</td>\n",
              "      <td>396.90</td>\n",
              "      <td>5.64</td>\n",
              "      <td>23.9</td>\n",
              "    </tr>\n",
              "    <tr>\n",
              "      <th>504</th>\n",
              "      <td>0.10959</td>\n",
              "      <td>0.0</td>\n",
              "      <td>11.93</td>\n",
              "      <td>0</td>\n",
              "      <td>0.573</td>\n",
              "      <td>6.794</td>\n",
              "      <td>89.3</td>\n",
              "      <td>2.3889</td>\n",
              "      <td>1</td>\n",
              "      <td>273.0</td>\n",
              "      <td>21.0</td>\n",
              "      <td>393.45</td>\n",
              "      <td>6.48</td>\n",
              "      <td>22.0</td>\n",
              "    </tr>\n",
              "    <tr>\n",
              "      <th>505</th>\n",
              "      <td>0.04741</td>\n",
              "      <td>0.0</td>\n",
              "      <td>11.93</td>\n",
              "      <td>0</td>\n",
              "      <td>0.573</td>\n",
              "      <td>6.030</td>\n",
              "      <td>80.8</td>\n",
              "      <td>2.5050</td>\n",
              "      <td>1</td>\n",
              "      <td>273.0</td>\n",
              "      <td>21.0</td>\n",
              "      <td>396.90</td>\n",
              "      <td>7.88</td>\n",
              "      <td>11.9</td>\n",
              "    </tr>\n",
              "  </tbody>\n",
              "</table>\n",
              "<p>506 rows × 14 columns</p>\n",
              "</div>\n",
              "      <button class=\"colab-df-convert\" onclick=\"convertToInteractive('df-5efd8621-dd8c-4d79-8264-71cf59e8d361')\"\n",
              "              title=\"Convert this dataframe to an interactive table.\"\n",
              "              style=\"display:none;\">\n",
              "        \n",
              "  <svg xmlns=\"http://www.w3.org/2000/svg\" height=\"24px\"viewBox=\"0 0 24 24\"\n",
              "       width=\"24px\">\n",
              "    <path d=\"M0 0h24v24H0V0z\" fill=\"none\"/>\n",
              "    <path d=\"M18.56 5.44l.94 2.06.94-2.06 2.06-.94-2.06-.94-.94-2.06-.94 2.06-2.06.94zm-11 1L8.5 8.5l.94-2.06 2.06-.94-2.06-.94L8.5 2.5l-.94 2.06-2.06.94zm10 10l.94 2.06.94-2.06 2.06-.94-2.06-.94-.94-2.06-.94 2.06-2.06.94z\"/><path d=\"M17.41 7.96l-1.37-1.37c-.4-.4-.92-.59-1.43-.59-.52 0-1.04.2-1.43.59L10.3 9.45l-7.72 7.72c-.78.78-.78 2.05 0 2.83L4 21.41c.39.39.9.59 1.41.59.51 0 1.02-.2 1.41-.59l7.78-7.78 2.81-2.81c.8-.78.8-2.07 0-2.86zM5.41 20L4 18.59l7.72-7.72 1.47 1.35L5.41 20z\"/>\n",
              "  </svg>\n",
              "      </button>\n",
              "      \n",
              "  <style>\n",
              "    .colab-df-container {\n",
              "      display:flex;\n",
              "      flex-wrap:wrap;\n",
              "      gap: 12px;\n",
              "    }\n",
              "\n",
              "    .colab-df-convert {\n",
              "      background-color: #E8F0FE;\n",
              "      border: none;\n",
              "      border-radius: 50%;\n",
              "      cursor: pointer;\n",
              "      display: none;\n",
              "      fill: #1967D2;\n",
              "      height: 32px;\n",
              "      padding: 0 0 0 0;\n",
              "      width: 32px;\n",
              "    }\n",
              "\n",
              "    .colab-df-convert:hover {\n",
              "      background-color: #E2EBFA;\n",
              "      box-shadow: 0px 1px 2px rgba(60, 64, 67, 0.3), 0px 1px 3px 1px rgba(60, 64, 67, 0.15);\n",
              "      fill: #174EA6;\n",
              "    }\n",
              "\n",
              "    [theme=dark] .colab-df-convert {\n",
              "      background-color: #3B4455;\n",
              "      fill: #D2E3FC;\n",
              "    }\n",
              "\n",
              "    [theme=dark] .colab-df-convert:hover {\n",
              "      background-color: #434B5C;\n",
              "      box-shadow: 0px 1px 3px 1px rgba(0, 0, 0, 0.15);\n",
              "      filter: drop-shadow(0px 1px 2px rgba(0, 0, 0, 0.3));\n",
              "      fill: #FFFFFF;\n",
              "    }\n",
              "  </style>\n",
              "\n",
              "      <script>\n",
              "        const buttonEl =\n",
              "          document.querySelector('#df-5efd8621-dd8c-4d79-8264-71cf59e8d361 button.colab-df-convert');\n",
              "        buttonEl.style.display =\n",
              "          google.colab.kernel.accessAllowed ? 'block' : 'none';\n",
              "\n",
              "        async function convertToInteractive(key) {\n",
              "          const element = document.querySelector('#df-5efd8621-dd8c-4d79-8264-71cf59e8d361');\n",
              "          const dataTable =\n",
              "            await google.colab.kernel.invokeFunction('convertToInteractive',\n",
              "                                                     [key], {});\n",
              "          if (!dataTable) return;\n",
              "\n",
              "          const docLinkHtml = 'Like what you see? Visit the ' +\n",
              "            '<a target=\"_blank\" href=https://colab.research.google.com/notebooks/data_table.ipynb>data table notebook</a>'\n",
              "            + ' to learn more about interactive tables.';\n",
              "          element.innerHTML = '';\n",
              "          dataTable['output_type'] = 'display_data';\n",
              "          await google.colab.output.renderOutput(dataTable, element);\n",
              "          const docLink = document.createElement('div');\n",
              "          docLink.innerHTML = docLinkHtml;\n",
              "          element.appendChild(docLink);\n",
              "        }\n",
              "      </script>\n",
              "    </div>\n",
              "  </div>\n",
              "  "
            ]
          },
          "metadata": {},
          "execution_count": 105
        }
      ]
    },
    {
      "cell_type": "code",
      "source": [
        "df.isnull().sum()"
      ],
      "metadata": {
        "colab": {
          "base_uri": "https://localhost:8080/"
        },
        "id": "-5RPOL1_W05o",
        "outputId": "b3302cf8-c131-44e1-8b15-0987aa83b86f"
      },
      "execution_count": null,
      "outputs": [
        {
          "output_type": "execute_result",
          "data": {
            "text/plain": [
              "CRIM       0\n",
              "ZN         0\n",
              "INDUS      0\n",
              "CHAS       0\n",
              "NOX        0\n",
              "RM         0\n",
              "AGE        0\n",
              "DIS        0\n",
              "RAD        0\n",
              "TAX        0\n",
              "PTRATIO    0\n",
              "B          0\n",
              "LSTAT      0\n",
              "MEDV       0\n",
              "dtype: int64"
            ]
          },
          "metadata": {},
          "execution_count": 106
        }
      ]
    },
    {
      "cell_type": "code",
      "source": [
        "df.dtypes"
      ],
      "metadata": {
        "colab": {
          "base_uri": "https://localhost:8080/"
        },
        "id": "6C2UosA3XfBH",
        "outputId": "75c5d83b-5f86-459e-beae-f46e8526a5bf"
      },
      "execution_count": null,
      "outputs": [
        {
          "output_type": "execute_result",
          "data": {
            "text/plain": [
              "CRIM       float64\n",
              "ZN         float64\n",
              "INDUS      float64\n",
              "CHAS         int64\n",
              "NOX        float64\n",
              "RM         float64\n",
              "AGE        float64\n",
              "DIS        float64\n",
              "RAD          int64\n",
              "TAX        float64\n",
              "PTRATIO    float64\n",
              "B          float64\n",
              "LSTAT      float64\n",
              "MEDV       float64\n",
              "dtype: object"
            ]
          },
          "metadata": {},
          "execution_count": 107
        }
      ]
    },
    {
      "cell_type": "code",
      "source": [
        "from sklearn.preprocessing import StandardScaler\n",
        "scaler = StandardScaler()\n",
        "df[df.columns]= scaler.fit_transform(df[df.columns])"
      ],
      "metadata": {
        "id": "Pvs1E5znXjte"
      },
      "execution_count": null,
      "outputs": []
    },
    {
      "cell_type": "code",
      "source": [
        "y = df['MEDV']\n",
        "x = df.drop('MEDV', axis=1)"
      ],
      "metadata": {
        "id": "QiHx7ojfYJsj"
      },
      "execution_count": null,
      "outputs": []
    },
    {
      "cell_type": "code",
      "source": [
        "from sklearn.model_selection import train_test_split\n",
        "x_train,x_test,y_train,y_test = train_test_split(x, y, test_size=0.20, random_state=42)"
      ],
      "metadata": {
        "id": "CPtLojsVaO__"
      },
      "execution_count": null,
      "outputs": []
    },
    {
      "cell_type": "code",
      "source": [
        "from sklearn.linear_model import LinearRegression\n",
        "lr = LinearRegression()\n",
        "model = lr.fit(x_train, y_train)"
      ],
      "metadata": {
        "id": "39rwOMWTbDH0"
      },
      "execution_count": null,
      "outputs": []
    },
    {
      "cell_type": "code",
      "source": [
        "y_pred = model.predict(x_test)"
      ],
      "metadata": {
        "id": "zDr8SWP2bKJu"
      },
      "execution_count": null,
      "outputs": []
    },
    {
      "cell_type": "code",
      "source": [
        "x = np.abs(y_pred-y_test)\n",
        "x = (x.sum())/x.shape[0]\n",
        "print(x)"
      ],
      "metadata": {
        "colab": {
          "base_uri": "https://localhost:8080/"
        },
        "id": "3MbJIC7GbkAs",
        "outputId": "b58f3202-6899-4f48-a579-078f2497cf72"
      },
      "execution_count": null,
      "outputs": [
        {
          "output_type": "stream",
          "name": "stdout",
          "text": [
            "0.34709272514211736\n"
          ]
        }
      ]
    },
    {
      "cell_type": "markdown",
      "source": [
        "Assignment 5"
      ],
      "metadata": {
        "id": "C4EdZCubih-_"
      }
    },
    {
      "cell_type": "code",
      "source": [
        "import pandas as pd\n",
        "import numpy as np"
      ],
      "metadata": {
        "id": "1Lukfizhdpy-"
      },
      "execution_count": null,
      "outputs": []
    },
    {
      "cell_type": "code",
      "source": [
        "df = pd.read_csv(\"/content/Social_Network_Ads.csv\")"
      ],
      "metadata": {
        "id": "suyfwW2CeFI5"
      },
      "execution_count": null,
      "outputs": []
    },
    {
      "cell_type": "code",
      "source": [
        "df"
      ],
      "metadata": {
        "colab": {
          "base_uri": "https://localhost:8080/",
          "height": 424
        },
        "id": "fF3nQYyXkKfI",
        "outputId": "1e034fc6-d56d-41bd-ec5f-52a23ed2bf21"
      },
      "execution_count": null,
      "outputs": [
        {
          "output_type": "execute_result",
          "data": {
            "text/plain": [
              "      User ID  Gender  Age  EstimatedSalary  Purchased\n",
              "0    15624510    Male   19            19000          0\n",
              "1    15810944    Male   35            20000          0\n",
              "2    15668575  Female   26            43000          0\n",
              "3    15603246  Female   27            57000          0\n",
              "4    15804002    Male   19            76000          0\n",
              "..        ...     ...  ...              ...        ...\n",
              "395  15691863  Female   46            41000          1\n",
              "396  15706071    Male   51            23000          1\n",
              "397  15654296  Female   50            20000          1\n",
              "398  15755018    Male   36            33000          0\n",
              "399  15594041  Female   49            36000          1\n",
              "\n",
              "[400 rows x 5 columns]"
            ],
            "text/html": [
              "\n",
              "  <div id=\"df-8f209b92-2f79-4a72-96c8-7ad1ae3c5fe3\">\n",
              "    <div class=\"colab-df-container\">\n",
              "      <div>\n",
              "<style scoped>\n",
              "    .dataframe tbody tr th:only-of-type {\n",
              "        vertical-align: middle;\n",
              "    }\n",
              "\n",
              "    .dataframe tbody tr th {\n",
              "        vertical-align: top;\n",
              "    }\n",
              "\n",
              "    .dataframe thead th {\n",
              "        text-align: right;\n",
              "    }\n",
              "</style>\n",
              "<table border=\"1\" class=\"dataframe\">\n",
              "  <thead>\n",
              "    <tr style=\"text-align: right;\">\n",
              "      <th></th>\n",
              "      <th>User ID</th>\n",
              "      <th>Gender</th>\n",
              "      <th>Age</th>\n",
              "      <th>EstimatedSalary</th>\n",
              "      <th>Purchased</th>\n",
              "    </tr>\n",
              "  </thead>\n",
              "  <tbody>\n",
              "    <tr>\n",
              "      <th>0</th>\n",
              "      <td>15624510</td>\n",
              "      <td>Male</td>\n",
              "      <td>19</td>\n",
              "      <td>19000</td>\n",
              "      <td>0</td>\n",
              "    </tr>\n",
              "    <tr>\n",
              "      <th>1</th>\n",
              "      <td>15810944</td>\n",
              "      <td>Male</td>\n",
              "      <td>35</td>\n",
              "      <td>20000</td>\n",
              "      <td>0</td>\n",
              "    </tr>\n",
              "    <tr>\n",
              "      <th>2</th>\n",
              "      <td>15668575</td>\n",
              "      <td>Female</td>\n",
              "      <td>26</td>\n",
              "      <td>43000</td>\n",
              "      <td>0</td>\n",
              "    </tr>\n",
              "    <tr>\n",
              "      <th>3</th>\n",
              "      <td>15603246</td>\n",
              "      <td>Female</td>\n",
              "      <td>27</td>\n",
              "      <td>57000</td>\n",
              "      <td>0</td>\n",
              "    </tr>\n",
              "    <tr>\n",
              "      <th>4</th>\n",
              "      <td>15804002</td>\n",
              "      <td>Male</td>\n",
              "      <td>19</td>\n",
              "      <td>76000</td>\n",
              "      <td>0</td>\n",
              "    </tr>\n",
              "    <tr>\n",
              "      <th>...</th>\n",
              "      <td>...</td>\n",
              "      <td>...</td>\n",
              "      <td>...</td>\n",
              "      <td>...</td>\n",
              "      <td>...</td>\n",
              "    </tr>\n",
              "    <tr>\n",
              "      <th>395</th>\n",
              "      <td>15691863</td>\n",
              "      <td>Female</td>\n",
              "      <td>46</td>\n",
              "      <td>41000</td>\n",
              "      <td>1</td>\n",
              "    </tr>\n",
              "    <tr>\n",
              "      <th>396</th>\n",
              "      <td>15706071</td>\n",
              "      <td>Male</td>\n",
              "      <td>51</td>\n",
              "      <td>23000</td>\n",
              "      <td>1</td>\n",
              "    </tr>\n",
              "    <tr>\n",
              "      <th>397</th>\n",
              "      <td>15654296</td>\n",
              "      <td>Female</td>\n",
              "      <td>50</td>\n",
              "      <td>20000</td>\n",
              "      <td>1</td>\n",
              "    </tr>\n",
              "    <tr>\n",
              "      <th>398</th>\n",
              "      <td>15755018</td>\n",
              "      <td>Male</td>\n",
              "      <td>36</td>\n",
              "      <td>33000</td>\n",
              "      <td>0</td>\n",
              "    </tr>\n",
              "    <tr>\n",
              "      <th>399</th>\n",
              "      <td>15594041</td>\n",
              "      <td>Female</td>\n",
              "      <td>49</td>\n",
              "      <td>36000</td>\n",
              "      <td>1</td>\n",
              "    </tr>\n",
              "  </tbody>\n",
              "</table>\n",
              "<p>400 rows × 5 columns</p>\n",
              "</div>\n",
              "      <button class=\"colab-df-convert\" onclick=\"convertToInteractive('df-8f209b92-2f79-4a72-96c8-7ad1ae3c5fe3')\"\n",
              "              title=\"Convert this dataframe to an interactive table.\"\n",
              "              style=\"display:none;\">\n",
              "        \n",
              "  <svg xmlns=\"http://www.w3.org/2000/svg\" height=\"24px\"viewBox=\"0 0 24 24\"\n",
              "       width=\"24px\">\n",
              "    <path d=\"M0 0h24v24H0V0z\" fill=\"none\"/>\n",
              "    <path d=\"M18.56 5.44l.94 2.06.94-2.06 2.06-.94-2.06-.94-.94-2.06-.94 2.06-2.06.94zm-11 1L8.5 8.5l.94-2.06 2.06-.94-2.06-.94L8.5 2.5l-.94 2.06-2.06.94zm10 10l.94 2.06.94-2.06 2.06-.94-2.06-.94-.94-2.06-.94 2.06-2.06.94z\"/><path d=\"M17.41 7.96l-1.37-1.37c-.4-.4-.92-.59-1.43-.59-.52 0-1.04.2-1.43.59L10.3 9.45l-7.72 7.72c-.78.78-.78 2.05 0 2.83L4 21.41c.39.39.9.59 1.41.59.51 0 1.02-.2 1.41-.59l7.78-7.78 2.81-2.81c.8-.78.8-2.07 0-2.86zM5.41 20L4 18.59l7.72-7.72 1.47 1.35L5.41 20z\"/>\n",
              "  </svg>\n",
              "      </button>\n",
              "      \n",
              "  <style>\n",
              "    .colab-df-container {\n",
              "      display:flex;\n",
              "      flex-wrap:wrap;\n",
              "      gap: 12px;\n",
              "    }\n",
              "\n",
              "    .colab-df-convert {\n",
              "      background-color: #E8F0FE;\n",
              "      border: none;\n",
              "      border-radius: 50%;\n",
              "      cursor: pointer;\n",
              "      display: none;\n",
              "      fill: #1967D2;\n",
              "      height: 32px;\n",
              "      padding: 0 0 0 0;\n",
              "      width: 32px;\n",
              "    }\n",
              "\n",
              "    .colab-df-convert:hover {\n",
              "      background-color: #E2EBFA;\n",
              "      box-shadow: 0px 1px 2px rgba(60, 64, 67, 0.3), 0px 1px 3px 1px rgba(60, 64, 67, 0.15);\n",
              "      fill: #174EA6;\n",
              "    }\n",
              "\n",
              "    [theme=dark] .colab-df-convert {\n",
              "      background-color: #3B4455;\n",
              "      fill: #D2E3FC;\n",
              "    }\n",
              "\n",
              "    [theme=dark] .colab-df-convert:hover {\n",
              "      background-color: #434B5C;\n",
              "      box-shadow: 0px 1px 3px 1px rgba(0, 0, 0, 0.15);\n",
              "      filter: drop-shadow(0px 1px 2px rgba(0, 0, 0, 0.3));\n",
              "      fill: #FFFFFF;\n",
              "    }\n",
              "  </style>\n",
              "\n",
              "      <script>\n",
              "        const buttonEl =\n",
              "          document.querySelector('#df-8f209b92-2f79-4a72-96c8-7ad1ae3c5fe3 button.colab-df-convert');\n",
              "        buttonEl.style.display =\n",
              "          google.colab.kernel.accessAllowed ? 'block' : 'none';\n",
              "\n",
              "        async function convertToInteractive(key) {\n",
              "          const element = document.querySelector('#df-8f209b92-2f79-4a72-96c8-7ad1ae3c5fe3');\n",
              "          const dataTable =\n",
              "            await google.colab.kernel.invokeFunction('convertToInteractive',\n",
              "                                                     [key], {});\n",
              "          if (!dataTable) return;\n",
              "\n",
              "          const docLinkHtml = 'Like what you see? Visit the ' +\n",
              "            '<a target=\"_blank\" href=https://colab.research.google.com/notebooks/data_table.ipynb>data table notebook</a>'\n",
              "            + ' to learn more about interactive tables.';\n",
              "          element.innerHTML = '';\n",
              "          dataTable['output_type'] = 'display_data';\n",
              "          await google.colab.output.renderOutput(dataTable, element);\n",
              "          const docLink = document.createElement('div');\n",
              "          docLink.innerHTML = docLinkHtml;\n",
              "          element.appendChild(docLink);\n",
              "        }\n",
              "      </script>\n",
              "    </div>\n",
              "  </div>\n",
              "  "
            ]
          },
          "metadata": {},
          "execution_count": 3
        }
      ]
    },
    {
      "cell_type": "code",
      "source": [
        "df.drop(\"User ID\", axis=1)"
      ],
      "metadata": {
        "colab": {
          "base_uri": "https://localhost:8080/",
          "height": 424
        },
        "id": "erkk1iiykLjs",
        "outputId": "1c6af127-a5a5-4fc6-a981-916a01bb92a1"
      },
      "execution_count": null,
      "outputs": [
        {
          "output_type": "execute_result",
          "data": {
            "text/plain": [
              "     Gender  Age  EstimatedSalary  Purchased\n",
              "0      Male   19            19000          0\n",
              "1      Male   35            20000          0\n",
              "2    Female   26            43000          0\n",
              "3    Female   27            57000          0\n",
              "4      Male   19            76000          0\n",
              "..      ...  ...              ...        ...\n",
              "395  Female   46            41000          1\n",
              "396    Male   51            23000          1\n",
              "397  Female   50            20000          1\n",
              "398    Male   36            33000          0\n",
              "399  Female   49            36000          1\n",
              "\n",
              "[400 rows x 4 columns]"
            ],
            "text/html": [
              "\n",
              "  <div id=\"df-2764011c-06cc-4ce9-8c01-48701266ef37\">\n",
              "    <div class=\"colab-df-container\">\n",
              "      <div>\n",
              "<style scoped>\n",
              "    .dataframe tbody tr th:only-of-type {\n",
              "        vertical-align: middle;\n",
              "    }\n",
              "\n",
              "    .dataframe tbody tr th {\n",
              "        vertical-align: top;\n",
              "    }\n",
              "\n",
              "    .dataframe thead th {\n",
              "        text-align: right;\n",
              "    }\n",
              "</style>\n",
              "<table border=\"1\" class=\"dataframe\">\n",
              "  <thead>\n",
              "    <tr style=\"text-align: right;\">\n",
              "      <th></th>\n",
              "      <th>Gender</th>\n",
              "      <th>Age</th>\n",
              "      <th>EstimatedSalary</th>\n",
              "      <th>Purchased</th>\n",
              "    </tr>\n",
              "  </thead>\n",
              "  <tbody>\n",
              "    <tr>\n",
              "      <th>0</th>\n",
              "      <td>Male</td>\n",
              "      <td>19</td>\n",
              "      <td>19000</td>\n",
              "      <td>0</td>\n",
              "    </tr>\n",
              "    <tr>\n",
              "      <th>1</th>\n",
              "      <td>Male</td>\n",
              "      <td>35</td>\n",
              "      <td>20000</td>\n",
              "      <td>0</td>\n",
              "    </tr>\n",
              "    <tr>\n",
              "      <th>2</th>\n",
              "      <td>Female</td>\n",
              "      <td>26</td>\n",
              "      <td>43000</td>\n",
              "      <td>0</td>\n",
              "    </tr>\n",
              "    <tr>\n",
              "      <th>3</th>\n",
              "      <td>Female</td>\n",
              "      <td>27</td>\n",
              "      <td>57000</td>\n",
              "      <td>0</td>\n",
              "    </tr>\n",
              "    <tr>\n",
              "      <th>4</th>\n",
              "      <td>Male</td>\n",
              "      <td>19</td>\n",
              "      <td>76000</td>\n",
              "      <td>0</td>\n",
              "    </tr>\n",
              "    <tr>\n",
              "      <th>...</th>\n",
              "      <td>...</td>\n",
              "      <td>...</td>\n",
              "      <td>...</td>\n",
              "      <td>...</td>\n",
              "    </tr>\n",
              "    <tr>\n",
              "      <th>395</th>\n",
              "      <td>Female</td>\n",
              "      <td>46</td>\n",
              "      <td>41000</td>\n",
              "      <td>1</td>\n",
              "    </tr>\n",
              "    <tr>\n",
              "      <th>396</th>\n",
              "      <td>Male</td>\n",
              "      <td>51</td>\n",
              "      <td>23000</td>\n",
              "      <td>1</td>\n",
              "    </tr>\n",
              "    <tr>\n",
              "      <th>397</th>\n",
              "      <td>Female</td>\n",
              "      <td>50</td>\n",
              "      <td>20000</td>\n",
              "      <td>1</td>\n",
              "    </tr>\n",
              "    <tr>\n",
              "      <th>398</th>\n",
              "      <td>Male</td>\n",
              "      <td>36</td>\n",
              "      <td>33000</td>\n",
              "      <td>0</td>\n",
              "    </tr>\n",
              "    <tr>\n",
              "      <th>399</th>\n",
              "      <td>Female</td>\n",
              "      <td>49</td>\n",
              "      <td>36000</td>\n",
              "      <td>1</td>\n",
              "    </tr>\n",
              "  </tbody>\n",
              "</table>\n",
              "<p>400 rows × 4 columns</p>\n",
              "</div>\n",
              "      <button class=\"colab-df-convert\" onclick=\"convertToInteractive('df-2764011c-06cc-4ce9-8c01-48701266ef37')\"\n",
              "              title=\"Convert this dataframe to an interactive table.\"\n",
              "              style=\"display:none;\">\n",
              "        \n",
              "  <svg xmlns=\"http://www.w3.org/2000/svg\" height=\"24px\"viewBox=\"0 0 24 24\"\n",
              "       width=\"24px\">\n",
              "    <path d=\"M0 0h24v24H0V0z\" fill=\"none\"/>\n",
              "    <path d=\"M18.56 5.44l.94 2.06.94-2.06 2.06-.94-2.06-.94-.94-2.06-.94 2.06-2.06.94zm-11 1L8.5 8.5l.94-2.06 2.06-.94-2.06-.94L8.5 2.5l-.94 2.06-2.06.94zm10 10l.94 2.06.94-2.06 2.06-.94-2.06-.94-.94-2.06-.94 2.06-2.06.94z\"/><path d=\"M17.41 7.96l-1.37-1.37c-.4-.4-.92-.59-1.43-.59-.52 0-1.04.2-1.43.59L10.3 9.45l-7.72 7.72c-.78.78-.78 2.05 0 2.83L4 21.41c.39.39.9.59 1.41.59.51 0 1.02-.2 1.41-.59l7.78-7.78 2.81-2.81c.8-.78.8-2.07 0-2.86zM5.41 20L4 18.59l7.72-7.72 1.47 1.35L5.41 20z\"/>\n",
              "  </svg>\n",
              "      </button>\n",
              "      \n",
              "  <style>\n",
              "    .colab-df-container {\n",
              "      display:flex;\n",
              "      flex-wrap:wrap;\n",
              "      gap: 12px;\n",
              "    }\n",
              "\n",
              "    .colab-df-convert {\n",
              "      background-color: #E8F0FE;\n",
              "      border: none;\n",
              "      border-radius: 50%;\n",
              "      cursor: pointer;\n",
              "      display: none;\n",
              "      fill: #1967D2;\n",
              "      height: 32px;\n",
              "      padding: 0 0 0 0;\n",
              "      width: 32px;\n",
              "    }\n",
              "\n",
              "    .colab-df-convert:hover {\n",
              "      background-color: #E2EBFA;\n",
              "      box-shadow: 0px 1px 2px rgba(60, 64, 67, 0.3), 0px 1px 3px 1px rgba(60, 64, 67, 0.15);\n",
              "      fill: #174EA6;\n",
              "    }\n",
              "\n",
              "    [theme=dark] .colab-df-convert {\n",
              "      background-color: #3B4455;\n",
              "      fill: #D2E3FC;\n",
              "    }\n",
              "\n",
              "    [theme=dark] .colab-df-convert:hover {\n",
              "      background-color: #434B5C;\n",
              "      box-shadow: 0px 1px 3px 1px rgba(0, 0, 0, 0.15);\n",
              "      filter: drop-shadow(0px 1px 2px rgba(0, 0, 0, 0.3));\n",
              "      fill: #FFFFFF;\n",
              "    }\n",
              "  </style>\n",
              "\n",
              "      <script>\n",
              "        const buttonEl =\n",
              "          document.querySelector('#df-2764011c-06cc-4ce9-8c01-48701266ef37 button.colab-df-convert');\n",
              "        buttonEl.style.display =\n",
              "          google.colab.kernel.accessAllowed ? 'block' : 'none';\n",
              "\n",
              "        async function convertToInteractive(key) {\n",
              "          const element = document.querySelector('#df-2764011c-06cc-4ce9-8c01-48701266ef37');\n",
              "          const dataTable =\n",
              "            await google.colab.kernel.invokeFunction('convertToInteractive',\n",
              "                                                     [key], {});\n",
              "          if (!dataTable) return;\n",
              "\n",
              "          const docLinkHtml = 'Like what you see? Visit the ' +\n",
              "            '<a target=\"_blank\" href=https://colab.research.google.com/notebooks/data_table.ipynb>data table notebook</a>'\n",
              "            + ' to learn more about interactive tables.';\n",
              "          element.innerHTML = '';\n",
              "          dataTable['output_type'] = 'display_data';\n",
              "          await google.colab.output.renderOutput(dataTable, element);\n",
              "          const docLink = document.createElement('div');\n",
              "          docLink.innerHTML = docLinkHtml;\n",
              "          element.appendChild(docLink);\n",
              "        }\n",
              "      </script>\n",
              "    </div>\n",
              "  </div>\n",
              "  "
            ]
          },
          "metadata": {},
          "execution_count": 4
        }
      ]
    },
    {
      "cell_type": "code",
      "source": [
        "from sklearn.preprocessing import LabelEncoder\n",
        "le = LabelEncoder()\n",
        "df['Gender'] = le.fit_transform(df['Gender'])\n",
        "print(df['Gender'])"
      ],
      "metadata": {
        "colab": {
          "base_uri": "https://localhost:8080/"
        },
        "id": "Caf2SCvqloA2",
        "outputId": "4ec8c2c0-eea4-4158-e90c-eab2ac8069be"
      },
      "execution_count": null,
      "outputs": [
        {
          "output_type": "stream",
          "name": "stdout",
          "text": [
            "0      1\n",
            "1      1\n",
            "2      0\n",
            "3      0\n",
            "4      1\n",
            "      ..\n",
            "395    0\n",
            "396    1\n",
            "397    0\n",
            "398    1\n",
            "399    0\n",
            "Name: Gender, Length: 400, dtype: int64\n"
          ]
        }
      ]
    },
    {
      "cell_type": "code",
      "source": [
        "y = df[\"Purchased\"]\n",
        "x = df.drop(\"Purchased\", axis=1)"
      ],
      "metadata": {
        "id": "qj6Kyv_woPMO"
      },
      "execution_count": null,
      "outputs": []
    },
    {
      "cell_type": "code",
      "source": [
        "from sklearn.model_selection import train_test_split\n",
        "x_train, x_test, y_train, y_test = train_test_split(x, y, test_size = 0.20, random_state=42)"
      ],
      "metadata": {
        "id": "Uzvmce5Yl_62"
      },
      "execution_count": null,
      "outputs": []
    },
    {
      "cell_type": "code",
      "source": [
        "from sklearn.linear_model import LogisticRegression\n",
        "LR = LogisticRegression()\n",
        "model = LR.fit(x_train, y_train)"
      ],
      "metadata": {
        "id": "BkUdvxGZk33c"
      },
      "execution_count": null,
      "outputs": []
    },
    {
      "cell_type": "code",
      "source": [
        "y_pred = model.predict(x_test)"
      ],
      "metadata": {
        "id": "-zP8f2A-ndl9"
      },
      "execution_count": null,
      "outputs": []
    },
    {
      "cell_type": "code",
      "source": [
        "def rmse(y_test, y_pred):\n",
        "  loss = y_test-y_pred\n",
        "  loss = loss**2\n",
        "  loss = loss.sum()/loss.shape[0]\n",
        "  return loss"
      ],
      "metadata": {
        "id": "zXLsb_smocj-"
      },
      "execution_count": null,
      "outputs": []
    },
    {
      "cell_type": "code",
      "source": [
        "print(rmse(y_test, y_pred))"
      ],
      "metadata": {
        "colab": {
          "base_uri": "https://localhost:8080/"
        },
        "id": "LyHJXti0rtns",
        "outputId": "18706c93-a232-4616-a9b2-c8f84907b34f"
      },
      "execution_count": null,
      "outputs": [
        {
          "output_type": "stream",
          "name": "stdout",
          "text": [
            "0.2625\n"
          ]
        }
      ]
    },
    {
      "cell_type": "code",
      "source": [
        "from sklearn.metrics import confusion_matrix\n",
        "x = confusion_matrix(y_test, y_pred)"
      ],
      "metadata": {
        "id": "qHA0a1Sdr9gD"
      },
      "execution_count": null,
      "outputs": []
    },
    {
      "cell_type": "code",
      "source": [
        "x"
      ],
      "metadata": {
        "id": "22s9H11b3xsh",
        "outputId": "a07ca6a5-ea15-490d-dce7-80905029cd94",
        "colab": {
          "base_uri": "https://localhost:8080/"
        }
      },
      "execution_count": null,
      "outputs": [
        {
          "output_type": "execute_result",
          "data": {
            "text/plain": [
              "array([[49,  3],\n",
              "       [18, 10]])"
            ]
          },
          "metadata": {},
          "execution_count": 14
        }
      ]
    },
    {
      "cell_type": "code",
      "source": [
        "tn = x[0][0]\n",
        "fp = x[0][1]\n",
        "fn = x[1][0]\n",
        "tp = x[1][1]"
      ],
      "metadata": {
        "id": "ggaS59n7tAPD"
      },
      "execution_count": null,
      "outputs": []
    },
    {
      "cell_type": "code",
      "source": [
        "accuracy = (tp+tn)/(tp+fp+fn+tp)"
      ],
      "metadata": {
        "id": "H_h15AGwu1-h"
      },
      "execution_count": null,
      "outputs": []
    },
    {
      "cell_type": "code",
      "source": [
        "precission= tp/(tp+fp)"
      ],
      "metadata": {
        "id": "vYqoIiM1u9Ja"
      },
      "execution_count": null,
      "outputs": []
    },
    {
      "cell_type": "code",
      "source": [
        "recall = tp/(tp+fn)"
      ],
      "metadata": {
        "id": "_r44GqLhvFjn"
      },
      "execution_count": null,
      "outputs": []
    },
    {
      "cell_type": "code",
      "source": [
        "error_rate = (fp+fn)/(tp+fp+fn+tp)"
      ],
      "metadata": {
        "id": "diSe2c3cvJ1j"
      },
      "execution_count": null,
      "outputs": []
    },
    {
      "cell_type": "markdown",
      "source": [
        "Assignment 6"
      ],
      "metadata": {
        "id": "sSBxilWywhQr"
      }
    },
    {
      "cell_type": "code",
      "source": [
        "import pandas as pd\n",
        "import numpy as np"
      ],
      "metadata": {
        "id": "XY26_lMAvdi_"
      },
      "execution_count": null,
      "outputs": []
    },
    {
      "cell_type": "code",
      "source": [
        "df = pd.read_csv(\"/content/Iris (3).csv\")"
      ],
      "metadata": {
        "id": "YTPGDEbmwzfN"
      },
      "execution_count": null,
      "outputs": []
    },
    {
      "cell_type": "code",
      "source": [
        "from sklearn.preprocessing import LabelEncoder\n",
        "le = LabelEncoder()\n",
        "df['Species'] = le.fit_transform(df['Species'])"
      ],
      "metadata": {
        "id": "rkA5tQSFxPcT"
      },
      "execution_count": null,
      "outputs": []
    },
    {
      "cell_type": "code",
      "source": [
        "y = df['Species']\n",
        "x = df.drop('Species',axis=1)"
      ],
      "metadata": {
        "id": "l-1ifZ31ytjG"
      },
      "execution_count": null,
      "outputs": []
    },
    {
      "cell_type": "code",
      "source": [
        "from sklearn.model_selection import train_test_split\n",
        "x_train, x_test, y_train, y_test = train_test_split(x, y, test_size=0.20, random_state=42)"
      ],
      "metadata": {
        "id": "nz4pvnc1yJ5q"
      },
      "execution_count": null,
      "outputs": []
    },
    {
      "cell_type": "code",
      "source": [
        "from sklearn.naive_bayes import GaussianNB\n",
        "GNB = GaussianNB()\n",
        "model = GNB.fit(x_train, y_train)"
      ],
      "metadata": {
        "id": "_R1ljgIHzfYJ"
      },
      "execution_count": null,
      "outputs": []
    },
    {
      "cell_type": "code",
      "source": [
        "y_pred = model.predict(x_test)"
      ],
      "metadata": {
        "id": "WXtFzKwZ0K_p"
      },
      "execution_count": null,
      "outputs": []
    },
    {
      "cell_type": "code",
      "source": [
        "from sklearn.metrics import confusion_matrix\n",
        "x = confusion_matrix(y_test,y_pred)\n",
        "print(x)"
      ],
      "metadata": {
        "colab": {
          "base_uri": "https://localhost:8080/"
        },
        "id": "BVBw3gT70rPD",
        "outputId": "d758b996-42a2-467d-f478-eab576cb7da6"
      },
      "execution_count": null,
      "outputs": [
        {
          "output_type": "stream",
          "name": "stdout",
          "text": [
            "[[10  0  0]\n",
            " [ 0  9  0]\n",
            " [ 0  0 11]]\n"
          ]
        }
      ]
    },
    {
      "cell_type": "code",
      "source": [
        "from sklearn import metrics\n",
        "accuray = metrics.accuracy_score(y_test, y_pred)\n",
        "precission, recall, f_score, _ = metrics.precision_recall_fscore_support(y_test, y_pred)"
      ],
      "metadata": {
        "id": "CBAA-sCo1MtL"
      },
      "execution_count": null,
      "outputs": []
    },
    {
      "cell_type": "code",
      "source": [
        "print(precission, recall, f_score)"
      ],
      "metadata": {
        "colab": {
          "base_uri": "https://localhost:8080/"
        },
        "id": "8gbu1q013H-k",
        "outputId": "bb48aa56-7ad5-4304-a4fb-d590e1899227"
      },
      "execution_count": null,
      "outputs": [
        {
          "output_type": "stream",
          "name": "stdout",
          "text": [
            "[1. 1. 1.] [1. 1. 1.] [1. 1. 1.]\n"
          ]
        }
      ]
    },
    {
      "cell_type": "markdown",
      "source": [
        "Assignment 7"
      ],
      "metadata": {
        "id": "dNmfIWT41xMX"
      }
    },
    {
      "cell_type": "code",
      "source": [
        "x = \"Bailey, the head of an Atlanta household, prepares to take his family on a vacation to Florida. His mother (known only as the grandmother throughout the story) warns Bailey that a convict called The Misfit has escaped from prison and is heading towards Florida. She suggests a trip to East Tennessee instead but Bailey declines. Her grandson John Wesley comments that his grandmother could stay in Atlanta, her granddaughter June Star rudely says she wouldnt stay at home to be queen for a day, and her infant grandchild is tended to by her daughter-in-law. When they leave the next morning, the grandmother occupies the backseat of the familys car, dressed finely so that if she is killed in an accident, she can be recognized as a Southern lady. She hides the familys cat, Pitty Sing, in a basket between her legs, not wanting to leave it home alone.\""
      ],
      "metadata": {
        "id": "GcYmgqsE1w7C"
      },
      "execution_count": null,
      "outputs": []
    },
    {
      "cell_type": "code",
      "source": [
        "x"
      ],
      "metadata": {
        "colab": {
          "base_uri": "https://localhost:8080/",
          "height": 157
        },
        "id": "gqrk430E1f1J",
        "outputId": "b1041610-f05c-4e05-ae7c-bb45fb776355"
      },
      "execution_count": null,
      "outputs": [
        {
          "output_type": "execute_result",
          "data": {
            "text/plain": [
              "'Bailey, the head of an Atlanta household, prepares to take his family on a vacation to Florida. His mother (known only as the grandmother throughout the story) warns Bailey that a convict called The Misfit has escaped from prison and is heading towards Florida. She suggests a trip to East Tennessee instead but Bailey declines. Her grandson John Wesley comments that his grandmother could stay in Atlanta, her granddaughter June Star rudely says she wouldnt stay at home to be queen for a day, and her infant grandchild is tended to by her daughter-in-law. When they leave the next morning, the grandmother occupies the backseat of the familys car, dressed finely so that if she is killed in an accident, she can be recognized as a Southern lady. She hides the familys cat, Pitty Sing, in a basket between her legs, not wanting to leave it home alone.'"
            ],
            "application/vnd.google.colaboratory.intrinsic+json": {
              "type": "string"
            }
          },
          "metadata": {},
          "execution_count": 142
        }
      ]
    },
    {
      "cell_type": "code",
      "source": [
        "!pip download nltk\n",
        "import nltk\n",
        "nltk.download('averaged_perceptron_tagger')\n",
        "nltk.download('punkt')\n",
        "import re\n",
        "from nltk.corpus import stopwords\n",
        "from nltk.stem import WordNetLemmatizer\n",
        "lemmatize = WordNetLemmatizer()\n",
        "from nltk.stem import PorterStemmer\n",
        "stem = PorterStemmer()\n",
        "nltk.download('stopwords')\n",
        "nltk.download('wordnet')\n",
        "from sklearn.feature_extraction.text import TfidfVectorizer\n",
        "vect = TfidfVectorizer()"
      ],
      "metadata": {
        "colab": {
          "base_uri": "https://localhost:8080/"
        },
        "id": "xD3tryIH43qz",
        "outputId": "b1ea3187-1678-4106-bc9a-d5d5bcab149b"
      },
      "execution_count": null,
      "outputs": [
        {
          "output_type": "stream",
          "name": "stdout",
          "text": [
            "Collecting nltk\n",
            "  Downloading nltk-3.7-py3-none-any.whl (1.5 MB)\n",
            "\u001b[K     |████████████████████████████████| 1.5 MB 5.5 MB/s \n",
            "\u001b[?25hCollecting regex>=2021.8.3\n",
            "  Downloading regex-2022.4.24-cp37-cp37m-manylinux_2_17_x86_64.manylinux2014_x86_64.whl (749 kB)\n",
            "\u001b[K     |████████████████████████████████| 749 kB 48.3 MB/s \n",
            "\u001b[?25hCollecting joblib\n",
            "  Downloading joblib-1.1.0-py2.py3-none-any.whl (306 kB)\n",
            "\u001b[K     |████████████████████████████████| 306 kB 72.9 MB/s \n",
            "\u001b[?25hCollecting click\n",
            "  Downloading click-8.1.3-py3-none-any.whl (96 kB)\n",
            "\u001b[K     |████████████████████████████████| 96 kB 5.1 MB/s \n",
            "\u001b[?25hCollecting tqdm\n",
            "  Downloading tqdm-4.64.0-py2.py3-none-any.whl (78 kB)\n",
            "\u001b[K     |████████████████████████████████| 78 kB 6.4 MB/s \n",
            "\u001b[?25hCollecting importlib-metadata\n",
            "  Downloading importlib_metadata-4.11.3-py3-none-any.whl (18 kB)\n",
            "Collecting zipp>=0.5\n",
            "  Downloading zipp-3.8.0-py3-none-any.whl (5.4 kB)\n",
            "Collecting typing-extensions>=3.6.4\n",
            "  Downloading typing_extensions-4.2.0-py3-none-any.whl (24 kB)\n",
            "Saved ./nltk-3.7-py3-none-any.whl\n",
            "Saved ./regex-2022.4.24-cp37-cp37m-manylinux_2_17_x86_64.manylinux2014_x86_64.whl\n",
            "Saved ./click-8.1.3-py3-none-any.whl\n",
            "Saved ./importlib_metadata-4.11.3-py3-none-any.whl\n",
            "Saved ./typing_extensions-4.2.0-py3-none-any.whl\n",
            "Saved ./zipp-3.8.0-py3-none-any.whl\n",
            "Saved ./joblib-1.1.0-py2.py3-none-any.whl\n",
            "Saved ./tqdm-4.64.0-py2.py3-none-any.whl\n",
            "Successfully downloaded nltk regex click importlib-metadata typing-extensions zipp joblib tqdm\n",
            "[nltk_data] Downloading package averaged_perceptron_tagger to\n",
            "[nltk_data]     /root/nltk_data...\n",
            "[nltk_data]   Unzipping taggers/averaged_perceptron_tagger.zip.\n",
            "[nltk_data] Downloading package punkt to /root/nltk_data...\n",
            "[nltk_data]   Unzipping tokenizers/punkt.zip.\n",
            "[nltk_data] Downloading package stopwords to /root/nltk_data...\n",
            "[nltk_data]   Unzipping corpora/stopwords.zip.\n",
            "[nltk_data] Downloading package wordnet to /root/nltk_data...\n",
            "[nltk_data]   Unzipping corpora/wordnet.zip.\n"
          ]
        }
      ]
    },
    {
      "cell_type": "code",
      "source": [
        "nltk.pos_tag(x)"
      ],
      "metadata": {
        "colab": {
          "base_uri": "https://localhost:8080/"
        },
        "id": "2DaW2g-55rxl",
        "outputId": "23570221-24aa-440f-f224-cf40146b7a64"
      },
      "execution_count": null,
      "outputs": [
        {
          "output_type": "execute_result",
          "data": {
            "text/plain": [
              "[('B', 'IN'),\n",
              " ('a', 'DT'),\n",
              " ('i', 'NN'),\n",
              " ('l', 'NN'),\n",
              " ('e', 'NN'),\n",
              " ('y', 'NN'),\n",
              " (',', ','),\n",
              " (' ', 'NNP'),\n",
              " ('t', 'NN'),\n",
              " ('h', 'NN'),\n",
              " ('e', 'NN'),\n",
              " (' ', 'NNP'),\n",
              " ('h', 'NN'),\n",
              " ('e', 'VBZ'),\n",
              " ('a', 'DT'),\n",
              " ('d', 'NN'),\n",
              " (' ', 'NNP'),\n",
              " ('o', 'VBZ'),\n",
              " ('f', 'JJ'),\n",
              " (' ', 'IN'),\n",
              " ('a', 'DT'),\n",
              " ('n', 'JJ'),\n",
              " (' ', 'NN'),\n",
              " ('A', 'NNP'),\n",
              " ('t', 'NN'),\n",
              " ('l', 'NN'),\n",
              " ('a', 'DT'),\n",
              " ('n', 'JJ'),\n",
              " ('t', 'NN'),\n",
              " ('a', 'DT'),\n",
              " (' ', 'NN'),\n",
              " ('h', 'NN'),\n",
              " ('o', 'JJ'),\n",
              " ('u', 'JJ'),\n",
              " ('s', 'NN'),\n",
              " ('e', 'NN'),\n",
              " ('h', 'NN'),\n",
              " ('o', 'JJ'),\n",
              " ('l', 'NN'),\n",
              " ('d', 'NN'),\n",
              " (',', ','),\n",
              " (' ', 'NNP'),\n",
              " ('p', 'VBZ'),\n",
              " ('r', 'NN'),\n",
              " ('e', 'NN'),\n",
              " ('p', 'VBZ'),\n",
              " ('a', 'DT'),\n",
              " ('r', 'NN'),\n",
              " ('e', 'NN'),\n",
              " ('s', 'NN'),\n",
              " (' ', 'NNP'),\n",
              " ('t', 'NN'),\n",
              " ('o', 'NN'),\n",
              " (' ', 'NNP'),\n",
              " ('t', 'VBZ'),\n",
              " ('a', 'DT'),\n",
              " ('k', 'NN'),\n",
              " ('e', 'NN'),\n",
              " (' ', 'NNP'),\n",
              " ('h', 'NN'),\n",
              " ('i', 'NN'),\n",
              " ('s', 'VBP'),\n",
              " (' ', 'NNP'),\n",
              " ('f', 'VBP'),\n",
              " ('a', 'DT'),\n",
              " ('m', 'NN'),\n",
              " ('i', 'NN'),\n",
              " ('l', 'VBP'),\n",
              " ('y', 'NN'),\n",
              " (' ', 'NNP'),\n",
              " ('o', 'VBZ'),\n",
              " ('n', 'JJ'),\n",
              " (' ', 'IN'),\n",
              " ('a', 'DT'),\n",
              " (' ', 'JJ'),\n",
              " ('v', 'NN'),\n",
              " ('a', 'DT'),\n",
              " ('c', 'NN'),\n",
              " ('a', 'DT'),\n",
              " ('t', 'NN'),\n",
              " ('i', 'NN'),\n",
              " ('o', 'VBP'),\n",
              " ('n', 'JJ'),\n",
              " (' ', 'NNP'),\n",
              " ('t', 'NN'),\n",
              " ('o', 'NN'),\n",
              " (' ', 'NNP'),\n",
              " ('F', 'NNP'),\n",
              " ('l', 'NN'),\n",
              " ('o', 'NN'),\n",
              " ('r', 'NN'),\n",
              " ('i', 'NN'),\n",
              " ('d', 'VBP'),\n",
              " ('a', 'DT'),\n",
              " ('.', '.'),\n",
              " (' ', 'NN'),\n",
              " ('H', 'NNP'),\n",
              " ('i', 'NN'),\n",
              " ('s', 'VBP'),\n",
              " (' ', 'NNP'),\n",
              " ('m', 'NN'),\n",
              " ('o', 'NN'),\n",
              " ('t', 'NN'),\n",
              " ('h', 'NN'),\n",
              " ('e', 'NN'),\n",
              " ('r', 'NN'),\n",
              " (' ', 'NNP'),\n",
              " ('(', '('),\n",
              " ('k', 'VB'),\n",
              " ('n', 'RB'),\n",
              " ('o', 'JJ'),\n",
              " ('w', 'NN'),\n",
              " ('n', 'JJ'),\n",
              " (' ', 'NNP'),\n",
              " ('o', 'NN'),\n",
              " ('n', 'NN'),\n",
              " ('l', 'NN'),\n",
              " ('y', 'NN'),\n",
              " (' ', 'VBZ'),\n",
              " ('a', 'DT'),\n",
              " ('s', 'JJ'),\n",
              " (' ', 'NN'),\n",
              " ('t', 'NN'),\n",
              " ('h', 'NN'),\n",
              " ('e', 'NN'),\n",
              " (' ', 'NNP'),\n",
              " ('g', 'NN'),\n",
              " ('r', 'NN'),\n",
              " ('a', 'DT'),\n",
              " ('n', 'JJ'),\n",
              " ('d', 'NN'),\n",
              " ('m', 'NN'),\n",
              " ('o', 'NN'),\n",
              " ('t', 'NN'),\n",
              " ('h', 'NN'),\n",
              " ('e', 'NN'),\n",
              " ('r', 'NN'),\n",
              " (' ', 'NNP'),\n",
              " ('t', 'NN'),\n",
              " ('h', 'NN'),\n",
              " ('r', 'NN'),\n",
              " ('o', 'NN'),\n",
              " ('u', 'JJ'),\n",
              " ('g', 'NN'),\n",
              " ('h', 'NN'),\n",
              " ('o', 'JJ'),\n",
              " ('u', 'JJ'),\n",
              " ('t', 'NN'),\n",
              " (' ', 'NNP'),\n",
              " ('t', 'NN'),\n",
              " ('h', 'NN'),\n",
              " ('e', 'NN'),\n",
              " (' ', 'NNP'),\n",
              " ('s', 'NN'),\n",
              " ('t', 'NN'),\n",
              " ('o', 'NN'),\n",
              " ('r', 'NN'),\n",
              " ('y', 'NN'),\n",
              " (')', ')'),\n",
              " (' ', 'VBZ'),\n",
              " ('w', 'WRB'),\n",
              " ('a', 'DT'),\n",
              " ('r', 'NN'),\n",
              " ('n', 'JJ'),\n",
              " ('s', 'NN'),\n",
              " (' ', 'NN'),\n",
              " ('B', 'NNP'),\n",
              " ('a', 'DT'),\n",
              " ('i', 'NN'),\n",
              " ('l', 'NN'),\n",
              " ('e', 'NN'),\n",
              " ('y', 'NN'),\n",
              " (' ', 'NNP'),\n",
              " ('t', 'NN'),\n",
              " ('h', 'VBD'),\n",
              " ('a', 'DT'),\n",
              " ('t', 'NN'),\n",
              " (' ', 'VBZ'),\n",
              " ('a', 'DT'),\n",
              " (' ', 'JJ'),\n",
              " ('c', 'NN'),\n",
              " ('o', 'NN'),\n",
              " ('n', 'IN'),\n",
              " ('v', 'NN'),\n",
              " ('i', 'NN'),\n",
              " ('c', 'VBP'),\n",
              " ('t', 'NN'),\n",
              " (' ', 'NNP'),\n",
              " ('c', 'VBZ'),\n",
              " ('a', 'DT'),\n",
              " ('l', 'NN'),\n",
              " ('l', 'NN'),\n",
              " ('e', 'NN'),\n",
              " ('d', 'NN'),\n",
              " (' ', 'NNP'),\n",
              " ('T', 'NNP'),\n",
              " ('h', 'NN'),\n",
              " ('e', 'NN'),\n",
              " (' ', 'NNP'),\n",
              " ('M', 'NNP'),\n",
              " ('i', 'NN'),\n",
              " ('s', 'VBP'),\n",
              " ('f', 'NN'),\n",
              " ('i', 'NN'),\n",
              " ('t', 'VBP'),\n",
              " (' ', 'NN'),\n",
              " ('h', 'NN'),\n",
              " ('a', 'DT'),\n",
              " ('s', 'JJ'),\n",
              " (' ', 'NN'),\n",
              " ('e', 'NN'),\n",
              " ('s', 'VBD'),\n",
              " ('c', 'VBZ'),\n",
              " ('a', 'DT'),\n",
              " ('p', 'JJ'),\n",
              " ('e', 'NN'),\n",
              " ('d', 'NN'),\n",
              " (' ', 'NNP'),\n",
              " ('f', 'NN'),\n",
              " ('r', 'NN'),\n",
              " ('o', 'IN'),\n",
              " ('m', 'NN'),\n",
              " (' ', 'NNP'),\n",
              " ('p', 'NN'),\n",
              " ('r', 'NN'),\n",
              " ('i', 'NN'),\n",
              " ('s', 'VBP'),\n",
              " ('o', 'JJ'),\n",
              " ('n', 'JJ'),\n",
              " (' ', 'FW'),\n",
              " ('a', 'DT'),\n",
              " ('n', 'JJ'),\n",
              " ('d', 'NN'),\n",
              " (' ', 'NN'),\n",
              " ('i', 'NN'),\n",
              " ('s', 'VBP'),\n",
              " (' ', 'NN'),\n",
              " ('h', 'NN'),\n",
              " ('e', 'VBZ'),\n",
              " ('a', 'DT'),\n",
              " ('d', 'NN'),\n",
              " ('i', 'NN'),\n",
              " ('n', 'VBP'),\n",
              " ('g', 'NN'),\n",
              " (' ', 'NNP'),\n",
              " ('t', 'NN'),\n",
              " ('o', 'NN'),\n",
              " ('w', 'VBD'),\n",
              " ('a', 'DT'),\n",
              " ('r', 'NN'),\n",
              " ('d', 'NN'),\n",
              " ('s', 'NN'),\n",
              " (' ', 'NNP'),\n",
              " ('F', 'NNP'),\n",
              " ('l', 'NN'),\n",
              " ('o', 'NN'),\n",
              " ('r', 'NN'),\n",
              " ('i', 'NN'),\n",
              " ('d', 'VBP'),\n",
              " ('a', 'DT'),\n",
              " ('.', '.'),\n",
              " (' ', 'JJ'),\n",
              " ('S', 'NNP'),\n",
              " ('h', 'NN'),\n",
              " ('e', 'NN'),\n",
              " (' ', 'NNP'),\n",
              " ('s', 'NN'),\n",
              " ('u', 'JJ'),\n",
              " ('g', 'NN'),\n",
              " ('g', 'NN'),\n",
              " ('e', 'NN'),\n",
              " ('s', 'NN'),\n",
              " ('t', 'NN'),\n",
              " ('s', 'NN'),\n",
              " (' ', 'VBZ'),\n",
              " ('a', 'DT'),\n",
              " (' ', 'NN'),\n",
              " ('t', 'NN'),\n",
              " ('r', 'NN'),\n",
              " ('i', 'NN'),\n",
              " ('p', 'VBP'),\n",
              " (' ', 'JJ'),\n",
              " ('t', 'NN'),\n",
              " ('o', 'NN'),\n",
              " (' ', 'NNP'),\n",
              " ('E', 'NNP'),\n",
              " ('a', 'DT'),\n",
              " ('s', 'JJ'),\n",
              " ('t', 'NN'),\n",
              " (' ', 'NNP'),\n",
              " ('T', 'NNP'),\n",
              " ('e', 'NN'),\n",
              " ('n', 'RB'),\n",
              " ('n', 'JJ'),\n",
              " ('e', 'NN'),\n",
              " ('s', 'NN'),\n",
              " ('s', 'NN'),\n",
              " ('e', 'NN'),\n",
              " ('e', 'IN'),\n",
              " (' ', 'NNP'),\n",
              " ('i', 'NN'),\n",
              " ('n', 'VBP'),\n",
              " ('s', 'NN'),\n",
              " ('t', 'NN'),\n",
              " ('e', 'VBZ'),\n",
              " ('a', 'DT'),\n",
              " ('d', 'NN'),\n",
              " (' ', 'NN'),\n",
              " ('b', 'NN'),\n",
              " ('u', 'JJ'),\n",
              " ('t', 'NN'),\n",
              " (' ', 'NN'),\n",
              " ('B', 'NNP'),\n",
              " ('a', 'DT'),\n",
              " ('i', 'NN'),\n",
              " ('l', 'NN'),\n",
              " ('e', 'NN'),\n",
              " ('y', 'NN'),\n",
              " (' ', 'NNP'),\n",
              " ('d', 'NN'),\n",
              " ('e', 'NN'),\n",
              " ('c', 'VBP'),\n",
              " ('l', 'NN'),\n",
              " ('i', 'NN'),\n",
              " ('n', 'VBP'),\n",
              " ('e', 'NN'),\n",
              " ('s', 'NN'),\n",
              " ('.', '.'),\n",
              " (' ', 'CC'),\n",
              " ('H', 'NNP'),\n",
              " ('e', 'VBP'),\n",
              " ('r', 'NN'),\n",
              " (' ', 'NN'),\n",
              " ('g', 'NN'),\n",
              " ('r', 'VBZ'),\n",
              " ('a', 'DT'),\n",
              " ('n', 'JJ'),\n",
              " ('d', 'NN'),\n",
              " ('s', 'NN'),\n",
              " ('o', 'NN'),\n",
              " ('n', 'JJ'),\n",
              " (' ', 'NNP'),\n",
              " ('J', 'NNP'),\n",
              " ('o', 'MD'),\n",
              " ('h', 'VB'),\n",
              " ('n', 'JJ'),\n",
              " (' ', 'NNP'),\n",
              " ('W', 'NNP'),\n",
              " ('e', 'NN'),\n",
              " ('s', 'NN'),\n",
              " ('l', 'NN'),\n",
              " ('e', 'NN'),\n",
              " ('y', 'NN'),\n",
              " (' ', 'NNP'),\n",
              " ('c', 'VBZ'),\n",
              " ('o', 'JJ'),\n",
              " ('m', 'NNS'),\n",
              " ('m', 'VBP'),\n",
              " ('e', 'JJ'),\n",
              " ('n', 'JJ'),\n",
              " ('t', 'NN'),\n",
              " ('s', 'NN'),\n",
              " (' ', 'NNP'),\n",
              " ('t', 'NN'),\n",
              " ('h', 'VBD'),\n",
              " ('a', 'DT'),\n",
              " ('t', 'NN'),\n",
              " (' ', 'NN'),\n",
              " ('h', 'NN'),\n",
              " ('i', 'JJ'),\n",
              " ('s', 'VBP'),\n",
              " (' ', 'JJ'),\n",
              " ('g', 'NN'),\n",
              " ('r', 'NN'),\n",
              " ('a', 'DT'),\n",
              " ('n', 'JJ'),\n",
              " ('d', 'NN'),\n",
              " ('m', 'NN'),\n",
              " ('o', 'NN'),\n",
              " ('t', 'NN'),\n",
              " ('h', 'NN'),\n",
              " ('e', 'NN'),\n",
              " ('r', 'NN'),\n",
              " (' ', 'NNP'),\n",
              " ('c', 'VBZ'),\n",
              " ('o', 'JJ'),\n",
              " ('u', 'JJ'),\n",
              " ('l', 'NN'),\n",
              " ('d', 'NN'),\n",
              " (' ', 'NNP'),\n",
              " ('s', 'VBZ'),\n",
              " ('t', 'VB'),\n",
              " ('a', 'DT'),\n",
              " ('y', 'NN'),\n",
              " (' ', 'NN'),\n",
              " ('i', 'NN'),\n",
              " ('n', 'VBP'),\n",
              " (' ', 'PDT'),\n",
              " ('A', 'NNP'),\n",
              " ('t', 'NN'),\n",
              " ('l', 'NN'),\n",
              " ('a', 'DT'),\n",
              " ('n', 'JJ'),\n",
              " ('t', 'NN'),\n",
              " ('a', 'DT'),\n",
              " (',', ','),\n",
              " (' ', 'JJ'),\n",
              " ('h', 'NN'),\n",
              " ('e', 'NN'),\n",
              " ('r', 'NN'),\n",
              " (' ', 'NNP'),\n",
              " ('g', 'NN'),\n",
              " ('r', 'NN'),\n",
              " ('a', 'DT'),\n",
              " ('n', 'JJ'),\n",
              " ('d', 'NN'),\n",
              " ('d', 'VBZ'),\n",
              " ('a', 'DT'),\n",
              " ('u', 'JJ'),\n",
              " ('g', 'NN'),\n",
              " ('h', 'NN'),\n",
              " ('t', 'NN'),\n",
              " ('e', 'NN'),\n",
              " ('r', 'NN'),\n",
              " (' ', 'NNP'),\n",
              " ('J', 'NNP'),\n",
              " ('u', 'JJ'),\n",
              " ('n', 'NN'),\n",
              " ('e', 'NN'),\n",
              " (' ', 'NNP'),\n",
              " ('S', 'NNP'),\n",
              " ('t', 'VBD'),\n",
              " ('a', 'DT'),\n",
              " ('r', 'NN'),\n",
              " (' ', 'NNP'),\n",
              " ('r', 'NN'),\n",
              " ('u', 'JJ'),\n",
              " ('d', 'NN'),\n",
              " ('e', 'NN'),\n",
              " ('l', 'NN'),\n",
              " ('y', 'NN'),\n",
              " (' ', 'NNP'),\n",
              " ('s', 'VBZ'),\n",
              " ('a', 'DT'),\n",
              " ('y', 'NN'),\n",
              " ('s', 'NN'),\n",
              " (' ', 'NNP'),\n",
              " ('s', 'NN'),\n",
              " ('h', 'NN'),\n",
              " ('e', 'NN'),\n",
              " (' ', 'NNP'),\n",
              " ('w', 'NN'),\n",
              " ('o', 'NN'),\n",
              " ('u', 'JJ'),\n",
              " ('l', 'NN'),\n",
              " ('d', 'NN'),\n",
              " ('n', 'JJ'),\n",
              " ('t', 'NN'),\n",
              " (' ', 'NNP'),\n",
              " ('s', 'VBZ'),\n",
              " ('t', 'VB'),\n",
              " ('a', 'DT'),\n",
              " ('y', 'NN'),\n",
              " (' ', 'VBZ'),\n",
              " ('a', 'DT'),\n",
              " ('t', 'NN'),\n",
              " (' ', 'NN'),\n",
              " ('h', 'NN'),\n",
              " ('o', 'JJ'),\n",
              " ('m', 'NN'),\n",
              " ('e', 'NN'),\n",
              " (' ', 'NNP'),\n",
              " ('t', 'NN'),\n",
              " ('o', 'NN'),\n",
              " (' ', 'NN'),\n",
              " ('b', 'NN'),\n",
              " ('e', 'NN'),\n",
              " (' ', 'NNP'),\n",
              " ('q', 'NN'),\n",
              " ('u', 'JJ'),\n",
              " ('e', 'NN'),\n",
              " ('e', 'NN'),\n",
              " ('n', 'JJ'),\n",
              " (' ', 'NNP'),\n",
              " ('f', 'NN'),\n",
              " ('o', 'NN'),\n",
              " ('r', 'NN'),\n",
              " (' ', 'VBZ'),\n",
              " ('a', 'DT'),\n",
              " (' ', 'JJ'),\n",
              " ('d', 'NN'),\n",
              " ('a', 'DT'),\n",
              " ('y', 'NN'),\n",
              " (',', ','),\n",
              " (' ', 'VB'),\n",
              " ('a', 'DT'),\n",
              " ('n', 'JJ'),\n",
              " ('d', 'NN'),\n",
              " (' ', 'NNP'),\n",
              " ('h', 'NN'),\n",
              " ('e', 'NN'),\n",
              " ('r', 'NN'),\n",
              " (' ', 'NN'),\n",
              " ('i', 'NN'),\n",
              " ('n', 'VBP'),\n",
              " ('f', 'VBZ'),\n",
              " ('a', 'DT'),\n",
              " ('n', 'JJ'),\n",
              " ('t', 'NN'),\n",
              " (' ', 'NNP'),\n",
              " ('g', 'NN'),\n",
              " ('r', 'NN'),\n",
              " ('a', 'DT'),\n",
              " ('n', 'JJ'),\n",
              " ('d', 'NN'),\n",
              " ('c', 'NN'),\n",
              " ('h', 'NN'),\n",
              " ('i', 'JJ'),\n",
              " ('l', 'NN'),\n",
              " ('d', 'NN'),\n",
              " (' ', 'NN'),\n",
              " ('i', 'NN'),\n",
              " ('s', 'VBP'),\n",
              " (' ', 'JJ'),\n",
              " ('t', 'NN'),\n",
              " ('e', 'NN'),\n",
              " ('n', 'JJ'),\n",
              " ('d', 'NN'),\n",
              " ('e', 'NN'),\n",
              " ('d', 'NN'),\n",
              " (' ', 'NNP'),\n",
              " ('t', 'NN'),\n",
              " ('o', 'NN'),\n",
              " (' ', 'NN'),\n",
              " ('b', 'NN'),\n",
              " ('y', 'NN'),\n",
              " (' ', 'NNP'),\n",
              " ('h', 'NN'),\n",
              " ('e', 'NN'),\n",
              " ('r', 'NN'),\n",
              " (' ', 'NNP'),\n",
              " ('d', 'VBZ'),\n",
              " ('a', 'DT'),\n",
              " ('u', 'JJ'),\n",
              " ('g', 'NN'),\n",
              " ('h', 'NN'),\n",
              " ('t', 'NN'),\n",
              " ('e', 'NN'),\n",
              " ('r', 'LS'),\n",
              " ('-', ':'),\n",
              " ('i', 'NN'),\n",
              " ('n', 'VBP'),\n",
              " ('-', ':'),\n",
              " ('l', 'NN'),\n",
              " ('a', 'DT'),\n",
              " ('w', 'NN'),\n",
              " ('.', '.'),\n",
              " (' ', 'CC'),\n",
              " ('W', 'NNP'),\n",
              " ('h', 'VBP'),\n",
              " ('e', 'JJ'),\n",
              " ('n', 'JJ'),\n",
              " (' ', 'NN'),\n",
              " ('t', 'NN'),\n",
              " ('h', 'NN'),\n",
              " ('e', 'NN'),\n",
              " ('y', 'NN'),\n",
              " (' ', 'NNP'),\n",
              " ('l', 'NN'),\n",
              " ('e', 'VBZ'),\n",
              " ('a', 'DT'),\n",
              " ('v', 'NN'),\n",
              " ('e', 'NN'),\n",
              " (' ', 'NNP'),\n",
              " ('t', 'NN'),\n",
              " ('h', 'NN'),\n",
              " ('e', 'NN'),\n",
              " (' ', 'NNP'),\n",
              " ('n', 'CC'),\n",
              " ('e', 'JJ'),\n",
              " ('x', 'NNP'),\n",
              " ('t', 'NN'),\n",
              " (' ', 'NNP'),\n",
              " ('m', 'NN'),\n",
              " ('o', 'NN'),\n",
              " ('r', 'NN'),\n",
              " ('n', 'NN'),\n",
              " ('i', 'NN'),\n",
              " ('n', 'VBP'),\n",
              " ('g', 'NN'),\n",
              " (',', ','),\n",
              " (' ', 'NNP'),\n",
              " ('t', 'NN'),\n",
              " ('h', 'NN'),\n",
              " ('e', 'NN'),\n",
              " (' ', 'NNP'),\n",
              " ('g', 'NN'),\n",
              " ('r', 'NN'),\n",
              " ('a', 'DT'),\n",
              " ('n', 'JJ'),\n",
              " ('d', 'NN'),\n",
              " ('m', 'NN'),\n",
              " ('o', 'NN'),\n",
              " ('t', 'NN'),\n",
              " ('h', 'NN'),\n",
              " ('e', 'NN'),\n",
              " ('r', 'NN'),\n",
              " (' ', 'NNP'),\n",
              " ('o', 'VBZ'),\n",
              " ('c', 'JJ'),\n",
              " ('c', 'NNS'),\n",
              " ('u', 'JJ'),\n",
              " ('p', 'NN'),\n",
              " ('i', 'NN'),\n",
              " ('e', 'VBP'),\n",
              " ('s', 'JJ'),\n",
              " (' ', 'NNP'),\n",
              " ('t', 'NN'),\n",
              " ('h', 'NN'),\n",
              " ('e', 'NN'),\n",
              " (' ', 'NNP'),\n",
              " ('b', 'VBZ'),\n",
              " ('a', 'DT'),\n",
              " ('c', 'NN'),\n",
              " ('k', 'NN'),\n",
              " ('s', 'VBZ'),\n",
              " ('e', 'VBZ'),\n",
              " ('a', 'DT'),\n",
              " ('t', 'NN'),\n",
              " (' ', 'NNP'),\n",
              " ('o', 'VBZ'),\n",
              " ('f', 'JJ'),\n",
              " (' ', 'NNP'),\n",
              " ('t', 'NN'),\n",
              " ('h', 'NN'),\n",
              " ('e', 'NN'),\n",
              " (' ', 'NNP'),\n",
              " ('f', 'VBZ'),\n",
              " ('a', 'DT'),\n",
              " ('m', 'NN'),\n",
              " ('i', 'NN'),\n",
              " ('l', 'VBP'),\n",
              " ('y', 'NN'),\n",
              " ('s', 'NN'),\n",
              " (' ', 'NNP'),\n",
              " ('c', 'VBZ'),\n",
              " ('a', 'DT'),\n",
              " ('r', 'NN'),\n",
              " (',', ','),\n",
              " (' ', 'NNP'),\n",
              " ('d', 'VBZ'),\n",
              " ('r', 'NN'),\n",
              " ('e', 'NN'),\n",
              " ('s', 'NN'),\n",
              " ('s', 'NN'),\n",
              " ('e', 'NN'),\n",
              " ('d', 'NN'),\n",
              " (' ', 'NNP'),\n",
              " ('f', 'NN'),\n",
              " ('i', 'NN'),\n",
              " ('n', 'VBP'),\n",
              " ('e', 'NN'),\n",
              " ('l', 'NN'),\n",
              " ('y', 'NN'),\n",
              " (' ', 'NNP'),\n",
              " ('s', 'NN'),\n",
              " ('o', 'NN'),\n",
              " (' ', 'NNP'),\n",
              " ('t', 'NN'),\n",
              " ('h', 'VBD'),\n",
              " ('a', 'DT'),\n",
              " ('t', 'NN'),\n",
              " (' ', 'NN'),\n",
              " ('i', 'NN'),\n",
              " ('f', 'VBP'),\n",
              " (' ', 'JJ'),\n",
              " ('s', 'NN'),\n",
              " ('h', 'NN'),\n",
              " ('e', 'NN'),\n",
              " (' ', 'NNP'),\n",
              " ('i', 'NN'),\n",
              " ('s', 'VBP'),\n",
              " (' ', 'IN'),\n",
              " ('k', 'NN'),\n",
              " ('i', 'NN'),\n",
              " ('l', 'VBP'),\n",
              " ('l', 'NN'),\n",
              " ('e', 'NN'),\n",
              " ('d', 'NN'),\n",
              " (' ', 'NN'),\n",
              " ('i', 'NN'),\n",
              " ('n', 'VBP'),\n",
              " (' ', 'PDT'),\n",
              " ('a', 'DT'),\n",
              " ('n', 'JJ'),\n",
              " (' ', 'NN'),\n",
              " ('a', 'DT'),\n",
              " ('c', 'JJ'),\n",
              " ('c', 'NN'),\n",
              " ('i', 'NN'),\n",
              " ('d', 'VBP'),\n",
              " ('e', 'NN'),\n",
              " ('n', 'JJ'),\n",
              " ('t', 'NN'),\n",
              " (',', ','),\n",
              " (' ', 'NNP'),\n",
              " ('s', 'VBD'),\n",
              " ('h', 'JJ'),\n",
              " ('e', 'NN'),\n",
              " (' ', 'NNP'),\n",
              " ('c', 'VBZ'),\n",
              " ('a', 'DT'),\n",
              " ('n', 'JJ'),\n",
              " (' ', 'NN'),\n",
              " ('b', 'NN'),\n",
              " ('e', 'NN'),\n",
              " (' ', 'NNP'),\n",
              " ('r', 'NN'),\n",
              " ('e', 'NN'),\n",
              " ('c', 'VBP'),\n",
              " ('o', 'JJ'),\n",
              " ('g', 'NN'),\n",
              " ('n', 'NN'),\n",
              " ('i', 'NN'),\n",
              " ('z', 'VBP'),\n",
              " ('e', 'NN'),\n",
              " ('d', 'NN'),\n",
              " (' ', 'VBZ'),\n",
              " ('a', 'DT'),\n",
              " ('s', 'JJ'),\n",
              " (' ', 'NN'),\n",
              " ('a', 'DT'),\n",
              " (' ', 'JJ'),\n",
              " ('S', 'NNP'),\n",
              " ('o', 'NN'),\n",
              " ('u', 'JJ'),\n",
              " ('t', 'NN'),\n",
              " ('h', 'NN'),\n",
              " ('e', 'NN'),\n",
              " ('r', 'NN'),\n",
              " ('n', 'JJ'),\n",
              " (' ', 'NNP'),\n",
              " ('l', 'NN'),\n",
              " ('a', 'DT'),\n",
              " ('d', 'NN'),\n",
              " ('y', 'NN'),\n",
              " ('.', '.'),\n",
              " (' ', 'CC'),\n",
              " ('S', 'NNP'),\n",
              " ('h', 'VBP'),\n",
              " ('e', 'JJ'),\n",
              " (' ', 'NNP'),\n",
              " ('h', 'NN'),\n",
              " ('i', 'NN'),\n",
              " ('d', 'VBP'),\n",
              " ('e', 'NN'),\n",
              " ('s', 'NN'),\n",
              " (' ', 'NNP'),\n",
              " ('t', 'NN'),\n",
              " ('h', 'NN'),\n",
              " ('e', 'NN'),\n",
              " (' ', 'NNP'),\n",
              " ('f', 'VBZ'),\n",
              " ('a', 'DT'),\n",
              " ('m', 'NN'),\n",
              " ('i', 'NN'),\n",
              " ('l', 'VBP'),\n",
              " ('y', 'NN'),\n",
              " ('s', 'NN'),\n",
              " (' ', 'NNP'),\n",
              " ('c', 'VBZ'),\n",
              " ('a', 'DT'),\n",
              " ('t', 'NN'),\n",
              " (',', ','),\n",
              " (' ', 'NNP'),\n",
              " ('P', 'NNP'),\n",
              " ('i', 'NN'),\n",
              " ('t', 'VBP'),\n",
              " ('t', 'NN'),\n",
              " ('y', 'NN'),\n",
              " (' ', 'NNP'),\n",
              " ('S', 'NNP'),\n",
              " ('i', 'NN'),\n",
              " ('n', 'VBP'),\n",
              " ('g', 'NN'),\n",
              " (',', ','),\n",
              " (' ', 'VBP'),\n",
              " ('i', 'JJ'),\n",
              " ('n', 'VBP'),\n",
              " (' ', 'PDT'),\n",
              " ('a', 'DT'),\n",
              " (' ', 'NN'),\n",
              " ('b', 'NN'),\n",
              " ('a', 'DT'),\n",
              " ('s', 'NN'),\n",
              " ('k', 'NN'),\n",
              " ('e', 'FW'),\n",
              " ('t', 'NN'),\n",
              " (' ', 'NN'),\n",
              " ('b', 'NN'),\n",
              " ('e', 'NN'),\n",
              " ('t', 'NN'),\n",
              " ('w', 'NN'),\n",
              " ('e', 'NN'),\n",
              " ('e', 'NN'),\n",
              " ('n', 'JJ'),\n",
              " (' ', 'NNP'),\n",
              " ('h', 'NN'),\n",
              " ('e', 'NN'),\n",
              " ('r', 'NN'),\n",
              " (' ', 'NNP'),\n",
              " ('l', 'NN'),\n",
              " ('e', 'NN'),\n",
              " ('g', 'NN'),\n",
              " ('s', 'NN'),\n",
              " (',', ','),\n",
              " (' ', 'NNP'),\n",
              " ('n', 'FW'),\n",
              " ('o', 'NN'),\n",
              " ('t', 'NN'),\n",
              " (' ', 'NNP'),\n",
              " ('w', 'VBZ'),\n",
              " ('a', 'DT'),\n",
              " ('n', 'JJ'),\n",
              " ('t', 'NN'),\n",
              " ('i', 'NN'),\n",
              " ('n', 'VBP'),\n",
              " ('g', 'NN'),\n",
              " (' ', 'NNP'),\n",
              " ('t', 'NN'),\n",
              " ('o', 'NN'),\n",
              " (' ', 'NNP'),\n",
              " ('l', 'NN'),\n",
              " ('e', 'VBZ'),\n",
              " ('a', 'DT'),\n",
              " ('v', 'NN'),\n",
              " ('e', 'NN'),\n",
              " (' ', 'NN'),\n",
              " ('i', 'NN'),\n",
              " ('t', 'VBP'),\n",
              " (' ', 'NN'),\n",
              " ('h', 'NN'),\n",
              " ('o', 'JJ'),\n",
              " ('m', 'NN'),\n",
              " ('e', 'NN'),\n",
              " (' ', 'VBZ'),\n",
              " ('a', 'DT'),\n",
              " ('l', 'NN'),\n",
              " ('o', 'NN'),\n",
              " ('n', 'JJ'),\n",
              " ('e', 'NN'),\n",
              " ('.', '.')]"
            ]
          },
          "metadata": {},
          "execution_count": 144
        }
      ]
    },
    {
      "cell_type": "code",
      "source": [
        "x_tokennize = nltk.word_tokenize(x)\n",
        "x_tokennize"
      ],
      "metadata": {
        "id": "yqO_Zjkx52Rz",
        "colab": {
          "base_uri": "https://localhost:8080/"
        },
        "outputId": "46bcf74d-2c7d-4513-bfc1-97ebccd850c9"
      },
      "execution_count": null,
      "outputs": [
        {
          "output_type": "execute_result",
          "data": {
            "text/plain": [
              "['Bailey',\n",
              " ',',\n",
              " 'the',\n",
              " 'head',\n",
              " 'of',\n",
              " 'an',\n",
              " 'Atlanta',\n",
              " 'household',\n",
              " ',',\n",
              " 'prepares',\n",
              " 'to',\n",
              " 'take',\n",
              " 'his',\n",
              " 'family',\n",
              " 'on',\n",
              " 'a',\n",
              " 'vacation',\n",
              " 'to',\n",
              " 'Florida',\n",
              " '.',\n",
              " 'His',\n",
              " 'mother',\n",
              " '(',\n",
              " 'known',\n",
              " 'only',\n",
              " 'as',\n",
              " 'the',\n",
              " 'grandmother',\n",
              " 'throughout',\n",
              " 'the',\n",
              " 'story',\n",
              " ')',\n",
              " 'warns',\n",
              " 'Bailey',\n",
              " 'that',\n",
              " 'a',\n",
              " 'convict',\n",
              " 'called',\n",
              " 'The',\n",
              " 'Misfit',\n",
              " 'has',\n",
              " 'escaped',\n",
              " 'from',\n",
              " 'prison',\n",
              " 'and',\n",
              " 'is',\n",
              " 'heading',\n",
              " 'towards',\n",
              " 'Florida',\n",
              " '.',\n",
              " 'She',\n",
              " 'suggests',\n",
              " 'a',\n",
              " 'trip',\n",
              " 'to',\n",
              " 'East',\n",
              " 'Tennessee',\n",
              " 'instead',\n",
              " 'but',\n",
              " 'Bailey',\n",
              " 'declines',\n",
              " '.',\n",
              " 'Her',\n",
              " 'grandson',\n",
              " 'John',\n",
              " 'Wesley',\n",
              " 'comments',\n",
              " 'that',\n",
              " 'his',\n",
              " 'grandmother',\n",
              " 'could',\n",
              " 'stay',\n",
              " 'in',\n",
              " 'Atlanta',\n",
              " ',',\n",
              " 'her',\n",
              " 'granddaughter',\n",
              " 'June',\n",
              " 'Star',\n",
              " 'rudely',\n",
              " 'says',\n",
              " 'she',\n",
              " 'wouldnt',\n",
              " 'stay',\n",
              " 'at',\n",
              " 'home',\n",
              " 'to',\n",
              " 'be',\n",
              " 'queen',\n",
              " 'for',\n",
              " 'a',\n",
              " 'day',\n",
              " ',',\n",
              " 'and',\n",
              " 'her',\n",
              " 'infant',\n",
              " 'grandchild',\n",
              " 'is',\n",
              " 'tended',\n",
              " 'to',\n",
              " 'by',\n",
              " 'her',\n",
              " 'daughter-in-law',\n",
              " '.',\n",
              " 'When',\n",
              " 'they',\n",
              " 'leave',\n",
              " 'the',\n",
              " 'next',\n",
              " 'morning',\n",
              " ',',\n",
              " 'the',\n",
              " 'grandmother',\n",
              " 'occupies',\n",
              " 'the',\n",
              " 'backseat',\n",
              " 'of',\n",
              " 'the',\n",
              " 'familys',\n",
              " 'car',\n",
              " ',',\n",
              " 'dressed',\n",
              " 'finely',\n",
              " 'so',\n",
              " 'that',\n",
              " 'if',\n",
              " 'she',\n",
              " 'is',\n",
              " 'killed',\n",
              " 'in',\n",
              " 'an',\n",
              " 'accident',\n",
              " ',',\n",
              " 'she',\n",
              " 'can',\n",
              " 'be',\n",
              " 'recognized',\n",
              " 'as',\n",
              " 'a',\n",
              " 'Southern',\n",
              " 'lady',\n",
              " '.',\n",
              " 'She',\n",
              " 'hides',\n",
              " 'the',\n",
              " 'familys',\n",
              " 'cat',\n",
              " ',',\n",
              " 'Pitty',\n",
              " 'Sing',\n",
              " ',',\n",
              " 'in',\n",
              " 'a',\n",
              " 'basket',\n",
              " 'between',\n",
              " 'her',\n",
              " 'legs',\n",
              " ',',\n",
              " 'not',\n",
              " 'wanting',\n",
              " 'to',\n",
              " 'leave',\n",
              " 'it',\n",
              " 'home',\n",
              " 'alone',\n",
              " '.']"
            ]
          },
          "metadata": {},
          "execution_count": 145
        }
      ]
    },
    {
      "cell_type": "code",
      "source": [
        "x_change = re.sub('[^a-zA-Z]',\" \",x)\n",
        "x_change = x_change.lower()\n",
        "x_change = nltk.word_tokenize(x_change)\n",
        "x_change = [i for i in x_change if i not in stopwords.words('english')]"
      ],
      "metadata": {
        "id": "wGebWLuk7pEh"
      },
      "execution_count": null,
      "outputs": []
    },
    {
      "cell_type": "code",
      "source": [
        "x_lemmatize = [lemmatize.lemmatize(i) for i in x_change]\n",
        "x_lemmatize"
      ],
      "metadata": {
        "colab": {
          "base_uri": "https://localhost:8080/"
        },
        "id": "gW5zcT4r9KTV",
        "outputId": "6ca7a791-125a-49a6-f449-ff08a65e6993"
      },
      "execution_count": null,
      "outputs": [
        {
          "output_type": "execute_result",
          "data": {
            "text/plain": [
              "['bailey',\n",
              " 'head',\n",
              " 'atlanta',\n",
              " 'household',\n",
              " 'prepares',\n",
              " 'take',\n",
              " 'family',\n",
              " 'vacation',\n",
              " 'florida',\n",
              " 'mother',\n",
              " 'known',\n",
              " 'grandmother',\n",
              " 'throughout',\n",
              " 'story',\n",
              " 'warns',\n",
              " 'bailey',\n",
              " 'convict',\n",
              " 'called',\n",
              " 'misfit',\n",
              " 'escaped',\n",
              " 'prison',\n",
              " 'heading',\n",
              " 'towards',\n",
              " 'florida',\n",
              " 'suggests',\n",
              " 'trip',\n",
              " 'east',\n",
              " 'tennessee',\n",
              " 'instead',\n",
              " 'bailey',\n",
              " 'decline',\n",
              " 'grandson',\n",
              " 'john',\n",
              " 'wesley',\n",
              " 'comment',\n",
              " 'grandmother',\n",
              " 'could',\n",
              " 'stay',\n",
              " 'atlanta',\n",
              " 'granddaughter',\n",
              " 'june',\n",
              " 'star',\n",
              " 'rudely',\n",
              " 'say',\n",
              " 'wouldnt',\n",
              " 'stay',\n",
              " 'home',\n",
              " 'queen',\n",
              " 'day',\n",
              " 'infant',\n",
              " 'grandchild',\n",
              " 'tended',\n",
              " 'daughter',\n",
              " 'law',\n",
              " 'leave',\n",
              " 'next',\n",
              " 'morning',\n",
              " 'grandmother',\n",
              " 'occupies',\n",
              " 'backseat',\n",
              " 'family',\n",
              " 'car',\n",
              " 'dressed',\n",
              " 'finely',\n",
              " 'killed',\n",
              " 'accident',\n",
              " 'recognized',\n",
              " 'southern',\n",
              " 'lady',\n",
              " 'hide',\n",
              " 'family',\n",
              " 'cat',\n",
              " 'pitty',\n",
              " 'sing',\n",
              " 'basket',\n",
              " 'leg',\n",
              " 'wanting',\n",
              " 'leave',\n",
              " 'home',\n",
              " 'alone']"
            ]
          },
          "metadata": {},
          "execution_count": 147
        }
      ]
    },
    {
      "cell_type": "code",
      "source": [
        "x_stem = [stem.stem(i) for i in x_change]\n",
        "x_stem"
      ],
      "metadata": {
        "colab": {
          "base_uri": "https://localhost:8080/"
        },
        "id": "WTdhAMVC_yZX",
        "outputId": "f5aba26f-e273-41ed-a401-9da90bd9baf1"
      },
      "execution_count": null,
      "outputs": [
        {
          "output_type": "execute_result",
          "data": {
            "text/plain": [
              "['bailey',\n",
              " 'head',\n",
              " 'atlanta',\n",
              " 'household',\n",
              " 'prepar',\n",
              " 'take',\n",
              " 'famili',\n",
              " 'vacat',\n",
              " 'florida',\n",
              " 'mother',\n",
              " 'known',\n",
              " 'grandmoth',\n",
              " 'throughout',\n",
              " 'stori',\n",
              " 'warn',\n",
              " 'bailey',\n",
              " 'convict',\n",
              " 'call',\n",
              " 'misfit',\n",
              " 'escap',\n",
              " 'prison',\n",
              " 'head',\n",
              " 'toward',\n",
              " 'florida',\n",
              " 'suggest',\n",
              " 'trip',\n",
              " 'east',\n",
              " 'tennesse',\n",
              " 'instead',\n",
              " 'bailey',\n",
              " 'declin',\n",
              " 'grandson',\n",
              " 'john',\n",
              " 'wesley',\n",
              " 'comment',\n",
              " 'grandmoth',\n",
              " 'could',\n",
              " 'stay',\n",
              " 'atlanta',\n",
              " 'granddaught',\n",
              " 'june',\n",
              " 'star',\n",
              " 'rude',\n",
              " 'say',\n",
              " 'wouldnt',\n",
              " 'stay',\n",
              " 'home',\n",
              " 'queen',\n",
              " 'day',\n",
              " 'infant',\n",
              " 'grandchild',\n",
              " 'tend',\n",
              " 'daughter',\n",
              " 'law',\n",
              " 'leav',\n",
              " 'next',\n",
              " 'morn',\n",
              " 'grandmoth',\n",
              " 'occupi',\n",
              " 'backseat',\n",
              " 'famili',\n",
              " 'car',\n",
              " 'dress',\n",
              " 'fine',\n",
              " 'kill',\n",
              " 'accid',\n",
              " 'recogn',\n",
              " 'southern',\n",
              " 'ladi',\n",
              " 'hide',\n",
              " 'famili',\n",
              " 'cat',\n",
              " 'pitti',\n",
              " 'sing',\n",
              " 'basket',\n",
              " 'leg',\n",
              " 'want',\n",
              " 'leav',\n",
              " 'home',\n",
              " 'alon']"
            ]
          },
          "metadata": {},
          "execution_count": 148
        }
      ]
    },
    {
      "cell_type": "code",
      "source": [
        "analyze = vect.build_analyzer()\n",
        "analyze(x)"
      ],
      "metadata": {
        "colab": {
          "base_uri": "https://localhost:8080/"
        },
        "id": "J80whfPjDXpW",
        "outputId": "8f5b6fb3-3cba-42f8-8b0b-a578fb307db0"
      },
      "execution_count": null,
      "outputs": [
        {
          "output_type": "execute_result",
          "data": {
            "text/plain": [
              "['bailey',\n",
              " 'the',\n",
              " 'head',\n",
              " 'of',\n",
              " 'an',\n",
              " 'atlanta',\n",
              " 'household',\n",
              " 'prepares',\n",
              " 'to',\n",
              " 'take',\n",
              " 'his',\n",
              " 'family',\n",
              " 'on',\n",
              " 'vacation',\n",
              " 'to',\n",
              " 'florida',\n",
              " 'his',\n",
              " 'mother',\n",
              " 'known',\n",
              " 'only',\n",
              " 'as',\n",
              " 'the',\n",
              " 'grandmother',\n",
              " 'throughout',\n",
              " 'the',\n",
              " 'story',\n",
              " 'warns',\n",
              " 'bailey',\n",
              " 'that',\n",
              " 'convict',\n",
              " 'called',\n",
              " 'the',\n",
              " 'misfit',\n",
              " 'has',\n",
              " 'escaped',\n",
              " 'from',\n",
              " 'prison',\n",
              " 'and',\n",
              " 'is',\n",
              " 'heading',\n",
              " 'towards',\n",
              " 'florida',\n",
              " 'she',\n",
              " 'suggests',\n",
              " 'trip',\n",
              " 'to',\n",
              " 'east',\n",
              " 'tennessee',\n",
              " 'instead',\n",
              " 'but',\n",
              " 'bailey',\n",
              " 'declines',\n",
              " 'her',\n",
              " 'grandson',\n",
              " 'john',\n",
              " 'wesley',\n",
              " 'comments',\n",
              " 'that',\n",
              " 'his',\n",
              " 'grandmother',\n",
              " 'could',\n",
              " 'stay',\n",
              " 'in',\n",
              " 'atlanta',\n",
              " 'her',\n",
              " 'granddaughter',\n",
              " 'june',\n",
              " 'star',\n",
              " 'rudely',\n",
              " 'says',\n",
              " 'she',\n",
              " 'wouldnt',\n",
              " 'stay',\n",
              " 'at',\n",
              " 'home',\n",
              " 'to',\n",
              " 'be',\n",
              " 'queen',\n",
              " 'for',\n",
              " 'day',\n",
              " 'and',\n",
              " 'her',\n",
              " 'infant',\n",
              " 'grandchild',\n",
              " 'is',\n",
              " 'tended',\n",
              " 'to',\n",
              " 'by',\n",
              " 'her',\n",
              " 'daughter',\n",
              " 'in',\n",
              " 'law',\n",
              " 'when',\n",
              " 'they',\n",
              " 'leave',\n",
              " 'the',\n",
              " 'next',\n",
              " 'morning',\n",
              " 'the',\n",
              " 'grandmother',\n",
              " 'occupies',\n",
              " 'the',\n",
              " 'backseat',\n",
              " 'of',\n",
              " 'the',\n",
              " 'familys',\n",
              " 'car',\n",
              " 'dressed',\n",
              " 'finely',\n",
              " 'so',\n",
              " 'that',\n",
              " 'if',\n",
              " 'she',\n",
              " 'is',\n",
              " 'killed',\n",
              " 'in',\n",
              " 'an',\n",
              " 'accident',\n",
              " 'she',\n",
              " 'can',\n",
              " 'be',\n",
              " 'recognized',\n",
              " 'as',\n",
              " 'southern',\n",
              " 'lady',\n",
              " 'she',\n",
              " 'hides',\n",
              " 'the',\n",
              " 'familys',\n",
              " 'cat',\n",
              " 'pitty',\n",
              " 'sing',\n",
              " 'in',\n",
              " 'basket',\n",
              " 'between',\n",
              " 'her',\n",
              " 'legs',\n",
              " 'not',\n",
              " 'wanting',\n",
              " 'to',\n",
              " 'leave',\n",
              " 'it',\n",
              " 'home',\n",
              " 'alone']"
            ]
          },
          "metadata": {},
          "execution_count": 149
        }
      ]
    },
    {
      "cell_type": "code",
      "source": [
        "x = vect.fit_transform(x.split('.'))"
      ],
      "metadata": {
        "id": "wWERwwOVF62B"
      },
      "execution_count": null,
      "outputs": []
    },
    {
      "cell_type": "code",
      "source": [
        "for ele1, ele2 in zip(vect.get_feature_names(), vect.idf_):\n",
        "  print(ele1 ,'--->', ele2)"
      ],
      "metadata": {
        "colab": {
          "base_uri": "https://localhost:8080/"
        },
        "id": "1RsUk5wHGuUk",
        "outputId": "ed0b19eb-5f8e-49fb-d3e5-288eae4af9a5"
      },
      "execution_count": null,
      "outputs": [
        {
          "output_type": "stream",
          "name": "stdout",
          "text": [
            "accident ---> 2.386294361119891\n",
            "alone ---> 2.386294361119891\n",
            "an ---> 1.9808292530117262\n",
            "and ---> 1.9808292530117262\n",
            "as ---> 1.9808292530117262\n",
            "at ---> 2.386294361119891\n",
            "atlanta ---> 1.9808292530117262\n",
            "backseat ---> 2.386294361119891\n",
            "bailey ---> 1.6931471805599454\n",
            "basket ---> 2.386294361119891\n",
            "be ---> 1.9808292530117262\n",
            "between ---> 2.386294361119891\n",
            "but ---> 2.386294361119891\n",
            "by ---> 2.386294361119891\n",
            "called ---> 2.386294361119891\n",
            "can ---> 2.386294361119891\n",
            "car ---> 2.386294361119891\n",
            "cat ---> 2.386294361119891\n",
            "comments ---> 2.386294361119891\n",
            "convict ---> 2.386294361119891\n",
            "could ---> 2.386294361119891\n",
            "daughter ---> 2.386294361119891\n",
            "day ---> 2.386294361119891\n",
            "declines ---> 2.386294361119891\n",
            "dressed ---> 2.386294361119891\n",
            "east ---> 2.386294361119891\n",
            "escaped ---> 2.386294361119891\n",
            "family ---> 2.386294361119891\n",
            "familys ---> 1.9808292530117262\n",
            "finely ---> 2.386294361119891\n",
            "florida ---> 1.9808292530117262\n",
            "for ---> 2.386294361119891\n",
            "from ---> 2.386294361119891\n",
            "grandchild ---> 2.386294361119891\n",
            "granddaughter ---> 2.386294361119891\n",
            "grandmother ---> 1.6931471805599454\n",
            "grandson ---> 2.386294361119891\n",
            "has ---> 2.386294361119891\n",
            "head ---> 2.386294361119891\n",
            "heading ---> 2.386294361119891\n",
            "her ---> 1.9808292530117262\n",
            "hides ---> 2.386294361119891\n",
            "his ---> 1.6931471805599454\n",
            "home ---> 1.9808292530117262\n",
            "household ---> 2.386294361119891\n",
            "if ---> 2.386294361119891\n",
            "in ---> 1.6931471805599454\n",
            "infant ---> 2.386294361119891\n",
            "instead ---> 2.386294361119891\n",
            "is ---> 1.6931471805599454\n",
            "it ---> 2.386294361119891\n",
            "john ---> 2.386294361119891\n",
            "june ---> 2.386294361119891\n",
            "killed ---> 2.386294361119891\n",
            "known ---> 2.386294361119891\n",
            "lady ---> 2.386294361119891\n",
            "law ---> 2.386294361119891\n",
            "leave ---> 1.9808292530117262\n",
            "legs ---> 2.386294361119891\n",
            "misfit ---> 2.386294361119891\n",
            "morning ---> 2.386294361119891\n",
            "mother ---> 2.386294361119891\n",
            "next ---> 2.386294361119891\n",
            "not ---> 2.386294361119891\n",
            "occupies ---> 2.386294361119891\n",
            "of ---> 1.9808292530117262\n",
            "on ---> 2.386294361119891\n",
            "only ---> 2.386294361119891\n",
            "pitty ---> 2.386294361119891\n",
            "prepares ---> 2.386294361119891\n",
            "prison ---> 2.386294361119891\n",
            "queen ---> 2.386294361119891\n",
            "recognized ---> 2.386294361119891\n",
            "rudely ---> 2.386294361119891\n",
            "says ---> 2.386294361119891\n",
            "she ---> 1.4700036292457357\n",
            "sing ---> 2.386294361119891\n",
            "so ---> 2.386294361119891\n",
            "southern ---> 2.386294361119891\n",
            "star ---> 2.386294361119891\n",
            "stay ---> 2.386294361119891\n",
            "story ---> 2.386294361119891\n",
            "suggests ---> 2.386294361119891\n",
            "take ---> 2.386294361119891\n",
            "tended ---> 2.386294361119891\n",
            "tennessee ---> 2.386294361119891\n",
            "that ---> 1.6931471805599454\n",
            "the ---> 1.4700036292457357\n",
            "they ---> 2.386294361119891\n",
            "throughout ---> 2.386294361119891\n",
            "to ---> 1.4700036292457357\n",
            "towards ---> 2.386294361119891\n",
            "trip ---> 2.386294361119891\n",
            "vacation ---> 2.386294361119891\n",
            "wanting ---> 2.386294361119891\n",
            "warns ---> 2.386294361119891\n",
            "wesley ---> 2.386294361119891\n",
            "when ---> 2.386294361119891\n",
            "wouldnt ---> 2.386294361119891\n"
          ]
        },
        {
          "output_type": "stream",
          "name": "stderr",
          "text": [
            "/usr/local/lib/python3.7/dist-packages/sklearn/utils/deprecation.py:87: FutureWarning: Function get_feature_names is deprecated; get_feature_names is deprecated in 1.0 and will be removed in 1.2. Please use get_feature_names_out instead.\n",
            "  warnings.warn(msg, category=FutureWarning)\n"
          ]
        }
      ]
    },
    {
      "cell_type": "code",
      "source": [
        "vect.vocabulary_"
      ],
      "metadata": {
        "colab": {
          "base_uri": "https://localhost:8080/"
        },
        "id": "y8KVSIrTHPQN",
        "outputId": "24a75adf-1178-48e8-e58d-f40a17864a20"
      },
      "execution_count": null,
      "outputs": [
        {
          "output_type": "execute_result",
          "data": {
            "text/plain": [
              "{'accident': 0,\n",
              " 'alone': 1,\n",
              " 'an': 2,\n",
              " 'and': 3,\n",
              " 'as': 4,\n",
              " 'at': 5,\n",
              " 'atlanta': 6,\n",
              " 'backseat': 7,\n",
              " 'bailey': 8,\n",
              " 'basket': 9,\n",
              " 'be': 10,\n",
              " 'between': 11,\n",
              " 'but': 12,\n",
              " 'by': 13,\n",
              " 'called': 14,\n",
              " 'can': 15,\n",
              " 'car': 16,\n",
              " 'cat': 17,\n",
              " 'comments': 18,\n",
              " 'convict': 19,\n",
              " 'could': 20,\n",
              " 'daughter': 21,\n",
              " 'day': 22,\n",
              " 'declines': 23,\n",
              " 'dressed': 24,\n",
              " 'east': 25,\n",
              " 'escaped': 26,\n",
              " 'family': 27,\n",
              " 'familys': 28,\n",
              " 'finely': 29,\n",
              " 'florida': 30,\n",
              " 'for': 31,\n",
              " 'from': 32,\n",
              " 'grandchild': 33,\n",
              " 'granddaughter': 34,\n",
              " 'grandmother': 35,\n",
              " 'grandson': 36,\n",
              " 'has': 37,\n",
              " 'head': 38,\n",
              " 'heading': 39,\n",
              " 'her': 40,\n",
              " 'hides': 41,\n",
              " 'his': 42,\n",
              " 'home': 43,\n",
              " 'household': 44,\n",
              " 'if': 45,\n",
              " 'in': 46,\n",
              " 'infant': 47,\n",
              " 'instead': 48,\n",
              " 'is': 49,\n",
              " 'it': 50,\n",
              " 'john': 51,\n",
              " 'june': 52,\n",
              " 'killed': 53,\n",
              " 'known': 54,\n",
              " 'lady': 55,\n",
              " 'law': 56,\n",
              " 'leave': 57,\n",
              " 'legs': 58,\n",
              " 'misfit': 59,\n",
              " 'morning': 60,\n",
              " 'mother': 61,\n",
              " 'next': 62,\n",
              " 'not': 63,\n",
              " 'occupies': 64,\n",
              " 'of': 65,\n",
              " 'on': 66,\n",
              " 'only': 67,\n",
              " 'pitty': 68,\n",
              " 'prepares': 69,\n",
              " 'prison': 70,\n",
              " 'queen': 71,\n",
              " 'recognized': 72,\n",
              " 'rudely': 73,\n",
              " 'says': 74,\n",
              " 'she': 75,\n",
              " 'sing': 76,\n",
              " 'so': 77,\n",
              " 'southern': 78,\n",
              " 'star': 79,\n",
              " 'stay': 80,\n",
              " 'story': 81,\n",
              " 'suggests': 82,\n",
              " 'take': 83,\n",
              " 'tended': 84,\n",
              " 'tennessee': 85,\n",
              " 'that': 86,\n",
              " 'the': 87,\n",
              " 'they': 88,\n",
              " 'throughout': 89,\n",
              " 'to': 90,\n",
              " 'towards': 91,\n",
              " 'trip': 92,\n",
              " 'vacation': 93,\n",
              " 'wanting': 94,\n",
              " 'warns': 95,\n",
              " 'wesley': 96,\n",
              " 'when': 97,\n",
              " 'wouldnt': 98}"
            ]
          },
          "metadata": {},
          "execution_count": 152
        }
      ]
    },
    {
      "cell_type": "code",
      "source": [
        "x"
      ],
      "metadata": {
        "colab": {
          "base_uri": "https://localhost:8080/"
        },
        "id": "ws0ZQSKkHeel",
        "outputId": "c1414448-e0db-47fb-82a0-10fcc0c76d51"
      },
      "execution_count": null,
      "outputs": [
        {
          "output_type": "execute_result",
          "data": {
            "text/plain": [
              "<7x99 sparse matrix of type '<class 'numpy.float64'>'\n",
              "\twith 131 stored elements in Compressed Sparse Row format>"
            ]
          },
          "metadata": {},
          "execution_count": 153
        }
      ]
    },
    {
      "cell_type": "code",
      "source": [
        "x.toarray()"
      ],
      "metadata": {
        "colab": {
          "base_uri": "https://localhost:8080/"
        },
        "id": "r0ldJBmCHqAf",
        "outputId": "ce2a3e90-9740-4a48-a153-6bb39ae5a4c5"
      },
      "execution_count": null,
      "outputs": [
        {
          "output_type": "execute_result",
          "data": {
            "text/plain": [
              "array([[0.        , 0.        , 0.23329139, 0.        , 0.        ,\n",
              "        0.        , 0.23329139, 0.        , 0.19940975, 0.        ,\n",
              "        0.        , 0.        , 0.        , 0.        , 0.        ,\n",
              "        0.        , 0.        , 0.        , 0.        , 0.        ,\n",
              "        0.        , 0.        , 0.        , 0.        , 0.        ,\n",
              "        0.        , 0.        , 0.28104488, 0.        , 0.        ,\n",
              "        0.23329139, 0.        , 0.        , 0.        , 0.        ,\n",
              "        0.        , 0.        , 0.        , 0.28104488, 0.        ,\n",
              "        0.        , 0.        , 0.19940975, 0.        , 0.28104488,\n",
              "        0.        , 0.        , 0.        , 0.        , 0.        ,\n",
              "        0.        , 0.        , 0.        , 0.        , 0.        ,\n",
              "        0.        , 0.        , 0.        , 0.        , 0.        ,\n",
              "        0.        , 0.        , 0.        , 0.        , 0.        ,\n",
              "        0.23329139, 0.28104488, 0.        , 0.        , 0.28104488,\n",
              "        0.        , 0.        , 0.        , 0.        , 0.        ,\n",
              "        0.        , 0.        , 0.        , 0.        , 0.        ,\n",
              "        0.        , 0.        , 0.        , 0.28104488, 0.        ,\n",
              "        0.        , 0.        , 0.1731291 , 0.        , 0.        ,\n",
              "        0.3462582 , 0.        , 0.        , 0.28104488, 0.        ,\n",
              "        0.        , 0.        , 0.        , 0.        ],\n",
              "       [0.        , 0.        , 0.        , 0.17308634, 0.17308634,\n",
              "        0.        , 0.        , 0.        , 0.14794846, 0.        ,\n",
              "        0.        , 0.        , 0.        , 0.        , 0.20851618,\n",
              "        0.        , 0.        , 0.        , 0.        , 0.20851618,\n",
              "        0.        , 0.        , 0.        , 0.        , 0.        ,\n",
              "        0.        , 0.20851618, 0.        , 0.        , 0.        ,\n",
              "        0.17308634, 0.        , 0.20851618, 0.        , 0.        ,\n",
              "        0.14794846, 0.        , 0.20851618, 0.        , 0.20851618,\n",
              "        0.        , 0.        , 0.14794846, 0.        , 0.        ,\n",
              "        0.        , 0.        , 0.        , 0.        , 0.14794846,\n",
              "        0.        , 0.        , 0.        , 0.        , 0.20851618,\n",
              "        0.        , 0.        , 0.        , 0.        , 0.20851618,\n",
              "        0.        , 0.20851618, 0.        , 0.        , 0.        ,\n",
              "        0.        , 0.        , 0.20851618, 0.        , 0.        ,\n",
              "        0.20851618, 0.        , 0.        , 0.        , 0.        ,\n",
              "        0.        , 0.        , 0.        , 0.        , 0.        ,\n",
              "        0.        , 0.20851618, 0.        , 0.        , 0.        ,\n",
              "        0.        , 0.14794846, 0.38535004, 0.        , 0.20851618,\n",
              "        0.        , 0.20851618, 0.        , 0.        , 0.        ,\n",
              "        0.20851618, 0.        , 0.        , 0.        ],\n",
              "       [0.        , 0.        , 0.        , 0.        , 0.        ,\n",
              "        0.        , 0.        , 0.        , 0.24684128, 0.        ,\n",
              "        0.        , 0.        , 0.34789412, 0.        , 0.        ,\n",
              "        0.        , 0.        , 0.        , 0.        , 0.        ,\n",
              "        0.        , 0.        , 0.        , 0.34789412, 0.        ,\n",
              "        0.34789412, 0.        , 0.        , 0.        , 0.        ,\n",
              "        0.        , 0.        , 0.        , 0.        , 0.        ,\n",
              "        0.        , 0.        , 0.        , 0.        , 0.        ,\n",
              "        0.        , 0.        , 0.        , 0.        , 0.        ,\n",
              "        0.        , 0.        , 0.        , 0.34789412, 0.        ,\n",
              "        0.        , 0.        , 0.        , 0.        , 0.        ,\n",
              "        0.        , 0.        , 0.        , 0.        , 0.        ,\n",
              "        0.        , 0.        , 0.        , 0.        , 0.        ,\n",
              "        0.        , 0.        , 0.        , 0.        , 0.        ,\n",
              "        0.        , 0.        , 0.        , 0.        , 0.        ,\n",
              "        0.21430953, 0.        , 0.        , 0.        , 0.        ,\n",
              "        0.        , 0.        , 0.34789412, 0.        , 0.        ,\n",
              "        0.34789412, 0.        , 0.        , 0.        , 0.        ,\n",
              "        0.21430953, 0.        , 0.34789412, 0.        , 0.        ,\n",
              "        0.        , 0.        , 0.        , 0.        ],\n",
              "       [0.        , 0.        , 0.        , 0.12414851, 0.        ,\n",
              "        0.14956105, 0.12414851, 0.        , 0.        , 0.        ,\n",
              "        0.12414851, 0.        , 0.        , 0.14956105, 0.        ,\n",
              "        0.        , 0.        , 0.        , 0.14956105, 0.        ,\n",
              "        0.14956105, 0.14956105, 0.14956105, 0.        , 0.        ,\n",
              "        0.        , 0.        , 0.        , 0.        , 0.        ,\n",
              "        0.        , 0.14956105, 0.        , 0.14956105, 0.14956105,\n",
              "        0.10611803, 0.14956105, 0.        , 0.        , 0.        ,\n",
              "        0.49659405, 0.        , 0.10611803, 0.12414851, 0.        ,\n",
              "        0.        , 0.21223606, 0.14956105, 0.        , 0.10611803,\n",
              "        0.        , 0.14956105, 0.14956105, 0.        , 0.        ,\n",
              "        0.        , 0.14956105, 0.        , 0.        , 0.        ,\n",
              "        0.        , 0.        , 0.        , 0.        , 0.        ,\n",
              "        0.        , 0.        , 0.        , 0.        , 0.        ,\n",
              "        0.        , 0.14956105, 0.        , 0.14956105, 0.14956105,\n",
              "        0.09213251, 0.        , 0.        , 0.        , 0.14956105,\n",
              "        0.29912209, 0.        , 0.        , 0.        , 0.14956105,\n",
              "        0.        , 0.10611803, 0.        , 0.        , 0.        ,\n",
              "        0.18426501, 0.        , 0.        , 0.        , 0.        ,\n",
              "        0.        , 0.14956105, 0.        , 0.14956105],\n",
              "       [0.18037034, 0.        , 0.14972288, 0.        , 0.14972288,\n",
              "        0.        , 0.        , 0.18037034, 0.        , 0.        ,\n",
              "        0.14972288, 0.        , 0.        , 0.        , 0.        ,\n",
              "        0.18037034, 0.18037034, 0.        , 0.        , 0.        ,\n",
              "        0.        , 0.        , 0.        , 0.        , 0.18037034,\n",
              "        0.        , 0.        , 0.        , 0.14972288, 0.18037034,\n",
              "        0.        , 0.        , 0.        , 0.        , 0.        ,\n",
              "        0.12797815, 0.        , 0.        , 0.        , 0.        ,\n",
              "        0.        , 0.        , 0.        , 0.        , 0.        ,\n",
              "        0.18037034, 0.12797815, 0.        , 0.        , 0.12797815,\n",
              "        0.        , 0.        , 0.        , 0.18037034, 0.        ,\n",
              "        0.18037034, 0.        , 0.14972288, 0.        , 0.        ,\n",
              "        0.18037034, 0.        , 0.18037034, 0.        , 0.18037034,\n",
              "        0.14972288, 0.        , 0.        , 0.        , 0.        ,\n",
              "        0.        , 0.        , 0.18037034, 0.        , 0.        ,\n",
              "        0.22222326, 0.        , 0.18037034, 0.18037034, 0.        ,\n",
              "        0.        , 0.        , 0.        , 0.        , 0.        ,\n",
              "        0.        , 0.12797815, 0.44444653, 0.18037034, 0.        ,\n",
              "        0.        , 0.        , 0.        , 0.        , 0.        ,\n",
              "        0.        , 0.        , 0.18037034, 0.        ],\n",
              "       [0.        , 0.25483979, 0.        , 0.        , 0.        ,\n",
              "        0.        , 0.        , 0.        , 0.        , 0.25483979,\n",
              "        0.        , 0.25483979, 0.        , 0.        , 0.        ,\n",
              "        0.        , 0.        , 0.25483979, 0.        , 0.        ,\n",
              "        0.        , 0.        , 0.        , 0.        , 0.        ,\n",
              "        0.        , 0.        , 0.        , 0.21153891, 0.        ,\n",
              "        0.        , 0.        , 0.        , 0.        , 0.        ,\n",
              "        0.        , 0.        , 0.        , 0.        , 0.        ,\n",
              "        0.21153891, 0.25483979, 0.        , 0.21153891, 0.        ,\n",
              "        0.        , 0.18081645, 0.        , 0.        , 0.        ,\n",
              "        0.25483979, 0.        , 0.        , 0.        , 0.        ,\n",
              "        0.        , 0.        , 0.21153891, 0.25483979, 0.        ,\n",
              "        0.        , 0.        , 0.        , 0.25483979, 0.        ,\n",
              "        0.        , 0.        , 0.        , 0.25483979, 0.        ,\n",
              "        0.        , 0.        , 0.        , 0.        , 0.        ,\n",
              "        0.15698626, 0.25483979, 0.        , 0.        , 0.        ,\n",
              "        0.        , 0.        , 0.        , 0.        , 0.        ,\n",
              "        0.        , 0.        , 0.15698626, 0.        , 0.        ,\n",
              "        0.15698626, 0.        , 0.        , 0.        , 0.25483979,\n",
              "        0.        , 0.        , 0.        , 0.        ],\n",
              "       [0.        , 0.        , 0.        , 0.        , 0.        ,\n",
              "        0.        , 0.        , 0.        , 0.        , 0.        ,\n",
              "        0.        , 0.        , 0.        , 0.        , 0.        ,\n",
              "        0.        , 0.        , 0.        , 0.        , 0.        ,\n",
              "        0.        , 0.        , 0.        , 0.        , 0.        ,\n",
              "        0.        , 0.        , 0.        , 0.        , 0.        ,\n",
              "        0.        , 0.        , 0.        , 0.        , 0.        ,\n",
              "        0.        , 0.        , 0.        , 0.        , 0.        ,\n",
              "        0.        , 0.        , 0.        , 0.        , 0.        ,\n",
              "        0.        , 0.        , 0.        , 0.        , 0.        ,\n",
              "        0.        , 0.        , 0.        , 0.        , 0.        ,\n",
              "        0.        , 0.        , 0.        , 0.        , 0.        ,\n",
              "        0.        , 0.        , 0.        , 0.        , 0.        ,\n",
              "        0.        , 0.        , 0.        , 0.        , 0.        ,\n",
              "        0.        , 0.        , 0.        , 0.        , 0.        ,\n",
              "        0.        , 0.        , 0.        , 0.        , 0.        ,\n",
              "        0.        , 0.        , 0.        , 0.        , 0.        ,\n",
              "        0.        , 0.        , 0.        , 0.        , 0.        ,\n",
              "        0.        , 0.        , 0.        , 0.        , 0.        ,\n",
              "        0.        , 0.        , 0.        , 0.        ]])"
            ]
          },
          "metadata": {},
          "execution_count": 154
        }
      ]
    },
    {
      "cell_type": "markdown",
      "source": [
        "Assignment 8"
      ],
      "metadata": {
        "id": "CjbevSJUMDm9"
      }
    },
    {
      "cell_type": "code",
      "source": [
        "import pandas as pd\n",
        "import seaborn as sns\n",
        "import matplotlib.pyplot as plt\n",
        "%matplotlib inline\n",
        "from matplotlib import rcParams\n",
        "rcParams['figure.figsize']=15,6"
      ],
      "metadata": {
        "id": "hOS9jVV_Hxzy"
      },
      "execution_count": null,
      "outputs": []
    },
    {
      "cell_type": "code",
      "source": [
        "df = pd.read_csv(\"/content/titanic_train.csv\")"
      ],
      "metadata": {
        "id": "rIDUXF0gNJ4N"
      },
      "execution_count": null,
      "outputs": []
    },
    {
      "cell_type": "code",
      "source": [
        "df"
      ],
      "metadata": {
        "colab": {
          "base_uri": "https://localhost:8080/",
          "height": 869
        },
        "id": "h43TJ_VrNQ83",
        "outputId": "5e28bf56-942d-436a-f54b-b594b6c64e57"
      },
      "execution_count": null,
      "outputs": [
        {
          "output_type": "execute_result",
          "data": {
            "text/plain": [
              "     passenger_id  pclass                                               name  \\\n",
              "0            1216       3                                 Smyth, Miss. Julia   \n",
              "1             699       3                                    Cacic, Mr. Luka   \n",
              "2            1267       3  Van Impe, Mrs. Jean Baptiste (Rosalie Paula Go...   \n",
              "3             449       2              Hocking, Mrs. Elizabeth (Eliza Needs)   \n",
              "4             576       2                                    Veal, Mr. James   \n",
              "..            ...     ...                                                ...   \n",
              "845           158       1                        Hipkins, Mr. William Edward   \n",
              "846           174       1                            Kent, Mr. Edward Austin   \n",
              "847           467       2                Kantor, Mrs. Sinai (Miriam Sternin)   \n",
              "848          1112       3                          Peacock, Miss. Treasteall   \n",
              "849           425       2                              Greenberg, Mr. Samuel   \n",
              "\n",
              "        sex   age  sibsp  parch              ticket     fare cabin embarked  \\\n",
              "0    female   NaN      0      0              335432   7.7333   NaN        Q   \n",
              "1      male  38.0      0      0              315089   8.6625   NaN        S   \n",
              "2    female  30.0      1      1              345773  24.1500   NaN        S   \n",
              "3    female  54.0      1      3               29105  23.0000   NaN        S   \n",
              "4      male  40.0      0      0               28221  13.0000   NaN        S   \n",
              "..      ...   ...    ...    ...                 ...      ...   ...      ...   \n",
              "845    male  55.0      0      0                 680  50.0000   C39        S   \n",
              "846    male  58.0      0      0               11771  29.7000   B37        C   \n",
              "847  female  24.0      1      0              244367  26.0000   NaN        S   \n",
              "848  female   3.0      1      1  SOTON/O.Q. 3101315  13.7750   NaN        S   \n",
              "849    male  52.0      0      0              250647  13.0000   NaN        S   \n",
              "\n",
              "    boat   body                 home.dest  survived  \n",
              "0     13    NaN                       NaN         1  \n",
              "1    NaN    NaN                   Croatia         0  \n",
              "2    NaN    NaN                       NaN         0  \n",
              "3      4    NaN      Cornwall / Akron, OH         1  \n",
              "4    NaN    NaN  Barre, Co Washington, VT         0  \n",
              "..   ...    ...                       ...       ...  \n",
              "845  NaN    NaN       London / Birmingham         0  \n",
              "846  NaN  258.0               Buffalo, NY         0  \n",
              "847   12    NaN        Moscow / Bronx, NY         1  \n",
              "848  NaN    NaN                       NaN         0  \n",
              "849  NaN   19.0                 Bronx, NY         0  \n",
              "\n",
              "[850 rows x 15 columns]"
            ],
            "text/html": [
              "\n",
              "  <div id=\"df-6cb826f2-6b13-4c64-bb7a-e834f30ab990\">\n",
              "    <div class=\"colab-df-container\">\n",
              "      <div>\n",
              "<style scoped>\n",
              "    .dataframe tbody tr th:only-of-type {\n",
              "        vertical-align: middle;\n",
              "    }\n",
              "\n",
              "    .dataframe tbody tr th {\n",
              "        vertical-align: top;\n",
              "    }\n",
              "\n",
              "    .dataframe thead th {\n",
              "        text-align: right;\n",
              "    }\n",
              "</style>\n",
              "<table border=\"1\" class=\"dataframe\">\n",
              "  <thead>\n",
              "    <tr style=\"text-align: right;\">\n",
              "      <th></th>\n",
              "      <th>passenger_id</th>\n",
              "      <th>pclass</th>\n",
              "      <th>name</th>\n",
              "      <th>sex</th>\n",
              "      <th>age</th>\n",
              "      <th>sibsp</th>\n",
              "      <th>parch</th>\n",
              "      <th>ticket</th>\n",
              "      <th>fare</th>\n",
              "      <th>cabin</th>\n",
              "      <th>embarked</th>\n",
              "      <th>boat</th>\n",
              "      <th>body</th>\n",
              "      <th>home.dest</th>\n",
              "      <th>survived</th>\n",
              "    </tr>\n",
              "  </thead>\n",
              "  <tbody>\n",
              "    <tr>\n",
              "      <th>0</th>\n",
              "      <td>1216</td>\n",
              "      <td>3</td>\n",
              "      <td>Smyth, Miss. Julia</td>\n",
              "      <td>female</td>\n",
              "      <td>NaN</td>\n",
              "      <td>0</td>\n",
              "      <td>0</td>\n",
              "      <td>335432</td>\n",
              "      <td>7.7333</td>\n",
              "      <td>NaN</td>\n",
              "      <td>Q</td>\n",
              "      <td>13</td>\n",
              "      <td>NaN</td>\n",
              "      <td>NaN</td>\n",
              "      <td>1</td>\n",
              "    </tr>\n",
              "    <tr>\n",
              "      <th>1</th>\n",
              "      <td>699</td>\n",
              "      <td>3</td>\n",
              "      <td>Cacic, Mr. Luka</td>\n",
              "      <td>male</td>\n",
              "      <td>38.0</td>\n",
              "      <td>0</td>\n",
              "      <td>0</td>\n",
              "      <td>315089</td>\n",
              "      <td>8.6625</td>\n",
              "      <td>NaN</td>\n",
              "      <td>S</td>\n",
              "      <td>NaN</td>\n",
              "      <td>NaN</td>\n",
              "      <td>Croatia</td>\n",
              "      <td>0</td>\n",
              "    </tr>\n",
              "    <tr>\n",
              "      <th>2</th>\n",
              "      <td>1267</td>\n",
              "      <td>3</td>\n",
              "      <td>Van Impe, Mrs. Jean Baptiste (Rosalie Paula Go...</td>\n",
              "      <td>female</td>\n",
              "      <td>30.0</td>\n",
              "      <td>1</td>\n",
              "      <td>1</td>\n",
              "      <td>345773</td>\n",
              "      <td>24.1500</td>\n",
              "      <td>NaN</td>\n",
              "      <td>S</td>\n",
              "      <td>NaN</td>\n",
              "      <td>NaN</td>\n",
              "      <td>NaN</td>\n",
              "      <td>0</td>\n",
              "    </tr>\n",
              "    <tr>\n",
              "      <th>3</th>\n",
              "      <td>449</td>\n",
              "      <td>2</td>\n",
              "      <td>Hocking, Mrs. Elizabeth (Eliza Needs)</td>\n",
              "      <td>female</td>\n",
              "      <td>54.0</td>\n",
              "      <td>1</td>\n",
              "      <td>3</td>\n",
              "      <td>29105</td>\n",
              "      <td>23.0000</td>\n",
              "      <td>NaN</td>\n",
              "      <td>S</td>\n",
              "      <td>4</td>\n",
              "      <td>NaN</td>\n",
              "      <td>Cornwall / Akron, OH</td>\n",
              "      <td>1</td>\n",
              "    </tr>\n",
              "    <tr>\n",
              "      <th>4</th>\n",
              "      <td>576</td>\n",
              "      <td>2</td>\n",
              "      <td>Veal, Mr. James</td>\n",
              "      <td>male</td>\n",
              "      <td>40.0</td>\n",
              "      <td>0</td>\n",
              "      <td>0</td>\n",
              "      <td>28221</td>\n",
              "      <td>13.0000</td>\n",
              "      <td>NaN</td>\n",
              "      <td>S</td>\n",
              "      <td>NaN</td>\n",
              "      <td>NaN</td>\n",
              "      <td>Barre, Co Washington, VT</td>\n",
              "      <td>0</td>\n",
              "    </tr>\n",
              "    <tr>\n",
              "      <th>...</th>\n",
              "      <td>...</td>\n",
              "      <td>...</td>\n",
              "      <td>...</td>\n",
              "      <td>...</td>\n",
              "      <td>...</td>\n",
              "      <td>...</td>\n",
              "      <td>...</td>\n",
              "      <td>...</td>\n",
              "      <td>...</td>\n",
              "      <td>...</td>\n",
              "      <td>...</td>\n",
              "      <td>...</td>\n",
              "      <td>...</td>\n",
              "      <td>...</td>\n",
              "      <td>...</td>\n",
              "    </tr>\n",
              "    <tr>\n",
              "      <th>845</th>\n",
              "      <td>158</td>\n",
              "      <td>1</td>\n",
              "      <td>Hipkins, Mr. William Edward</td>\n",
              "      <td>male</td>\n",
              "      <td>55.0</td>\n",
              "      <td>0</td>\n",
              "      <td>0</td>\n",
              "      <td>680</td>\n",
              "      <td>50.0000</td>\n",
              "      <td>C39</td>\n",
              "      <td>S</td>\n",
              "      <td>NaN</td>\n",
              "      <td>NaN</td>\n",
              "      <td>London / Birmingham</td>\n",
              "      <td>0</td>\n",
              "    </tr>\n",
              "    <tr>\n",
              "      <th>846</th>\n",
              "      <td>174</td>\n",
              "      <td>1</td>\n",
              "      <td>Kent, Mr. Edward Austin</td>\n",
              "      <td>male</td>\n",
              "      <td>58.0</td>\n",
              "      <td>0</td>\n",
              "      <td>0</td>\n",
              "      <td>11771</td>\n",
              "      <td>29.7000</td>\n",
              "      <td>B37</td>\n",
              "      <td>C</td>\n",
              "      <td>NaN</td>\n",
              "      <td>258.0</td>\n",
              "      <td>Buffalo, NY</td>\n",
              "      <td>0</td>\n",
              "    </tr>\n",
              "    <tr>\n",
              "      <th>847</th>\n",
              "      <td>467</td>\n",
              "      <td>2</td>\n",
              "      <td>Kantor, Mrs. Sinai (Miriam Sternin)</td>\n",
              "      <td>female</td>\n",
              "      <td>24.0</td>\n",
              "      <td>1</td>\n",
              "      <td>0</td>\n",
              "      <td>244367</td>\n",
              "      <td>26.0000</td>\n",
              "      <td>NaN</td>\n",
              "      <td>S</td>\n",
              "      <td>12</td>\n",
              "      <td>NaN</td>\n",
              "      <td>Moscow / Bronx, NY</td>\n",
              "      <td>1</td>\n",
              "    </tr>\n",
              "    <tr>\n",
              "      <th>848</th>\n",
              "      <td>1112</td>\n",
              "      <td>3</td>\n",
              "      <td>Peacock, Miss. Treasteall</td>\n",
              "      <td>female</td>\n",
              "      <td>3.0</td>\n",
              "      <td>1</td>\n",
              "      <td>1</td>\n",
              "      <td>SOTON/O.Q. 3101315</td>\n",
              "      <td>13.7750</td>\n",
              "      <td>NaN</td>\n",
              "      <td>S</td>\n",
              "      <td>NaN</td>\n",
              "      <td>NaN</td>\n",
              "      <td>NaN</td>\n",
              "      <td>0</td>\n",
              "    </tr>\n",
              "    <tr>\n",
              "      <th>849</th>\n",
              "      <td>425</td>\n",
              "      <td>2</td>\n",
              "      <td>Greenberg, Mr. Samuel</td>\n",
              "      <td>male</td>\n",
              "      <td>52.0</td>\n",
              "      <td>0</td>\n",
              "      <td>0</td>\n",
              "      <td>250647</td>\n",
              "      <td>13.0000</td>\n",
              "      <td>NaN</td>\n",
              "      <td>S</td>\n",
              "      <td>NaN</td>\n",
              "      <td>19.0</td>\n",
              "      <td>Bronx, NY</td>\n",
              "      <td>0</td>\n",
              "    </tr>\n",
              "  </tbody>\n",
              "</table>\n",
              "<p>850 rows × 15 columns</p>\n",
              "</div>\n",
              "      <button class=\"colab-df-convert\" onclick=\"convertToInteractive('df-6cb826f2-6b13-4c64-bb7a-e834f30ab990')\"\n",
              "              title=\"Convert this dataframe to an interactive table.\"\n",
              "              style=\"display:none;\">\n",
              "        \n",
              "  <svg xmlns=\"http://www.w3.org/2000/svg\" height=\"24px\"viewBox=\"0 0 24 24\"\n",
              "       width=\"24px\">\n",
              "    <path d=\"M0 0h24v24H0V0z\" fill=\"none\"/>\n",
              "    <path d=\"M18.56 5.44l.94 2.06.94-2.06 2.06-.94-2.06-.94-.94-2.06-.94 2.06-2.06.94zm-11 1L8.5 8.5l.94-2.06 2.06-.94-2.06-.94L8.5 2.5l-.94 2.06-2.06.94zm10 10l.94 2.06.94-2.06 2.06-.94-2.06-.94-.94-2.06-.94 2.06-2.06.94z\"/><path d=\"M17.41 7.96l-1.37-1.37c-.4-.4-.92-.59-1.43-.59-.52 0-1.04.2-1.43.59L10.3 9.45l-7.72 7.72c-.78.78-.78 2.05 0 2.83L4 21.41c.39.39.9.59 1.41.59.51 0 1.02-.2 1.41-.59l7.78-7.78 2.81-2.81c.8-.78.8-2.07 0-2.86zM5.41 20L4 18.59l7.72-7.72 1.47 1.35L5.41 20z\"/>\n",
              "  </svg>\n",
              "      </button>\n",
              "      \n",
              "  <style>\n",
              "    .colab-df-container {\n",
              "      display:flex;\n",
              "      flex-wrap:wrap;\n",
              "      gap: 12px;\n",
              "    }\n",
              "\n",
              "    .colab-df-convert {\n",
              "      background-color: #E8F0FE;\n",
              "      border: none;\n",
              "      border-radius: 50%;\n",
              "      cursor: pointer;\n",
              "      display: none;\n",
              "      fill: #1967D2;\n",
              "      height: 32px;\n",
              "      padding: 0 0 0 0;\n",
              "      width: 32px;\n",
              "    }\n",
              "\n",
              "    .colab-df-convert:hover {\n",
              "      background-color: #E2EBFA;\n",
              "      box-shadow: 0px 1px 2px rgba(60, 64, 67, 0.3), 0px 1px 3px 1px rgba(60, 64, 67, 0.15);\n",
              "      fill: #174EA6;\n",
              "    }\n",
              "\n",
              "    [theme=dark] .colab-df-convert {\n",
              "      background-color: #3B4455;\n",
              "      fill: #D2E3FC;\n",
              "    }\n",
              "\n",
              "    [theme=dark] .colab-df-convert:hover {\n",
              "      background-color: #434B5C;\n",
              "      box-shadow: 0px 1px 3px 1px rgba(0, 0, 0, 0.15);\n",
              "      filter: drop-shadow(0px 1px 2px rgba(0, 0, 0, 0.3));\n",
              "      fill: #FFFFFF;\n",
              "    }\n",
              "  </style>\n",
              "\n",
              "      <script>\n",
              "        const buttonEl =\n",
              "          document.querySelector('#df-6cb826f2-6b13-4c64-bb7a-e834f30ab990 button.colab-df-convert');\n",
              "        buttonEl.style.display =\n",
              "          google.colab.kernel.accessAllowed ? 'block' : 'none';\n",
              "\n",
              "        async function convertToInteractive(key) {\n",
              "          const element = document.querySelector('#df-6cb826f2-6b13-4c64-bb7a-e834f30ab990');\n",
              "          const dataTable =\n",
              "            await google.colab.kernel.invokeFunction('convertToInteractive',\n",
              "                                                     [key], {});\n",
              "          if (!dataTable) return;\n",
              "\n",
              "          const docLinkHtml = 'Like what you see? Visit the ' +\n",
              "            '<a target=\"_blank\" href=https://colab.research.google.com/notebooks/data_table.ipynb>data table notebook</a>'\n",
              "            + ' to learn more about interactive tables.';\n",
              "          element.innerHTML = '';\n",
              "          dataTable['output_type'] = 'display_data';\n",
              "          await google.colab.output.renderOutput(dataTable, element);\n",
              "          const docLink = document.createElement('div');\n",
              "          docLink.innerHTML = docLinkHtml;\n",
              "          element.appendChild(docLink);\n",
              "        }\n",
              "      </script>\n",
              "    </div>\n",
              "  </div>\n",
              "  "
            ]
          },
          "metadata": {},
          "execution_count": 157
        }
      ]
    },
    {
      "cell_type": "code",
      "source": [
        "df.isnull().sum()"
      ],
      "metadata": {
        "colab": {
          "base_uri": "https://localhost:8080/"
        },
        "id": "kn33qwl4NSts",
        "outputId": "15705a9d-516d-4535-fb84-07e5e82e820f"
      },
      "execution_count": null,
      "outputs": [
        {
          "output_type": "execute_result",
          "data": {
            "text/plain": [
              "passenger_id      0\n",
              "pclass            0\n",
              "name              0\n",
              "sex               0\n",
              "age             174\n",
              "sibsp             0\n",
              "parch             0\n",
              "ticket            0\n",
              "fare              1\n",
              "cabin           659\n",
              "embarked          1\n",
              "boat            542\n",
              "body            777\n",
              "home.dest       386\n",
              "survived          0\n",
              "dtype: int64"
            ]
          },
          "metadata": {},
          "execution_count": 158
        }
      ]
    },
    {
      "cell_type": "code",
      "source": [
        "for i in df.columns:\n",
        "  if df[i].dtypes!='object':\n",
        "    df[i].fillna(0, inplace=True)"
      ],
      "metadata": {
        "id": "gHkM3vQFNVt5"
      },
      "execution_count": null,
      "outputs": []
    },
    {
      "cell_type": "code",
      "source": [
        "df.dtypes"
      ],
      "metadata": {
        "colab": {
          "base_uri": "https://localhost:8080/"
        },
        "id": "EKWUV4fGONY6",
        "outputId": "a660fc59-da52-4883-cc90-aa7dfff85444"
      },
      "execution_count": null,
      "outputs": [
        {
          "output_type": "execute_result",
          "data": {
            "text/plain": [
              "passenger_id      int64\n",
              "pclass            int64\n",
              "name             object\n",
              "sex              object\n",
              "age             float64\n",
              "sibsp             int64\n",
              "parch             int64\n",
              "ticket           object\n",
              "fare            float64\n",
              "cabin            object\n",
              "embarked         object\n",
              "boat             object\n",
              "body            float64\n",
              "home.dest        object\n",
              "survived          int64\n",
              "dtype: object"
            ]
          },
          "metadata": {},
          "execution_count": 160
        }
      ]
    },
    {
      "cell_type": "code",
      "source": [
        "df.columns"
      ],
      "metadata": {
        "colab": {
          "base_uri": "https://localhost:8080/"
        },
        "id": "V9m4z-WVPyPh",
        "outputId": "208d9c30-9fcd-447c-a1ad-18d65f5182ff"
      },
      "execution_count": null,
      "outputs": [
        {
          "output_type": "execute_result",
          "data": {
            "text/plain": [
              "Index(['passenger_id', 'pclass', 'name', 'sex', 'age', 'sibsp', 'parch',\n",
              "       'ticket', 'fare', 'cabin', 'embarked', 'boat', 'body', 'home.dest',\n",
              "       'survived'],\n",
              "      dtype='object')"
            ]
          },
          "metadata": {},
          "execution_count": 161
        }
      ]
    },
    {
      "cell_type": "code",
      "source": [
        "from sklearn.preprocessing import LabelEncoder\n",
        "le =LabelEncoder()\n",
        "for i in df.columns:\n",
        "  if df[i].dtypes=='object':\n",
        "    print(i)\n",
        "    df[i] = le.fit_transform(df[i])"
      ],
      "metadata": {
        "colab": {
          "base_uri": "https://localhost:8080/"
        },
        "id": "CGsElDy3Ncgm",
        "outputId": "d3facd07-5293-4eb9-cf68-741bdfab1033"
      },
      "execution_count": null,
      "outputs": [
        {
          "output_type": "stream",
          "name": "stdout",
          "text": [
            "name\n",
            "sex\n",
            "ticket\n",
            "cabin\n",
            "embarked\n",
            "boat\n",
            "home.dest\n"
          ]
        }
      ]
    },
    {
      "cell_type": "code",
      "source": [
        "ax = sns.countplot(x = 'pclass', hue='survived',palette='Set1', data=df)\n",
        "ax.set(title=\"XYZ\",xlabel=\"pclass\",ylabel=\"count\")\n",
        "plt.show()"
      ],
      "metadata": {
        "colab": {
          "base_uri": "https://localhost:8080/",
          "height": 389
        },
        "id": "9A9G5AGIOB89",
        "outputId": "caa43a32-9ff3-4b62-e289-eba9a5d7b40e"
      },
      "execution_count": null,
      "outputs": [
        {
          "output_type": "display_data",
          "data": {
            "text/plain": [
              "<Figure size 1080x432 with 1 Axes>"
            ],
            "image/png": "[encoded data removed]"
          },
          "metadata": {
            "needs_background": "light"
          }
        }
      ]
    },
    {
      "cell_type": "code",
      "source": [
        "ax = sns.countplot(x='sex', hue='survived', palette='Set1', data=df)\n",
        "ax.set(title='Bullshit', xlabel='sex', ylabel='count')\n",
        "plt.show()"
      ],
      "metadata": {
        "colab": {
          "base_uri": "https://localhost:8080/",
          "height": 389
        },
        "id": "O0wSTdlbQGXF",
        "outputId": "a5b7d86d-35c1-41df-a921-7055192b3ffe"
      },
      "execution_count": null,
      "outputs": [
        {
          "output_type": "display_data",
          "data": {
            "text/plain": [
              "<Figure size 1080x432 with 1 Axes>"
            ],
            "image/png": "[encoded data removed]"
          },
          "metadata": {
            "needs_background": "light"
          }
        }
      ]
    },
    {
      "cell_type": "code",
      "source": [
        "ax = sns.countplot(x='embarked', hue='survived', palette='Set1', data=df)\n",
        "ax.set(title=\"Bullshit2\", xlabel=\"embarked\", ylabel=\"count\")\n",
        "plt.plot"
      ],
      "metadata": {
        "id": "ACK4JN9YQ431",
        "colab": {
          "base_uri": "https://localhost:8080/",
          "height": 407
        },
        "outputId": "86b2ea9b-d875-430e-f69b-6948f6321f83"
      },
      "execution_count": null,
      "outputs": [
        {
          "output_type": "execute_result",
          "data": {
            "text/plain": [
              "<function matplotlib.pyplot.plot>"
            ]
          },
          "metadata": {},
          "execution_count": 165
        },
        {
          "output_type": "display_data",
          "data": {
            "text/plain": [
              "<Figure size 1080x432 with 1 Axes>"
            ],
            "image/png": "[encoded data removed]"
          },
          "metadata": {
            "needs_background": "light"
          }
        }
      ]
    },
    {
      "cell_type": "code",
      "source": [
        "interval = (0,18,30,60,120)\n",
        "classes = ['Child','Teen','Adult','Old']\n",
        "df['Age_cat'] = pd.cut(df['age'], interval, labels=classes)\n",
        "ax = sns.countplot(x = 'Age_cat', hue='survived', palette='Set1', data=df)\n",
        "ax.set(title='Bullshi3',xlabel='Age',ylabel='count')\n",
        "plt.plot()"
      ],
      "metadata": {
        "colab": {
          "base_uri": "https://localhost:8080/",
          "height": 407
        },
        "id": "z3co6VvOrts-",
        "outputId": "a93d4875-37c8-48d4-b6f2-aed84207ea07"
      },
      "execution_count": null,
      "outputs": [
        {
          "output_type": "execute_result",
          "data": {
            "text/plain": [
              "[]"
            ]
          },
          "metadata": {},
          "execution_count": 166
        },
        {
          "output_type": "display_data",
          "data": {
            "text/plain": [
              "<Figure size 1080x432 with 1 Axes>"
            ],
            "image/png": "[encoded data removed]"
          },
          "metadata": {
            "needs_background": "light"
          }
        }
      ]
    },
    {
      "cell_type": "code",
      "source": [
        "df.isnull().sum()"
      ],
      "metadata": {
        "colab": {
          "base_uri": "https://localhost:8080/"
        },
        "id": "Ce-njpvrst3t",
        "outputId": "6e72ef05-0377-4f79-dc3f-d8920c08d26b"
      },
      "execution_count": null,
      "outputs": [
        {
          "output_type": "execute_result",
          "data": {
            "text/plain": [
              "passenger_id      0\n",
              "pclass            0\n",
              "name              0\n",
              "sex               0\n",
              "age               0\n",
              "sibsp             0\n",
              "parch             0\n",
              "ticket            0\n",
              "fare              0\n",
              "cabin             0\n",
              "embarked          0\n",
              "boat              0\n",
              "body              0\n",
              "home.dest         0\n",
              "survived          0\n",
              "Age_cat         174\n",
              "dtype: int64"
            ]
          },
          "metadata": {},
          "execution_count": 167
        }
      ]
    },
    {
      "cell_type": "code",
      "source": [
        "df"
      ],
      "metadata": {
        "colab": {
          "base_uri": "https://localhost:8080/",
          "height": 488
        },
        "id": "f--Si-0stFuq",
        "outputId": "0a66fe0c-738b-45d0-f3e6-eb2309dace88"
      },
      "execution_count": null,
      "outputs": [
        {
          "output_type": "execute_result",
          "data": {
            "text/plain": [
              "     passenger_id  pclass  name  sex   age  sibsp  parch  ticket     fare  \\\n",
              "0            1216       3   736    0   0.0      0      0     283   7.7333   \n",
              "1             699       3   123    1  38.0      0      0     257   8.6625   \n",
              "2            1267       3   783    0  30.0      1      1     307  24.1500   \n",
              "3             449       2   360    0  54.0      1      3     237  23.0000   \n",
              "4             576       2   792    1  40.0      0      0     228  13.0000   \n",
              "..            ...     ...   ...  ...   ...    ...    ...     ...      ...   \n",
              "845           158       1   353    1  55.0      0      0     488  50.0000   \n",
              "846           174       1   426    1  58.0      0      0      58  29.7000   \n",
              "847           467       2   411    0  24.0      1      0     145  26.0000   \n",
              "848          1112       3   613    0   3.0      1      1     630  13.7750   \n",
              "849           425       2   309    1  52.0      0      0     160  13.0000   \n",
              "\n",
              "     cabin  embarked  boat   body  home.dest  survived Age_cat  \n",
              "0      135         1     4    0.0        272         1     NaN  \n",
              "1      135         2    26    0.0         56         0   Adult  \n",
              "2      135         2    26    0.0        272         0    Teen  \n",
              "3      135         2    13    0.0         52         1   Adult  \n",
              "4      135         2    26    0.0         11         0   Adult  \n",
              "..     ...       ...   ...    ...        ...       ...     ...  \n",
              "845     61         2    26    0.0        139         0   Adult  \n",
              "846     22         0    26  258.0         35         0   Adult  \n",
              "847    135         2     3    0.0        166         1    Teen  \n",
              "848    135         2    26    0.0        272         0   Child  \n",
              "849    135         2    26   19.0         27         0   Adult  \n",
              "\n",
              "[850 rows x 16 columns]"
            ],
            "text/html": [
              "\n",
              "  <div id=\"df-f75c5e54-a196-4ec8-99b8-d42716fcbcfa\">\n",
              "    <div class=\"colab-df-container\">\n",
              "      <div>\n",
              "<style scoped>\n",
              "    .dataframe tbody tr th:only-of-type {\n",
              "        vertical-align: middle;\n",
              "    }\n",
              "\n",
              "    .dataframe tbody tr th {\n",
              "        vertical-align: top;\n",
              "    }\n",
              "\n",
              "    .dataframe thead th {\n",
              "        text-align: right;\n",
              "    }\n",
              "</style>\n",
              "<table border=\"1\" class=\"dataframe\">\n",
              "  <thead>\n",
              "    <tr style=\"text-align: right;\">\n",
              "      <th></th>\n",
              "      <th>passenger_id</th>\n",
              "      <th>pclass</th>\n",
              "      <th>name</th>\n",
              "      <th>sex</th>\n",
              "      <th>age</th>\n",
              "      <th>sibsp</th>\n",
              "      <th>parch</th>\n",
              "      <th>ticket</th>\n",
              "      <th>fare</th>\n",
              "      <th>cabin</th>\n",
              "      <th>embarked</th>\n",
              "      <th>boat</th>\n",
              "      <th>body</th>\n",
              "      <th>home.dest</th>\n",
              "      <th>survived</th>\n",
              "      <th>Age_cat</th>\n",
              "    </tr>\n",
              "  </thead>\n",
              "  <tbody>\n",
              "    <tr>\n",
              "      <th>0</th>\n",
              "      <td>1216</td>\n",
              "      <td>3</td>\n",
              "      <td>736</td>\n",
              "      <td>0</td>\n",
              "      <td>0.0</td>\n",
              "      <td>0</td>\n",
              "      <td>0</td>\n",
              "      <td>283</td>\n",
              "      <td>7.7333</td>\n",
              "      <td>135</td>\n",
              "      <td>1</td>\n",
              "      <td>4</td>\n",
              "      <td>0.0</td>\n",
              "      <td>272</td>\n",
              "      <td>1</td>\n",
              "      <td>NaN</td>\n",
              "    </tr>\n",
              "    <tr>\n",
              "      <th>1</th>\n",
              "      <td>699</td>\n",
              "      <td>3</td>\n",
              "      <td>123</td>\n",
              "      <td>1</td>\n",
              "      <td>38.0</td>\n",
              "      <td>0</td>\n",
              "      <td>0</td>\n",
              "      <td>257</td>\n",
              "      <td>8.6625</td>\n",
              "      <td>135</td>\n",
              "      <td>2</td>\n",
              "      <td>26</td>\n",
              "      <td>0.0</td>\n",
              "      <td>56</td>\n",
              "      <td>0</td>\n",
              "      <td>Adult</td>\n",
              "    </tr>\n",
              "    <tr>\n",
              "      <th>2</th>\n",
              "      <td>1267</td>\n",
              "      <td>3</td>\n",
              "      <td>783</td>\n",
              "      <td>0</td>\n",
              "      <td>30.0</td>\n",
              "      <td>1</td>\n",
              "      <td>1</td>\n",
              "      <td>307</td>\n",
              "      <td>24.1500</td>\n",
              "      <td>135</td>\n",
              "      <td>2</td>\n",
              "      <td>26</td>\n",
              "      <td>0.0</td>\n",
              "      <td>272</td>\n",
              "      <td>0</td>\n",
              "      <td>Teen</td>\n",
              "    </tr>\n",
              "    <tr>\n",
              "      <th>3</th>\n",
              "      <td>449</td>\n",
              "      <td>2</td>\n",
              "      <td>360</td>\n",
              "      <td>0</td>\n",
              "      <td>54.0</td>\n",
              "      <td>1</td>\n",
              "      <td>3</td>\n",
              "      <td>237</td>\n",
              "      <td>23.0000</td>\n",
              "      <td>135</td>\n",
              "      <td>2</td>\n",
              "      <td>13</td>\n",
              "      <td>0.0</td>\n",
              "      <td>52</td>\n",
              "      <td>1</td>\n",
              "      <td>Adult</td>\n",
              "    </tr>\n",
              "    <tr>\n",
              "      <th>4</th>\n",
              "      <td>576</td>\n",
              "      <td>2</td>\n",
              "      <td>792</td>\n",
              "      <td>1</td>\n",
              "      <td>40.0</td>\n",
              "      <td>0</td>\n",
              "      <td>0</td>\n",
              "      <td>228</td>\n",
              "      <td>13.0000</td>\n",
              "      <td>135</td>\n",
              "      <td>2</td>\n",
              "      <td>26</td>\n",
              "      <td>0.0</td>\n",
              "      <td>11</td>\n",
              "      <td>0</td>\n",
              "      <td>Adult</td>\n",
              "    </tr>\n",
              "    <tr>\n",
              "      <th>...</th>\n",
              "      <td>...</td>\n",
              "      <td>...</td>\n",
              "      <td>...</td>\n",
              "      <td>...</td>\n",
              "      <td>...</td>\n",
              "      <td>...</td>\n",
              "      <td>...</td>\n",
              "      <td>...</td>\n",
              "      <td>...</td>\n",
              "      <td>...</td>\n",
              "      <td>...</td>\n",
              "      <td>...</td>\n",
              "      <td>...</td>\n",
              "      <td>...</td>\n",
              "      <td>...</td>\n",
              "      <td>...</td>\n",
              "    </tr>\n",
              "    <tr>\n",
              "      <th>845</th>\n",
              "      <td>158</td>\n",
              "      <td>1</td>\n",
              "      <td>353</td>\n",
              "      <td>1</td>\n",
              "      <td>55.0</td>\n",
              "      <td>0</td>\n",
              "      <td>0</td>\n",
              "      <td>488</td>\n",
              "      <td>50.0000</td>\n",
              "      <td>61</td>\n",
              "      <td>2</td>\n",
              "      <td>26</td>\n",
              "      <td>0.0</td>\n",
              "      <td>139</td>\n",
              "      <td>0</td>\n",
              "      <td>Adult</td>\n",
              "    </tr>\n",
              "    <tr>\n",
              "      <th>846</th>\n",
              "      <td>174</td>\n",
              "      <td>1</td>\n",
              "      <td>426</td>\n",
              "      <td>1</td>\n",
              "      <td>58.0</td>\n",
              "      <td>0</td>\n",
              "      <td>0</td>\n",
              "      <td>58</td>\n",
              "      <td>29.7000</td>\n",
              "      <td>22</td>\n",
              "      <td>0</td>\n",
              "      <td>26</td>\n",
              "      <td>258.0</td>\n",
              "      <td>35</td>\n",
              "      <td>0</td>\n",
              "      <td>Adult</td>\n",
              "    </tr>\n",
              "    <tr>\n",
              "      <th>847</th>\n",
              "      <td>467</td>\n",
              "      <td>2</td>\n",
              "      <td>411</td>\n",
              "      <td>0</td>\n",
              "      <td>24.0</td>\n",
              "      <td>1</td>\n",
              "      <td>0</td>\n",
              "      <td>145</td>\n",
              "      <td>26.0000</td>\n",
              "      <td>135</td>\n",
              "      <td>2</td>\n",
              "      <td>3</td>\n",
              "      <td>0.0</td>\n",
              "      <td>166</td>\n",
              "      <td>1</td>\n",
              "      <td>Teen</td>\n",
              "    </tr>\n",
              "    <tr>\n",
              "      <th>848</th>\n",
              "      <td>1112</td>\n",
              "      <td>3</td>\n",
              "      <td>613</td>\n",
              "      <td>0</td>\n",
              "      <td>3.0</td>\n",
              "      <td>1</td>\n",
              "      <td>1</td>\n",
              "      <td>630</td>\n",
              "      <td>13.7750</td>\n",
              "      <td>135</td>\n",
              "      <td>2</td>\n",
              "      <td>26</td>\n",
              "      <td>0.0</td>\n",
              "      <td>272</td>\n",
              "      <td>0</td>\n",
              "      <td>Child</td>\n",
              "    </tr>\n",
              "    <tr>\n",
              "      <th>849</th>\n",
              "      <td>425</td>\n",
              "      <td>2</td>\n",
              "      <td>309</td>\n",
              "      <td>1</td>\n",
              "      <td>52.0</td>\n",
              "      <td>0</td>\n",
              "      <td>0</td>\n",
              "      <td>160</td>\n",
              "      <td>13.0000</td>\n",
              "      <td>135</td>\n",
              "      <td>2</td>\n",
              "      <td>26</td>\n",
              "      <td>19.0</td>\n",
              "      <td>27</td>\n",
              "      <td>0</td>\n",
              "      <td>Adult</td>\n",
              "    </tr>\n",
              "  </tbody>\n",
              "</table>\n",
              "<p>850 rows × 16 columns</p>\n",
              "</div>\n",
              "      <button class=\"colab-df-convert\" onclick=\"convertToInteractive('df-f75c5e54-a196-4ec8-99b8-d42716fcbcfa')\"\n",
              "              title=\"Convert this dataframe to an interactive table.\"\n",
              "              style=\"display:none;\">\n",
              "        \n",
              "  <svg xmlns=\"http://www.w3.org/2000/svg\" height=\"24px\"viewBox=\"0 0 24 24\"\n",
              "       width=\"24px\">\n",
              "    <path d=\"M0 0h24v24H0V0z\" fill=\"none\"/>\n",
              "    <path d=\"M18.56 5.44l.94 2.06.94-2.06 2.06-.94-2.06-.94-.94-2.06-.94 2.06-2.06.94zm-11 1L8.5 8.5l.94-2.06 2.06-.94-2.06-.94L8.5 2.5l-.94 2.06-2.06.94zm10 10l.94 2.06.94-2.06 2.06-.94-2.06-.94-.94-2.06-.94 2.06-2.06.94z\"/><path d=\"M17.41 7.96l-1.37-1.37c-.4-.4-.92-.59-1.43-.59-.52 0-1.04.2-1.43.59L10.3 9.45l-7.72 7.72c-.78.78-.78 2.05 0 2.83L4 21.41c.39.39.9.59 1.41.59.51 0 1.02-.2 1.41-.59l7.78-7.78 2.81-2.81c.8-.78.8-2.07 0-2.86zM5.41 20L4 18.59l7.72-7.72 1.47 1.35L5.41 20z\"/>\n",
              "  </svg>\n",
              "      </button>\n",
              "      \n",
              "  <style>\n",
              "    .colab-df-container {\n",
              "      display:flex;\n",
              "      flex-wrap:wrap;\n",
              "      gap: 12px;\n",
              "    }\n",
              "\n",
              "    .colab-df-convert {\n",
              "      background-color: #E8F0FE;\n",
              "      border: none;\n",
              "      border-radius: 50%;\n",
              "      cursor: pointer;\n",
              "      display: none;\n",
              "      fill: #1967D2;\n",
              "      height: 32px;\n",
              "      padding: 0 0 0 0;\n",
              "      width: 32px;\n",
              "    }\n",
              "\n",
              "    .colab-df-convert:hover {\n",
              "      background-color: #E2EBFA;\n",
              "      box-shadow: 0px 1px 2px rgba(60, 64, 67, 0.3), 0px 1px 3px 1px rgba(60, 64, 67, 0.15);\n",
              "      fill: #174EA6;\n",
              "    }\n",
              "\n",
              "    [theme=dark] .colab-df-convert {\n",
              "      background-color: #3B4455;\n",
              "      fill: #D2E3FC;\n",
              "    }\n",
              "\n",
              "    [theme=dark] .colab-df-convert:hover {\n",
              "      background-color: #434B5C;\n",
              "      box-shadow: 0px 1px 3px 1px rgba(0, 0, 0, 0.15);\n",
              "      filter: drop-shadow(0px 1px 2px rgba(0, 0, 0, 0.3));\n",
              "      fill: #FFFFFF;\n",
              "    }\n",
              "  </style>\n",
              "\n",
              "      <script>\n",
              "        const buttonEl =\n",
              "          document.querySelector('#df-f75c5e54-a196-4ec8-99b8-d42716fcbcfa button.colab-df-convert');\n",
              "        buttonEl.style.display =\n",
              "          google.colab.kernel.accessAllowed ? 'block' : 'none';\n",
              "\n",
              "        async function convertToInteractive(key) {\n",
              "          const element = document.querySelector('#df-f75c5e54-a196-4ec8-99b8-d42716fcbcfa');\n",
              "          const dataTable =\n",
              "            await google.colab.kernel.invokeFunction('convertToInteractive',\n",
              "                                                     [key], {});\n",
              "          if (!dataTable) return;\n",
              "\n",
              "          const docLinkHtml = 'Like what you see? Visit the ' +\n",
              "            '<a target=\"_blank\" href=https://colab.research.google.com/notebooks/data_table.ipynb>data table notebook</a>'\n",
              "            + ' to learn more about interactive tables.';\n",
              "          element.innerHTML = '';\n",
              "          dataTable['output_type'] = 'display_data';\n",
              "          await google.colab.output.renderOutput(dataTable, element);\n",
              "          const docLink = document.createElement('div');\n",
              "          docLink.innerHTML = docLinkHtml;\n",
              "          element.appendChild(docLink);\n",
              "        }\n",
              "      </script>\n",
              "    </div>\n",
              "  </div>\n",
              "  "
            ]
          },
          "metadata": {},
          "execution_count": 168
        }
      ]
    },
    {
      "cell_type": "code",
      "source": [
        "df.drop(['name', 'passenger_id', 'sibsp', 'parch',\n",
        "       'ticket', 'fare', 'cabin','boat', 'body', 'home.dest','Age_cat'],1,inplace=True) "
      ],
      "metadata": {
        "colab": {
          "base_uri": "https://localhost:8080/"
        },
        "id": "AH2kc44atJnx",
        "outputId": "94973ab1-9be1-4175-9ab5-6b6493283e47"
      },
      "execution_count": null,
      "outputs": [
        {
          "output_type": "stream",
          "name": "stderr",
          "text": [
            "/usr/local/lib/python3.7/dist-packages/ipykernel_launcher.py:2: FutureWarning: In a future version of pandas all arguments of DataFrame.drop except for the argument 'labels' will be keyword-only\n",
            "  \n"
          ]
        }
      ]
    },
    {
      "cell_type": "code",
      "source": [
        "plt.figure(figsize=(14,12))\n",
        "ax = sns.heatmap(df.astype(int).corr(), linewidths=0.17, square=True, linecolor='white', annot=True)\n",
        "plt.plot()"
      ],
      "metadata": {
        "colab": {
          "base_uri": "https://localhost:8080/",
          "height": 708
        },
        "id": "BoP2abpnt4Ep",
        "outputId": "849c84f7-17a8-43ac-eb92-f1c826907916"
      },
      "execution_count": null,
      "outputs": [
        {
          "output_type": "execute_result",
          "data": {
            "text/plain": [
              "[]"
            ]
          },
          "metadata": {},
          "execution_count": 191
        },
        {
          "output_type": "display_data",
          "data": {
            "text/plain": [
              "<Figure size 1008x864 with 2 Axes>"
            ],
            "image/png": "[encoded data removed]"
          },
          "metadata": {
            "needs_background": "light"
          }
        }
      ]
    },
    {
      "cell_type": "markdown",
      "source": [
        "Assignment 9"
      ],
      "metadata": {
        "id": "hLRmTyq-vyd8"
      }
    },
    {
      "cell_type": "code",
      "source": [
        "import matplotlib.pyplot as plt\n",
        "import seaborn as sns\n",
        "%matplotlib inline\n",
        "import pandas as pd"
      ],
      "metadata": {
        "id": "PAUD-5SXuzcS"
      },
      "execution_count": null,
      "outputs": []
    },
    {
      "cell_type": "code",
      "source": [
        "data = pd.read_csv('/content/titanic_train.csv')"
      ],
      "metadata": {
        "id": "2CVohEtRwboe"
      },
      "execution_count": null,
      "outputs": []
    },
    {
      "cell_type": "code",
      "source": [
        "ax = sns.boxplot(data['age'],data['sex'])"
      ],
      "metadata": {
        "colab": {
          "base_uri": "https://localhost:8080/",
          "height": 334
        },
        "id": "Dwr-wxuMwiN4",
        "outputId": "b8292445-6137-4a17-f891-ac7d9cad2030"
      },
      "execution_count": null,
      "outputs": [
        {
          "output_type": "stream",
          "name": "stderr",
          "text": [
            "/usr/local/lib/python3.7/dist-packages/seaborn/_decorators.py:43: FutureWarning: Pass the following variables as keyword args: x, y. From version 0.12, the only valid positional argument will be `data`, and passing other arguments without an explicit keyword will result in an error or misinterpretation.\n",
            "  FutureWarning\n"
          ]
        },
        {
          "output_type": "display_data",
          "data": {
            "text/plain": [
              "<Figure size 432x288 with 1 Axes>"
            ],
            "image/png": "[encoded data removed]"
          },
          "metadata": {
            "needs_background": "light"
          }
        }
      ]
    },
    {
      "cell_type": "code",
      "source": [
        "ax = sns.boxplot(data['age'],data['sex'])\n",
        "ax = sns.swarmplot(data['age'],data['sex'],color='black')"
      ],
      "metadata": {
        "colab": {
          "base_uri": "https://localhost:8080/",
          "height": 403
        },
        "id": "HVC6kniqw657",
        "outputId": "2aa5cf33-e628-421d-c237-19e2f03d9fcf"
      },
      "execution_count": null,
      "outputs": [
        {
          "output_type": "stream",
          "name": "stderr",
          "text": [
            "/usr/local/lib/python3.7/dist-packages/seaborn/_decorators.py:43: FutureWarning: Pass the following variables as keyword args: x, y. From version 0.12, the only valid positional argument will be `data`, and passing other arguments without an explicit keyword will result in an error or misinterpretation.\n",
            "  FutureWarning\n",
            "/usr/local/lib/python3.7/dist-packages/seaborn/_decorators.py:43: FutureWarning: Pass the following variables as keyword args: x, y. From version 0.12, the only valid positional argument will be `data`, and passing other arguments without an explicit keyword will result in an error or misinterpretation.\n",
            "  FutureWarning\n",
            "/usr/local/lib/python3.7/dist-packages/seaborn/categorical.py:1296: UserWarning: 15.6% of the points cannot be placed; you may want to decrease the size of the markers or use stripplot.\n",
            "  warnings.warn(msg, UserWarning)\n"
          ]
        },
        {
          "output_type": "display_data",
          "data": {
            "text/plain": [
              "<Figure size 432x288 with 1 Axes>"
            ],
            "image/png": "[encoded data removed]"
          },
          "metadata": {
            "needs_background": "light"
          }
        }
      ]
    },
    {
      "cell_type": "code",
      "source": [
        "ax = sns.boxplot(data['age'], data['sex'], hue=data['survived'])"
      ],
      "metadata": {
        "colab": {
          "base_uri": "https://localhost:8080/",
          "height": 334
        },
        "id": "Ne_mdU0fxGRf",
        "outputId": "25ebedc8-239a-4ae9-bca9-a7c6469a8449"
      },
      "execution_count": null,
      "outputs": [
        {
          "output_type": "stream",
          "name": "stderr",
          "text": [
            "/usr/local/lib/python3.7/dist-packages/seaborn/_decorators.py:43: FutureWarning: Pass the following variables as keyword args: x, y. From version 0.12, the only valid positional argument will be `data`, and passing other arguments without an explicit keyword will result in an error or misinterpretation.\n",
            "  FutureWarning\n"
          ]
        },
        {
          "output_type": "display_data",
          "data": {
            "text/plain": [
              "<Figure size 432x288 with 1 Axes>"
            ],
            "image/png": "[encoded data removed]"
          },
          "metadata": {
            "needs_background": "light"
          }
        }
      ]
    },
    {
      "cell_type": "markdown",
      "source": [
        "Assignment 10"
      ],
      "metadata": {
        "id": "AYwgIqm4yUR1"
      }
    },
    {
      "cell_type": "code",
      "source": [
        "import pandas as pd\n",
        "import matplotlib.pyplot as plt\n",
        "import seaborn as sns\n",
        "%matplotlib inline\n",
        "from matplotlib import rcParams\n",
        "rcParams['figure.figsize']=15,6"
      ],
      "metadata": {
        "id": "3P1t4lEPxUOZ"
      },
      "execution_count": null,
      "outputs": []
    },
    {
      "cell_type": "code",
      "source": [
        "data = pd.read_csv('/content/Iris (3).csv')"
      ],
      "metadata": {
        "id": "78abFzM_yr6t"
      },
      "execution_count": null,
      "outputs": []
    },
    {
      "cell_type": "code",
      "source": [
        "data.info()"
      ],
      "metadata": {
        "colab": {
          "base_uri": "https://localhost:8080/"
        },
        "id": "phlFOYC2y4MY",
        "outputId": "362b0b60-6e66-4d98-f699-b892a0f94b47"
      },
      "execution_count": null,
      "outputs": [
        {
          "output_type": "stream",
          "name": "stdout",
          "text": [
            "<class 'pandas.core.frame.DataFrame'>\n",
            "RangeIndex: 150 entries, 0 to 149\n",
            "Data columns (total 6 columns):\n",
            " #   Column         Non-Null Count  Dtype  \n",
            "---  ------         --------------  -----  \n",
            " 0   Id             150 non-null    int64  \n",
            " 1   SepalLengthCm  150 non-null    float64\n",
            " 2   SepalWidthCm   150 non-null    float64\n",
            " 3   PetalLengthCm  150 non-null    float64\n",
            " 4   PetalWidthCm   150 non-null    float64\n",
            " 5   Species        150 non-null    object \n",
            "dtypes: float64(4), int64(1), object(1)\n",
            "memory usage: 7.2+ KB\n"
          ]
        }
      ]
    },
    {
      "cell_type": "code",
      "source": [
        "data.describe()"
      ],
      "metadata": {
        "colab": {
          "base_uri": "https://localhost:8080/",
          "height": 300
        },
        "id": "iKTwbbtGy7rm",
        "outputId": "ce5c0dbd-eca5-4720-dab5-f291e96c2e97"
      },
      "execution_count": null,
      "outputs": [
        {
          "output_type": "execute_result",
          "data": {
            "text/plain": [
              "               Id  SepalLengthCm  SepalWidthCm  PetalLengthCm  PetalWidthCm\n",
              "count  150.000000     150.000000    150.000000     150.000000    150.000000\n",
              "mean    75.500000       5.843333      3.054000       3.758667      1.198667\n",
              "std     43.445368       0.828066      0.433594       1.764420      0.763161\n",
              "min      1.000000       4.300000      2.000000       1.000000      0.100000\n",
              "25%     38.250000       5.100000      2.800000       1.600000      0.300000\n",
              "50%     75.500000       5.800000      3.000000       4.350000      1.300000\n",
              "75%    112.750000       6.400000      3.300000       5.100000      1.800000\n",
              "max    150.000000       7.900000      4.400000       6.900000      2.500000"
            ],
            "text/html": [
              "\n",
              "  <div id=\"df-92afd315-04cd-4647-aa4b-fac8e8635261\">\n",
              "    <div class=\"colab-df-container\">\n",
              "      <div>\n",
              "<style scoped>\n",
              "    .dataframe tbody tr th:only-of-type {\n",
              "        vertical-align: middle;\n",
              "    }\n",
              "\n",
              "    .dataframe tbody tr th {\n",
              "        vertical-align: top;\n",
              "    }\n",
              "\n",
              "    .dataframe thead th {\n",
              "        text-align: right;\n",
              "    }\n",
              "</style>\n",
              "<table border=\"1\" class=\"dataframe\">\n",
              "  <thead>\n",
              "    <tr style=\"text-align: right;\">\n",
              "      <th></th>\n",
              "      <th>Id</th>\n",
              "      <th>SepalLengthCm</th>\n",
              "      <th>SepalWidthCm</th>\n",
              "      <th>PetalLengthCm</th>\n",
              "      <th>PetalWidthCm</th>\n",
              "    </tr>\n",
              "  </thead>\n",
              "  <tbody>\n",
              "    <tr>\n",
              "      <th>count</th>\n",
              "      <td>150.000000</td>\n",
              "      <td>150.000000</td>\n",
              "      <td>150.000000</td>\n",
              "      <td>150.000000</td>\n",
              "      <td>150.000000</td>\n",
              "    </tr>\n",
              "    <tr>\n",
              "      <th>mean</th>\n",
              "      <td>75.500000</td>\n",
              "      <td>5.843333</td>\n",
              "      <td>3.054000</td>\n",
              "      <td>3.758667</td>\n",
              "      <td>1.198667</td>\n",
              "    </tr>\n",
              "    <tr>\n",
              "      <th>std</th>\n",
              "      <td>43.445368</td>\n",
              "      <td>0.828066</td>\n",
              "      <td>0.433594</td>\n",
              "      <td>1.764420</td>\n",
              "      <td>0.763161</td>\n",
              "    </tr>\n",
              "    <tr>\n",
              "      <th>min</th>\n",
              "      <td>1.000000</td>\n",
              "      <td>4.300000</td>\n",
              "      <td>2.000000</td>\n",
              "      <td>1.000000</td>\n",
              "      <td>0.100000</td>\n",
              "    </tr>\n",
              "    <tr>\n",
              "      <th>25%</th>\n",
              "      <td>38.250000</td>\n",
              "      <td>5.100000</td>\n",
              "      <td>2.800000</td>\n",
              "      <td>1.600000</td>\n",
              "      <td>0.300000</td>\n",
              "    </tr>\n",
              "    <tr>\n",
              "      <th>50%</th>\n",
              "      <td>75.500000</td>\n",
              "      <td>5.800000</td>\n",
              "      <td>3.000000</td>\n",
              "      <td>4.350000</td>\n",
              "      <td>1.300000</td>\n",
              "    </tr>\n",
              "    <tr>\n",
              "      <th>75%</th>\n",
              "      <td>112.750000</td>\n",
              "      <td>6.400000</td>\n",
              "      <td>3.300000</td>\n",
              "      <td>5.100000</td>\n",
              "      <td>1.800000</td>\n",
              "    </tr>\n",
              "    <tr>\n",
              "      <th>max</th>\n",
              "      <td>150.000000</td>\n",
              "      <td>7.900000</td>\n",
              "      <td>4.400000</td>\n",
              "      <td>6.900000</td>\n",
              "      <td>2.500000</td>\n",
              "    </tr>\n",
              "  </tbody>\n",
              "</table>\n",
              "</div>\n",
              "      <button class=\"colab-df-convert\" onclick=\"convertToInteractive('df-92afd315-04cd-4647-aa4b-fac8e8635261')\"\n",
              "              title=\"Convert this dataframe to an interactive table.\"\n",
              "              style=\"display:none;\">\n",
              "        \n",
              "  <svg xmlns=\"http://www.w3.org/2000/svg\" height=\"24px\"viewBox=\"0 0 24 24\"\n",
              "       width=\"24px\">\n",
              "    <path d=\"M0 0h24v24H0V0z\" fill=\"none\"/>\n",
              "    <path d=\"M18.56 5.44l.94 2.06.94-2.06 2.06-.94-2.06-.94-.94-2.06-.94 2.06-2.06.94zm-11 1L8.5 8.5l.94-2.06 2.06-.94-2.06-.94L8.5 2.5l-.94 2.06-2.06.94zm10 10l.94 2.06.94-2.06 2.06-.94-2.06-.94-.94-2.06-.94 2.06-2.06.94z\"/><path d=\"M17.41 7.96l-1.37-1.37c-.4-.4-.92-.59-1.43-.59-.52 0-1.04.2-1.43.59L10.3 9.45l-7.72 7.72c-.78.78-.78 2.05 0 2.83L4 21.41c.39.39.9.59 1.41.59.51 0 1.02-.2 1.41-.59l7.78-7.78 2.81-2.81c.8-.78.8-2.07 0-2.86zM5.41 20L4 18.59l7.72-7.72 1.47 1.35L5.41 20z\"/>\n",
              "  </svg>\n",
              "      </button>\n",
              "      \n",
              "  <style>\n",
              "    .colab-df-container {\n",
              "      display:flex;\n",
              "      flex-wrap:wrap;\n",
              "      gap: 12px;\n",
              "    }\n",
              "\n",
              "    .colab-df-convert {\n",
              "      background-color: #E8F0FE;\n",
              "      border: none;\n",
              "      border-radius: 50%;\n",
              "      cursor: pointer;\n",
              "      display: none;\n",
              "      fill: #1967D2;\n",
              "      height: 32px;\n",
              "      padding: 0 0 0 0;\n",
              "      width: 32px;\n",
              "    }\n",
              "\n",
              "    .colab-df-convert:hover {\n",
              "      background-color: #E2EBFA;\n",
              "      box-shadow: 0px 1px 2px rgba(60, 64, 67, 0.3), 0px 1px 3px 1px rgba(60, 64, 67, 0.15);\n",
              "      fill: #174EA6;\n",
              "    }\n",
              "\n",
              "    [theme=dark] .colab-df-convert {\n",
              "      background-color: #3B4455;\n",
              "      fill: #D2E3FC;\n",
              "    }\n",
              "\n",
              "    [theme=dark] .colab-df-convert:hover {\n",
              "      background-color: #434B5C;\n",
              "      box-shadow: 0px 1px 3px 1px rgba(0, 0, 0, 0.15);\n",
              "      filter: drop-shadow(0px 1px 2px rgba(0, 0, 0, 0.3));\n",
              "      fill: #FFFFFF;\n",
              "    }\n",
              "  </style>\n",
              "\n",
              "      <script>\n",
              "        const buttonEl =\n",
              "          document.querySelector('#df-92afd315-04cd-4647-aa4b-fac8e8635261 button.colab-df-convert');\n",
              "        buttonEl.style.display =\n",
              "          google.colab.kernel.accessAllowed ? 'block' : 'none';\n",
              "\n",
              "        async function convertToInteractive(key) {\n",
              "          const element = document.querySelector('#df-92afd315-04cd-4647-aa4b-fac8e8635261');\n",
              "          const dataTable =\n",
              "            await google.colab.kernel.invokeFunction('convertToInteractive',\n",
              "                                                     [key], {});\n",
              "          if (!dataTable) return;\n",
              "\n",
              "          const docLinkHtml = 'Like what you see? Visit the ' +\n",
              "            '<a target=\"_blank\" href=https://colab.research.google.com/notebooks/data_table.ipynb>data table notebook</a>'\n",
              "            + ' to learn more about interactive tables.';\n",
              "          element.innerHTML = '';\n",
              "          dataTable['output_type'] = 'display_data';\n",
              "          await google.colab.output.renderOutput(dataTable, element);\n",
              "          const docLink = document.createElement('div');\n",
              "          docLink.innerHTML = docLinkHtml;\n",
              "          element.appendChild(docLink);\n",
              "        }\n",
              "      </script>\n",
              "    </div>\n",
              "  </div>\n",
              "  "
            ]
          },
          "metadata": {},
          "execution_count": 179
        }
      ]
    },
    {
      "cell_type": "code",
      "source": [
        "data.isnull().sum()"
      ],
      "metadata": {
        "colab": {
          "base_uri": "https://localhost:8080/"
        },
        "id": "DWd2byDey9Pq",
        "outputId": "2a109275-e472-40d0-c569-695f725048b0"
      },
      "execution_count": null,
      "outputs": [
        {
          "output_type": "execute_result",
          "data": {
            "text/plain": [
              "Id               0\n",
              "SepalLengthCm    0\n",
              "SepalWidthCm     0\n",
              "PetalLengthCm    0\n",
              "PetalWidthCm     0\n",
              "Species          0\n",
              "dtype: int64"
            ]
          },
          "metadata": {},
          "execution_count": 180
        }
      ]
    },
    {
      "cell_type": "code",
      "source": [
        "ax = sns.FacetGrid(data, col='Species')\n",
        "ax.map(plt.hist, 'SepalLengthCm')\n",
        "plt.plot"
      ],
      "metadata": {
        "colab": {
          "base_uri": "https://localhost:8080/",
          "height": 242
        },
        "id": "pVlIXtfIzAB5",
        "outputId": "fe7e92dc-7f5b-4ad9-c9fe-605b2c54c646"
      },
      "execution_count": null,
      "outputs": [
        {
          "output_type": "execute_result",
          "data": {
            "text/plain": [
              "<function matplotlib.pyplot.plot>"
            ]
          },
          "metadata": {},
          "execution_count": 181
        },
        {
          "output_type": "display_data",
          "data": {
            "text/plain": [
              "<Figure size 648x216 with 3 Axes>"
            ],
            "image/png": "[encoded data removed]"
          },
          "metadata": {
            "needs_background": "light"
          }
        }
      ]
    },
    {
      "cell_type": "code",
      "source": [
        "ax = sns.FacetGrid(data, col='Species')\n",
        "ax.map(plt.hist,'SepalWidthCm')\n",
        "plt.plot()"
      ],
      "metadata": {
        "colab": {
          "base_uri": "https://localhost:8080/",
          "height": 242
        },
        "id": "OKtxxPy1zPuX",
        "outputId": "7e146006-062f-44ae-ce4b-a9e0ddd05c90"
      },
      "execution_count": null,
      "outputs": [
        {
          "output_type": "execute_result",
          "data": {
            "text/plain": [
              "[]"
            ]
          },
          "metadata": {},
          "execution_count": 182
        },
        {
          "output_type": "display_data",
          "data": {
            "text/plain": [
              "<Figure size 648x216 with 3 Axes>"
            ],
            "image/png": "[encoded data removed]"
          },
          "metadata": {
            "needs_background": "light"
          }
        }
      ]
    },
    {
      "cell_type": "code",
      "source": [
        "ax = sns.FacetGrid(data, col='Species')\n",
        "ax.map(plt.hist,'PetalLengthCm')\n",
        "plt.plot()"
      ],
      "metadata": {
        "colab": {
          "base_uri": "https://localhost:8080/",
          "height": 242
        },
        "id": "pA0Bzs9_zoDz",
        "outputId": "8cc17105-bce9-46f8-f415-57a6a0825be6"
      },
      "execution_count": null,
      "outputs": [
        {
          "output_type": "execute_result",
          "data": {
            "text/plain": [
              "[]"
            ]
          },
          "metadata": {},
          "execution_count": 183
        },
        {
          "output_type": "display_data",
          "data": {
            "text/plain": [
              "<Figure size 648x216 with 3 Axes>"
            ],
            "image/png": "[encoded data removed]"
          },
          "metadata": {
            "needs_background": "light"
          }
        }
      ]
    },
    {
      "cell_type": "code",
      "source": [
        "ax = sns.FacetGrid(data, col='Species')\n",
        "ax.map(plt.hist, 'PetalWidthCm')\n",
        "plt.plot()"
      ],
      "metadata": {
        "colab": {
          "base_uri": "https://localhost:8080/",
          "height": 242
        },
        "id": "UTsIHbXOz38o",
        "outputId": "4260c289-775c-4f89-be88-8dc5e2c685ce"
      },
      "execution_count": null,
      "outputs": [
        {
          "output_type": "execute_result",
          "data": {
            "text/plain": [
              "[]"
            ]
          },
          "metadata": {},
          "execution_count": 184
        },
        {
          "output_type": "display_data",
          "data": {
            "text/plain": [
              "<Figure size 648x216 with 3 Axes>"
            ],
            "image/png": "[encoded data removed]"
          },
          "metadata": {
            "needs_background": "light"
          }
        }
      ]
    },
    {
      "cell_type": "code",
      "source": [
        "ax = sns.boxplot(data['Species'],data['SepalLengthCm'])"
      ],
      "metadata": {
        "colab": {
          "base_uri": "https://localhost:8080/",
          "height": 430
        },
        "id": "_RuKXZWm0KMQ",
        "outputId": "41193f43-19ad-460a-dd53-d452867df431"
      },
      "execution_count": null,
      "outputs": [
        {
          "output_type": "stream",
          "name": "stderr",
          "text": [
            "/usr/local/lib/python3.7/dist-packages/seaborn/_decorators.py:43: FutureWarning: Pass the following variables as keyword args: x, y. From version 0.12, the only valid positional argument will be `data`, and passing other arguments without an explicit keyword will result in an error or misinterpretation.\n",
            "  FutureWarning\n"
          ]
        },
        {
          "output_type": "display_data",
          "data": {
            "text/plain": [
              "<Figure size 1080x432 with 1 Axes>"
            ],
            "image/png": "[encoded data removed]"
          },
          "metadata": {
            "needs_background": "light"
          }
        }
      ]
    },
    {
      "cell_type": "code",
      "source": [
        "ax = sns.boxplot(data['Species'],data['SepalWidthCm'])"
      ],
      "metadata": {
        "colab": {
          "base_uri": "https://localhost:8080/",
          "height": 432
        },
        "id": "vq8rK4_F0Ytn",
        "outputId": "9a9d127a-3a4d-4cab-85e4-bcfd759387ee"
      },
      "execution_count": null,
      "outputs": [
        {
          "output_type": "stream",
          "name": "stderr",
          "text": [
            "/usr/local/lib/python3.7/dist-packages/seaborn/_decorators.py:43: FutureWarning: Pass the following variables as keyword args: x, y. From version 0.12, the only valid positional argument will be `data`, and passing other arguments without an explicit keyword will result in an error or misinterpretation.\n",
            "  FutureWarning\n"
          ]
        },
        {
          "output_type": "display_data",
          "data": {
            "text/plain": [
              "<Figure size 1080x432 with 1 Axes>"
            ],
            "image/png": "[encoded data removed]"
          },
          "metadata": {
            "needs_background": "light"
          }
        }
      ]
    },
    {
      "cell_type": "code",
      "source": [
        "ax=sns.boxplot(data['Species'], data['PetalLengthCm'])"
      ],
      "metadata": {
        "colab": {
          "base_uri": "https://localhost:8080/",
          "height": 434
        },
        "id": "19GDJtkj0eet",
        "outputId": "eb75d42f-14da-4913-cf3b-224e2d3db690"
      },
      "execution_count": null,
      "outputs": [
        {
          "output_type": "stream",
          "name": "stderr",
          "text": [
            "/usr/local/lib/python3.7/dist-packages/seaborn/_decorators.py:43: FutureWarning: Pass the following variables as keyword args: x, y. From version 0.12, the only valid positional argument will be `data`, and passing other arguments without an explicit keyword will result in an error or misinterpretation.\n",
            "  FutureWarning\n"
          ]
        },
        {
          "output_type": "display_data",
          "data": {
            "text/plain": [
              "<Figure size 1080x432 with 1 Axes>"
            ],
            "image/png": "[encoded data removed]"
          },
          "metadata": {
            "needs_background": "light"
          }
        }
      ]
    },
    {
      "cell_type": "code",
      "source": [
        "ax = sns.boxplot(data['Species'], data['PetalWidthCm'])"
      ],
      "metadata": {
        "colab": {
          "base_uri": "https://localhost:8080/",
          "height": 430
        },
        "id": "j6dZO-UR0xIH",
        "outputId": "81a10464-3490-4d42-ddce-74674057aebe"
      },
      "execution_count": null,
      "outputs": [
        {
          "output_type": "stream",
          "name": "stderr",
          "text": [
            "/usr/local/lib/python3.7/dist-packages/seaborn/_decorators.py:43: FutureWarning: Pass the following variables as keyword args: x, y. From version 0.12, the only valid positional argument will be `data`, and passing other arguments without an explicit keyword will result in an error or misinterpretation.\n",
            "  FutureWarning\n"
          ]
        },
        {
          "output_type": "display_data",
          "data": {
            "text/plain": [
              "<Figure size 1080x432 with 1 Axes>"
            ],
            "image/png": "[encoded data removed]"
          },
          "metadata": {
            "needs_background": "light"
          }
        }
      ]
    },
    {
      "cell_type": "markdown",
      "source": [
        "Assignment1 - LP"
      ],
      "metadata": {
        "id": "GuuifVMFUhoM"
      }
    },
    {
      "cell_type": "code",
      "source": [
        "graph = {}\n",
        "\n",
        "n = int(input())\n",
        "\n",
        "for _ in range(n):\n",
        "  edge = input() \n",
        "  a, b = edge.split()\n",
        "  if a not in graph.keys():\n",
        "    graph[a] = [b]\n",
        "  if b not in graph.keys():\n",
        "    graph[b] = [a]\n",
        "  try:\n",
        "    graph[a].append(b);\n",
        "    graph[b].append(a);\n",
        "  except: \n",
        "    continue\n",
        "\n",
        "graph = {k:list(set(v)) for k,v in graph.items()}"
      ],
      "metadata": {
        "id": "aUv2nLjp071P",
        "colab": {
          "base_uri": "https://localhost:8080/"
        },
        "outputId": "af8196d1-823c-4c5c-b290-bedc39699e9d"
      },
      "execution_count": null,
      "outputs": [
        {
          "name": "stdout",
          "output_type": "stream",
          "text": [
            "6\n",
            "1 2\n",
            "2 3\n",
            "3 4\n",
            "4 1\n",
            "2 4\n",
            "3 1\n"
          ]
        }
      ]
    },
    {
      "cell_type": "code",
      "source": [
        "print(graph)"
      ],
      "metadata": {
        "colab": {
          "base_uri": "https://localhost:8080/"
        },
        "id": "1iuXJoqfWSPN",
        "outputId": "87c16589-8e22-4c94-db17-a61589720518"
      },
      "execution_count": null,
      "outputs": [
        {
          "output_type": "stream",
          "name": "stdout",
          "text": [
            "{'1': ['3', '4', '2'], '2': ['3', '4', '1'], '3': ['4', '2', '1'], '4': ['3', '1', '2']}\n"
          ]
        }
      ]
    },
    {
      "cell_type": "markdown",
      "source": [
        "DFS"
      ],
      "metadata": {
        "id": "hP--bxhCW1k1"
      }
    },
    {
      "cell_type": "code",
      "source": [
        "def dfs(visited, graph, node, n, path):\n",
        "  if(node == n):\n",
        "    path.append(n)\n",
        "    return 1\n",
        "  x = 0 \n",
        "  visited.append(node)\n",
        "  path.append(node)\n",
        "  for neighbour in graph[node]:\n",
        "    if neighbour not in visited:\n",
        "      x = 0 | dfs(visited, graph, neighbour, n, path)\n",
        "      if x:\n",
        "        break\n",
        "  if not x:\n",
        "    path.remove(node)\n",
        "  return x"
      ],
      "metadata": {
        "id": "86GJcqpcWtL8"
      },
      "execution_count": null,
      "outputs": []
    },
    {
      "cell_type": "code",
      "source": [
        "visited = []\n",
        "path = []\n",
        "dfs(visited, graph, '1','4', path)\n",
        "for i in path:\n",
        "  print(i+\"-->\", end=\"\")"
      ],
      "metadata": {
        "colab": {
          "base_uri": "https://localhost:8080/"
        },
        "id": "MrwRBYPqWo-Q",
        "outputId": "d1cbb6df-9c1c-4218-dfb9-807066801c25"
      },
      "execution_count": null,
      "outputs": [
        {
          "output_type": "stream",
          "name": "stdout",
          "text": [
            "1-->3-->4-->"
          ]
        }
      ]
    },
    {
      "cell_type": "markdown",
      "source": [
        "BFS"
      ],
      "metadata": {
        "id": "MNsT31lUhHhp"
      }
    },
    {
      "cell_type": "code",
      "source": [
        "def Bfs(visited, path, n, graph, queue):\n",
        "  if(queue):\n",
        "    front = queue[0]\n",
        "    path.append(front)\n",
        "    if front==n:\n",
        "      return 1\n",
        "    visited.append(front)\n",
        "    queue.pop(0)\n",
        "    for i in graph[front]:\n",
        "      if i not in visited and i not in queue:\n",
        "        queue.append(i)\n",
        "    x = 0 | Bfs(visited, path, n, graph, queue)\n",
        "  if not x:\n",
        "      path.remove(front)\n",
        "  return x"
      ],
      "metadata": {
        "id": "JxBWuq93Z4MZ"
      },
      "execution_count": null,
      "outputs": []
    },
    {
      "cell_type": "code",
      "source": [
        "visited = []\n",
        "path = []\n",
        "queue= []\n",
        "queue.append('1')\n",
        "Bfs(visited, path, '4', graph, queue);"
      ],
      "metadata": {
        "id": "vB98_xmdwxcm"
      },
      "execution_count": null,
      "outputs": []
    },
    {
      "cell_type": "code",
      "source": [
        "print(path)"
      ],
      "metadata": {
        "colab": {
          "base_uri": "https://localhost:8080/"
        },
        "id": "u5EUcseNxEBB",
        "outputId": "a772129a-b981-49dd-db32-701987f1e0cc"
      },
      "execution_count": null,
      "outputs": [
        {
          "output_type": "stream",
          "name": "stdout",
          "text": [
            "['1', '3', '4']\n"
          ]
        }
      ]
    },
    {
      "cell_type": "markdown",
      "source": [
        "Astar Algorithm"
      ],
      "metadata": {
        "id": "HpHVtsdbcCqP"
      }
    },
    {
      "cell_type": "code",
      "source": [
        "def astar_algo(startnode, goalnode, h, graph):\n",
        "  openset = set(startnode)\n",
        "  closeset = set()\n",
        "  g = {}\n",
        "  parentnodes = {}\n",
        "  g[startnode] = 0\n",
        "  parentnodes[startnode] = startnode\n",
        "  while len(openset)>0:\n",
        "    n=None\n",
        "    for i in openset:\n",
        "      if n==None or g[n]+ h[n] > g[i]+h[i]:\n",
        "        n = i\n",
        "\n",
        "    \n",
        "    if n == None or graph[n]==None:\n",
        "        pass\n",
        "    else:\n",
        "        for m,w in graph[n]:\n",
        "          if m not in openset and m not in closeset:\n",
        "            openset.add(m)\n",
        "            g[m] = w+g[n]\n",
        "            parentnodes[m] = n\n",
        "\n",
        "          else:\n",
        "            if g[m]>g[n]+w :\n",
        "              g[m] = g[n]+w\n",
        "              parentnodes[m] = n\n",
        "\n",
        "              if m in closeset:\n",
        "                closeset.remove(m)\n",
        "                openset.add(m)\n",
        "\n",
        "    if n == None:\n",
        "        print(\"Path does not exist!\")\n",
        "        return\n",
        "\n",
        "    if n == goalnode:\n",
        "        print(\"path does exist!\")\n",
        "\n",
        "        path = [goalnode]\n",
        "        while(parentnodes[n]!=n):\n",
        "          path.append(parentnodes[n])\n",
        "          n = parentnodes[n]\n",
        "\n",
        "        path.reverse()\n",
        "        print('Path found: {}'.format(path))\n",
        "        return path\n",
        "\n",
        "    closeset.add(n)\n",
        "    openset.remove(n)\n",
        "\n",
        "  print(\"path does not exist!\")\n",
        "  return\n",
        "    \n",
        "      "
      ],
      "metadata": {
        "id": "TvGGLAAtcCTU"
      },
      "execution_count": null,
      "outputs": []
    },
    {
      "cell_type": "code",
      "source": [
        "H_dist = {\n",
        "            'A': 11,\n",
        "            'B': 6,\n",
        "            'C': 99,\n",
        "            'D': 1,\n",
        "            'E': 7,\n",
        "            'G': 0,\n",
        "             \n",
        "        }"
      ],
      "metadata": {
        "id": "K6m-Jdslis-u"
      },
      "execution_count": null,
      "outputs": []
    },
    {
      "cell_type": "code",
      "source": [
        "Graph = {\n",
        "    'A': [('B', 2), ('E', 3)],\n",
        "    'B': [('C', 1),('G', 9)],\n",
        "    'C': None,\n",
        "    'E': [('D', 6)],\n",
        "    'D': [('G', 1)],\n",
        "    'G': None\n",
        "}"
      ],
      "metadata": {
        "id": "ycZS-lbTi-b9"
      },
      "execution_count": null,
      "outputs": []
    },
    {
      "cell_type": "code",
      "source": [
        "star_algo('G', 'A', H_dist, Graph)"
      ],
      "metadata": {
        "colab": {
          "base_uri": "https://localhost:8080/"
        },
        "id": "Ydql9qiSjBn_",
        "outputId": "35514829-41cb-46ec-f638-a3afbb62c019"
      },
      "execution_count": null,
      "outputs": [
        {
          "output_type": "stream",
          "name": "stdout",
          "text": [
            "Path does not exist\n"
          ]
        }
      ]
    },
    {
      "cell_type": "code",
      "source": [
        "def star_algo(startnode, goalnode, h, graph):\n",
        "  openset =set(startnode)\n",
        "  closeset =set()\n",
        "  g = {}\n",
        "  parent = {}\n",
        "\n",
        "  g[startnode] = 0\n",
        "  parent[startnode] = startnode\n",
        "\n",
        "  while len(openset)>0:\n",
        "    n=None\n",
        "\n",
        "    for i in openset:\n",
        "      if n==None or g[n]+h[n] > g[i]+h[i]:\n",
        "        n=i\n",
        "\n",
        "    if n==None or graph[n]==None:\n",
        "      pass\n",
        "    else:\n",
        "      for m,w in graph[n]:\n",
        "        if m not in openset and m not in closeset:\n",
        "          openset.add(m)\n",
        "          g[m] = w + g[n]\n",
        "          parent[m] = n\n",
        "        else:\n",
        "          g[m] = w+g[n]\n",
        "          parent[m]=n\n",
        "          if m in closeset:\n",
        "            closeset.remove(m)\n",
        "            openset.add(m)\n",
        "\n",
        "    if n == None:\n",
        "      print(\"Path does not exist!\")\n",
        "      return\n",
        "\n",
        "    if n == goalnode:\n",
        "      print(\"Path exists!\")\n",
        "\n",
        "      path = []\n",
        "      while(parent[n]!=n):\n",
        "        path.append(n)\n",
        "        n = parent[n]\n",
        "      path.append(startnode)\n",
        "      path.reverse()\n",
        "      print(\"The path is {}\".format(path))\n",
        "\n",
        "      return \n",
        "    openset.remove(n)\n",
        "    closeset.add(n)\n",
        "  \n",
        "  print(\"Path does not exist\")\n",
        "  return"
      ],
      "metadata": {
        "id": "c-UXRJstjP72"
      },
      "execution_count": null,
      "outputs": []
    },
    {
      "cell_type": "markdown",
      "source": [
        "N-Queens"
      ],
      "metadata": {
        "id": "QARV5YIz2swi"
      }
    },
    {
      "cell_type": "code",
      "source": [
        "def isSafe(mat, r, c):\n",
        "  for i in range(len(mat)):\n",
        "    if mat[i][c]=='Q':\n",
        "      return False\n",
        "\n",
        "  i, j= r, c\n",
        "  while i>=0 and j>=0:\n",
        "      if mat[i][j]=='Q':\n",
        "        return False\n",
        "      i-=1\n",
        "      j-=1\n",
        "\n",
        "  i, j=r, c\n",
        "  while i>=0 and j<len(mat):\n",
        "      if mat[i][j]=='Q':\n",
        "        return False\n",
        "      i-=1\n",
        "      j+=1\n",
        "\n",
        "  return True\n",
        "\n",
        "def print_mat(mat):\n",
        "  for r in mat :\n",
        "    print(str(r).replace(',', \" \").replace('\\'',\"\"))\n",
        "  print()\n",
        "\n",
        "def N_Queen(mat , r):\n",
        "  if r == len(mat):\n",
        "    print_mat(mat)\n",
        "    return 1\n",
        "  x = 0\n",
        "  for i in range(len(mat)):\n",
        "    \n",
        "    if isSafe(mat, r, i):\n",
        "      mat[r][i] = 'Q'\n",
        "      x += N_Queen(mat, r+1)\n",
        "      mat[r][i] = '-'\n",
        "\n",
        "  return x\n",
        "\n",
        "\n",
        "n = int(input(\"Enter the size of the Matrix: \"))\n",
        "sol = 0\n",
        "mat = [['-' for i in range(n)] for j in range(n)]\n",
        "print(\"Total no. of solutions:\", N_Queen(mat, 0))\n"
      ],
      "metadata": {
        "colab": {
          "base_uri": "https://localhost:8080/"
        },
        "id": "NS6dxFPfrs4Z",
        "outputId": "32069f02-2a29-4295-e626-8c4784246690"
      },
      "execution_count": null,
      "outputs": [
        {
          "output_type": "stream",
          "name": "stdout",
          "text": [
            "Enter the size of the Matrix: 4\n",
            "[-  Q  -  -]\n",
            "[-  -  -  Q]\n",
            "[Q  -  -  -]\n",
            "[-  -  Q  -]\n",
            "\n",
            "[-  -  Q  -]\n",
            "[Q  -  -  -]\n",
            "[-  -  -  Q]\n",
            "[-  Q  -  -]\n",
            "\n",
            "Total no. of solutions: 2\n"
          ]
        }
      ]
    },
    {
      "cell_type": "code",
      "source": [
        "lst = list(map(float, input(\"Enter the elements:\").split()))\n",
        "\n",
        "for i in range(len(lst)):\n",
        "  min_index = i\n",
        "  for j in range(i+1, len(lst)):\n",
        "    if lst[min_index]>lst[j]:\n",
        "      min_index = j\n",
        "  lst[min_index], lst[i] = lst[i], lst[min_index] \n",
        "\n",
        "print(lst)"
      ],
      "metadata": {
        "colab": {
          "base_uri": "https://localhost:8080/"
        },
        "id": "x_0Cz4Vx57zA",
        "outputId": "b64cf1bc-7226-4b41-dadf-5835acfaa668"
      },
      "execution_count": null,
      "outputs": [
        {
          "output_type": "stream",
          "name": "stdout",
          "text": [
            "Enter the elements:1 2\n",
            "[1.0, 2.0]\n"
          ]
        }
      ]
    },
    {
      "cell_type": "markdown",
      "source": [
        "Expert system"
      ],
      "metadata": {
        "id": "RFGI4L_2WgGS"
      }
    },
    {
      "cell_type": "code",
      "source": [
        "print(\"Welcome to covid19 expert system\")\n",
        "yesno = ['Is the person suffering from soar throat', 'Can the person not recognise smell and taste', 'Does the person have sore throat', 'Does the person have head ache', 'Does the person have Bp/Diabitis', 'Has the person come in contact with a covid suspicious person']\n",
        "suspicious = 0;\n",
        "oxygen = 0\n",
        "temp = 0\n",
        "severity= 0\n",
        "for i in yesno:\n",
        "  print(i, \"(1 for yes/ 0 for no):\")\n",
        "  ans = int(input())\n",
        "  if ans:\n",
        "    suspicious+=1\n",
        "\n",
        "ques = ['What is the temperature of the person?','What is the Oxygen level of the person','What is the age of the person','How many doses has the person taken of the vaccine']\n",
        "for i in range(len(ques)):\n",
        "  print(ques[i])\n",
        "  if i==0:\n",
        "    n = float(input())\n",
        "    if n>=101.1:\n",
        "      severity+=2\n",
        "      suspicious+=1\n",
        "      temp+=1\n",
        "    elif n<101.1 and n>99.6:\n",
        "      severity+=1\n",
        "  if i==1:\n",
        "    n = int(input())\n",
        "    if n<94 and n>87:\n",
        "      severity+=1\n",
        "    if n<87:\n",
        "      severity+=2\n",
        "      suspicious+=1\n",
        "      oxygen+=1\n",
        "  if i == 2:\n",
        "    n = int(input())\n",
        "    if n<31 and n>8:\n",
        "      severity+=0\n",
        "    elif n>31 and n<51:\n",
        "      severity+=1\n",
        "    elif n>51:\n",
        "      severity+=2\n",
        "  if i == 3:\n",
        "    n = int(input())\n",
        "    if i==2:\n",
        "      severity+=0\n",
        "    elif i==1:\n",
        "      severity+=1\n",
        "    elif i==0:\n",
        "      severity+=2\n",
        "\n",
        "if suspicious>3:\n",
        "  print(\"Patient may have covid 19\")\n",
        "  if severity<3:\n",
        "    print(\"Patient has mild symptoms, Home quarantine\")\n",
        "  elif severity>=3 and severity<6:\n",
        "    print(\"Patient is admissible in a general ward\")\n",
        "  else:\n",
        "    print(\"Patient is critical\")\n",
        "if(oxygen==1):\n",
        "  print(\"Keep on Checking SPO2 level\")\n",
        "if(temp==1):\n",
        "  print(\"keep on checking the temperature\")\n",
        "\n",
        "      \n",
        "\n",
        "  "
      ],
      "metadata": {
        "colab": {
          "base_uri": "https://localhost:8080/"
        },
        "id": "KDpwd4kv_SP_",
        "outputId": "ad294ec4-6983-4149-c3f2-e22927db1099"
      },
      "execution_count": null,
      "outputs": [
        {
          "output_type": "stream",
          "name": "stdout",
          "text": [
            "Welcome to covid19 expert system\n",
            "Is the person suffering from soar throat (1 for yes/ 0 for no):\n",
            "1\n",
            "Can the person not recognise smell and taste (1 for yes/ 0 for no):\n",
            "1\n",
            "Does the person have sore throat (1 for yes/ 0 for no):\n",
            "1\n",
            "Does the person have head ache (1 for yes/ 0 for no):\n",
            "1\n",
            "Does the person have Bp/Diabitis (1 for yes/ 0 for no):\n",
            "1\n",
            "Has the person come in contact with a covid suspicious person (1 for yes/ 0 for no):\n",
            "1\n",
            "What is the temperature of the person?\n",
            "101.1\n",
            "What is the Oxygen level of the person\n",
            "45\n",
            "What is the age of the person\n",
            "12\n",
            "How many doses has the person taken of the vaccine\n",
            "1\n",
            "Patient may have covid 19\n",
            "Patient is admissible in a general ward\n",
            "Keep on Checking SPO2 level\n",
            "keep on checking the temperature\n"
          ]
        }
      ]
    },
    {
      "cell_type": "markdown",
      "source": [
        "ChatBot"
      ],
      "metadata": {
        "id": "6QPiMkAcdBHK"
      }
    },
    {
      "cell_type": "code",
      "source": [
        "!pip install chatterbot"
      ],
      "metadata": {
        "colab": {
          "base_uri": "https://localhost:8080/"
        },
        "id": "Yqogg-4gbopO",
        "outputId": "a8114ccd-5aea-4dfa-c9d0-04f006cc0657"
      },
      "execution_count": null,
      "outputs": [
        {
          "output_type": "stream",
          "name": "stdout",
          "text": [
            "Collecting chatterbot\n",
            "  Downloading ChatterBot-1.0.8-py2.py3-none-any.whl (63 kB)\n",
            "\u001b[?25l\r\u001b[K     |█████▏                          | 10 kB 17.7 MB/s eta 0:00:01\r\u001b[K     |██████████▎                     | 20 kB 21.2 MB/s eta 0:00:01\r\u001b[K     |███████████████▌                | 30 kB 10.4 MB/s eta 0:00:01\r\u001b[K     |████████████████████▋           | 40 kB 12.5 MB/s eta 0:00:01\r\u001b[K     |█████████████████████████▊      | 51 kB 14.4 MB/s eta 0:00:01\r\u001b[K     |███████████████████████████████ | 61 kB 16.1 MB/s eta 0:00:01\r\u001b[K     |████████████████████████████████| 63 kB 2.2 MB/s \n",
            "\u001b[?25hRequirement already satisfied: pytz in /usr/local/lib/python3.7/dist-packages (from chatterbot) (2022.1)\n",
            "Requirement already satisfied: python-dateutil<2.9,>=2.8 in /usr/local/lib/python3.7/dist-packages (from chatterbot) (2.8.2)\n",
            "Collecting mathparse<0.2,>=0.1\n",
            "  Downloading mathparse-0.1.2-py3-none-any.whl (7.2 kB)\n",
            "Collecting sqlalchemy<1.4,>=1.3\n",
            "  Downloading SQLAlchemy-1.3.24-cp37-cp37m-manylinux2010_x86_64.whl (1.3 MB)\n",
            "\u001b[K     |████████████████████████████████| 1.3 MB 35.8 MB/s \n",
            "\u001b[?25hRequirement already satisfied: six>=1.5 in /usr/local/lib/python3.7/dist-packages (from python-dateutil<2.9,>=2.8->chatterbot) (1.15.0)\n",
            "Installing collected packages: sqlalchemy, mathparse, chatterbot\n",
            "  Attempting uninstall: sqlalchemy\n",
            "    Found existing installation: SQLAlchemy 1.4.36\n",
            "    Uninstalling SQLAlchemy-1.4.36:\n",
            "      Successfully uninstalled SQLAlchemy-1.4.36\n",
            "Successfully installed chatterbot-1.0.8 mathparse-0.1.2 sqlalchemy-1.3.24\n"
          ]
        }
      ]
    },
    {
      "cell_type": "code",
      "source": [
        "from chatterbot import ChatBot\n",
        "\n",
        "bot = ChatBot(\n",
        "    name = 'Jarvis',\n",
        "    logic_adapters=[\n",
        "                    'chatterbot.logic.BestMatch',\n",
        "                    'chatterbot.logic.TimeLogicAdapter'\n",
        "    ]\n",
        ")"
      ],
      "metadata": {
        "id": "IzK_18WXdAcj"
      },
      "execution_count": null,
      "outputs": []
    },
    {
      "cell_type": "code",
      "source": [
        "from chatterbot.trainers import ChatterBotCorpusTrainer\n",
        "\n",
        "trainer = ChatterBotCorpusTrainer(bot)\n",
        "trainer.train('chatterbot.corpus.english')\n",
        "\n",
        "name = input()\n",
        "print(\"hi \"+name+\"! I am Jarvis!\")\n",
        "while 1:\n",
        "  inpt = input(name+\":\")\n",
        "  if inpt=='Bye':\n",
        "    print('Jarvis: Tata')\n",
        "    break\n",
        "  else:\n",
        "    res = bot.get_response(inpt)\n",
        "    print(\"Jarvis\", res)\n"
      ],
      "metadata": {
        "colab": {
          "base_uri": "https://localhost:8080/",
          "height": 381
        },
        "id": "ZV2UJP2tdgjq",
        "outputId": "d8823972-ecfc-4595-e1df-b9bf7c1fdd57"
      },
      "execution_count": null,
      "outputs": [
        {
          "output_type": "error",
          "ename": "FileNotFoundError",
          "evalue": "ignored",
          "traceback": [
            "\u001b[0;31m---------------------------------------------------------------------------\u001b[0m",
            "\u001b[0;31mFileNotFoundError\u001b[0m                         Traceback (most recent call last)",
            "\u001b[0;32m<ipython-input-74-3d2b3512c4d3>\u001b[0m in \u001b[0;36m<module>\u001b[0;34m()\u001b[0m\n\u001b[1;32m      2\u001b[0m \u001b[0;34m\u001b[0m\u001b[0m\n\u001b[1;32m      3\u001b[0m \u001b[0mtrainer\u001b[0m \u001b[0;34m=\u001b[0m \u001b[0mChatterBotCorpusTrainer\u001b[0m\u001b[0;34m(\u001b[0m\u001b[0mbot\u001b[0m\u001b[0;34m)\u001b[0m\u001b[0;34m\u001b[0m\u001b[0;34m\u001b[0m\u001b[0m\n\u001b[0;32m----> 4\u001b[0;31m \u001b[0mtrainer\u001b[0m\u001b[0;34m.\u001b[0m\u001b[0mtrain\u001b[0m\u001b[0;34m(\u001b[0m\u001b[0;34m'chatterbot.corpus.english'\u001b[0m\u001b[0;34m)\u001b[0m\u001b[0;34m\u001b[0m\u001b[0;34m\u001b[0m\u001b[0m\n\u001b[0m\u001b[1;32m      5\u001b[0m \u001b[0;34m\u001b[0m\u001b[0m\n\u001b[1;32m      6\u001b[0m \u001b[0mname\u001b[0m \u001b[0;34m=\u001b[0m \u001b[0minput\u001b[0m\u001b[0;34m(\u001b[0m\u001b[0;34m)\u001b[0m\u001b[0;34m\u001b[0m\u001b[0;34m\u001b[0m\u001b[0m\n",
            "\u001b[0;32m/usr/local/lib/python3.7/dist-packages/chatterbot/trainers.py\u001b[0m in \u001b[0;36mtrain\u001b[0;34m(self, *corpus_paths)\u001b[0m\n\u001b[1;32m    133\u001b[0m             \u001b[0mdata_file_paths\u001b[0m\u001b[0;34m.\u001b[0m\u001b[0mextend\u001b[0m\u001b[0;34m(\u001b[0m\u001b[0mlist_corpus_files\u001b[0m\u001b[0;34m(\u001b[0m\u001b[0mcorpus_path\u001b[0m\u001b[0;34m)\u001b[0m\u001b[0;34m)\u001b[0m\u001b[0;34m\u001b[0m\u001b[0;34m\u001b[0m\u001b[0m\n\u001b[1;32m    134\u001b[0m \u001b[0;34m\u001b[0m\u001b[0m\n\u001b[0;32m--> 135\u001b[0;31m         \u001b[0;32mfor\u001b[0m \u001b[0mcorpus\u001b[0m\u001b[0;34m,\u001b[0m \u001b[0mcategories\u001b[0m\u001b[0;34m,\u001b[0m \u001b[0mfile_path\u001b[0m \u001b[0;32min\u001b[0m \u001b[0mload_corpus\u001b[0m\u001b[0;34m(\u001b[0m\u001b[0;34m*\u001b[0m\u001b[0mdata_file_paths\u001b[0m\u001b[0;34m)\u001b[0m\u001b[0;34m:\u001b[0m\u001b[0;34m\u001b[0m\u001b[0;34m\u001b[0m\u001b[0m\n\u001b[0m\u001b[1;32m    136\u001b[0m \u001b[0;34m\u001b[0m\u001b[0m\n\u001b[1;32m    137\u001b[0m             \u001b[0mstatements_to_create\u001b[0m \u001b[0;34m=\u001b[0m \u001b[0;34m[\u001b[0m\u001b[0;34m]\u001b[0m\u001b[0;34m\u001b[0m\u001b[0;34m\u001b[0m\u001b[0m\n",
            "\u001b[0;32m/usr/local/lib/python3.7/dist-packages/chatterbot/corpus.py\u001b[0m in \u001b[0;36mload_corpus\u001b[0;34m(*data_file_paths)\u001b[0m\n\u001b[1;32m     82\u001b[0m     \u001b[0;32mfor\u001b[0m \u001b[0mfile_path\u001b[0m \u001b[0;32min\u001b[0m \u001b[0mdata_file_paths\u001b[0m\u001b[0;34m:\u001b[0m\u001b[0;34m\u001b[0m\u001b[0;34m\u001b[0m\u001b[0m\n\u001b[1;32m     83\u001b[0m         \u001b[0mcorpus\u001b[0m \u001b[0;34m=\u001b[0m \u001b[0;34m[\u001b[0m\u001b[0;34m]\u001b[0m\u001b[0;34m\u001b[0m\u001b[0;34m\u001b[0m\u001b[0m\n\u001b[0;32m---> 84\u001b[0;31m         \u001b[0mcorpus_data\u001b[0m \u001b[0;34m=\u001b[0m \u001b[0mread_corpus\u001b[0m\u001b[0;34m(\u001b[0m\u001b[0mfile_path\u001b[0m\u001b[0;34m)\u001b[0m\u001b[0;34m\u001b[0m\u001b[0;34m\u001b[0m\u001b[0m\n\u001b[0m\u001b[1;32m     85\u001b[0m \u001b[0;34m\u001b[0m\u001b[0m\n\u001b[1;32m     86\u001b[0m         \u001b[0mconversations\u001b[0m \u001b[0;34m=\u001b[0m \u001b[0mcorpus_data\u001b[0m\u001b[0;34m.\u001b[0m\u001b[0mget\u001b[0m\u001b[0;34m(\u001b[0m\u001b[0;34m'conversations'\u001b[0m\u001b[0;34m,\u001b[0m \u001b[0;34m[\u001b[0m\u001b[0;34m]\u001b[0m\u001b[0;34m)\u001b[0m\u001b[0;34m\u001b[0m\u001b[0;34m\u001b[0m\u001b[0m\n",
            "\u001b[0;32m/usr/local/lib/python3.7/dist-packages/chatterbot/corpus.py\u001b[0m in \u001b[0;36mread_corpus\u001b[0;34m(file_name)\u001b[0m\n\u001b[1;32m     56\u001b[0m         \u001b[0;32mraise\u001b[0m \u001b[0mOptionalDependencyImportError\u001b[0m\u001b[0;34m(\u001b[0m\u001b[0mmessage\u001b[0m\u001b[0;34m)\u001b[0m\u001b[0;34m\u001b[0m\u001b[0;34m\u001b[0m\u001b[0m\n\u001b[1;32m     57\u001b[0m \u001b[0;34m\u001b[0m\u001b[0m\n\u001b[0;32m---> 58\u001b[0;31m     \u001b[0;32mwith\u001b[0m \u001b[0mio\u001b[0m\u001b[0;34m.\u001b[0m\u001b[0mopen\u001b[0m\u001b[0;34m(\u001b[0m\u001b[0mfile_name\u001b[0m\u001b[0;34m,\u001b[0m \u001b[0mencoding\u001b[0m\u001b[0;34m=\u001b[0m\u001b[0;34m'utf-8'\u001b[0m\u001b[0;34m)\u001b[0m \u001b[0;32mas\u001b[0m \u001b[0mdata_file\u001b[0m\u001b[0;34m:\u001b[0m\u001b[0;34m\u001b[0m\u001b[0;34m\u001b[0m\u001b[0m\n\u001b[0m\u001b[1;32m     59\u001b[0m         \u001b[0;32mreturn\u001b[0m \u001b[0myaml\u001b[0m\u001b[0;34m.\u001b[0m\u001b[0mload\u001b[0m\u001b[0;34m(\u001b[0m\u001b[0mdata_file\u001b[0m\u001b[0;34m)\u001b[0m\u001b[0;34m\u001b[0m\u001b[0;34m\u001b[0m\u001b[0m\n\u001b[1;32m     60\u001b[0m \u001b[0;34m\u001b[0m\u001b[0m\n",
            "\u001b[0;31mFileNotFoundError\u001b[0m: [Errno 2] No such file or directory: '/root/chatterbot_corpus/data/english'"
          ]
        }
      ]
    },
    {
      "cell_type": "code",
      "source": [
        "from chatterbot import ChatBot\n",
        "\n",
        "bot = ChatBot(\n",
        "    'JARVIS',\n",
        "    logic_adapters=[\n",
        "        'chatterbot.logic.BestMatch',\n",
        "        'chatterbot.logic.TimeLogicAdapter'],\n",
        ")\n",
        "from chatterbot.trainers import ChatterBotCorpusTrainer\n",
        "\n",
        "trainer = ChatterBotCorpusTrainer(bot)\n",
        "trainer.train('chatterbot.corpus.english')\n",
        "\n",
        "name = input(\"Enter Your Name: \")\n",
        "print(\"Hi \" + name + \", how can I help you?\")\n",
        "while True:\n",
        "    request = input(name + ':')\n",
        "    if request == 'Bye' or request == 'bye':\n",
        "        print('JARVIS: Bye')\n",
        "        break\n",
        "    else:\n",
        "        response = bot.get_response(request)\n",
        "        # get_reponses() is a method of chatbot instance\n",
        "        print('JARVIS:', response)"
      ],
      "metadata": {
        "colab": {
          "base_uri": "https://localhost:8080/",
          "height": 381
        },
        "id": "3EfJHvJQen6p",
        "outputId": "f10c38b9-3931-4d08-ee61-9f27249a08c2"
      },
      "execution_count": null,
      "outputs": [
        {
          "output_type": "error",
          "ename": "FileNotFoundError",
          "evalue": "ignored",
          "traceback": [
            "\u001b[0;31m---------------------------------------------------------------------------\u001b[0m",
            "\u001b[0;31mFileNotFoundError\u001b[0m                         Traceback (most recent call last)",
            "\u001b[0;32m<ipython-input-75-5492cd804c8b>\u001b[0m in \u001b[0;36m<module>\u001b[0;34m()\u001b[0m\n\u001b[1;32m     10\u001b[0m \u001b[0;34m\u001b[0m\u001b[0m\n\u001b[1;32m     11\u001b[0m \u001b[0mtrainer\u001b[0m \u001b[0;34m=\u001b[0m \u001b[0mChatterBotCorpusTrainer\u001b[0m\u001b[0;34m(\u001b[0m\u001b[0mbot\u001b[0m\u001b[0;34m)\u001b[0m\u001b[0;34m\u001b[0m\u001b[0;34m\u001b[0m\u001b[0m\n\u001b[0;32m---> 12\u001b[0;31m \u001b[0mtrainer\u001b[0m\u001b[0;34m.\u001b[0m\u001b[0mtrain\u001b[0m\u001b[0;34m(\u001b[0m\u001b[0;34m'chatterbot.corpus.english'\u001b[0m\u001b[0;34m)\u001b[0m\u001b[0;34m\u001b[0m\u001b[0;34m\u001b[0m\u001b[0m\n\u001b[0m\u001b[1;32m     13\u001b[0m \u001b[0;34m\u001b[0m\u001b[0m\n\u001b[1;32m     14\u001b[0m \u001b[0mname\u001b[0m \u001b[0;34m=\u001b[0m \u001b[0minput\u001b[0m\u001b[0;34m(\u001b[0m\u001b[0;34m\"Enter Your Name: \"\u001b[0m\u001b[0;34m)\u001b[0m\u001b[0;34m\u001b[0m\u001b[0;34m\u001b[0m\u001b[0m\n",
            "\u001b[0;32m/usr/local/lib/python3.7/dist-packages/chatterbot/trainers.py\u001b[0m in \u001b[0;36mtrain\u001b[0;34m(self, *corpus_paths)\u001b[0m\n\u001b[1;32m    133\u001b[0m             \u001b[0mdata_file_paths\u001b[0m\u001b[0;34m.\u001b[0m\u001b[0mextend\u001b[0m\u001b[0;34m(\u001b[0m\u001b[0mlist_corpus_files\u001b[0m\u001b[0;34m(\u001b[0m\u001b[0mcorpus_path\u001b[0m\u001b[0;34m)\u001b[0m\u001b[0;34m)\u001b[0m\u001b[0;34m\u001b[0m\u001b[0;34m\u001b[0m\u001b[0m\n\u001b[1;32m    134\u001b[0m \u001b[0;34m\u001b[0m\u001b[0m\n\u001b[0;32m--> 135\u001b[0;31m         \u001b[0;32mfor\u001b[0m \u001b[0mcorpus\u001b[0m\u001b[0;34m,\u001b[0m \u001b[0mcategories\u001b[0m\u001b[0;34m,\u001b[0m \u001b[0mfile_path\u001b[0m \u001b[0;32min\u001b[0m \u001b[0mload_corpus\u001b[0m\u001b[0;34m(\u001b[0m\u001b[0;34m*\u001b[0m\u001b[0mdata_file_paths\u001b[0m\u001b[0;34m)\u001b[0m\u001b[0;34m:\u001b[0m\u001b[0;34m\u001b[0m\u001b[0;34m\u001b[0m\u001b[0m\n\u001b[0m\u001b[1;32m    136\u001b[0m \u001b[0;34m\u001b[0m\u001b[0m\n\u001b[1;32m    137\u001b[0m             \u001b[0mstatements_to_create\u001b[0m \u001b[0;34m=\u001b[0m \u001b[0;34m[\u001b[0m\u001b[0;34m]\u001b[0m\u001b[0;34m\u001b[0m\u001b[0;34m\u001b[0m\u001b[0m\n",
            "\u001b[0;32m/usr/local/lib/python3.7/dist-packages/chatterbot/corpus.py\u001b[0m in \u001b[0;36mload_corpus\u001b[0;34m(*data_file_paths)\u001b[0m\n\u001b[1;32m     82\u001b[0m     \u001b[0;32mfor\u001b[0m \u001b[0mfile_path\u001b[0m \u001b[0;32min\u001b[0m \u001b[0mdata_file_paths\u001b[0m\u001b[0;34m:\u001b[0m\u001b[0;34m\u001b[0m\u001b[0;34m\u001b[0m\u001b[0m\n\u001b[1;32m     83\u001b[0m         \u001b[0mcorpus\u001b[0m \u001b[0;34m=\u001b[0m \u001b[0;34m[\u001b[0m\u001b[0;34m]\u001b[0m\u001b[0;34m\u001b[0m\u001b[0;34m\u001b[0m\u001b[0m\n\u001b[0;32m---> 84\u001b[0;31m         \u001b[0mcorpus_data\u001b[0m \u001b[0;34m=\u001b[0m \u001b[0mread_corpus\u001b[0m\u001b[0;34m(\u001b[0m\u001b[0mfile_path\u001b[0m\u001b[0;34m)\u001b[0m\u001b[0;34m\u001b[0m\u001b[0;34m\u001b[0m\u001b[0m\n\u001b[0m\u001b[1;32m     85\u001b[0m \u001b[0;34m\u001b[0m\u001b[0m\n\u001b[1;32m     86\u001b[0m         \u001b[0mconversations\u001b[0m \u001b[0;34m=\u001b[0m \u001b[0mcorpus_data\u001b[0m\u001b[0;34m.\u001b[0m\u001b[0mget\u001b[0m\u001b[0;34m(\u001b[0m\u001b[0;34m'conversations'\u001b[0m\u001b[0;34m,\u001b[0m \u001b[0;34m[\u001b[0m\u001b[0;34m]\u001b[0m\u001b[0;34m)\u001b[0m\u001b[0;34m\u001b[0m\u001b[0;34m\u001b[0m\u001b[0m\n",
            "\u001b[0;32m/usr/local/lib/python3.7/dist-packages/chatterbot/corpus.py\u001b[0m in \u001b[0;36mread_corpus\u001b[0;34m(file_name)\u001b[0m\n\u001b[1;32m     56\u001b[0m         \u001b[0;32mraise\u001b[0m \u001b[0mOptionalDependencyImportError\u001b[0m\u001b[0;34m(\u001b[0m\u001b[0mmessage\u001b[0m\u001b[0;34m)\u001b[0m\u001b[0;34m\u001b[0m\u001b[0;34m\u001b[0m\u001b[0m\n\u001b[1;32m     57\u001b[0m \u001b[0;34m\u001b[0m\u001b[0m\n\u001b[0;32m---> 58\u001b[0;31m     \u001b[0;32mwith\u001b[0m \u001b[0mio\u001b[0m\u001b[0;34m.\u001b[0m\u001b[0mopen\u001b[0m\u001b[0;34m(\u001b[0m\u001b[0mfile_name\u001b[0m\u001b[0;34m,\u001b[0m \u001b[0mencoding\u001b[0m\u001b[0;34m=\u001b[0m\u001b[0;34m'utf-8'\u001b[0m\u001b[0;34m)\u001b[0m \u001b[0;32mas\u001b[0m \u001b[0mdata_file\u001b[0m\u001b[0;34m:\u001b[0m\u001b[0;34m\u001b[0m\u001b[0;34m\u001b[0m\u001b[0m\n\u001b[0m\u001b[1;32m     59\u001b[0m         \u001b[0;32mreturn\u001b[0m \u001b[0myaml\u001b[0m\u001b[0;34m.\u001b[0m\u001b[0mload\u001b[0m\u001b[0;34m(\u001b[0m\u001b[0mdata_file\u001b[0m\u001b[0;34m)\u001b[0m\u001b[0;34m\u001b[0m\u001b[0;34m\u001b[0m\u001b[0m\n\u001b[1;32m     60\u001b[0m \u001b[0;34m\u001b[0m\u001b[0m\n",
            "\u001b[0;31mFileNotFoundError\u001b[0m: [Errno 2] No such file or directory: '/root/chatterbot_corpus/data/english'"
          ]
        }
      ]
    },
    {
      "cell_type": "markdown",
      "source": [
        "N-Queens Back and Bounds"
      ],
      "metadata": {
        "id": "-g-t5ULLIRrQ"
      }
    },
    {
      "cell_type": "code",
      "source": [
        "def isSafe(r, c, slashtable, backslashtable, backslashlookup, slashlookup,rowlookup):\n",
        "  if(rowlookup[r] or slashlookup[slashtable[r][c]] or backslashlookup[backslashtable[r][c]]):\n",
        "    return False\n",
        "  return True"
      ],
      "metadata": {
        "id": "DW2nLy-kfARC"
      },
      "execution_count": null,
      "outputs": []
    },
    {
      "cell_type": "code",
      "source": [
        "def NQueensUtils(n, board , c, slashtable, backslashtable, backslashlookup, slashlookup,rowlookup):\n",
        "  if c>=n:\n",
        "    return True\n",
        "  for i in range(n):\n",
        "    if isSafe(i, c, slashtable, backslashtable, backslashlookup, slashlookup,rowlookup):\n",
        "      board[i][c] = 1\n",
        "      rowlookup[i] = 1\n",
        "      slashlookup[slashtable[i][c]]=1\n",
        "      backslashlookup[backslashtable[i][c]]=1\n",
        "\n",
        "      if NQueensUtils(n, board , c+1, slashtable, backslashtable, backslashlookup, slashlookup,rowlookup):\n",
        "        return True\n",
        "\n",
        "      board[i][c] = 0\n",
        "      rowlookup[i] = 0\n",
        "      slashlookup[slashtable[i][c]]=0\n",
        "      backslashlookup[backslashtable[i][c]]=0\n",
        "\n",
        "\n",
        "  return False\n"
      ],
      "metadata": {
        "id": "dSuOCGf6KAkX"
      },
      "execution_count": null,
      "outputs": []
    },
    {
      "cell_type": "code",
      "source": [
        "def NQueen(n):\n",
        "\n",
        "   board = [[0 for i in range(n)] for j in range(n)]\n",
        "   \n",
        "   rowlookup = [0 for i in range(n)]\n",
        "\n",
        "   slashtable = [[0 for i in range(n)] for j in range(n)]\n",
        "\n",
        "   backslashtable = [[0 for i in range(n)] for j in range(n)]\n",
        "\n",
        "   x = 2 * n - 1\n",
        "   slashlookup = [0] * x\n",
        "   backslashlookup = [0] * x\n",
        "   for r in range(n):\n",
        "     for c in range(n):\n",
        "       slashtable[r][c] = r + c\n",
        "       backslashtable[r][c] = r - c + n - 1\n",
        "    \n",
        "   if not NQueensUtils(n, board, 0, slashtable, backslashtable, backslashlookup, slashlookup,rowlookup):\n",
        "     print(\"Doesnot Exist\")\n",
        "\n",
        "   else:\n",
        "     for i in board:\n",
        "       print(str(i).replace(\",\", \" \").replace(\"'\", \" \"))\n",
        "\n",
        "\n",
        "\n",
        "\n",
        "NQueen(8)\n",
        "\n",
        "  \n"
      ],
      "metadata": {
        "colab": {
          "base_uri": "https://localhost:8080/"
        },
        "id": "W7_mlbNVMWd-",
        "outputId": "edd6a422-5094-46cd-f04f-2890c820816b"
      },
      "execution_count": null,
      "outputs": [
        {
          "output_type": "stream",
          "name": "stdout",
          "text": [
            "[1  0  0  0  0  0  0  0]\n",
            "[0  0  0  0  0  0  1  0]\n",
            "[0  0  0  0  1  0  0  0]\n",
            "[0  0  0  0  0  0  0  1]\n",
            "[0  1  0  0  0  0  0  0]\n",
            "[0  0  0  1  0  0  0  0]\n",
            "[0  0  0  0  0  1  0  0]\n",
            "[0  0  1  0  0  0  0  0]\n"
          ]
        }
      ]
    },
    {
      "cell_type": "code",
      "source": [
        "N = 8\n",
        "def printSolution(board):\n",
        "    for i in range(N):\n",
        "        for j in range(N):\n",
        "            print(board[i][j], end=\" \")\n",
        "        print()\n",
        "\"\"\" A Optimized function to check if\n",
        "a queen can be placed on board[row][col] \"\"\"\n",
        "def isSafe(r, c, slashCode, backslashCode,\n",
        "           rowLookup, slashCodeLookup,\n",
        "           backslashCodeLookup):\n",
        "    if (slashCodeLookup[slashCode[r][c]] or\n",
        "            backslashCodeLookup[backslashCode[r][c]] or\n",
        "            rowLookup[r]):\n",
        "        return False\n",
        "    return True\n",
        "\"\"\" A recursive utility function\n",
        "to solve N Queen problem \"\"\"\n",
        "def solveNQueensUtil(board, c, slashCode, backslashCode,\n",
        "                     rowLookup, slashCodeLookup,\n",
        "                     backslashCodeLookup):\n",
        "    \"\"\" base case: If all queens are\n",
        "    placed then return True \"\"\"\n",
        "    if (c>= N):\n",
        "        return True\n",
        "    for i in range(N):\n",
        "        if (isSafe(i, c, slashCode, backslashCode,\n",
        "                   rowLookup, slashCodeLookup,\n",
        "                   backslashCodeLookup)):\n",
        "\n",
        "            \"\"\" Place this queen in board[i][col] \"\"\"\n",
        "            board[i][c] = 1\n",
        "            rowLookup[i] = True\n",
        "            slashCodeLookup[slashCode[i][c]] = True\n",
        "            backslashCodeLookup[backslashCode[i][c]] = True\n",
        "\n",
        "            \"\"\" recur to place rest of the queens \"\"\"\n",
        "            if (solveNQueensUtil(board, c + 1,\n",
        "                                 slashCode, backslashCode,\n",
        "                                 rowLookup, slashCodeLookup,\n",
        "                                 backslashCodeLookup)):\n",
        "                return True\n",
        "\n",
        "            \"\"\" If placing queen in board[i][col]\n",
        "            doesn't lead to a solution,then backtrack \"\"\"\n",
        "\n",
        "            \"\"\" Remove queen from board[i][col] \"\"\"\n",
        "            board[i][c] = 0\n",
        "            rowLookup[i] = False\n",
        "            slashCodeLookup[slashCode[i][c]] = False\n",
        "            backslashCodeLookup[backslashCode[i][c]] = False\n",
        "\n",
        "    \"\"\" If queen can not be place in any row in\n",
        "    this column col then return False \"\"\"\n",
        "    return False\n",
        "\n",
        "def solveNQueens():\n",
        "    board = [[0 for i in range(N)]\n",
        "             for j in range(N)]\n",
        "\n",
        "    # helper matrices\n",
        "    slashCode = [[0 for i in range(N)]\n",
        "                 for j in range(N)]\n",
        "    backslashCode = [[0 for i in range(N)]\n",
        "                     for j in range(N)]\n",
        "\n",
        "    # arrays to tell us which rows are occupied\n",
        "    rowLookup = [False] * N\n",
        "\n",
        "    # keep two arrays to tell us\n",
        "    # which diagonals are occupied\n",
        "    x = 2 * N - 1\n",
        "    slashCodeLookup = [False] * x\n",
        "    backslashCodeLookup = [False] * x\n",
        "\n",
        "    # initialize helper matrices\n",
        "    for rr in range(N):\n",
        "        for cc in range(N):\n",
        "            slashCode[rr][cc] = rr + cc\n",
        "            backslashCode[rr][cc] = rr - cc + 7\n",
        "\n",
        "    if (solveNQueensUtil(board, 0, slashCode, backslashCode,\n",
        "                         rowLookup, slashCodeLookup,\n",
        "                         backslashCodeLookup) == False):\n",
        "        print(\"Solution does not exist\")\n",
        "        return False\n",
        "\n",
        "    # solution found\n",
        "    printSolution(board)\n",
        "    return True\n",
        "\n",
        "solveNQueens()"
      ],
      "metadata": {
        "colab": {
          "base_uri": "https://localhost:8080/"
        },
        "id": "GSy7c7nxPpDk",
        "outputId": "436abf22-b444-4627-d527-d7033b48e586"
      },
      "execution_count": null,
      "outputs": [
        {
          "output_type": "stream",
          "name": "stdout",
          "text": [
            "1 0 0 0 0 0 0 0 \n",
            "0 0 0 0 0 0 1 0 \n",
            "0 0 0 0 1 0 0 0 \n",
            "0 0 0 0 0 0 0 1 \n",
            "0 1 0 0 0 0 0 0 \n",
            "0 0 0 1 0 0 0 0 \n",
            "0 0 0 0 0 1 0 0 \n",
            "0 0 1 0 0 0 0 0 \n"
          ]
        },
        {
          "output_type": "execute_result",
          "data": {
            "text/plain": [
              "True"
            ]
          },
          "metadata": {},
          "execution_count": 22
        }
      ]
    },
    {
      "cell_type": "code",
      "source": [
        "import nltk\n",
        "from nltk.chat.util import Chat, reflections\n",
        "\n",
        "reflections = {\n",
        "    \"i am\": \"you are\",\n",
        "    \"i was\": \"you were\",\n",
        "    \"i\": \"you\",\n",
        "    \"i'm\": \"you are\",\n",
        "    \"i'd\": \"you would\",\n",
        "    \"i've\": \"you have\",\n",
        "    \"i'll\": \"you will\",\n",
        "    \"my\": \"your\",\n",
        "    \"you are\": \"I am\",\n",
        "    \"you were\": \"I was\",\n",
        "    \"you've\": \"I have\",\n",
        "    \"you'll\": \"I will\",\n",
        "    \"your\": \"my\",\n",
        "    \"yours\": \"mine\",\n",
        "    \"you\": \"me\",\n",
        "    \"me\": \"you\"\n",
        "}\n",
        "\n",
        "\n",
        "pairs = [\n",
        "    [\n",
        "        r\"hi|hey|hello\",\n",
        "        [\"Hello, How can I help you?\"]\n",
        "    ],\n",
        "    [\n",
        "        r\"what is your name ?\",\n",
        "        [\"I am a Quick Bot!\"]\n",
        "    ],\n",
        "    [\n",
        "        r\"how are you ?\",\n",
        "        [\"I'm doing good. How about You ?\", ]\n",
        "    ],\n",
        "    [\n",
        "        r\"i am good\",\n",
        "        [\"Nice to hear that, How can I help you?)\", ]\n",
        "    ],\n",
        "    [\n",
        "        r\"(.*) available rooms|(.*) rooms available\",\n",
        "        [\"We offer a double room and a single room. Which one would you like to know more about?\"]\n",
        "    ],\n",
        "    [\n",
        "        r\"double room\",\n",
        "        [\"It has a 2 rooms, can accomodate maximum of 4 people.\"]\n",
        "    ],\n",
        "    [\n",
        "        r\"single room\",\n",
        "        [\"It has a 1 room, can accomodate maximum of 2 people.\"]\n",
        "    ],\n",
        "    [\n",
        "        r\"(.*) pool?\",\n",
        "        [\"Yes\", \"Yes, it has a baby pool and a deep pool for adults.\"]\n",
        "    ],\n",
        "    [\n",
        "        r\"(.*) rates|(.*)rate\",\n",
        "        [\"For which room would you like to know?\"]\n",
        "    ],\n",
        "    [\n",
        "        r\"(.*) single room\",\n",
        "        [\"It is Rs.2500/day\"]\n",
        "    ],\n",
        "    [\n",
        "        r\"(.*) double room\",\n",
        "        [\"It is Rs.4500/day\"]\n",
        "    ],\n",
        "    [\n",
        "        r\"Is breakfast included?\",\n",
        "        [\"Yes!\", \"Breakfast is complimentary\"]\n",
        "    ],\n",
        "    [\n",
        "        r\"(.*) book a room?\",\n",
        "        [\"Head over to the hotel's website or contact the reception\"]\n",
        "    ],\n",
        "    [\n",
        "        r\"quit\",\n",
        "        [\"BBye take care. See you soon :) \",\n",
        "            \"It was nice talking to you. See you soon :)\"]\n",
        "    ],\n",
        "]\n",
        "\n",
        "\n",
        "def chat():\n",
        "    print(\"Hello, I am a Hotel Help Desk Chatbot!\")\n",
        "    chat = Chat(pairs, reflections)\n",
        "    chat.converse()\n",
        "\n",
        "\n",
        "\n",
        "chat()"
      ],
      "metadata": {
        "colab": {
          "base_uri": "https://localhost:8080/"
        },
        "id": "ZKOO-7tLUAuo",
        "outputId": "26b28ad5-b791-4e7a-bd79-aa86896bbd98"
      },
      "execution_count": null,
      "outputs": [
        {
          "output_type": "stream",
          "name": "stdout",
          "text": [
            "Hello, I am a Hotel Help Desk Chatbot!\n",
            ">how are you?\n",
            "I'm doing good. How about You ?\n",
            ">are rooms available?\n",
            "We offer a double room and a single room. Which one would you like to know more about?\n",
            ">how many double rooms?\n",
            "It is Rs.4500/day\n",
            ">okay\n",
            "None\n",
            ">quit\n",
            "It was nice talking to you. See you soon :)\n"
          ]
        }
      ]
    },
    {
      "cell_type": "code",
      "source": [
        "def dfs(graph, path, goalnode, visited, node):\n",
        "  if node == goalnode:\n",
        "    path.append(node)\n",
        "    return True\n",
        "  x = 0\n",
        "  visited.append(node)\n",
        "  path.append(node)\n",
        "  for i in graph[node]:\n",
        "    if i not in visited:\n",
        "      x |= dfs(graph, path, goalnode, visited, i)\n",
        "    if x:\n",
        "      break\n",
        "  if not x:\n",
        "    path.remove(node)\n",
        "    return False\n",
        "  else:\n",
        "    return True"
      ],
      "metadata": {
        "id": "uc2yYnI5Y6qJ"
      },
      "execution_count": null,
      "outputs": []
    },
    {
      "cell_type": "code",
      "source": [
        "graph = {}\n",
        "n = int(input())\n",
        "for i in range(n):\n",
        "  edge = input()\n",
        "  a,b = edge.split()\n",
        "  if a not in graph.keys():\n",
        "    graph[a] = [b]\n",
        "  if b not in graph.keys():\n",
        "    graph[b] = [a]\n",
        "  try:\n",
        "    graph[a].append(b)\n",
        "    graph[b].append(a)\n",
        "  except:\n",
        "    continue\n",
        "\n",
        "graph = {k:list(set(v)) for k,v in graph.items()}\n"
      ],
      "metadata": {
        "colab": {
          "base_uri": "https://localhost:8080/"
        },
        "id": "t8D9tl1inZzR",
        "outputId": "576cf143-7844-466d-b539-cac50e6fcb99"
      },
      "execution_count": null,
      "outputs": [
        {
          "name": "stdout",
          "output_type": "stream",
          "text": [
            "7\n",
            "1 2\n",
            "2 3\n",
            "3 4\n",
            "4 1\n",
            "1 3\n",
            "2 4\n",
            "4 5\n"
          ]
        }
      ]
    },
    {
      "cell_type": "code",
      "source": [
        "graph"
      ],
      "metadata": {
        "colab": {
          "base_uri": "https://localhost:8080/"
        },
        "id": "d_4w-2Eio4u6",
        "outputId": "1d16d39f-cb3f-4c64-fbde-56de469bf860"
      },
      "execution_count": null,
      "outputs": [
        {
          "output_type": "execute_result",
          "data": {
            "text/plain": [
              "{'1': ['2', '4', '3'],\n",
              " '2': ['3', '4', '1'],\n",
              " '3': ['2', '4', '1'],\n",
              " '4': ['3', '2', '5', '1'],\n",
              " '5': ['4']}"
            ]
          },
          "metadata": {},
          "execution_count": 41
        }
      ]
    },
    {
      "cell_type": "code",
      "source": [
        "visited=[]\n",
        "path = []\n",
        "dfs(graph, path, '1', visited, '5')"
      ],
      "metadata": {
        "colab": {
          "base_uri": "https://localhost:8080/"
        },
        "id": "mzTKc9HtpJvi",
        "outputId": "efa2de62-e24a-4fff-bb8d-9b1dd1dd8fe2"
      },
      "execution_count": null,
      "outputs": [
        {
          "output_type": "execute_result",
          "data": {
            "text/plain": [
              "True"
            ]
          },
          "metadata": {},
          "execution_count": 42
        }
      ]
    },
    {
      "cell_type": "code",
      "source": [
        "path"
      ],
      "metadata": {
        "colab": {
          "base_uri": "https://localhost:8080/"
        },
        "id": "Z3K4AG2ipXYF",
        "outputId": "e9e49744-b87a-4b25-b778-bc39fcfa6f61"
      },
      "execution_count": null,
      "outputs": [
        {
          "output_type": "execute_result",
          "data": {
            "text/plain": [
              "['5', '4', '3', '2', '1']"
            ]
          },
          "metadata": {},
          "execution_count": 43
        }
      ]
    },
    {
      "cell_type": "code",
      "source": [
        "def bfs(graph, goalnode, queue, path, visited):\n",
        " \n",
        "  if queue:\n",
        "    x=0\n",
        "    front = queue[0]\n",
        "    queue.pop(0)\n",
        "    if front == goalnode:\n",
        "      path.append(front)\n",
        "      return True\n",
        "    visited.append(front)\n",
        "    path.append(front)\n",
        "    for i in graph[front]:\n",
        "      if i not in visited and i not in queue:\n",
        "        queue.append(i)\n",
        "    x|= bfs(graph, goalnode, queue, path, visited)\n",
        "    if not x:\n",
        "      path.remove(front)\n",
        "      return False\n",
        "    else: return True\n",
        "  return False"
      ],
      "metadata": {
        "id": "_7hInm46pnwX"
      },
      "execution_count": null,
      "outputs": []
    },
    {
      "cell_type": "code",
      "source": [
        "queue = ['1']\n",
        "visited = []\n",
        "path = []\n",
        "bfs(graph, '5', queue, path, visited)\n"
      ],
      "metadata": {
        "colab": {
          "base_uri": "https://localhost:8080/"
        },
        "id": "DX53V_J4vL-V",
        "outputId": "bfaed6ed-b75b-45af-9f66-6db32db81d9c"
      },
      "execution_count": null,
      "outputs": [
        {
          "output_type": "execute_result",
          "data": {
            "text/plain": [
              "True"
            ]
          },
          "metadata": {},
          "execution_count": 55
        }
      ]
    },
    {
      "cell_type": "code",
      "source": [
        "path"
      ],
      "metadata": {
        "colab": {
          "base_uri": "https://localhost:8080/"
        },
        "id": "ziM2O2G6vhUb",
        "outputId": "82110f30-04f4-4d52-a214-022c5ddc52f8"
      },
      "execution_count": null,
      "outputs": [
        {
          "output_type": "execute_result",
          "data": {
            "text/plain": [
              "['1', '2', '4', '3', '5']"
            ]
          },
          "metadata": {},
          "execution_count": 56
        }
      ]
    },
    {
      "cell_type": "code",
      "source": [
        "def astar(goalnode, startnode, graph, h):\n",
        "  openset = set(startnode)\n",
        "  closeset = set()\n",
        "  g = {}\n",
        "  parent = {}\n",
        "  g[startnode] = 0\n",
        "  parent[startnode] = startnode\n",
        "\n",
        "  while len(openset)>0:\n",
        "    n = None\n",
        "\n",
        "    for i in openset:\n",
        "      if n==None or g[n]+h[n]>g[i]+h[i]:\n",
        "        n=i\n",
        "\n",
        "    if n==None or graph[n]==None:\n",
        "      pass\n",
        "    else:\n",
        "      for m, w in graph[n]:\n",
        "        if m not in openset and m not in closeset:\n",
        "          g[m] = g[n]+w\n",
        "          openset.add(m)\n",
        "          parent[m] = n\n",
        "        else:\n",
        "          if g[m] > g[n]+w:\n",
        "            g[m]=g[n]+w\n",
        "            parent[m] = n\n",
        "            if m in closeset:\n",
        "              closeset.remove(m)\n",
        "              openset.add(m)\n",
        "    if n==None:\n",
        "      print(\"Path Doesnot exist\") \n",
        "      return \n",
        "\n",
        "    if n==goalnode:\n",
        "      path = [goalnode]\n",
        "      while(parent[n]!=n):\n",
        "        path.append(parent[n])\n",
        "        n = parent[n]\n",
        "\n",
        "      path.reverse()\n",
        "\n",
        "      print('path is {}'.format(path))\n",
        "      return\n",
        "\n",
        "    openset.remove(n)\n",
        "    closeset.add(n)\n",
        "  print(\"Path Doesnot exist\")  \n",
        "  return\n",
        "\n"
      ],
      "metadata": {
        "id": "bJtYfkhMvybT"
      },
      "execution_count": null,
      "outputs": []
    },
    {
      "cell_type": "code",
      "source": [
        "h = {\n",
        "            'A': 11,\n",
        "            'B': 6,\n",
        "            'C': 99,\n",
        "            'D': 1,\n",
        "            'E': 7,\n",
        "            'G': 0,\n",
        "             \n",
        "        }"
      ],
      "metadata": {
        "id": "pBhVqOgD0KJI"
      },
      "execution_count": null,
      "outputs": []
    },
    {
      "cell_type": "code",
      "source": [
        "Graph = {\n",
        "    'A': [('B', 2), ('E', 3)],\n",
        "    'B': [('C', 1),('G', 9)],\n",
        "    'C': None,\n",
        "    'E': [('D', 6)],\n",
        "    'D': [('G', 1)],\n",
        "    'G': None\n",
        "}"
      ],
      "metadata": {
        "id": "PUWGfYAV0bpJ"
      },
      "execution_count": null,
      "outputs": []
    },
    {
      "cell_type": "code",
      "source": [
        "astar('G', 'A',Graph, h)"
      ],
      "metadata": {
        "colab": {
          "base_uri": "https://localhost:8080/"
        },
        "id": "cSCJNYo90f3w",
        "outputId": "7fd12c14-f3bc-4357-d810-4dcc60badf00"
      },
      "execution_count": null,
      "outputs": [
        {
          "output_type": "stream",
          "name": "stdout",
          "text": [
            "path is ['A', 'E', 'D', 'G']\n"
          ]
        }
      ]
    },
    {
      "cell_type": "code",
      "source": [
        "lst = list(map(float,input().split()))\n",
        "\n",
        "for i in range(len(lst)):\n",
        "  min_index = i\n",
        "  for j in range(i+1, len(lst)):\n",
        "    if(lst[min_index]>lst[j]):\n",
        "      min_index = j\n",
        "\n",
        "  lst[min_index], lst[i] = lst[i], lst[min_index]"
      ],
      "metadata": {
        "colab": {
          "base_uri": "https://localhost:8080/"
        },
        "id": "r7kaJkcE0rst",
        "outputId": "b02b8213-cacb-4b2d-c060-88faeb43fb68"
      },
      "execution_count": null,
      "outputs": [
        {
          "name": "stdout",
          "output_type": "stream",
          "text": [
            "1 6 2 7 4 8 5 10\n"
          ]
        }
      ]
    },
    {
      "cell_type": "code",
      "source": [
        "print(lst)"
      ],
      "metadata": {
        "colab": {
          "base_uri": "https://localhost:8080/"
        },
        "id": "uH5LenxL5vE0",
        "outputId": "e04b79ae-ad2f-4d9d-ca7d-4d0890965e8d"
      },
      "execution_count": null,
      "outputs": [
        {
          "output_type": "stream",
          "name": "stdout",
          "text": [
            "[1.0, 2.0, 4.0, 5.0, 6.0, 7.0, 8.0, 10.0]\n"
          ]
        }
      ]
    },
    {
      "cell_type": "code",
      "source": [
        "def isSafe(r, c, graph):\n",
        "  for i in range(len(graph)):\n",
        "    if graph[i][c] == 'Q':\n",
        "      return False\n",
        "  i, j = r, c\n",
        "  while i>=0 and j>=0:\n",
        "    if graph[i][j]=='Q':\n",
        "      return False\n",
        "    i-=1\n",
        "    j-=1\n",
        "  i, j = r, c\n",
        "  while i>=0 and j<len(graph):\n",
        "    if graph[i][j]=='Q':\n",
        "      return False\n",
        "    i-=1\n",
        "    j+=1\n",
        "  return True"
      ],
      "metadata": {
        "id": "GsYHbAQ953Yf"
      },
      "execution_count": null,
      "outputs": []
    },
    {
      "cell_type": "code",
      "source": [
        "def print_mat(graph):\n",
        "  for u in graph:\n",
        "      print(str(u).replace(',',' ').replace('\\'',''))\n",
        "  print()      "
      ],
      "metadata": {
        "id": "mnFXm3u9_SMh"
      },
      "execution_count": null,
      "outputs": []
    },
    {
      "cell_type": "code",
      "source": [
        "def NQueens(r,graph ):\n",
        "  if r==len(graph):\n",
        "    print_mat(graph)\n",
        "    return 1\n",
        "  x = 0\n",
        "  for i in range(len(graph)):\n",
        "    if isSafe(r,i,graph):\n",
        "      graph[r][i] = 'Q'\n",
        "      x += NQueens(r+1, graph)\n",
        "      graph[r][i] = '-'\n",
        "  return x"
      ],
      "metadata": {
        "id": "i_Lg4mJ_7P6Q"
      },
      "execution_count": null,
      "outputs": []
    },
    {
      "cell_type": "code",
      "source": [
        "graph = [['-'for i in range(4)]for j in range(4)]\n",
        "path = []\n",
        "NQueens(0, graph)\n"
      ],
      "metadata": {
        "colab": {
          "base_uri": "https://localhost:8080/"
        },
        "id": "LCVcnEVk8-4v",
        "outputId": "5b7a1686-1284-4995-a80a-5083af24c2be"
      },
      "execution_count": null,
      "outputs": [
        {
          "output_type": "stream",
          "name": "stdout",
          "text": [
            "[-  Q  -  -]\n",
            "[-  -  -  Q]\n",
            "[Q  -  -  -]\n",
            "[-  -  Q  -]\n",
            "\n",
            "[-  -  Q  -]\n",
            "[Q  -  -  -]\n",
            "[-  -  -  Q]\n",
            "[-  Q  -  -]\n",
            "\n"
          ]
        },
        {
          "output_type": "execute_result",
          "data": {
            "text/plain": [
              "2"
            ]
          },
          "metadata": {},
          "execution_count": 67
        }
      ]
    },
    {
      "cell_type": "code",
      "source": [
        "def isSafe(mat, r, c):\n",
        "  for i in range(len(mat)):\n",
        "    if mat[i][c]=='Q':\n",
        "      return False\n",
        "\n",
        "  i, j= r, c\n",
        "  while i>=0 and j>=0:\n",
        "      if mat[i][j]=='Q':\n",
        "        return False\n",
        "      i-=1\n",
        "      j-=1\n",
        "\n",
        "  i, j=r, c\n",
        "  while i>=0 and j<len(mat):\n",
        "      if mat[i][j]=='Q':\n",
        "        return False\n",
        "      i-=1\n",
        "      j+=1\n",
        "\n",
        "  return True\n",
        "\n",
        "def print_mat(mat):\n",
        "  for r in mat :\n",
        "    print(str(r).replace(',', \" \").replace('\\'',\"\"))\n",
        "  print()\n",
        "\n",
        "def N_Queen(mat , r):\n",
        "  if r == len(mat):\n",
        "    print_mat(mat)\n",
        "    return 1\n",
        "  x = 0\n",
        "  for i in range(len(mat)):\n",
        "    \n",
        "    if isSafe(mat, r, i):\n",
        "      mat[r][i] = 'Q'\n",
        "      x += N_Queen(mat, r+1)\n",
        "      mat[r][i] = '-'\n",
        "\n",
        "  return x"
      ],
      "metadata": {
        "id": "rYVEK9KJ9NE3"
      },
      "execution_count": null,
      "outputs": []
    },
    {
      "cell_type": "code",
      "source": [
        "def isSafes(r,c,slashlookup,backslashlookup, slashtable, backslashtable, rowtable):\n",
        "  if(rowtable[r]|slashlookup[slashtable[r][c]]|backslashlookup[backslashtable[r][c]]):\n",
        "    return False\n",
        "  return True\n",
        "\n",
        "def NQueenUtils(graph,c,slashlookup,backslashlookup, slashtable, backslashtable, rowtable):\n",
        "  if c>=(len(graph)):\n",
        "    return True\n",
        "  for i in range(len(graph)):\n",
        "    if isSafes(i,c,slashlookup,backslashlookup, slashtable, backslashtable, rowtable):\n",
        "      graph[i][c]='Q'\n",
        "      rowtable[i]=1\n",
        "      backslashlookup[backslashtable[i][c]]=1\n",
        "      slashlookup[slashtable[i][c]]=1\n",
        "      if NQueenUtils(graph,c+1,slashlookup,backslashlookup, slashtable, backslashtable, rowtable):\n",
        "        return True\n",
        "      graph[i][c]='-'\n",
        "      rowtable[i]=0\n",
        "      backslashlookup[backslashtable[i][c]]=0\n",
        "      slashlookup[slashtable[i][c]]=0\n",
        "  return False\n",
        "\n",
        "def NQueens(n):\n",
        "    graph = [['-' for i in range(n)]for j in range(n)]\n",
        "\n",
        "    slashtable = [[0 for i in range(n)]for j in range(n)]\n",
        "\n",
        "    backslashtable = [[0 for i in range(n)]for j in range(n)]\n",
        "\n",
        "    for i in range(n):\n",
        "      for j in range(n):\n",
        "        slashtable[i][j]=i+j\n",
        "        backslashtable[i][j] = i-j+n-1\n",
        "    x = 2*n-1\n",
        "    slashlookup = [0]*x\n",
        "    backslashlookup = [0]*x\n",
        "    rowtable = [0]*n\n",
        "    NQueenUtils(graph,0,slashlookup,backslashlookup, slashtable, backslashtable, rowtable)\n",
        "    print_mat(graph)\n",
        "\n",
        "NQueens(8)\n",
        "  "
      ],
      "metadata": {
        "colab": {
          "base_uri": "https://localhost:8080/"
        },
        "id": "vMXVReYuBQiS",
        "outputId": "a16a3805-96c4-4cf9-da17-2e5a39f672cd"
      },
      "execution_count": null,
      "outputs": [
        {
          "output_type": "stream",
          "name": "stdout",
          "text": [
            "[Q  -  -  -  -  -  -  -]\n",
            "[-  -  -  -  -  -  Q  -]\n",
            "[-  -  -  -  Q  -  -  -]\n",
            "[-  -  -  -  -  -  -  Q]\n",
            "[-  Q  -  -  -  -  -  -]\n",
            "[-  -  -  Q  -  -  -  -]\n",
            "[-  -  -  -  -  Q  -  -]\n",
            "[-  -  Q  -  -  -  -  -]\n",
            "\n"
          ]
        }
      ]
    },
    {
      "cell_type": "code",
      "source": [
        "!pip install nltk"
      ],
      "metadata": {
        "colab": {
          "base_uri": "https://localhost:8080/"
        },
        "id": "FYHP8nR1IcZR",
        "outputId": "f803dc54-e3f5-45a1-f9f8-daeed9abf98c"
      },
      "execution_count": null,
      "outputs": [
        {
          "output_type": "stream",
          "name": "stdout",
          "text": [
            "Requirement already satisfied: nltk in /usr/local/lib/python3.7/dist-packages (3.2.5)\n",
            "Requirement already satisfied: six in /usr/local/lib/python3.7/dist-packages (from nltk) (1.15.0)\n"
          ]
        }
      ]
    },
    {
      "cell_type": "code",
      "source": [
        "import nltk\n",
        "from nltk.chat.util import Chat, reflections"
      ],
      "metadata": {
        "id": "5uti5WT6JJqO"
      },
      "execution_count": null,
      "outputs": []
    },
    {
      "cell_type": "code",
      "source": [
        "reflections = {\n",
        "    \"i am\": \"you are\",\n",
        "    \"i was\": \"you were\",\n",
        "    \"i\": \"you\",\n",
        "    \"i'm\": \"you are\",\n",
        "    \"i'd\": \"you would\",\n",
        "    \"i've\": \"you have\",\n",
        "    \"i'll\": \"you will\",\n",
        "    \"my\": \"your\",\n",
        "    \"you are\": \"I am\",\n",
        "    \"you were\": \"I was\",\n",
        "    \"you've\": \"I have\",\n",
        "    \"you'll\": \"I will\",\n",
        "    \"your\": \"my\",\n",
        "    \"yours\": \"mine\",\n",
        "    \"you\": \"me\",\n",
        "    \"me\": \"you\"\n",
        "}\n",
        "\n",
        "pairs = [\n",
        "        [\n",
        "        r\"hi|hey|hello\",\n",
        "        [\"Hello, How can I help you?\"]\n",
        "    ],\n",
        "    [\n",
        "        r\"what is your name ?\",\n",
        "        [\"I am a Quick Bot!\"]\n",
        "    ],\n",
        "    [\n",
        "        r\"how are you ?\",\n",
        "        [\"I'm doing good. How about You ?\", ]\n",
        "    ],\n",
        "    [\n",
        "        r\"i am good\",\n",
        "        [\"Nice to hear that, How can I help you?)\", ]\n",
        "    ],\n",
        "    [\n",
        "        r\"(.*) available rooms|(.*) rooms available\",\n",
        "        [\"We offer a double room and a single room. Which one would you like to know more about?\"]\n",
        "    ],\n",
        "    [\n",
        "        r\"double room\",\n",
        "        [\"It has a 2 rooms, can accomodate maximum of 4 people.\"]\n",
        "    ],\n",
        "    [\n",
        "        r\"single room\",\n",
        "        [\"It has a 1 room, can accomodate maximum of 2 people.\"]\n",
        "    ],\n",
        "    [\n",
        "        r\"(.*) pool?\",\n",
        "        [\"Yes\", \"Yes, it has a baby pool and a deep pool for adults.\"]\n",
        "    ],\n",
        "    [\n",
        "        r\"(.*) rates|(.*)rate\",\n",
        "        [\"For which room would you like to know?\"]\n",
        "    ],\n",
        "    [\n",
        "        r\"(.*) single room\",\n",
        "        [\"It is Rs.2500/day\"]\n",
        "    ],\n",
        "    [\n",
        "        r\"(.*) double room\",\n",
        "        [\"It is Rs.4500/day\"]\n",
        "    ],\n",
        "    [\n",
        "        r\"Is breakfast included?\",\n",
        "        [\"Yes!\", \"Breakfast is complimentary\"]\n",
        "    ],\n",
        "    [\n",
        "        r\"(.*) book a room?\",\n",
        "        [\"Head over to the hotel's website or contact the reception\"]\n",
        "    ],\n",
        "    [\n",
        "        r\"quit\",\n",
        "        [\"BBye take care. See you soon :) \",\n",
        "            \"It was nice talking to you. See you soon :)\"]\n",
        "    ],\n",
        "\n",
        "]"
      ],
      "metadata": {
        "id": "H0Tvqd3NMNqw"
      },
      "execution_count": null,
      "outputs": []
    },
    {
      "cell_type": "code",
      "source": [
        "def chat():\n",
        "  print(\"Hi! What are you upto?\")\n",
        "  ch = Chat(pairs, reflections)\n",
        "  ch.converse()"
      ],
      "metadata": {
        "id": "Jt8GxpplNx26"
      },
      "execution_count": null,
      "outputs": []
    },
    {
      "cell_type": "code",
      "source": [
        "chat()"
      ],
      "metadata": {
        "colab": {
          "base_uri": "https://localhost:8080/"
        },
        "id": "ljlFq5suOHwO",
        "outputId": "2053c50b-6a63-4218-894d-5ecbc3112339"
      },
      "execution_count": null,
      "outputs": [
        {
          "output_type": "stream",
          "name": "stdout",
          "text": [
            "Hi! What are you upto?\n",
            ">quit\n",
            "BBye take care. See you soon :) \n"
          ]
        }
      ]
    },
    {
      "cell_type": "code",
      "source": [
        "import nltk\n",
        "from nltk.chat.util import Chat, reflections\n",
        "\n",
        "reflections = {\n",
        "    \"i am\": \"you are\",\n",
        "    \"i was\": \"you were\",\n",
        "    \"i\": \"you\",\n",
        "    \"i'm\": \"you are\",\n",
        "    \"i'd\": \"you would\",\n",
        "    \"i've\": \"you have\",\n",
        "    \"i'll\": \"you will\",\n",
        "    \"my\": \"your\",\n",
        "    \"you are\": \"I am\",\n",
        "    \"you were\": \"I was\",\n",
        "    \"you've\": \"I have\",\n",
        "    \"you'll\": \"I will\",\n",
        "    \"your\": \"my\",\n",
        "    \"yours\": \"mine\",\n",
        "    \"you\": \"me\",\n",
        "    \"me\": \"you\"\n",
        "}\n",
        "\n",
        "\n",
        "pairs = [\n",
        "    [\n",
        "        r\"hi|hey|hello\",\n",
        "        [\"Hello, How can I help you?\"]\n",
        "    ],\n",
        "    [\n",
        "        r\"what is your name ?\",\n",
        "        [\"I am a Quick Bot!\"]\n",
        "    ],\n",
        "    [\n",
        "        r\"how are you ?\",\n",
        "        [\"I'm doing good. How about You ?\", ]\n",
        "    ],\n",
        "    [\n",
        "        r\"i am good\",\n",
        "        [\"Nice to hear that, How can I help you?)\", ]\n",
        "    ],\n",
        "    [\n",
        "        r\"(.*) available rooms|(.*) rooms available\",\n",
        "        [\"We offer a double room and a single room. Which one would you like to know more about?\"]\n",
        "    ],\n",
        "    [\n",
        "        r\"double room\",\n",
        "        [\"It has a 2 rooms, can accomodate maximum of 4 people.\"]\n",
        "    ],\n",
        "    [\n",
        "        r\"single room\",\n",
        "        [\"It has a 1 room, can accomodate maximum of 2 people.\"]\n",
        "    ],\n",
        "    [\n",
        "        r\"(.*) pool?\",\n",
        "        [\"Yes\", \"Yes, it has a baby pool and a deep pool for adults.\"]\n",
        "    ],\n",
        "    [\n",
        "        r\"(.*) rates|(.*)rate\",\n",
        "        [\"For which room would you like to know?\"]\n",
        "    ],\n",
        "    [\n",
        "        r\"(.*) single room\",\n",
        "        [\"It is Rs.2500/day\"]\n",
        "    ],\n",
        "    [\n",
        "        r\"(.*) double room\",\n",
        "        [\"It is Rs.4500/day\"]\n",
        "    ],\n",
        "    [\n",
        "        r\"Is breakfast included?\",\n",
        "        [\"Yes!\", \"Breakfast is complimentary\"]\n",
        "    ],\n",
        "    [\n",
        "        r\"(.*) book a room?\",\n",
        "        [\"Head over to the hotel's website or contact the reception\"]\n",
        "    ],\n",
        "    [\n",
        "        r\"quit\",\n",
        "        [\"BBye take care. See you soon :) \",\n",
        "            \"It was nice talking to you. See you soon :)\"]\n",
        "    ],\n",
        "]\n",
        "\n",
        "\n",
        "def chat():\n",
        "    print(\"Hello, I am a Hotel Help Desk Chatbot!\")\n",
        "    chat = Chat(pairs, reflections)\n",
        "    chat.converse()\n",
        "\n",
        "\n",
        "\n",
        "chat()"
      ],
      "metadata": {
        "colab": {
          "base_uri": "https://localhost:8080/"
        },
        "id": "HC4bapGWOJAk",
        "outputId": "7d0a1b62-4e54-42d1-8b17-bb1f50813bb0"
      },
      "execution_count": null,
      "outputs": [
        {
          "output_type": "stream",
          "name": "stdout",
          "text": [
            "Hello, I am a Hotel Help Desk Chatbot!\n",
            ">quit\n",
            "It was nice talking to you. See you soon :)\n"
          ]
        }
      ]
    },
    {
      "cell_type": "code",
      "source": [
        ""
      ],
      "metadata": {
        "id": "w1-pPFSpRwHS"
      },
      "execution_count": null,
      "outputs": []
    }
  ]
}